{
  "cells": [
    {
      "cell_type": "markdown",
      "metadata": {
        "id": "Kpkf5Tkk07NR"
      },
      "source": [
        "# Week 4 - Exploring Semantic Spaces (Word Embeddings)\n",
        "This week, we build on last week's topic modeling techniques by taking a text corpus we have developed, specifying an underlying number of dimensions, and training a model with a neural network auto-encoder (one of Google's word2vec  algorithms) that best describes corpus words in their local linguistic contexts, and exploring their locations in the resulting space to learn about the discursive culture that produced them.\n",
        "\n",
        "This is our third document representation we have learned: First, we used word counts. Second, we used LDA topic models built around term coocurrence in the same document (i.e., a \"bag of words\"). Third, documents here are represented as densely indexed locations in dimensions, so that distances between those documents (and words) contain more information, though they require the full vector of dimension loadings (rather than just a few selected topic loadings) to describe. We will explore these spaces to understand complex, semantic relationships between words, index documents with descriptive words, identify the likelihood that a given document would have been produced by a given vector model, and explore how semantic categories can help us understand the cultures that produced them.\n",
        "\n",
        "Note that most modern natural language processing (NLP) research, at least in computer science, uses word embeddings. This is the foundation of most state-of-the-art models.\n",
        "\n",
        "Also note that the code in this Notebook can take many minutes or even hours to run. This is the case for most NLP research these days, and it's a good opportunity to start thinking about how to manage high-compute workloads, such as running code on small samples to test it, loading datafiles in [chunks](https://stackoverflow.com/a/25962187), or [multiprocessing](https://en.wikipedia.org/wiki/Multiprocessing)."
      ]
    },
    {
      "cell_type": "markdown",
      "metadata": {
        "id": "SJ1uWqND07NT"
      },
      "source": [
        "## <font color=\"red\">*Pitch Your Project*</font>\n",
        "\n",
        "<font color=\"red\">In the three cells immediately following, describe **WHAT** you are planning to analyze for your final project (i.e., texts, contexts and the social game, world and actors you intend to learn about through your analysis) (<200 words), **WHY** you are going to do it (i.e., why would theory and/or the average person benefit from knowing the results of your investigation) (<200 words), and **HOW** you plan to investigate it (i.e., what are the approaches and operations you plan to perform, in sequence, to yield this insight) (<400 words).\n",
        "\n",
        "# ***What?*** \n",
        "<200 words\n",
        "\n",
        "## ***Why?***\n",
        "<200 words\n",
        "\n",
        "## ***How?***\n",
        "<400 words\n",
        "\n",
        "## <font color=\"red\">*Pitch Your Sample*</font>\n",
        "\n",
        "<font color=\"red\">In the cell immediately following, describe the rationale behind your proposed sample design for your final project. What is the social game, social work, or social actors you about whom you are seeking to make inferences? What are its virtues with respect to your research questions? What are its limitations? What are alternatives? What would be a reasonable path to \"scale up\" your sample for further analysis (i.e., high-profile publication) beyond this class? (<300 words).\n",
        "\n",
        "## ***Which (words)?***\n",
        "<300 words"
      ]
    },
    {
      "cell_type": "code",
      "execution_count": 6,
      "metadata": {
        "id": "LGrZr20X07NU"
      },
      "outputs": [],
      "source": [
        "#All these packages need to be installed from pip\n",
        "import gensim#For word2vec, etc\n",
        "import requests #For downloading our datasets\n",
        "import lucem_illud #pip install -U git+git://github.com/UChicago-Computational-Content-Analysis/lucem_illud.git\n",
        "\n",
        "import numpy as np #For arrays\n",
        "import pandas as pd #Gives us DataFrames\n",
        "import matplotlib.pyplot as plt #For graphics\n",
        "import seaborn #Makes the graphics look nicer\n",
        "import sklearn.metrics.pairwise #For cosine similarity\n",
        "import sklearn.manifold #For T-SNE\n",
        "import sklearn.decomposition #For PCA\n",
        "\n",
        "#This 'magic' command makes the plots work better\n",
        "#in the notebook, don't use it outside of a notebook.\n",
        "#Also you can ignore the warning\n",
        "%matplotlib inline\n",
        "\n",
        "import os #For looking through files\n",
        "import os.path #For managing file paths"
      ]
    },
    {
      "cell_type": "code",
      "execution_count": 5,
      "metadata": {
        "colab": {
          "base_uri": "https://localhost:8080/"
        },
        "id": "ZdeN98dt2EV3",
        "outputId": "f6042520-7287-47be-bbf2-de6f11c6e3b8"
      },
      "outputs": [
        {
          "output_type": "stream",
          "name": "stdout",
          "text": [
            "Collecting git+git://github.com/UChicago-Computational-Content-Analysis/lucem_illud.git\n",
            "  Cloning git://github.com/UChicago-Computational-Content-Analysis/lucem_illud.git to /tmp/pip-req-build-v16c5fhp\n",
            "  Running command git clone -q git://github.com/UChicago-Computational-Content-Analysis/lucem_illud.git /tmp/pip-req-build-v16c5fhp\n",
            "Requirement already satisfied: numpy in /usr/local/lib/python3.7/dist-packages (from lucem-illud==8.0.1) (1.19.5)\n",
            "Requirement already satisfied: requests in /usr/local/lib/python3.7/dist-packages (from lucem-illud==8.0.1) (2.23.0)\n",
            "Requirement already satisfied: pandas in /usr/local/lib/python3.7/dist-packages (from lucem-illud==8.0.1) (1.3.5)\n",
            "Requirement already satisfied: python-docx in /usr/local/lib/python3.7/dist-packages (from lucem-illud==8.0.1) (0.8.11)\n",
            "Requirement already satisfied: pillow in /usr/local/lib/python3.7/dist-packages (from lucem-illud==8.0.1) (7.1.2)\n",
            "Requirement already satisfied: pdfminer2 in /usr/local/lib/python3.7/dist-packages (from lucem-illud==8.0.1) (20151206)\n",
            "Requirement already satisfied: GitPython in /usr/local/lib/python3.7/dist-packages (from lucem-illud==8.0.1) (3.1.26)\n",
            "Requirement already satisfied: wordcloud in /usr/local/lib/python3.7/dist-packages (from lucem-illud==8.0.1) (1.5.0)\n",
            "Requirement already satisfied: scipy in /usr/local/lib/python3.7/dist-packages (from lucem-illud==8.0.1) (1.4.1)\n",
            "Requirement already satisfied: seaborn in /usr/local/lib/python3.7/dist-packages (from lucem-illud==8.0.1) (0.11.2)\n",
            "Requirement already satisfied: scikit-learn in /usr/local/lib/python3.7/dist-packages (from lucem-illud==8.0.1) (1.0.2)\n",
            "Requirement already satisfied: nltk in /usr/local/lib/python3.7/dist-packages (from lucem-illud==8.0.1) (3.2.5)\n",
            "Requirement already satisfied: gensim in /usr/local/lib/python3.7/dist-packages (from lucem-illud==8.0.1) (3.6.0)\n",
            "Requirement already satisfied: matplotlib in /usr/local/lib/python3.7/dist-packages (from lucem-illud==8.0.1) (3.2.2)\n",
            "Requirement already satisfied: pyanno3 in /usr/local/lib/python3.7/dist-packages (from lucem-illud==8.0.1) (2.0.2)\n",
            "Requirement already satisfied: beautifulsoup4 in /usr/local/lib/python3.7/dist-packages (from lucem-illud==8.0.1) (4.6.3)\n",
            "Requirement already satisfied: graphviz in /usr/local/lib/python3.7/dist-packages (from lucem-illud==8.0.1) (0.10.1)\n",
            "Requirement already satisfied: boto3 in /usr/local/lib/python3.7/dist-packages (from lucem-illud==8.0.1) (1.20.49)\n",
            "Requirement already satisfied: networkx in /usr/local/lib/python3.7/dist-packages (from lucem-illud==8.0.1) (2.6.3)\n",
            "Requirement already satisfied: pydub in /usr/local/lib/python3.7/dist-packages (from lucem-illud==8.0.1) (0.25.1)\n",
            "Requirement already satisfied: speechrecognition in /usr/local/lib/python3.7/dist-packages (from lucem-illud==8.0.1) (3.8.1)\n",
            "Requirement already satisfied: pysoundfile in /usr/local/lib/python3.7/dist-packages (from lucem-illud==8.0.1) (0.9.0.post1)\n",
            "Requirement already satisfied: scikit-image in /usr/local/lib/python3.7/dist-packages (from lucem-illud==8.0.1) (0.18.3)\n",
            "Requirement already satisfied: IPython in /usr/local/lib/python3.7/dist-packages (from lucem-illud==8.0.1) (5.5.0)\n",
            "Requirement already satisfied: spacy in /usr/local/lib/python3.7/dist-packages (from lucem-illud==8.0.1) (2.2.4)\n",
            "Requirement already satisfied: jmespath<1.0.0,>=0.7.1 in /usr/local/lib/python3.7/dist-packages (from boto3->lucem-illud==8.0.1) (0.10.0)\n",
            "Requirement already satisfied: s3transfer<0.6.0,>=0.5.0 in /usr/local/lib/python3.7/dist-packages (from boto3->lucem-illud==8.0.1) (0.5.1)\n",
            "Requirement already satisfied: botocore<1.24.0,>=1.23.49 in /usr/local/lib/python3.7/dist-packages (from boto3->lucem-illud==8.0.1) (1.23.49)\n",
            "Requirement already satisfied: urllib3<1.27,>=1.25.4 in /usr/local/lib/python3.7/dist-packages (from botocore<1.24.0,>=1.23.49->boto3->lucem-illud==8.0.1) (1.25.11)\n",
            "Requirement already satisfied: python-dateutil<3.0.0,>=2.1 in /usr/local/lib/python3.7/dist-packages (from botocore<1.24.0,>=1.23.49->boto3->lucem-illud==8.0.1) (2.8.2)\n",
            "Requirement already satisfied: six>=1.5 in /usr/local/lib/python3.7/dist-packages (from python-dateutil<3.0.0,>=2.1->botocore<1.24.0,>=1.23.49->boto3->lucem-illud==8.0.1) (1.15.0)\n",
            "Requirement already satisfied: smart-open>=1.2.1 in /usr/local/lib/python3.7/dist-packages (from gensim->lucem-illud==8.0.1) (5.2.1)\n",
            "Requirement already satisfied: gitdb<5,>=4.0.1 in /usr/local/lib/python3.7/dist-packages (from GitPython->lucem-illud==8.0.1) (4.0.9)\n",
            "Requirement already satisfied: typing-extensions>=3.7.4.3 in /usr/local/lib/python3.7/dist-packages (from GitPython->lucem-illud==8.0.1) (3.10.0.2)\n",
            "Requirement already satisfied: smmap<6,>=3.0.1 in /usr/local/lib/python3.7/dist-packages (from gitdb<5,>=4.0.1->GitPython->lucem-illud==8.0.1) (5.0.0)\n",
            "Requirement already satisfied: setuptools>=18.5 in /usr/local/lib/python3.7/dist-packages (from IPython->lucem-illud==8.0.1) (57.4.0)\n",
            "Requirement already satisfied: pygments in /usr/local/lib/python3.7/dist-packages (from IPython->lucem-illud==8.0.1) (2.6.1)\n",
            "Requirement already satisfied: pickleshare in /usr/local/lib/python3.7/dist-packages (from IPython->lucem-illud==8.0.1) (0.7.5)\n",
            "Requirement already satisfied: traitlets>=4.2 in /usr/local/lib/python3.7/dist-packages (from IPython->lucem-illud==8.0.1) (5.1.1)\n",
            "Requirement already satisfied: decorator in /usr/local/lib/python3.7/dist-packages (from IPython->lucem-illud==8.0.1) (4.4.2)\n",
            "Requirement already satisfied: simplegeneric>0.8 in /usr/local/lib/python3.7/dist-packages (from IPython->lucem-illud==8.0.1) (0.8.1)\n",
            "Requirement already satisfied: prompt-toolkit<2.0.0,>=1.0.4 in /usr/local/lib/python3.7/dist-packages (from IPython->lucem-illud==8.0.1) (1.0.18)\n",
            "Requirement already satisfied: pexpect in /usr/local/lib/python3.7/dist-packages (from IPython->lucem-illud==8.0.1) (4.8.0)\n",
            "Requirement already satisfied: wcwidth in /usr/local/lib/python3.7/dist-packages (from prompt-toolkit<2.0.0,>=1.0.4->IPython->lucem-illud==8.0.1) (0.2.5)\n",
            "Requirement already satisfied: cycler>=0.10 in /usr/local/lib/python3.7/dist-packages (from matplotlib->lucem-illud==8.0.1) (0.11.0)\n",
            "Requirement already satisfied: kiwisolver>=1.0.1 in /usr/local/lib/python3.7/dist-packages (from matplotlib->lucem-illud==8.0.1) (1.3.2)\n",
            "Requirement already satisfied: pyparsing!=2.0.4,!=2.1.2,!=2.1.6,>=2.0.1 in /usr/local/lib/python3.7/dist-packages (from matplotlib->lucem-illud==8.0.1) (3.0.7)\n",
            "Requirement already satisfied: pytz>=2017.3 in /usr/local/lib/python3.7/dist-packages (from pandas->lucem-illud==8.0.1) (2018.9)\n",
            "Requirement already satisfied: ptyprocess>=0.5 in /usr/local/lib/python3.7/dist-packages (from pexpect->IPython->lucem-illud==8.0.1) (0.7.0)\n",
            "Requirement already satisfied: traits in /usr/local/lib/python3.7/dist-packages (from pyanno3->lucem-illud==8.0.1) (6.3.2)\n",
            "Requirement already satisfied: cffi>=0.6 in /usr/local/lib/python3.7/dist-packages (from pysoundfile->lucem-illud==8.0.1) (1.15.0)\n",
            "Requirement already satisfied: pycparser in /usr/local/lib/python3.7/dist-packages (from cffi>=0.6->pysoundfile->lucem-illud==8.0.1) (2.21)\n",
            "Requirement already satisfied: lxml>=2.3.2 in /usr/local/lib/python3.7/dist-packages (from python-docx->lucem-illud==8.0.1) (4.2.6)\n",
            "Requirement already satisfied: idna<3,>=2.5 in /usr/local/lib/python3.7/dist-packages (from requests->lucem-illud==8.0.1) (2.10)\n",
            "Requirement already satisfied: chardet<4,>=3.0.2 in /usr/local/lib/python3.7/dist-packages (from requests->lucem-illud==8.0.1) (3.0.4)\n",
            "Requirement already satisfied: certifi>=2017.4.17 in /usr/local/lib/python3.7/dist-packages (from requests->lucem-illud==8.0.1) (2021.10.8)\n",
            "Requirement already satisfied: imageio>=2.3.0 in /usr/local/lib/python3.7/dist-packages (from scikit-image->lucem-illud==8.0.1) (2.4.1)\n",
            "Requirement already satisfied: PyWavelets>=1.1.1 in /usr/local/lib/python3.7/dist-packages (from scikit-image->lucem-illud==8.0.1) (1.2.0)\n",
            "Requirement already satisfied: tifffile>=2019.7.26 in /usr/local/lib/python3.7/dist-packages (from scikit-image->lucem-illud==8.0.1) (2021.11.2)\n",
            "Requirement already satisfied: threadpoolctl>=2.0.0 in /usr/local/lib/python3.7/dist-packages (from scikit-learn->lucem-illud==8.0.1) (3.1.0)\n",
            "Requirement already satisfied: joblib>=0.11 in /usr/local/lib/python3.7/dist-packages (from scikit-learn->lucem-illud==8.0.1) (1.1.0)\n",
            "Requirement already satisfied: tqdm<5.0.0,>=4.38.0 in /usr/local/lib/python3.7/dist-packages (from spacy->lucem-illud==8.0.1) (4.62.3)\n",
            "Requirement already satisfied: cymem<2.1.0,>=2.0.2 in /usr/local/lib/python3.7/dist-packages (from spacy->lucem-illud==8.0.1) (2.0.6)\n",
            "Requirement already satisfied: thinc==7.4.0 in /usr/local/lib/python3.7/dist-packages (from spacy->lucem-illud==8.0.1) (7.4.0)\n",
            "Requirement already satisfied: murmurhash<1.1.0,>=0.28.0 in /usr/local/lib/python3.7/dist-packages (from spacy->lucem-illud==8.0.1) (1.0.6)\n",
            "Requirement already satisfied: catalogue<1.1.0,>=0.0.7 in /usr/local/lib/python3.7/dist-packages (from spacy->lucem-illud==8.0.1) (1.0.0)\n",
            "Requirement already satisfied: plac<1.2.0,>=0.9.6 in /usr/local/lib/python3.7/dist-packages (from spacy->lucem-illud==8.0.1) (1.1.3)\n",
            "Requirement already satisfied: blis<0.5.0,>=0.4.0 in /usr/local/lib/python3.7/dist-packages (from spacy->lucem-illud==8.0.1) (0.4.1)\n",
            "Requirement already satisfied: preshed<3.1.0,>=3.0.2 in /usr/local/lib/python3.7/dist-packages (from spacy->lucem-illud==8.0.1) (3.0.6)\n",
            "Requirement already satisfied: srsly<1.1.0,>=1.0.2 in /usr/local/lib/python3.7/dist-packages (from spacy->lucem-illud==8.0.1) (1.0.5)\n",
            "Requirement already satisfied: wasabi<1.1.0,>=0.4.0 in /usr/local/lib/python3.7/dist-packages (from spacy->lucem-illud==8.0.1) (0.9.0)\n",
            "Requirement already satisfied: importlib-metadata>=0.20 in /usr/local/lib/python3.7/dist-packages (from catalogue<1.1.0,>=0.0.7->spacy->lucem-illud==8.0.1) (4.10.1)\n",
            "Requirement already satisfied: zipp>=0.5 in /usr/local/lib/python3.7/dist-packages (from importlib-metadata>=0.20->catalogue<1.1.0,>=0.0.7->spacy->lucem-illud==8.0.1) (3.7.0)\n"
          ]
        }
      ],
      "source": [
        "pip install -U git+git://github.com/UChicago-Computational-Content-Analysis/lucem_illud.git"
      ]
    },
    {
      "cell_type": "code",
      "execution_count": null,
      "metadata": {
        "colab": {
          "base_uri": "https://localhost:8080/"
        },
        "id": "l--QoQ032XPL",
        "outputId": "3eedb7cf-dd07-49df-ea36-87ce3a523f47"
      },
      "outputs": [
        {
          "output_type": "stream",
          "name": "stdout",
          "text": [
            "Cloning into '/root/hearings'...\n",
            "remote: Enumerating objects: 275, done.\u001b[K\n",
            "remote: Counting objects: 100% (275/275), done.\u001b[K\n",
            "remote: Compressing objects: 100% (275/275), done.\u001b[K\n",
            "remote: Total 275 (delta 2), reused 0 (delta 0), pack-reused 0\u001b[K\n",
            "Receiving objects: 100% (275/275), 29.44 MiB | 4.45 MiB/s, done.\n",
            "Resolving deltas: 100% (2/2), done.\n"
          ]
        }
      ],
      "source": [
        "!git clone https://github.com/isaduan/hearings-2005-2010 /root/hearings"
      ]
    },
    {
      "cell_type": "markdown",
      "metadata": {
        "id": "QPCJTwOx07N0"
      },
      "source": [
        "## <font color=\"red\">*Exercise 1*</font>\n",
        "\n",
        "<font color=\"red\">Construct cells immediately below this that embed documents related to your final project using at least two different specification of `word2vec` and/or `fasttext`, and visualize them each with two separate visualization layout specifications (e.g., TSNE, PCA). Then interrogate critical word vectors within your corpus in terms of the most similar words, analogies, and other additions and subtractions that reveal the structure of similarity and difference within your semantic space. What does this pattern reveal about the semantic organization of words in your corpora? Which estimation and visualization specification generate the most insight and appear the most robustly supported and why? \n",
        "\n",
        "<font color=\"red\">***Stretch***: Explore different vector calculations beyond addition and subtraction, such as multiplication, division or some other function. What does this exploration reveal about the semantic structure of your corpus?"
      ]
    },
    {
      "cell_type": "code",
      "execution_count": 4,
      "metadata": {
        "id": "_ZblLYdT4067"
      },
      "outputs": [],
      "source": [
        "def get_records(folder):\n",
        "    \"\"\"\n",
        "    Take a path of a folder where records are stored, load\n",
        "    records into a dictionary that maps record ID to to texts\n",
        "    \n",
        "    Input: \n",
        "      folder: a string represents the folder name and path\n",
        "    \n",
        "    Return a dictionarythat maps record ID to to texts.     \n",
        "    \"\"\"\n",
        "    texts_raw = {}\n",
        "    for file in os.listdir(folder + \"/\"):\n",
        "        print(file)\n",
        "        if not file.endswith('.json') and not file.endswith('.git') :\n",
        "            with open(file, 'r') as f:\n",
        "                # read a file into a big string\n",
        "                try:\n",
        "                    texts_raw[file] = f.read()\n",
        "                except:\n",
        "                    continue\n",
        "    \n",
        "    return texts_raw "
      ]
    },
    {
      "cell_type": "code",
      "execution_count": null,
      "metadata": {
        "id": "UY_pVw-L5lHS"
      },
      "outputs": [],
      "source": [
        "folder_0510 = \"/root/hearings\"\n",
        "raw_0510 = get_records(folder_0510)"
      ]
    },
    {
      "cell_type": "code",
      "execution_count": 9,
      "metadata": {
        "colab": {
          "base_uri": "https://localhost:8080/"
        },
        "id": "nvmp99DPLzSV",
        "outputId": "c3c1e93d-d471-478b-fbcc-c8abf479cf4c"
      },
      "outputs": [
        {
          "output_type": "stream",
          "name": "stdout",
          "text": [
            "/root/hearings\n"
          ]
        }
      ],
      "source": [
        "cd /root/hearings/"
      ]
    },
    {
      "cell_type": "code",
      "execution_count": 11,
      "metadata": {
        "colab": {
          "base_uri": "https://localhost:8080/"
        },
        "id": "ZdlfNnJH5l9t",
        "outputId": "e5439a43-b529-461d-8e1c-11d495a5b275"
      },
      "outputs": [
        {
          "output_type": "execute_result",
          "data": {
            "text/plain": [
              "268"
            ]
          },
          "metadata": {},
          "execution_count": 11
        }
      ],
      "source": [
        "len(raw_0510)"
      ]
    },
    {
      "cell_type": "code",
      "execution_count": 12,
      "metadata": {
        "id": "gM4SXUkT5p9J"
      },
      "outputs": [],
      "source": [
        "import json\n",
        "with open('hearings-2005-2010.json', 'r') as f: \n",
        "    filesLst = json.loads(f.read())"
      ]
    },
    {
      "cell_type": "code",
      "execution_count": 13,
      "metadata": {
        "id": "B_ow9v3QMQQX"
      },
      "outputs": [],
      "source": [
        "import pandas"
      ]
    },
    {
      "cell_type": "code",
      "execution_count": 14,
      "metadata": {
        "id": "cKWclJhf5sJP"
      },
      "outputs": [],
      "source": [
        "# convert data into a Data frame, add titles\n",
        "k_lst = []\n",
        "for k in raw_0510.keys():\n",
        "    for result in filesLst['resultSet']:\n",
        "        if result['granuleId'] == k:\n",
        "            k_lst.append(result['title'])\n",
        "v_lst = [v for v in raw_0510.values()]\n",
        "i_lst = [k for k in raw_0510.keys()]\n",
        "DF0510 = pandas.DataFrame({'index': i_lst, 'title': k_lst, 'raw_text': v_lst})"
      ]
    },
    {
      "cell_type": "code",
      "execution_count": 15,
      "metadata": {
        "colab": {
          "base_uri": "https://localhost:8080/",
          "height": 641
        },
        "id": "TEKmaN8e5s7y",
        "outputId": "edd20db6-f0d2-48bf-a51f-ec1f8fd7bc44"
      },
      "outputs": [
        {
          "output_type": "execute_result",
          "data": {
            "text/html": [
              "\n",
              "  <div id=\"df-cee640bf-4573-496f-af12-59c6e0066356\">\n",
              "    <div class=\"colab-df-container\">\n",
              "      <div>\n",
              "<style scoped>\n",
              "    .dataframe tbody tr th:only-of-type {\n",
              "        vertical-align: middle;\n",
              "    }\n",
              "\n",
              "    .dataframe tbody tr th {\n",
              "        vertical-align: top;\n",
              "    }\n",
              "\n",
              "    .dataframe thead th {\n",
              "        text-align: right;\n",
              "    }\n",
              "</style>\n",
              "<table border=\"1\" class=\"dataframe\">\n",
              "  <thead>\n",
              "    <tr style=\"text-align: right;\">\n",
              "      <th></th>\n",
              "      <th>index</th>\n",
              "      <th>title</th>\n",
              "      <th>raw_text</th>\n",
              "    </tr>\n",
              "  </thead>\n",
              "  <tbody>\n",
              "    <tr>\n",
              "      <th>0</th>\n",
              "      <td>CHRG-110shrg41101</td>\n",
              "      <td>Oversight of the Investigation of the Nasa Ins...</td>\n",
              "      <td>S.  HRG.  110–434 \\nSERIAL 110–37 \\n\\nOVERSIGH...</td>\n",
              "    </tr>\n",
              "    <tr>\n",
              "      <th>1</th>\n",
              "      <td>CHRG-110shrg34743</td>\n",
              "      <td>Promoting Travel to America: An Examination of...</td>\n",
              "      <td>PROMOTING \\n\\nTRAVEL \\n\\nAN\\nEXAMINATION  OF  ...</td>\n",
              "    </tr>\n",
              "    <tr>\n",
              "      <th>2</th>\n",
              "      <td>CHRG-110shrg80088</td>\n",
              "      <td>Oversight of the Corporate Average Fuel Econom...</td>\n",
              "      <td>OVERSIGHT  OF  THE  CORPORATE  AVERAGE  FUEL \\...</td>\n",
              "    </tr>\n",
              "    <tr>\n",
              "      <th>3</th>\n",
              "      <td>CHRG-110hhrg35999</td>\n",
              "      <td>A Path Toward the Broader Use of Biofuels: Enh...</td>\n",
              "      <td>A  PATH  TOWARD  THE  BROADER  USE  OF\\n\\nBIOF...</td>\n",
              "    </tr>\n",
              "    <tr>\n",
              "      <th>4</th>\n",
              "      <td>CHRG-110shrg39014</td>\n",
              "      <td>Transportation Worker Identification Credentia...</td>\n",
              "      <td>TRANSPORTATION  WORKER  IDENTIFICATION \\n\\nCRE...</td>\n",
              "    </tr>\n",
              "    <tr>\n",
              "      <th>...</th>\n",
              "      <td>...</td>\n",
              "      <td>...</td>\n",
              "      <td>...</td>\n",
              "    </tr>\n",
              "    <tr>\n",
              "      <th>263</th>\n",
              "      <td>CHRG-109shrg63243</td>\n",
              "      <td>Reauthorization of the Coastal Zone Management...</td>\n",
              "      <td>REAUTHORIZATION  OF  THE \\n\\nCOASTAL  ZONE  MA...</td>\n",
              "    </tr>\n",
              "    <tr>\n",
              "      <th>264</th>\n",
              "      <td>CHRG-109shrg26532</td>\n",
              "      <td>Nominations of David A. Sampson, to Be Deputy ...</td>\n",
              "      <td>S.  HRG.  109–336\\n\\nNOMINATIONS  OF  DAVID  A...</td>\n",
              "    </tr>\n",
              "    <tr>\n",
              "      <th>265</th>\n",
              "      <td>CHRG-110hhrg33105</td>\n",
              "      <td>Amending Executive Order 12866: Good Governanc...</td>\n",
              "      <td>AMENDING  EXECUTIVE  ORDER  12866:\\nGOOD  GOVE...</td>\n",
              "    </tr>\n",
              "    <tr>\n",
              "      <th>266</th>\n",
              "      <td>CHRG-109shrg25323</td>\n",
              "      <td>Human Spaceflight: the Space Shuttle and Beyond</td>\n",
              "      <td>HUMAN  SPACEFLIGHT:  THE  SPACE  SHUTTLE  AND ...</td>\n",
              "    </tr>\n",
              "    <tr>\n",
              "      <th>267</th>\n",
              "      <td>CHRG-110shrg75784</td>\n",
              "      <td>Oversight of Telemarketing Practices and the C...</td>\n",
              "      <td>OVERSIGHT  OF  TELEMARKETING  PRACTICES  AND \\...</td>\n",
              "    </tr>\n",
              "  </tbody>\n",
              "</table>\n",
              "<p>268 rows × 3 columns</p>\n",
              "</div>\n",
              "      <button class=\"colab-df-convert\" onclick=\"convertToInteractive('df-cee640bf-4573-496f-af12-59c6e0066356')\"\n",
              "              title=\"Convert this dataframe to an interactive table.\"\n",
              "              style=\"display:none;\">\n",
              "        \n",
              "  <svg xmlns=\"http://www.w3.org/2000/svg\" height=\"24px\"viewBox=\"0 0 24 24\"\n",
              "       width=\"24px\">\n",
              "    <path d=\"M0 0h24v24H0V0z\" fill=\"none\"/>\n",
              "    <path d=\"M18.56 5.44l.94 2.06.94-2.06 2.06-.94-2.06-.94-.94-2.06-.94 2.06-2.06.94zm-11 1L8.5 8.5l.94-2.06 2.06-.94-2.06-.94L8.5 2.5l-.94 2.06-2.06.94zm10 10l.94 2.06.94-2.06 2.06-.94-2.06-.94-.94-2.06-.94 2.06-2.06.94z\"/><path d=\"M17.41 7.96l-1.37-1.37c-.4-.4-.92-.59-1.43-.59-.52 0-1.04.2-1.43.59L10.3 9.45l-7.72 7.72c-.78.78-.78 2.05 0 2.83L4 21.41c.39.39.9.59 1.41.59.51 0 1.02-.2 1.41-.59l7.78-7.78 2.81-2.81c.8-.78.8-2.07 0-2.86zM5.41 20L4 18.59l7.72-7.72 1.47 1.35L5.41 20z\"/>\n",
              "  </svg>\n",
              "      </button>\n",
              "      \n",
              "  <style>\n",
              "    .colab-df-container {\n",
              "      display:flex;\n",
              "      flex-wrap:wrap;\n",
              "      gap: 12px;\n",
              "    }\n",
              "\n",
              "    .colab-df-convert {\n",
              "      background-color: #E8F0FE;\n",
              "      border: none;\n",
              "      border-radius: 50%;\n",
              "      cursor: pointer;\n",
              "      display: none;\n",
              "      fill: #1967D2;\n",
              "      height: 32px;\n",
              "      padding: 0 0 0 0;\n",
              "      width: 32px;\n",
              "    }\n",
              "\n",
              "    .colab-df-convert:hover {\n",
              "      background-color: #E2EBFA;\n",
              "      box-shadow: 0px 1px 2px rgba(60, 64, 67, 0.3), 0px 1px 3px 1px rgba(60, 64, 67, 0.15);\n",
              "      fill: #174EA6;\n",
              "    }\n",
              "\n",
              "    [theme=dark] .colab-df-convert {\n",
              "      background-color: #3B4455;\n",
              "      fill: #D2E3FC;\n",
              "    }\n",
              "\n",
              "    [theme=dark] .colab-df-convert:hover {\n",
              "      background-color: #434B5C;\n",
              "      box-shadow: 0px 1px 3px 1px rgba(0, 0, 0, 0.15);\n",
              "      filter: drop-shadow(0px 1px 2px rgba(0, 0, 0, 0.3));\n",
              "      fill: #FFFFFF;\n",
              "    }\n",
              "  </style>\n",
              "\n",
              "      <script>\n",
              "        const buttonEl =\n",
              "          document.querySelector('#df-cee640bf-4573-496f-af12-59c6e0066356 button.colab-df-convert');\n",
              "        buttonEl.style.display =\n",
              "          google.colab.kernel.accessAllowed ? 'block' : 'none';\n",
              "\n",
              "        async function convertToInteractive(key) {\n",
              "          const element = document.querySelector('#df-cee640bf-4573-496f-af12-59c6e0066356');\n",
              "          const dataTable =\n",
              "            await google.colab.kernel.invokeFunction('convertToInteractive',\n",
              "                                                     [key], {});\n",
              "          if (!dataTable) return;\n",
              "\n",
              "          const docLinkHtml = 'Like what you see? Visit the ' +\n",
              "            '<a target=\"_blank\" href=https://colab.research.google.com/notebooks/data_table.ipynb>data table notebook</a>'\n",
              "            + ' to learn more about interactive tables.';\n",
              "          element.innerHTML = '';\n",
              "          dataTable['output_type'] = 'display_data';\n",
              "          await google.colab.output.renderOutput(dataTable, element);\n",
              "          const docLink = document.createElement('div');\n",
              "          docLink.innerHTML = docLinkHtml;\n",
              "          element.appendChild(docLink);\n",
              "        }\n",
              "      </script>\n",
              "    </div>\n",
              "  </div>\n",
              "  "
            ],
            "text/plain": [
              "                 index  ...                                           raw_text\n",
              "0    CHRG-110shrg41101  ...  S.  HRG.  110–434 \\nSERIAL 110–37 \\n\\nOVERSIGH...\n",
              "1    CHRG-110shrg34743  ...  PROMOTING \\n\\nTRAVEL \\n\\nAN\\nEXAMINATION  OF  ...\n",
              "2    CHRG-110shrg80088  ...  OVERSIGHT  OF  THE  CORPORATE  AVERAGE  FUEL \\...\n",
              "3    CHRG-110hhrg35999  ...  A  PATH  TOWARD  THE  BROADER  USE  OF\\n\\nBIOF...\n",
              "4    CHRG-110shrg39014  ...  TRANSPORTATION  WORKER  IDENTIFICATION \\n\\nCRE...\n",
              "..                 ...  ...                                                ...\n",
              "263  CHRG-109shrg63243  ...  REAUTHORIZATION  OF  THE \\n\\nCOASTAL  ZONE  MA...\n",
              "264  CHRG-109shrg26532  ...  S.  HRG.  109–336\\n\\nNOMINATIONS  OF  DAVID  A...\n",
              "265  CHRG-110hhrg33105  ...  AMENDING  EXECUTIVE  ORDER  12866:\\nGOOD  GOVE...\n",
              "266  CHRG-109shrg25323  ...  HUMAN  SPACEFLIGHT:  THE  SPACE  SHUTTLE  AND ...\n",
              "267  CHRG-110shrg75784  ...  OVERSIGHT  OF  TELEMARKETING  PRACTICES  AND \\...\n",
              "\n",
              "[268 rows x 3 columns]"
            ]
          },
          "metadata": {},
          "execution_count": 15
        }
      ],
      "source": [
        "DF0510"
      ]
    },
    {
      "cell_type": "code",
      "execution_count": null,
      "metadata": {
        "id": "hKC5ZItm5xHQ"
      },
      "outputs": [],
      "source": [
        "# wrong practice! get a matrix of characters, instead of words :(\n",
        "DF0510['tokenized_text'] = DF0510['raw_text'].apply(lambda x: lucem_illud.word_tokenize(x, MAX_LEN=1800000))"
      ]
    },
    {
      "cell_type": "code",
      "source": [
        "DF0510['normalized_tokens'] = DF0510['tokenized_text'].apply(lambda x: lucem_illud.normalizeTokens(x, MAX_LEN=1800000))"
      ],
      "metadata": {
        "id": "h7Lu-krppv63"
      },
      "execution_count": null,
      "outputs": []
    },
    {
      "cell_type": "code",
      "execution_count": null,
      "metadata": {
        "id": "9qlKZZ1SQ8CY"
      },
      "outputs": [],
      "source": [
        "# right way!\n",
        "DF0510['tokenized_sents'] = DF0510['raw_text'].apply(lambda x: [lucem_illud.word_tokenize(s, MAX_LEN=2000000) for s in lucem_illud.sent_tokenize(x)])\n"
      ]
    },
    {
      "cell_type": "code",
      "execution_count": null,
      "metadata": {
        "id": "kU9QaLPoysDe"
      },
      "outputs": [],
      "source": [
        "DF0510['normalized_sents'] = DF0510['tokenized_sents'].apply(lambda x: [lucem_illud.normalizeTokens(s) for s in x])\n"
      ]
    },
    {
      "cell_type": "code",
      "execution_count": null,
      "metadata": {
        "id": "pqp5p0opl1Mu"
      },
      "outputs": [],
      "source": [
        "save = DF0510[['index', 'title','normalized_sents']]"
      ]
    },
    {
      "cell_type": "code",
      "execution_count": null,
      "metadata": {
        "id": "THWoOHq-mm_l"
      },
      "outputs": [],
      "source": [
        "save.to_csv('DF0510.csv')"
      ]
    },
    {
      "cell_type": "markdown",
      "metadata": {
        "id": "_gUwIud9OEss"
      },
      "source": [
        "## use skipgram"
      ]
    },
    {
      "cell_type": "code",
      "execution_count": null,
      "metadata": {
        "id": "myfyLJA_OD8T"
      },
      "outputs": [],
      "source": [
        "W2V = gensim.models.word2vec.Word2Vec(DF0510['normalized_sents'].sum(), sg=1, workers=3, compute_loss=True)"
      ]
    },
    {
      "cell_type": "code",
      "execution_count": null,
      "metadata": {
        "id": "8Pj7GTE-QCKf"
      },
      "outputs": [],
      "source": [
        "W2V.save(\"W2V_SG\")"
      ]
    },
    {
      "cell_type": "code",
      "execution_count": null,
      "metadata": {
        "id": "PosMq2MpQN_s"
      },
      "outputs": [],
      "source": [
        "W2V.wv.index2word \n",
        "# look up words; interesting ones (research, U.S., NASA, Chairman, \n",
        "# industry, technology, american, safety, important, science, energy, work, psn, \n",
        "# national, fund, $, public, change, federal, dr, mr, consumer, space, fuel, risk, climate,\n",
        "# business, university, price, future )"
      ]
    },
    {
      "cell_type": "code",
      "execution_count": null,
      "metadata": {
        "colab": {
          "base_uri": "https://localhost:8080/"
        },
        "id": "GAM7xl9k6PYT",
        "outputId": "a67d6e5d-5a4c-49db-f824-a1fe123f669e"
      },
      "outputs": [
        {
          "data": {
            "text/plain": [
              "[('unite', 0.6192792654037476),\n",
              " ('rean', 0.6138784885406494),\n",
              " ('chinese', 0.5981453061103821),\n",
              " ('nation', 0.5952105522155762),\n",
              " ('ministry', 0.5922368168830872),\n",
              " ('http://bookstore.gpo.gov', 0.571690022945404),\n",
              " ('state', 0.5713860988616943),\n",
              " ('u.s.-', 0.5673544406890869),\n",
              " ('mestic', 0.5637867450714111),\n",
              " ('nadian', 0.5624779462814331),\n",
              " ('private-', 0.5595884323120117),\n",
              " ('amcham', 0.5571780800819397),\n",
              " ('deere', 0.5542914867401123),\n",
              " ('telework', 0.5522271394729614),\n",
              " ('korean', 0.5520291328430176),\n",
              " ('country', 0.5517922639846802),\n",
              " ('a`-vis', 0.5504310131072998),\n",
              " ('arbiter', 0.5496490001678467),\n",
              " ('ko-', 0.547967791557312),\n",
              " ('foreign', 0.5450271368026733)]"
            ]
          },
          "execution_count": 71,
          "metadata": {},
          "output_type": "execute_result"
        }
      ],
      "source": [
        "# most similar words to us includes Chinese (No. 3)\n",
        "# suggesting how self identity relates to a foreign 'other'\n",
        "W2V.most_similar('u.s', topn=20) "
      ]
    },
    {
      "cell_type": "code",
      "execution_count": null,
      "metadata": {
        "colab": {
          "base_uri": "https://localhost:8080/"
        },
        "id": "0yyPTzm54uk7",
        "outputId": "9918f893-3c40-4aff-e7ad-a3eaaf3d51cd"
      },
      "outputs": [
        {
          "data": {
            "text/plain": [
              "[('tech-', 0.8245952129364014),\n",
              " ('nology', 0.8244220614433289),\n",
              " ('nologies', 0.7658206224441528),\n",
              " ('technological', 0.6767820119857788),\n",
              " ('atds', 0.6335196495056152),\n",
              " ('revo-', 0.6321967840194702),\n",
              " ('cializing', 0.6290611624717712),\n",
              " ('nanotech-', 0.6287561058998108),\n",
              " ('celerate', 0.6285820007324219),\n",
              " ('innovation', 0.6249045729637146),\n",
              " ('diffusion', 0.6146519184112549),\n",
              " ('formational', 0.6131174564361572),\n",
              " ('quantum', 0.6124416589736938),\n",
              " ('transformational', 0.6084312796592712),\n",
              " ('inno-', 0.6071422100067139),\n",
              " ('microelectronic', 0.6053298711776733),\n",
              " ('warfighter', 0.6025417447090149),\n",
              " ('vative', 0.5964927077293396),\n",
              " ('troduction', 0.5944600701332092),\n",
              " ('nanosciences', 0.5942760705947876)]"
            ]
          },
          "execution_count": 73,
          "metadata": {},
          "output_type": "execute_result"
        }
      ],
      "source": [
        "W2V.most_similar('technology', topn=20) "
      ]
    },
    {
      "cell_type": "code",
      "execution_count": null,
      "metadata": {
        "colab": {
          "base_uri": "https://localhost:8080/"
        },
        "id": "xhcXO91Z4zHv",
        "outputId": "f3f1d7c4-4b91-4ede-dacf-d3a755e6d2a0"
      },
      "outputs": [
        {
          "data": {
            "text/plain": [
              "[('mathe-', 0.6735905408859253),\n",
              " ('mathematics', 0.6644326448440552),\n",
              " ('ematics', 0.6603355407714844),\n",
              " ('math-', 0.6484788656234741),\n",
              " ('matics', 0.6431640386581421),\n",
              " ('scientific', 0.6400326490402222),\n",
              " ('jsost', 0.6269738078117371),\n",
              " ('nctm', 0.6218098402023315),\n",
              " ('astronomy', 0.6192607879638672),\n",
              " ('anthropology', 0.6156793832778931),\n",
              " ('grees', 0.6137228012084961),\n",
              " ('nit', 0.6087647676467896),\n",
              " ('foren-', 0.6073204278945923),\n",
              " ('astron-', 0.606158971786499),\n",
              " ('annals', 0.605897068977356),\n",
              " ('math', 0.6023211479187012),\n",
              " ('usgeo', 0.5991204380989075),\n",
              " ('2000–2005', 0.5985238552093506),\n",
              " ('nsf', 0.5977862477302551),\n",
              " ('astrophysics', 0.5976592302322388)]"
            ]
          },
          "execution_count": 74,
          "metadata": {},
          "output_type": "execute_result"
        }
      ],
      "source": [
        "# not surprisingly, technology is more applied, \n",
        "# science is more theoretical, as we see math, astronomy, anthropology\n",
        "W2V.most_similar('science', topn=20) "
      ]
    },
    {
      "cell_type": "code",
      "execution_count": null,
      "metadata": {
        "colab": {
          "base_uri": "https://localhost:8080/",
          "height": 36
        },
        "id": "qhmupKfr63D6",
        "outputId": "8c21c2bc-cd55-43b8-ae9d-25e6da96dc91"
      },
      "outputs": [
        {
          "data": {
            "application/vnd.google.colaboratory.intrinsic+json": {
              "type": "string"
            },
            "text/plain": [
              "'korea'"
            ]
          },
          "execution_count": 80,
          "metadata": {},
          "output_type": "execute_result"
        }
      ],
      "source": [
        "# Find which word least matches the others within a word set \n",
        "W2V.doesnt_match(['u.s.', 'china', 'japan', 'u.k.', 'korea'])"
      ]
    },
    {
      "cell_type": "code",
      "execution_count": null,
      "metadata": {
        "colab": {
          "base_uri": "https://localhost:8080/"
        },
        "id": "ozh6Mq37ODL2",
        "outputId": "807e9e6e-b372-40f0-950d-66b54f4ea52b"
      },
      "outputs": [
        {
          "data": {
            "text/plain": [
              "[('compa-', 0.58393394947052),\n",
              " ('sumers', 0.5686607360839844),\n",
              " ('company', 0.5638266801834106),\n",
              " ('sumer', 0.5399460196495056),\n",
              " ('prepay', 0.5389575958251953),\n",
              " ('retailer', 0.5342283248901367),\n",
              " ('customer', 0.5320632457733154),\n",
              " ('firm', 0.5191407203674316),\n",
              " ('marketplace', 0.5160177946090698),\n",
              " ('broke', 0.513572096824646)]"
            ]
          },
          "execution_count": 87,
          "metadata": {},
          "output_type": "execute_result"
        }
      ],
      "source": [
        "# consumer to safety is industry to ?\n",
        "# less interpretable results though\n",
        "W2V.most_similar(positive=['consumer', 'industry'], negative = ['safety'])"
      ]
    },
    {
      "cell_type": "code",
      "execution_count": null,
      "metadata": {
        "colab": {
          "base_uri": "https://localhost:8080/",
          "height": 357
        },
        "id": "tGhKSKWZ6dmN",
        "outputId": "abe2d366-272c-481d-8b84-abd19e122731"
      },
      "outputs": [
        {
          "data": {
            "image/png": "[encoded data removed]",
            "text/plain": [
              "<Figure size 720x432 with 1 Axes>"
            ]
          },
          "metadata": {},
          "output_type": "display_data"
        }
      ],
      "source": [
        "# viusalization\n",
        "\n",
        "numWords = 50\n",
        "targetWords = W2V.wv.index2word[:numWords]\n",
        "\n",
        "wordsSubMatrix = []\n",
        "for word in targetWords:\n",
        "    wordsSubMatrix.append(W2V[word])\n",
        "wordsSubMatrix = np.array(wordsSubMatrix)\n",
        "pcaWords = sklearn.decomposition.PCA(n_components = 50).fit(wordsSubMatrix)\n",
        "reducedPCA_data = pcaWords.transform(wordsSubMatrix)\n",
        "tsneWords = sklearn.manifold.TSNE(n_components = 2).fit_transform(reducedPCA_data)\n",
        "fig = plt.figure(figsize = (10,6))\n",
        "ax = fig.add_subplot(111)\n",
        "ax.set_frame_on(False)\n",
        "plt.scatter(tsneWords[:, 0], tsneWords[:, 1], alpha = 0)#Making the points invisible \n",
        "for i, word in enumerate(targetWords):\n",
        "    ax.annotate(word, (tsneWords[:, 0][i],tsneWords[:, 1][i]), size =  20 * (numWords - i) / numWords)\n",
        "plt.xticks(())\n",
        "plt.yticks(())\n",
        "plt.show()"
      ]
    },
    {
      "cell_type": "markdown",
      "metadata": {
        "id": "n6ceiRX185C8"
      },
      "source": [
        "### use CBOW"
      ]
    },
    {
      "cell_type": "code",
      "execution_count": null,
      "metadata": {
        "colab": {
          "background_save": true
        },
        "id": "NwhLkVYi84Vk"
      },
      "outputs": [],
      "source": [
        "W2V_CB = gensim.models.word2vec.Word2Vec(DF0510['normalized_sents'].sum(), sg=0, workers=3, compute_loss=True)"
      ]
    },
    {
      "cell_type": "code",
      "source": [
        "W2V_CB.save(\"W2V_CB\")"
      ],
      "metadata": {
        "id": "8FuFvdKPGOK3"
      },
      "execution_count": null,
      "outputs": []
    },
    {
      "cell_type": "code",
      "source": [
        "# load model\n",
        "W2V_CB = gensim.models.word2vec.Word2Vec.load(\"W2V_CB\")"
      ],
      "metadata": {
        "id": "ToIuh4v0h0cf"
      },
      "execution_count": null,
      "outputs": []
    },
    {
      "cell_type": "code",
      "source": [
        "W2V_CB.most_similar('u.s', topn=20) # CBOW generates more interpretable results"
      ],
      "metadata": {
        "colab": {
          "base_uri": "https://localhost:8080/"
        },
        "id": "MK_0XnIIIa3B",
        "outputId": "723398a3-0a8e-44b8-bc5f-2102d2557c05"
      },
      "execution_count": null,
      "outputs": [
        {
          "output_type": "execute_result",
          "data": {
            "text/plain": [
              "[('domestic', 0.6909058094024658),\n",
              " ('nation', 0.6142244338989258),\n",
              " ('foreign', 0.5791924595832825),\n",
              " ('worldwide', 0.5620349049568176),\n",
              " ('chinese', 0.5605299472808838),\n",
              " ('export', 0.550199568271637),\n",
              " ('country', 0.5484606027603149),\n",
              " ('unite', 0.5121808052062988),\n",
              " ('international', 0.49570906162261963),\n",
              " ('globally', 0.4930095970630646),\n",
              " ('mestic', 0.4915623664855957),\n",
              " ('import', 0.48808735609054565),\n",
              " ('canadian', 0.48777851462364197),\n",
              " ('overseas', 0.4842901825904846),\n",
              " ('europe', 0.48405519127845764),\n",
              " ('civilian', 0.48030316829681396),\n",
              " ('european', 0.4708408713340759),\n",
              " ('u.s.-based', 0.46065303683280945),\n",
              " ('canada', 0.45359569787979126),\n",
              " ('china', 0.44910702109336853)]"
            ]
          },
          "metadata": {},
          "execution_count": 99
        }
      ]
    },
    {
      "cell_type": "code",
      "source": [
        "# what U.S is not ... not silly, not crazy, not glad, not okey ..?\n",
        "W2V_CB.most_similar(negative=['u.s'], topn=20)"
      ],
      "metadata": {
        "colab": {
          "base_uri": "https://localhost:8080/"
        },
        "id": "D6BCV-P6KrWs",
        "outputId": "80eea901-1fdb-4dbe-a26c-02cd9c316c49"
      },
      "execution_count": null,
      "outputs": [
        {
          "output_type": "execute_result",
          "data": {
            "text/plain": [
              "[('okay', 0.508283257484436),\n",
              " ('apologize', 0.4646484851837158),\n",
              " ('suffice', 0.4604640603065491),\n",
              " ('preface', 0.45183372497558594),\n",
              " ('microphone', 0.4502241015434265),\n",
              " ('boss', 0.4499533176422119),\n",
              " ('glad', 0.4470151960849762),\n",
              " ('5-minute', 0.44228512048721313),\n",
              " ('mony', 0.4381866455078125),\n",
              " ('tes-', 0.43438178300857544),\n",
              " ('writ-', 0.4317936897277832),\n",
              " ('morrell', 0.4296662211418152),\n",
              " ('o’rourke', 0.4274439811706543),\n",
              " ('mike', 0.42714911699295044),\n",
              " ('testi-', 0.4243963956832886),\n",
              " ('mrs', 0.4243015646934509),\n",
              " ('crazy', 0.4237981140613556),\n",
              " ('liguori', 0.41902679204940796),\n",
              " ('knorr', 0.4189486503601074),\n",
              " ('silly', 0.41698068380355835)]"
            ]
          },
          "metadata": {},
          "execution_count": 107
        }
      ]
    },
    {
      "cell_type": "code",
      "source": [
        "W2V_CB.wv.similarity('u.s', 'innovation')"
      ],
      "metadata": {
        "colab": {
          "base_uri": "https://localhost:8080/"
        },
        "id": "FQx1Mj8cLL_A",
        "outputId": "cb988d00-21b2-4583-8ca1-5da578c85088"
      },
      "execution_count": null,
      "outputs": [
        {
          "output_type": "execute_result",
          "data": {
            "text/plain": [
              "0.23127756"
            ]
          },
          "metadata": {},
          "execution_count": 108
        }
      ]
    },
    {
      "cell_type": "code",
      "source": [
        "W2V_CB.wv.similarity('china', 'innovation')"
      ],
      "metadata": {
        "colab": {
          "base_uri": "https://localhost:8080/"
        },
        "id": "ishn0RgGLSUW",
        "outputId": "5bcefd62-149b-45d9-f64e-913f328b23b9"
      },
      "execution_count": null,
      "outputs": [
        {
          "output_type": "execute_result",
          "data": {
            "text/plain": [
              "0.22262096"
            ]
          },
          "metadata": {},
          "execution_count": 109
        }
      ]
    },
    {
      "cell_type": "code",
      "source": [
        "positive_words = ['excellent', 'good', 'wonderful', 'perfect', 'innovative',\n",
        "'new', 'newly','modern', 'mature', 'revolutionary']"
      ],
      "metadata": {
        "id": "Pz9oF45nLX07"
      },
      "execution_count": null,
      "outputs": []
    },
    {
      "cell_type": "code",
      "source": [
        "def compare_sentiments(str1, str2, word_lst):\n",
        "  N = len(word_lst)\n",
        "  s1 = []\n",
        "  s2 = []\n",
        "  for w in word_lst:\n",
        "    s1.append(W2V_CB.wv.similarity(str1, w))\n",
        "    s2.append(W2V_CB.wv.similarity(str2, w))\n",
        "  return sum(s1) / N, sum(s2) / N"
      ],
      "metadata": {
        "id": "_pnmOosOMHm9"
      },
      "execution_count": null,
      "outputs": []
    },
    {
      "cell_type": "code",
      "source": [
        "# to my surprise, China are constrcuted in more positive light\n",
        "# on the positive/negative spectrum\n",
        "compare_sentiments('u.s', 'china', positive_words)"
      ],
      "metadata": {
        "colab": {
          "base_uri": "https://localhost:8080/"
        },
        "id": "rIFa3DNVMw8C",
        "outputId": "579c59e9-426c-4305-b532-76d0d0070d3f"
      },
      "execution_count": null,
      "outputs": [
        {
          "output_type": "execute_result",
          "data": {
            "text/plain": [
              "(0.10959897571010516, 0.16009166464209557)"
            ]
          },
          "metadata": {},
          "execution_count": 20
        }
      ]
    },
    {
      "cell_type": "code",
      "source": [
        "# in this way, we could systematically study the construction\n",
        "# of foreign others\n",
        "compare_sentiments('korean', 'japan', positive_words)"
      ],
      "metadata": {
        "colab": {
          "base_uri": "https://localhost:8080/"
        },
        "id": "DOsb85GujxUq",
        "outputId": "a308b913-a14e-4c11-b9de-eeca8bc0978d"
      },
      "execution_count": null,
      "outputs": [
        {
          "output_type": "execute_result",
          "data": {
            "text/plain": [
              "(0.024664485675748436, 0.08548546303063631)"
            ]
          },
          "metadata": {},
          "execution_count": 23
        }
      ]
    },
    {
      "cell_type": "code",
      "source": [
        "# and construction of technology\n",
        "compare_sentiments('nanotechnology', 'computer', positive_words)"
      ],
      "metadata": {
        "colab": {
          "base_uri": "https://localhost:8080/"
        },
        "id": "Q9ldFn4GjJqe",
        "outputId": "bb2bd215-35ce-4782-f8f1-86c4adc569df"
      },
      "execution_count": null,
      "outputs": [
        {
          "output_type": "execute_result",
          "data": {
            "text/plain": [
              "(0.20886589149013163, 0.14194580167531967)"
            ]
          },
          "metadata": {},
          "execution_count": 24
        }
      ]
    },
    {
      "cell_type": "code",
      "source": [
        "# business is more positive than university\n",
        "compare_sentiments('business', 'university', positive_words)"
      ],
      "metadata": {
        "colab": {
          "base_uri": "https://localhost:8080/"
        },
        "id": "Ryc9fp_NkFF9",
        "outputId": "ed1327b5-5e4a-4c09-f2fa-c841ce82dfc6"
      },
      "execution_count": null,
      "outputs": [
        {
          "output_type": "execute_result",
          "data": {
            "text/plain": [
              "(0.15026749335229397, 0.08827286884188652)"
            ]
          },
          "metadata": {},
          "execution_count": 25
        }
      ]
    },
    {
      "cell_type": "code",
      "source": [
        "# expert is more positive than public\n",
        "# however, this does not mean public are themselves negative: maybe they\n",
        "# express negative opinions that concern the policymakers\n",
        "compare_sentiments('expert', 'public', positive_words)"
      ],
      "metadata": {
        "colab": {
          "base_uri": "https://localhost:8080/"
        },
        "id": "TQrnSwgqkR8D",
        "outputId": "0bca3493-ee93-4f32-d28d-ebe0874002d0"
      },
      "execution_count": null,
      "outputs": [
        {
          "output_type": "execute_result",
          "data": {
            "text/plain": [
              "(0.10937819611281156, 0.09109314274974167)"
            ]
          },
          "metadata": {},
          "execution_count": 27
        }
      ]
    },
    {
      "cell_type": "code",
      "source": [
        "# technology is more positive than science\n",
        "compare_sentiments('science', 'technology', positive_words)"
      ],
      "metadata": {
        "colab": {
          "base_uri": "https://localhost:8080/"
        },
        "id": "CT0O_qC6k0T1",
        "outputId": "a0762e78-8ca8-49a7-b6cc-be1d15e28d25"
      },
      "execution_count": null,
      "outputs": [
        {
          "output_type": "execute_result",
          "data": {
            "text/plain": [
              "(0.15629732199013233, 0.22079180777072907)"
            ]
          },
          "metadata": {},
          "execution_count": 28
        }
      ]
    },
    {
      "cell_type": "code",
      "source": [
        "compare_sentiments('energy', 'fuel', positive_words)"
      ],
      "metadata": {
        "colab": {
          "base_uri": "https://localhost:8080/"
        },
        "id": "3qsWAOatk68R",
        "outputId": "0652124c-e50c-45bf-f0d8-3ca57c9d813e"
      },
      "execution_count": null,
      "outputs": [
        {
          "output_type": "execute_result",
          "data": {
            "text/plain": [
              "(0.09670132026076317, 0.06062135873362422)"
            ]
          },
          "metadata": {},
          "execution_count": 29
        }
      ]
    },
    {
      "cell_type": "code",
      "source": [
        "compare_sentiments('risk', 'uncertainty', positive_words)"
      ],
      "metadata": {
        "colab": {
          "base_uri": "https://localhost:8080/"
        },
        "id": "eUcag8yLlCC4",
        "outputId": "e393b59d-7bd9-412e-f0b4-1b29ba73ccc4"
      },
      "execution_count": null,
      "outputs": [
        {
          "output_type": "execute_result",
          "data": {
            "text/plain": [
              "(0.09800056675449013, 0.06072517717257142)"
            ]
          },
          "metadata": {},
          "execution_count": 30
        }
      ]
    },
    {
      "cell_type": "code",
      "source": [
        "# I used good word list to construct positive words\n",
        "W2V_CB.most_similar('good') # hard is good, easy is not!"
      ],
      "metadata": {
        "colab": {
          "base_uri": "https://localhost:8080/"
        },
        "id": "2RWXK-V1LgGH",
        "outputId": "2e98186b-3c7f-4f93-d41a-949cd275e090"
      },
      "execution_count": null,
      "outputs": [
        {
          "output_type": "execute_result",
          "data": {
            "text/plain": [
              "[('bad', 0.6613117456436157),\n",
              " ('excellent', 0.5561313033103943),\n",
              " ('wonderful', 0.5378056764602661),\n",
              " ('perfect', 0.5216777920722961),\n",
              " ('hard', 0.5039718151092529),\n",
              " ('well', 0.5017821788787842),\n",
              " ('lot', 0.49605897068977356),\n",
              " ('kind', 0.47733309864997864),\n",
              " ('actually', 0.47509196400642395),\n",
              " ('know', 0.4660789966583252)]"
            ]
          },
          "metadata": {},
          "execution_count": 110
        }
      ]
    },
    {
      "cell_type": "code",
      "source": [
        "W2V_CB.most_similar('nanotechnology', topn=20) "
      ],
      "metadata": {
        "colab": {
          "base_uri": "https://localhost:8080/"
        },
        "id": "Vt3N9SvaIipj",
        "outputId": "5e461ad8-0f38-48cb-9fc1-17583a6a3ee6"
      },
      "execution_count": null,
      "outputs": [
        {
          "output_type": "execute_result",
          "data": {
            "text/plain": [
              "[('innovation', 0.5846204161643982),\n",
              " ('nanotech', 0.5796200037002563),\n",
              " ('r&d', 0.5712600350379944),\n",
              " ('transformational', 0.5652338862419128),\n",
              " ('interdisciplinary', 0.5596525073051453),\n",
              " ('commercialization', 0.5520420074462891),\n",
              " ('nanoscience', 0.5504926443099976),\n",
              " ('inno-', 0.5414364337921143),\n",
              " ('research', 0.5380749702453613),\n",
              " ('forefront', 0.5376797914505005),\n",
              " ('advancement', 0.516294538974762),\n",
              " ('revolutionary', 0.5066006779670715),\n",
              " ('biofuel', 0.5034797787666321),\n",
              " ('nurture', 0.5034692287445068),\n",
              " ('technological', 0.5020192265510559),\n",
              " ('biomedical', 0.4974139332771301),\n",
              " ('tiative', 0.49638110399246216),\n",
              " ('nanoelectronics', 0.4961091876029968),\n",
              " ('ehs', 0.49557599425315857),\n",
              " ('breakthrough', 0.48890072107315063)]"
            ]
          },
          "metadata": {},
          "execution_count": 102
        }
      ]
    },
    {
      "cell_type": "code",
      "source": [
        "W2V_CB.most_similar('computer', topn=20) "
      ],
      "metadata": {
        "colab": {
          "base_uri": "https://localhost:8080/"
        },
        "id": "F9blUKgCJ3fh",
        "outputId": "74297ed6-c9bc-4397-adb2-d32891d4e28b"
      },
      "execution_count": null,
      "outputs": [
        {
          "output_type": "execute_result",
          "data": {
            "text/plain": [
              "[('software', 0.673740804195404),\n",
              " ('server', 0.6443838477134705),\n",
              " ('laptop', 0.6424560546875),\n",
              " ('machine', 0.6150432825088501),\n",
              " ('browser', 0.6138842105865479),\n",
              " ('desktop', 0.6056808829307556),\n",
              " ('ware', 0.600471019744873),\n",
              " ('portal', 0.5683589577674866),\n",
              " ('camera', 0.5670856237411499),\n",
              " ('pcs', 0.5554730296134949),\n",
              " ('archive', 0.5526312589645386),\n",
              " ('device', 0.549025297164917),\n",
              " ('soft-', 0.5484026670455933),\n",
              " ('computational', 0.5445111989974976),\n",
              " ('hacker', 0.5411697030067444),\n",
              " ('image', 0.5384922027587891),\n",
              " ('optical', 0.5330401659011841),\n",
              " ('password', 0.5316563248634338),\n",
              " ('visualization', 0.528083324432373),\n",
              " ('portable', 0.5199143886566162)]"
            ]
          },
          "metadata": {},
          "execution_count": 104
        }
      ]
    },
    {
      "cell_type": "code",
      "source": [
        "W2V_CB.most_similar('science', topn=20) "
      ],
      "metadata": {
        "colab": {
          "base_uri": "https://localhost:8080/"
        },
        "id": "vk51COm9KEgi",
        "outputId": "a71fc062-e35b-422b-ff43-7322bf42782b"
      },
      "execution_count": null,
      "outputs": [
        {
          "output_type": "execute_result",
          "data": {
            "text/plain": [
              "[('scientific', 0.6391366720199585),\n",
              " ('stem', 0.5839155912399292),\n",
              " ('neering', 0.5760152339935303),\n",
              " ('research', 0.5589140057563782),\n",
              " ('astronomy', 0.5471537113189697),\n",
              " ('s&t', 0.5118564963340759),\n",
              " ('scientist', 0.5114455223083496),\n",
              " ('aeronautics', 0.5094804763793945),\n",
              " ('interdisciplinary', 0.500746488571167),\n",
              " ('physic', 0.4932098984718323),\n",
              " ('k–12', 0.4925425946712494),\n",
              " ('nautics', 0.488220751285553),\n",
              " ('mathematics', 0.4826509356498718),\n",
              " ('sci-', 0.48114147782325745),\n",
              " ('astrophysics', 0.477935254573822),\n",
              " ('aeronautical', 0.46699047088623047),\n",
              " ('nsf', 0.4639970362186432),\n",
              " ('simcalc', 0.45383864641189575),\n",
              " ('psychology', 0.444893479347229),\n",
              " ('sth', 0.4435671269893646)]"
            ]
          },
          "metadata": {},
          "execution_count": 106
        }
      ]
    },
    {
      "cell_type": "code",
      "source": [
        "W2V_CB.most_similar('new', topn=20) # commercialize is close to new"
      ],
      "metadata": {
        "colab": {
          "base_uri": "https://localhost:8080/"
        },
        "id": "k2gBqrfWGrbH",
        "outputId": "2b864161-8b42-4009-d1d0-14f56c69a039"
      },
      "execution_count": null,
      "outputs": [
        {
          "output_type": "execute_result",
          "data": {
            "text/plain": [
              "[('innovative', 0.581523060798645),\n",
              " ('newly', 0.5255005359649658),\n",
              " ('mature', 0.5001044869422913),\n",
              " ('modern', 0.4812227785587311),\n",
              " ('additional', 0.47713983058929443),\n",
              " ('revolutionary', 0.47687703371047974),\n",
              " ('commercialize', 0.4739138185977936),\n",
              " ('advance', 0.4719945788383484),\n",
              " ('exist', 0.4678264856338501),\n",
              " ('accelerate', 0.4651390016078949),\n",
              " ('emerge', 0.46503597497940063),\n",
              " ('enable', 0.45653754472732544),\n",
              " ('novel', 0.45158231258392334),\n",
              " ('traditional', 0.44923433661460876),\n",
              " ('cre-', 0.44560351967811584),\n",
              " ('simultaneously', 0.4427673816680908),\n",
              " ('similar', 0.44027137756347656),\n",
              " ('unique', 0.4367051124572754),\n",
              " ('orient', 0.43202751874923706),\n",
              " ('oper-', 0.4316343665122986)]"
            ]
          },
          "metadata": {},
          "execution_count": 92
        }
      ]
    },
    {
      "cell_type": "code",
      "source": [
        "W2V_CB.most_similar('future', topn=20) "
      ],
      "metadata": {
        "colab": {
          "base_uri": "https://localhost:8080/"
        },
        "id": "Ar-w3fyvHiRJ",
        "outputId": "e91fffae-3c5b-4642-f892-405c4cb9ae8b"
      },
      "execution_count": null,
      "outputs": [
        {
          "output_type": "execute_result",
          "data": {
            "text/plain": [
              "[('fu-', 0.6957786083221436),\n",
              " ('continue', 0.5302454829216003),\n",
              " ('current', 0.5184684991836548),\n",
              " ('sustain', 0.5094829201698303),\n",
              " ('ture', 0.5076127052307129),\n",
              " ('prospect', 0.4945690929889679),\n",
              " ('generation', 0.4944969415664673),\n",
              " ('transformation', 0.49009716510772705),\n",
              " ('nation', 0.48915064334869385),\n",
              " ('robust', 0.4866470694541931),\n",
              " ('historic', 0.48598918318748474),\n",
              " ('viability', 0.4838303029537201),\n",
              " ('term', 0.4815361201763153),\n",
              " ('potential', 0.4802461862564087),\n",
              " ('likely', 0.4783031940460205),\n",
              " ('particularly', 0.47565266489982605),\n",
              " ('jeopardize', 0.47397780418395996),\n",
              " ('crucial', 0.4724995493888855),\n",
              " ('reality', 0.4688153862953186),\n",
              " ('mitigate', 0.4665362238883972)]"
            ]
          },
          "metadata": {},
          "execution_count": 94
        }
      ]
    },
    {
      "cell_type": "code",
      "source": [
        "# is the result different for two models? No!\n",
        "# Find which word least matches the others within a word set \n",
        "W2V_CB.doesnt_match(['u.s.', 'china', 'japan', 'u.k.', 'korea'])"
      ],
      "metadata": {
        "colab": {
          "base_uri": "https://localhost:8080/",
          "height": 36
        },
        "id": "x5Gei02xH9ZI",
        "outputId": "ec926cd9-55c5-41ad-dce4-5a21a7dc7278"
      },
      "execution_count": null,
      "outputs": [
        {
          "output_type": "execute_result",
          "data": {
            "application/vnd.google.colaboratory.intrinsic+json": {
              "type": "string"
            },
            "text/plain": [
              "'korea'"
            ]
          },
          "metadata": {},
          "execution_count": 97
        }
      ]
    },
    {
      "cell_type": "code",
      "source": [
        "# consumer to safety is industry to ?\n",
        "# less interpretable results though\n",
        "W2V_CB.most_similar(positive=['consumer', 'industry'], negative = ['safety'])"
      ],
      "metadata": {
        "colab": {
          "base_uri": "https://localhost:8080/"
        },
        "id": "iWuDEPSDIDPm",
        "outputId": "8db2c2db-2852-480c-e846-38da840bd1fa"
      },
      "execution_count": null,
      "outputs": [
        {
          "output_type": "execute_result",
          "data": {
            "text/plain": [
              "[('customer', 0.5202651023864746),\n",
              " ('compa-', 0.5104483366012573),\n",
              " ('market', 0.5085877180099487),\n",
              " ('producer', 0.5020622611045837),\n",
              " ('company', 0.5004117488861084),\n",
              " ('firm', 0.4998469948768616),\n",
              " ('buyer', 0.49878326058387756),\n",
              " ('marketplace', 0.48864904046058655),\n",
              " ('retailer', 0.4734783172607422),\n",
              " ('competitor', 0.46739065647125244)]"
            ]
          },
          "metadata": {},
          "execution_count": 98
        }
      ]
    },
    {
      "cell_type": "code",
      "source": [
        "# why this gives different results?\n",
        "W2V_CB.most_similar(positive=['safety'], negative = ['consumer', 'industry'])"
      ],
      "metadata": {
        "colab": {
          "base_uri": "https://localhost:8080/"
        },
        "id": "JEmvqsrOJSJo",
        "outputId": "9bfe2fb1-5a9f-4994-95f5-7e4b7adbd030"
      },
      "execution_count": null,
      "outputs": [
        {
          "output_type": "execute_result",
          "data": {
            "text/plain": [
              "[('istrator', 0.4237985908985138),\n",
              " ('expedition', 0.4200966954231262),\n",
              " ('kuiper', 0.3978899121284485),\n",
              " ('acci-', 0.37059855461120605),\n",
              " ('safestat', 0.36841076612472534),\n",
              " ('lander', 0.3664453625679016),\n",
              " ('europa', 0.3642367720603943),\n",
              " ('ifr', 0.36347413063049316),\n",
              " ('mineta', 0.3630102276802063),\n",
              " ('apollo', 0.3587779998779297)]"
            ]
          },
          "metadata": {},
          "execution_count": 101
        }
      ]
    },
    {
      "cell_type": "code",
      "source": [
        "# domestic to job is foreign to ?\n",
        "# 'mexican' and 'canadian' closely relates to American jobs (to less extents eu);\n",
        "# also foreign import, export, and 'restrict' suggests the policy action \n",
        "W2V_CB.most_similar(positive=['domestic', 'foreign'], negative = ['job'])"
      ],
      "metadata": {
        "colab": {
          "base_uri": "https://localhost:8080/"
        },
        "id": "9BqtmMrvIo1C",
        "outputId": "8e5db89f-8b1a-44ee-e5b0-8784b98ef0fa"
      },
      "execution_count": null,
      "outputs": [
        {
          "output_type": "execute_result",
          "data": {
            "text/plain": [
              "[('u.s', 0.5807206630706787),\n",
              " ('mestic', 0.5374956727027893),\n",
              " ('international', 0.5277336835861206),\n",
              " ('canadian', 0.5109087824821472),\n",
              " ('mexican', 0.5058566927909851),\n",
              " ('export', 0.49075889587402344),\n",
              " ('restrict', 0.4869164228439331),\n",
              " ('do-', 0.48335400223731995),\n",
              " ('eu', 0.4771822690963745),\n",
              " ('importer', 0.4715011715888977)]"
            ]
          },
          "metadata": {},
          "execution_count": 100
        }
      ]
    },
    {
      "cell_type": "code",
      "execution_count": null,
      "metadata": {
        "id": "oO3cH6RK88YX",
        "colab": {
          "base_uri": "https://localhost:8080/",
          "height": 357
        },
        "outputId": "84ab8be0-0a34-40e4-bb67-9d4df7f3ea15"
      },
      "outputs": [
        {
          "output_type": "display_data",
          "data": {
            "image/png": "[encoded data removed]",
            "text/plain": [
              "<Figure size 720x432 with 1 Axes>"
            ]
          },
          "metadata": {}
        }
      ],
      "source": [
        "# viusalization\n",
        "\n",
        "numWords = 50\n",
        "targetWords = W2V_CB.wv.index2word[:numWords]\n",
        "\n",
        "wordsSubMatrix = []\n",
        "for word in targetWords:\n",
        "    wordsSubMatrix.append(W2V[word])\n",
        "wordsSubMatrix = np.array(wordsSubMatrix)\n",
        "pcaWords = sklearn.decomposition.PCA(n_components = 50).fit(wordsSubMatrix)\n",
        "reducedPCA_data = pcaWords.transform(wordsSubMatrix)\n",
        "tsneWords = sklearn.manifold.TSNE(n_components = 2).fit_transform(reducedPCA_data)\n",
        "fig = plt.figure(figsize = (10,6))\n",
        "ax = fig.add_subplot(111)\n",
        "ax.set_frame_on(False)\n",
        "plt.scatter(tsneWords[:, 0], tsneWords[:, 1], alpha = 0)#Making the points invisible \n",
        "for i, word in enumerate(targetWords):\n",
        "    ax.annotate(word, (tsneWords[:, 0][i],tsneWords[:, 1][i]), size =  20 * (numWords - i) / numWords)\n",
        "plt.xticks(())\n",
        "plt.yticks(())\n",
        "plt.show()"
      ]
    },
    {
      "cell_type": "markdown",
      "metadata": {
        "id": "47rq-lVy07N0"
      },
      "source": [
        "# Doc2Vec"
      ]
    },
    {
      "cell_type": "markdown",
      "metadata": {
        "id": "S6Je-USi07OB"
      },
      "source": [
        "## <font color=\"red\">*Exercise 2*</font>\n",
        "\n",
        "<font color=\"red\">Construct cells immediately below this that embed documents related to your final project using `doc2vec`, and explore the relationship between different documents and the word vectors you analyzed in the last exercise. Consider the most similar words to critical documents, analogies (doc _x_ + word _y_), and other additions and subtractions that reveal the structure of similarity and difference within your semantic space. What does this pattern reveal about the documentary organization of your semantic space?"
      ]
    },
    {
      "cell_type": "code",
      "source": [
        "import sys\n",
        "import csv\n",
        "maxInt = sys.maxsize\n",
        "\n",
        "while True:\n",
        "    # decrease the maxInt value by factor 10 \n",
        "    # as long as the OverflowError occurs.\n",
        "\n",
        "    try:\n",
        "        csv.field_size_limit(maxInt)\n",
        "        break\n",
        "    except OverflowError:\n",
        "        maxInt = int(maxInt/10)"
      ],
      "metadata": {
        "id": "qlcSJS6Rm6Uf"
      },
      "execution_count": null,
      "outputs": []
    },
    {
      "cell_type": "code",
      "source": [
        "# read pre-processed csv file\n",
        "DF0510 = pd.read_csv('DF0510.csv', engine='python', index_col = 0)\n",
        "DF0510[:10]"
      ],
      "metadata": {
        "colab": {
          "base_uri": "https://localhost:8080/",
          "height": 407
        },
        "id": "3JLDq86ym02d",
        "outputId": "270d3767-8132-4476-a8af-f84c9a116ff2"
      },
      "execution_count": null,
      "outputs": [
        {
          "output_type": "execute_result",
          "data": {
            "text/html": [
              "\n",
              "  <div id=\"df-bf470f39-bd24-4412-b7cf-0eed3545ab6c\">\n",
              "    <div class=\"colab-df-container\">\n",
              "      <div>\n",
              "<style scoped>\n",
              "    .dataframe tbody tr th:only-of-type {\n",
              "        vertical-align: middle;\n",
              "    }\n",
              "\n",
              "    .dataframe tbody tr th {\n",
              "        vertical-align: top;\n",
              "    }\n",
              "\n",
              "    .dataframe thead th {\n",
              "        text-align: right;\n",
              "    }\n",
              "</style>\n",
              "<table border=\"1\" class=\"dataframe\">\n",
              "  <thead>\n",
              "    <tr style=\"text-align: right;\">\n",
              "      <th></th>\n",
              "      <th>index</th>\n",
              "      <th>title</th>\n",
              "      <th>normalized_sents</th>\n",
              "    </tr>\n",
              "  </thead>\n",
              "  <tbody>\n",
              "    <tr>\n",
              "      <th>0</th>\n",
              "      <td>CHRG-110shrg41101</td>\n",
              "      <td>Oversight of the Investigation of the Nasa Ins...</td>\n",
              "      <td>[['s.', 'hrg'], ['110–434'], ['serial', '110–3...</td>\n",
              "    </tr>\n",
              "    <tr>\n",
              "      <th>1</th>\n",
              "      <td>CHRG-110shrg34743</td>\n",
              "      <td>Promoting Travel to America: An Examination of...</td>\n",
              "      <td>[['promote'], ['travel'], ['examination', 'eco...</td>\n",
              "    </tr>\n",
              "    <tr>\n",
              "      <th>2</th>\n",
              "      <td>CHRG-110shrg80088</td>\n",
              "      <td>Oversight of the Corporate Average Fuel Econom...</td>\n",
              "      <td>[['oversight'], ['corporate', 'average'], ['fu...</td>\n",
              "    </tr>\n",
              "    <tr>\n",
              "      <th>3</th>\n",
              "      <td>CHRG-110hhrg35999</td>\n",
              "      <td>A Path Toward the Broader Use of Biofuels: Enh...</td>\n",
              "      <td>[['path'], ['broad'], ['use', 'biofuel'], ['en...</td>\n",
              "    </tr>\n",
              "    <tr>\n",
              "      <th>4</th>\n",
              "      <td>CHRG-110shrg39014</td>\n",
              "      <td>Transportation Worker Identification Credentia...</td>\n",
              "      <td>[['transportation', 'worker'], ['identificatio...</td>\n",
              "    </tr>\n",
              "    <tr>\n",
              "      <th>5</th>\n",
              "      <td>CHRG-110hhrg33611</td>\n",
              "      <td>The Department of Homeland Security's R&amp;d Budg...</td>\n",
              "      <td>[['department', 'homeland', 'security', 'r&amp;d']...</td>\n",
              "    </tr>\n",
              "    <tr>\n",
              "      <th>6</th>\n",
              "      <td>CHRG-109shrg25474</td>\n",
              "      <td>Nominations to the Department of Commerce, Tra...</td>\n",
              "      <td>[['s.', 'hrg'], ['109–238'], [], ['transportat...</td>\n",
              "    </tr>\n",
              "    <tr>\n",
              "      <th>7</th>\n",
              "      <td>CHRG-110shrg76328</td>\n",
              "      <td>Impact and Policy Implications of Spyware on C...</td>\n",
              "      <td>[['impact', 'policy'], ['implication'], ['spyw...</td>\n",
              "    </tr>\n",
              "    <tr>\n",
              "      <th>8</th>\n",
              "      <td>CHRG-111shrg52159</td>\n",
              "      <td>Climate Science: Empowering Our Response to Cl...</td>\n",
              "      <td>[['climate', 'science'], ['empower'], [], ['re...</td>\n",
              "    </tr>\n",
              "    <tr>\n",
              "      <th>9</th>\n",
              "      <td>CHRG-110shrg75785</td>\n",
              "      <td>Oversight of the U.S. Department of Commerce</td>\n",
              "      <td>[['oversight'], ['u.s', 'department', 'commerc...</td>\n",
              "    </tr>\n",
              "  </tbody>\n",
              "</table>\n",
              "</div>\n",
              "      <button class=\"colab-df-convert\" onclick=\"convertToInteractive('df-bf470f39-bd24-4412-b7cf-0eed3545ab6c')\"\n",
              "              title=\"Convert this dataframe to an interactive table.\"\n",
              "              style=\"display:none;\">\n",
              "        \n",
              "  <svg xmlns=\"http://www.w3.org/2000/svg\" height=\"24px\"viewBox=\"0 0 24 24\"\n",
              "       width=\"24px\">\n",
              "    <path d=\"M0 0h24v24H0V0z\" fill=\"none\"/>\n",
              "    <path d=\"M18.56 5.44l.94 2.06.94-2.06 2.06-.94-2.06-.94-.94-2.06-.94 2.06-2.06.94zm-11 1L8.5 8.5l.94-2.06 2.06-.94-2.06-.94L8.5 2.5l-.94 2.06-2.06.94zm10 10l.94 2.06.94-2.06 2.06-.94-2.06-.94-.94-2.06-.94 2.06-2.06.94z\"/><path d=\"M17.41 7.96l-1.37-1.37c-.4-.4-.92-.59-1.43-.59-.52 0-1.04.2-1.43.59L10.3 9.45l-7.72 7.72c-.78.78-.78 2.05 0 2.83L4 21.41c.39.39.9.59 1.41.59.51 0 1.02-.2 1.41-.59l7.78-7.78 2.81-2.81c.8-.78.8-2.07 0-2.86zM5.41 20L4 18.59l7.72-7.72 1.47 1.35L5.41 20z\"/>\n",
              "  </svg>\n",
              "      </button>\n",
              "      \n",
              "  <style>\n",
              "    .colab-df-container {\n",
              "      display:flex;\n",
              "      flex-wrap:wrap;\n",
              "      gap: 12px;\n",
              "    }\n",
              "\n",
              "    .colab-df-convert {\n",
              "      background-color: #E8F0FE;\n",
              "      border: none;\n",
              "      border-radius: 50%;\n",
              "      cursor: pointer;\n",
              "      display: none;\n",
              "      fill: #1967D2;\n",
              "      height: 32px;\n",
              "      padding: 0 0 0 0;\n",
              "      width: 32px;\n",
              "    }\n",
              "\n",
              "    .colab-df-convert:hover {\n",
              "      background-color: #E2EBFA;\n",
              "      box-shadow: 0px 1px 2px rgba(60, 64, 67, 0.3), 0px 1px 3px 1px rgba(60, 64, 67, 0.15);\n",
              "      fill: #174EA6;\n",
              "    }\n",
              "\n",
              "    [theme=dark] .colab-df-convert {\n",
              "      background-color: #3B4455;\n",
              "      fill: #D2E3FC;\n",
              "    }\n",
              "\n",
              "    [theme=dark] .colab-df-convert:hover {\n",
              "      background-color: #434B5C;\n",
              "      box-shadow: 0px 1px 3px 1px rgba(0, 0, 0, 0.15);\n",
              "      filter: drop-shadow(0px 1px 2px rgba(0, 0, 0, 0.3));\n",
              "      fill: #FFFFFF;\n",
              "    }\n",
              "  </style>\n",
              "\n",
              "      <script>\n",
              "        const buttonEl =\n",
              "          document.querySelector('#df-bf470f39-bd24-4412-b7cf-0eed3545ab6c button.colab-df-convert');\n",
              "        buttonEl.style.display =\n",
              "          google.colab.kernel.accessAllowed ? 'block' : 'none';\n",
              "\n",
              "        async function convertToInteractive(key) {\n",
              "          const element = document.querySelector('#df-bf470f39-bd24-4412-b7cf-0eed3545ab6c');\n",
              "          const dataTable =\n",
              "            await google.colab.kernel.invokeFunction('convertToInteractive',\n",
              "                                                     [key], {});\n",
              "          if (!dataTable) return;\n",
              "\n",
              "          const docLinkHtml = 'Like what you see? Visit the ' +\n",
              "            '<a target=\"_blank\" href=https://colab.research.google.com/notebooks/data_table.ipynb>data table notebook</a>'\n",
              "            + ' to learn more about interactive tables.';\n",
              "          element.innerHTML = '';\n",
              "          dataTable['output_type'] = 'display_data';\n",
              "          await google.colab.output.renderOutput(dataTable, element);\n",
              "          const docLink = document.createElement('div');\n",
              "          docLink.innerHTML = docLinkHtml;\n",
              "          element.appendChild(docLink);\n",
              "        }\n",
              "      </script>\n",
              "    </div>\n",
              "  </div>\n",
              "  "
            ],
            "text/plain": [
              "               index  ...                                   normalized_sents\n",
              "0  CHRG-110shrg41101  ...  [['s.', 'hrg'], ['110–434'], ['serial', '110–3...\n",
              "1  CHRG-110shrg34743  ...  [['promote'], ['travel'], ['examination', 'eco...\n",
              "2  CHRG-110shrg80088  ...  [['oversight'], ['corporate', 'average'], ['fu...\n",
              "3  CHRG-110hhrg35999  ...  [['path'], ['broad'], ['use', 'biofuel'], ['en...\n",
              "4  CHRG-110shrg39014  ...  [['transportation', 'worker'], ['identificatio...\n",
              "5  CHRG-110hhrg33611  ...  [['department', 'homeland', 'security', 'r&d']...\n",
              "6  CHRG-109shrg25474  ...  [['s.', 'hrg'], ['109–238'], [], ['transportat...\n",
              "7  CHRG-110shrg76328  ...  [['impact', 'policy'], ['implication'], ['spyw...\n",
              "8  CHRG-111shrg52159  ...  [['climate', 'science'], ['empower'], [], ['re...\n",
              "9  CHRG-110shrg75785  ...  [['oversight'], ['u.s', 'department', 'commerc...\n",
              "\n",
              "[10 rows x 3 columns]"
            ]
          },
          "metadata": {},
          "execution_count": 35
        }
      ]
    },
    {
      "cell_type": "code",
      "source": [
        "def unpack_sents(sents):\n",
        "  word_lst = []\n",
        "  for sent in sents:\n",
        "    word_lst.append(sent)\n",
        "\n",
        "  return word_lst"
      ],
      "metadata": {
        "id": "3ooKxqm_m7d7"
      },
      "execution_count": null,
      "outputs": []
    },
    {
      "cell_type": "code",
      "source": [
        "DF0510['normalized_words'] = DF0510['normalized_sents'].apply(lambda x: unpack_sents(x))"
      ],
      "metadata": {
        "id": "RfR4xnP9nbA8"
      },
      "execution_count": null,
      "outputs": []
    },
    {
      "cell_type": "code",
      "source": [
        "DF0510['normalized_words'] \n",
        "# does not seem to work; so I reload the raw texts and re-do pre-processing"
      ],
      "metadata": {
        "colab": {
          "base_uri": "https://localhost:8080/"
        },
        "id": "zVOaCbyenzeI",
        "outputId": "48907223-1225-41cf-e084-abba168905ff"
      },
      "execution_count": null,
      "outputs": [
        {
          "output_type": "execute_result",
          "data": {
            "text/plain": [
              "0      [[, [, ', s, ., ', ,,  , ', h, r, g, ', ], ,, ...\n",
              "1      [[, [, ', p, r, o, m, o, t, e, ', ], ,,  , [, ...\n",
              "2      [[, [, ', o, v, e, r, s, i, g, h, t, ', ], ,, ...\n",
              "3      [[, [, ', p, a, t, h, ', ], ,,  , [, ', b, r, ...\n",
              "4      [[, [, ', t, r, a, n, s, p, o, r, t, a, t, i, ...\n",
              "                             ...                        \n",
              "263    [[, [, ', r, e, a, u, t, h, o, r, i, z, a, t, ...\n",
              "264    [[, [, ', s, ., ', ,,  , ', h, r, g, ', ], ,, ...\n",
              "265    [[, [, ', a, m, e, n, d, ', ], ,,  , [, ', e, ...\n",
              "266    [[, [, ', h, u, m, a, n, ', ,,  , ', s, p, a, ...\n",
              "267    [[, [, ', o, v, e, r, s, i, g, h, t, ', ,,  , ...\n",
              "Name: normalized_words, Length: 268, dtype: object"
            ]
          },
          "metadata": {},
          "execution_count": 38
        }
      ]
    },
    {
      "cell_type": "code",
      "source": [
        "DF0510"
      ],
      "metadata": {
        "colab": {
          "base_uri": "https://localhost:8080/",
          "height": 919
        },
        "id": "Pxzh-E84rSh9",
        "outputId": "d0131c8c-6439-4858-cace-99026b0c466d"
      },
      "execution_count": null,
      "outputs": [
        {
          "output_type": "execute_result",
          "data": {
            "text/html": [
              "\n",
              "  <div id=\"df-55e1603b-3d06-4383-a7ff-42bf1e3bbeaa\">\n",
              "    <div class=\"colab-df-container\">\n",
              "      <div>\n",
              "<style scoped>\n",
              "    .dataframe tbody tr th:only-of-type {\n",
              "        vertical-align: middle;\n",
              "    }\n",
              "\n",
              "    .dataframe tbody tr th {\n",
              "        vertical-align: top;\n",
              "    }\n",
              "\n",
              "    .dataframe thead th {\n",
              "        text-align: right;\n",
              "    }\n",
              "</style>\n",
              "<table border=\"1\" class=\"dataframe\">\n",
              "  <thead>\n",
              "    <tr style=\"text-align: right;\">\n",
              "      <th></th>\n",
              "      <th>index</th>\n",
              "      <th>title</th>\n",
              "      <th>raw_text</th>\n",
              "      <th>tokenized_text</th>\n",
              "      <th>normalized_tokens</th>\n",
              "    </tr>\n",
              "  </thead>\n",
              "  <tbody>\n",
              "    <tr>\n",
              "      <th>0</th>\n",
              "      <td>CHRG-110shrg41101</td>\n",
              "      <td>Oversight of the Investigation of the Nasa Ins...</td>\n",
              "      <td>S.  HRG.  110–434 \\nSERIAL 110–37 \\n\\nOVERSIGH...</td>\n",
              "      <td>[S., HRG, 110–434, SERIAL, 110–37, OVERSIGHT, ...</td>\n",
              "      <td>[s., hrg, 110–434, serial, 110–37, oversight, ...</td>\n",
              "    </tr>\n",
              "    <tr>\n",
              "      <th>1</th>\n",
              "      <td>CHRG-110shrg34743</td>\n",
              "      <td>Promoting Travel to America: An Examination of...</td>\n",
              "      <td>PROMOTING \\n\\nTRAVEL \\n\\nAN\\nEXAMINATION  OF  ...</td>\n",
              "      <td>[PROMOTING, TRAVEL, AN, EXAMINATION, OF, ECONO...</td>\n",
              "      <td>[promote, travel, examination, economic, secur...</td>\n",
              "    </tr>\n",
              "    <tr>\n",
              "      <th>2</th>\n",
              "      <td>CHRG-110shrg80088</td>\n",
              "      <td>Oversight of the Corporate Average Fuel Econom...</td>\n",
              "      <td>OVERSIGHT  OF  THE  CORPORATE  AVERAGE  FUEL \\...</td>\n",
              "      <td>[OVERSIGHT, OF, THE, CORPORATE, AVERAGE, FUEL,...</td>\n",
              "      <td>[oversight, corporate, average, fuel, economy,...</td>\n",
              "    </tr>\n",
              "    <tr>\n",
              "      <th>3</th>\n",
              "      <td>CHRG-110hhrg35999</td>\n",
              "      <td>A Path Toward the Broader Use of Biofuels: Enh...</td>\n",
              "      <td>A  PATH  TOWARD  THE  BROADER  USE  OF\\n\\nBIOF...</td>\n",
              "      <td>[A, PATH, TOWARD, THE, BROADER, USE, OF, BIOFU...</td>\n",
              "      <td>[path, broad, use, biofuel, enhance, federal, ...</td>\n",
              "    </tr>\n",
              "    <tr>\n",
              "      <th>4</th>\n",
              "      <td>CHRG-110shrg39014</td>\n",
              "      <td>Transportation Worker Identification Credentia...</td>\n",
              "      <td>TRANSPORTATION  WORKER  IDENTIFICATION \\n\\nCRE...</td>\n",
              "      <td>[TRANSPORTATION, WORKER, IDENTIFICATION, CREDE...</td>\n",
              "      <td>[transportation, worker, identification, crede...</td>\n",
              "    </tr>\n",
              "    <tr>\n",
              "      <th>...</th>\n",
              "      <td>...</td>\n",
              "      <td>...</td>\n",
              "      <td>...</td>\n",
              "      <td>...</td>\n",
              "      <td>...</td>\n",
              "    </tr>\n",
              "    <tr>\n",
              "      <th>263</th>\n",
              "      <td>CHRG-109shrg63243</td>\n",
              "      <td>Reauthorization of the Coastal Zone Management...</td>\n",
              "      <td>REAUTHORIZATION  OF  THE \\n\\nCOASTAL  ZONE  MA...</td>\n",
              "      <td>[REAUTHORIZATION, OF, THE, COASTAL, ZONE, MANA...</td>\n",
              "      <td>[reauthorization, coastal, zone, management, a...</td>\n",
              "    </tr>\n",
              "    <tr>\n",
              "      <th>264</th>\n",
              "      <td>CHRG-109shrg26532</td>\n",
              "      <td>Nominations of David A. Sampson, to Be Deputy ...</td>\n",
              "      <td>S.  HRG.  109–336\\n\\nNOMINATIONS  OF  DAVID  A...</td>\n",
              "      <td>[S., HRG, 109–336, NOMINATIONS, OF, DAVID, A.,...</td>\n",
              "      <td>[s., hrg, 109–336, nomination, david, a., samp...</td>\n",
              "    </tr>\n",
              "    <tr>\n",
              "      <th>265</th>\n",
              "      <td>CHRG-110hhrg33105</td>\n",
              "      <td>Amending Executive Order 12866: Good Governanc...</td>\n",
              "      <td>AMENDING  EXECUTIVE  ORDER  12866:\\nGOOD  GOVE...</td>\n",
              "      <td>[AMENDING, EXECUTIVE, ORDER, 12866, GOOD, GOVE...</td>\n",
              "      <td>[amend, executive, order, good, governance, re...</td>\n",
              "    </tr>\n",
              "    <tr>\n",
              "      <th>266</th>\n",
              "      <td>CHRG-109shrg25323</td>\n",
              "      <td>Human Spaceflight: the Space Shuttle and Beyond</td>\n",
              "      <td>HUMAN  SPACEFLIGHT:  THE  SPACE  SHUTTLE  AND ...</td>\n",
              "      <td>[HUMAN, SPACEFLIGHT, THE, SPACE, SHUTTLE, AND,...</td>\n",
              "      <td>[human, spaceflight, space, shuttle, s., hrg, ...</td>\n",
              "    </tr>\n",
              "    <tr>\n",
              "      <th>267</th>\n",
              "      <td>CHRG-110shrg75784</td>\n",
              "      <td>Oversight of Telemarketing Practices and the C...</td>\n",
              "      <td>OVERSIGHT  OF  TELEMARKETING  PRACTICES  AND \\...</td>\n",
              "      <td>[OVERSIGHT, OF, TELEMARKETING, PRACTICES, AND,...</td>\n",
              "      <td>[oversight, telemarketing, practice, credit, r...</td>\n",
              "    </tr>\n",
              "  </tbody>\n",
              "</table>\n",
              "<p>268 rows × 5 columns</p>\n",
              "</div>\n",
              "      <button class=\"colab-df-convert\" onclick=\"convertToInteractive('df-55e1603b-3d06-4383-a7ff-42bf1e3bbeaa')\"\n",
              "              title=\"Convert this dataframe to an interactive table.\"\n",
              "              style=\"display:none;\">\n",
              "        \n",
              "  <svg xmlns=\"http://www.w3.org/2000/svg\" height=\"24px\"viewBox=\"0 0 24 24\"\n",
              "       width=\"24px\">\n",
              "    <path d=\"M0 0h24v24H0V0z\" fill=\"none\"/>\n",
              "    <path d=\"M18.56 5.44l.94 2.06.94-2.06 2.06-.94-2.06-.94-.94-2.06-.94 2.06-2.06.94zm-11 1L8.5 8.5l.94-2.06 2.06-.94-2.06-.94L8.5 2.5l-.94 2.06-2.06.94zm10 10l.94 2.06.94-2.06 2.06-.94-2.06-.94-.94-2.06-.94 2.06-2.06.94z\"/><path d=\"M17.41 7.96l-1.37-1.37c-.4-.4-.92-.59-1.43-.59-.52 0-1.04.2-1.43.59L10.3 9.45l-7.72 7.72c-.78.78-.78 2.05 0 2.83L4 21.41c.39.39.9.59 1.41.59.51 0 1.02-.2 1.41-.59l7.78-7.78 2.81-2.81c.8-.78.8-2.07 0-2.86zM5.41 20L4 18.59l7.72-7.72 1.47 1.35L5.41 20z\"/>\n",
              "  </svg>\n",
              "      </button>\n",
              "      \n",
              "  <style>\n",
              "    .colab-df-container {\n",
              "      display:flex;\n",
              "      flex-wrap:wrap;\n",
              "      gap: 12px;\n",
              "    }\n",
              "\n",
              "    .colab-df-convert {\n",
              "      background-color: #E8F0FE;\n",
              "      border: none;\n",
              "      border-radius: 50%;\n",
              "      cursor: pointer;\n",
              "      display: none;\n",
              "      fill: #1967D2;\n",
              "      height: 32px;\n",
              "      padding: 0 0 0 0;\n",
              "      width: 32px;\n",
              "    }\n",
              "\n",
              "    .colab-df-convert:hover {\n",
              "      background-color: #E2EBFA;\n",
              "      box-shadow: 0px 1px 2px rgba(60, 64, 67, 0.3), 0px 1px 3px 1px rgba(60, 64, 67, 0.15);\n",
              "      fill: #174EA6;\n",
              "    }\n",
              "\n",
              "    [theme=dark] .colab-df-convert {\n",
              "      background-color: #3B4455;\n",
              "      fill: #D2E3FC;\n",
              "    }\n",
              "\n",
              "    [theme=dark] .colab-df-convert:hover {\n",
              "      background-color: #434B5C;\n",
              "      box-shadow: 0px 1px 3px 1px rgba(0, 0, 0, 0.15);\n",
              "      filter: drop-shadow(0px 1px 2px rgba(0, 0, 0, 0.3));\n",
              "      fill: #FFFFFF;\n",
              "    }\n",
              "  </style>\n",
              "\n",
              "      <script>\n",
              "        const buttonEl =\n",
              "          document.querySelector('#df-55e1603b-3d06-4383-a7ff-42bf1e3bbeaa button.colab-df-convert');\n",
              "        buttonEl.style.display =\n",
              "          google.colab.kernel.accessAllowed ? 'block' : 'none';\n",
              "\n",
              "        async function convertToInteractive(key) {\n",
              "          const element = document.querySelector('#df-55e1603b-3d06-4383-a7ff-42bf1e3bbeaa');\n",
              "          const dataTable =\n",
              "            await google.colab.kernel.invokeFunction('convertToInteractive',\n",
              "                                                     [key], {});\n",
              "          if (!dataTable) return;\n",
              "\n",
              "          const docLinkHtml = 'Like what you see? Visit the ' +\n",
              "            '<a target=\"_blank\" href=https://colab.research.google.com/notebooks/data_table.ipynb>data table notebook</a>'\n",
              "            + ' to learn more about interactive tables.';\n",
              "          element.innerHTML = '';\n",
              "          dataTable['output_type'] = 'display_data';\n",
              "          await google.colab.output.renderOutput(dataTable, element);\n",
              "          const docLink = document.createElement('div');\n",
              "          docLink.innerHTML = docLinkHtml;\n",
              "          element.appendChild(docLink);\n",
              "        }\n",
              "      </script>\n",
              "    </div>\n",
              "  </div>\n",
              "  "
            ],
            "text/plain": [
              "                 index  ...                                  normalized_tokens\n",
              "0    CHRG-110shrg41101  ...  [s., hrg, 110–434, serial, 110–37, oversight, ...\n",
              "1    CHRG-110shrg34743  ...  [promote, travel, examination, economic, secur...\n",
              "2    CHRG-110shrg80088  ...  [oversight, corporate, average, fuel, economy,...\n",
              "3    CHRG-110hhrg35999  ...  [path, broad, use, biofuel, enhance, federal, ...\n",
              "4    CHRG-110shrg39014  ...  [transportation, worker, identification, crede...\n",
              "..                 ...  ...                                                ...\n",
              "263  CHRG-109shrg63243  ...  [reauthorization, coastal, zone, management, a...\n",
              "264  CHRG-109shrg26532  ...  [s., hrg, 109–336, nomination, david, a., samp...\n",
              "265  CHRG-110hhrg33105  ...  [amend, executive, order, good, governance, re...\n",
              "266  CHRG-109shrg25323  ...  [human, spaceflight, space, shuttle, s., hrg, ...\n",
              "267  CHRG-110shrg75784  ...  [oversight, telemarketing, practice, credit, r...\n",
              "\n",
              "[268 rows x 5 columns]"
            ]
          },
          "metadata": {},
          "execution_count": 66
        }
      ]
    },
    {
      "cell_type": "code",
      "source": [
        "keywords = ['nuclear', 'nanotechnology', 'broadband', 'hurricane', 'student', 'wireless',\n",
        "            'airline', 'ocean', 'carbon', 'fishery']"
      ],
      "metadata": {
        "id": "4mDiURigr2iH"
      },
      "execution_count": null,
      "outputs": []
    },
    {
      "cell_type": "code",
      "source": [
        "taggedDocs = []\n",
        "for index, row in DF0510.iterrows():\n",
        "    #Just doing a simple keyword assignment\n",
        "    docKeywords = [s for s in keywords if s in row['normalized_tokens']]\n",
        "    docKeywords.append(row['title'])\n",
        "    docKeywords.append(row['index']) #This lets us extract individual documnets since doi's are unique\n",
        "    taggedDocs.append(gensim.models.doc2vec.LabeledSentence(words = row['normalized_tokens'], tags = docKeywords))\n",
        "DF0510['tagged_docs'] = taggedDocs"
      ],
      "metadata": {
        "id": "3tYkJlcqrX_p"
      },
      "execution_count": null,
      "outputs": []
    },
    {
      "cell_type": "code",
      "source": [
        "D2V = gensim.models.doc2vec.Doc2Vec(DF0510['tagged_docs'], size = 100) #Limiting to 100 dimensions"
      ],
      "metadata": {
        "colab": {
          "base_uri": "https://localhost:8080/"
        },
        "id": "CxfojBp1spZs",
        "outputId": "d15ea7e2-fc10-422c-b61a-a80b318e67bf"
      },
      "execution_count": null,
      "outputs": [
        {
          "output_type": "stream",
          "name": "stderr",
          "text": [
            "/usr/local/lib/python3.7/dist-packages/gensim/models/doc2vec.py:570: UserWarning: The parameter `size` is deprecated, will be removed in 4.0.0, use `vector_size` instead.\n",
            "  warnings.warn(\"The parameter `size` is deprecated, will be removed in 4.0.0, use `vector_size` instead.\")\n"
          ]
        }
      ]
    },
    {
      "cell_type": "code",
      "source": [
        "# represent a doc as a matrix\n",
        "D2V.docvecs['CHRG-110shrg41101']"
      ],
      "metadata": {
        "colab": {
          "base_uri": "https://localhost:8080/"
        },
        "id": "tGy1SBCAtEiM",
        "outputId": "0b70b725-902a-4a8e-f11c-af8ada930506"
      },
      "execution_count": null,
      "outputs": [
        {
          "output_type": "execute_result",
          "data": {
            "text/plain": [
              "array([ 0.09815127, -0.41742522,  0.53369176, -1.0255127 , -0.30471942,\n",
              "       -0.3423444 , -0.43614256,  0.7706978 , -0.08960193,  0.71622264,\n",
              "       -1.9692911 , -0.24692424, -0.51685995,  2.2986531 ,  0.86498165,\n",
              "       -1.3145183 ,  1.9677304 , -0.34135726,  0.9141282 , -1.3886772 ,\n",
              "       -0.6383119 , -0.02362312,  1.9430544 ,  0.09159048,  0.68604743,\n",
              "        0.29390463, -0.45795906,  1.119585  ,  0.43979296, -0.8143038 ,\n",
              "        1.183098  , -1.2169821 ,  0.2265163 ,  2.2768965 , -0.406942  ,\n",
              "       -1.1363376 , -0.96362346, -2.1954677 ,  1.3716797 , -0.2662804 ,\n",
              "       -1.1592941 ,  0.36193338,  0.15081564,  0.54080844, -0.25173828,\n",
              "       -0.3237089 ,  0.41940612,  2.4925396 ,  0.79511917,  0.63288045,\n",
              "        0.7851319 , -1.1988202 ,  1.6100627 , -0.7509146 , -0.797674  ,\n",
              "        2.8175497 , -0.5768557 ,  0.6795854 , -0.94021076, -2.4180546 ,\n",
              "        0.9157007 , -0.32224476, -0.6558866 , -0.33533517,  1.0852228 ,\n",
              "        0.53977185, -0.6029044 ,  0.45466664, -0.9136161 ,  2.6210697 ,\n",
              "       -0.4786467 ,  0.48292774, -0.17272341, -1.341285  , -0.37279695,\n",
              "        0.216833  ,  0.5902322 ,  0.21159562, -1.47241   ,  0.09928888,\n",
              "        0.02835753,  1.7130265 , -2.0525732 , -0.85715216,  1.960876  ,\n",
              "       -1.0884815 , -0.38368857,  1.6189762 , -0.08692466,  0.091925  ,\n",
              "       -0.95562685, -0.49458334,  0.29280105, -0.57824975,  0.30405608,\n",
              "        1.0562454 , -0.7646113 ,  0.44845328,  1.8907663 , -3.3303468 ],\n",
              "      dtype=float32)"
            ]
          },
          "metadata": {},
          "execution_count": 71
        }
      ]
    },
    {
      "cell_type": "code",
      "source": [
        "# represent a word as a matrix\n",
        "D2V['nuclear']"
      ],
      "metadata": {
        "colab": {
          "base_uri": "https://localhost:8080/"
        },
        "id": "A2Yz8l0NtNzY",
        "outputId": "b77cde03-faf1-40cd-d74a-51f4e21acbef"
      },
      "execution_count": null,
      "outputs": [
        {
          "output_type": "execute_result",
          "data": {
            "text/plain": [
              "array([ 3.1722867 ,  1.0571151 , -0.20618266,  2.1164212 ,  0.1103556 ,\n",
              "        1.9202446 ,  1.6532732 , -2.4485397 , -0.18757296,  0.6442079 ,\n",
              "        2.677314  , -0.6180951 , -1.1435183 ,  1.6572596 ,  0.49546   ,\n",
              "       -1.0423734 ,  1.5349443 , -0.98043174,  3.4281733 , -0.38500795,\n",
              "       -1.4478577 ,  0.47450033,  0.50220865, -0.87264955, -1.3720503 ,\n",
              "       -0.64799273, -1.6596556 ,  0.73341954,  2.7290776 , -3.4383283 ,\n",
              "        1.0532581 , -1.8879759 ,  0.64370877,  1.1824214 , -1.7140914 ,\n",
              "        0.40523183, -0.5701957 ,  2.463416  ,  0.41200784,  0.26275095,\n",
              "        0.13458659, -0.53944576, -2.6787434 ,  2.0114048 ,  1.1126772 ,\n",
              "        1.5732347 ,  0.18347439,  1.6635467 ,  1.597104  ,  0.47594362,\n",
              "        1.4411118 , -3.6309648 ,  1.0803882 ,  0.10763971,  1.3460909 ,\n",
              "       -0.4872385 , -2.5939415 ,  1.2504897 , -0.18142664, -1.071366  ,\n",
              "        0.41405717, -0.36452687, -1.6631011 , -0.7840879 ,  1.2204162 ,\n",
              "        1.0428938 ,  2.8599508 ,  0.8975374 , -2.1093976 ,  0.3550633 ,\n",
              "        0.516961  ,  0.84389836, -1.521802  , -0.7272625 , -0.8440281 ,\n",
              "       -0.15381666,  0.62034744,  1.6373283 ,  0.7160194 , -0.9968235 ,\n",
              "        0.6944287 ,  1.3415943 , -0.5878675 ,  1.2028073 , -0.96449125,\n",
              "       -1.0187324 , -0.77702   , -0.09037514, -1.1448635 ,  2.0702043 ,\n",
              "        0.5533701 ,  0.28172144, -1.4835832 ,  0.6762352 ,  0.72248405,\n",
              "       -0.1478145 ,  0.8917399 , -1.0074306 , -1.1160303 , -0.27086017],\n",
              "      dtype=float32)"
            ]
          },
          "metadata": {},
          "execution_count": 72
        }
      ]
    },
    {
      "cell_type": "code",
      "source": [
        "# like W2V, compare distance between words\n",
        "D2V.most_similar(positive = ['climate', 'internet'], negative = ['carbon'], topn = 10)"
      ],
      "metadata": {
        "colab": {
          "base_uri": "https://localhost:8080/"
        },
        "id": "BYSvzZnVtW4i",
        "outputId": "cb4fbebd-7bd6-4e86-a0f8-cc053ed92f19"
      },
      "execution_count": null,
      "outputs": [
        {
          "output_type": "execute_result",
          "data": {
            "text/plain": [
              "[('voice', 0.6614248752593994),\n",
              " ('connection', 0.6104219555854797),\n",
              " ('misunderstand', 0.58878493309021),\n",
              " ('personal', 0.5658654570579529),\n",
              " ('computer', 0.5590445399284363),\n",
              " ('instant', 0.558264970779419),\n",
              " ('brochure', 0.5407975912094116),\n",
              " ('conspicuous', 0.5363364219665527),\n",
              " ('interchange', 0.534731388092041),\n",
              " ('medium', 0.5250805616378784)]"
            ]
          },
          "metadata": {},
          "execution_count": 79
        }
      ]
    },
    {
      "cell_type": "code",
      "source": [
        "sklearn.metrics.pairwise.cosine_similarity(D2V['carbon'].reshape(1,-1), D2V['climate'].reshape(1,-1))"
      ],
      "metadata": {
        "colab": {
          "base_uri": "https://localhost:8080/"
        },
        "id": "RCRqd_mPuGJM",
        "outputId": "c4e39129-6340-45a1-f053-27003f81b70c"
      },
      "execution_count": null,
      "outputs": [
        {
          "output_type": "execute_result",
          "data": {
            "text/plain": [
              "array([[0.26956552]], dtype=float32)"
            ]
          },
          "metadata": {},
          "execution_count": 77
        }
      ]
    },
    {
      "cell_type": "code",
      "source": [
        "sklearn.metrics.pairwise.cosine_similarity(D2V['internet'].reshape(1,-1), D2V['cable'].reshape(1,-1))"
      ],
      "metadata": {
        "colab": {
          "base_uri": "https://localhost:8080/"
        },
        "id": "KL-2fv-WuUJ3",
        "outputId": "5a905b06-f191-46f9-c30d-27a623ec8b14"
      },
      "execution_count": null,
      "outputs": [
        {
          "output_type": "execute_result",
          "data": {
            "text/plain": [
              "array([[0.56690466]], dtype=float32)"
            ]
          },
          "metadata": {},
          "execution_count": 80
        }
      ]
    },
    {
      "cell_type": "code",
      "source": [
        "sklearn.metrics.pairwise.cosine_similarity(D2V['china'].reshape(1,-1), D2V['u.s'].reshape(1,-1))"
      ],
      "metadata": {
        "colab": {
          "base_uri": "https://localhost:8080/"
        },
        "id": "_un72VbXuPlp",
        "outputId": "f00d5c60-8259-48f6-def1-f4fa697b798f"
      },
      "execution_count": null,
      "outputs": [
        {
          "output_type": "execute_result",
          "data": {
            "text/plain": [
              "array([[0.45009986]], dtype=float32)"
            ]
          },
          "metadata": {},
          "execution_count": 78
        }
      ]
    },
    {
      "cell_type": "code",
      "source": [
        "# investigate what docs closest to the word 'china'\n",
        "# why both titles and index appear?\n",
        "D2V.docvecs.most_similar([D2V['china'] ], topn=5 )"
      ],
      "metadata": {
        "colab": {
          "base_uri": "https://localhost:8080/"
        },
        "id": "UIlk4AcNu4Wh",
        "outputId": "4ea6bd56-8dce-44e4-e622-a0ece70b5ce2"
      },
      "execution_count": null,
      "outputs": [
        {
          "output_type": "execute_result",
          "data": {
            "text/plain": [
              "[('The Importation of Canadian Beef That Comes from Animals Older Than 30 Months of Age',\n",
              "  0.6429018974304199),\n",
              " ('CHRG-110shrg35813', 0.6428450345993042),\n",
              " ('CHRG-110shrg78188', 0.629159688949585),\n",
              " ('Imbalance in U.S.-Korea Automobile Trade', 0.6288338899612427),\n",
              " ('CHRG-110shrg35685', 0.6164408922195435)]"
            ]
          },
          "metadata": {},
          "execution_count": 81
        }
      ]
    },
    {
      "cell_type": "code",
      "source": [
        "# try to print out the titles of those docs\n",
        "china_doc = D2V.docvecs.most_similar([D2V['china'] ], topn=5)\n",
        "docs = []\n",
        "for doc in china_doc:\n",
        "  name, score = doc\n",
        "  if name[:4] == 'CHRG':\n",
        "    row = DF0510[DF0510['index'] == name]\n",
        "    title = row['title']\n",
        "    docs.append(title)\n",
        "  else:\n",
        "    docs.append(name)"
      ],
      "metadata": {
        "id": "VidnRJoDvSLU"
      },
      "execution_count": null,
      "outputs": []
    },
    {
      "cell_type": "code",
      "source": [
        "docs"
      ],
      "metadata": {
        "colab": {
          "base_uri": "https://localhost:8080/"
        },
        "id": "6Ub3QTO-wAPH",
        "outputId": "d2ebec19-5e1e-4e83-d871-976e7f4bf001"
      },
      "execution_count": null,
      "outputs": [
        {
          "output_type": "execute_result",
          "data": {
            "text/plain": [
              "['The Importation of Canadian Beef That Comes from Animals Older Than 30 Months of Age',\n",
              " 107    The Importation of Canadian Beef That Comes fr...\n",
              " Name: title, dtype: object,\n",
              " 83    Imbalance in U.S.-Korea Automobile Trade\n",
              " Name: title, dtype: object,\n",
              " 'Imbalance in U.S.-Korea Automobile Trade',\n",
              " 62    Overseas Sweatshop Abuses, Their Impact on U.s...\n",
              " Name: title, dtype: object]"
            ]
          },
          "metadata": {},
          "execution_count": 93
        }
      ]
    },
    {
      "cell_type": "code",
      "source": [
        "# which docs are closer to risk?\n",
        "D2V.docvecs.most_similar([D2V['risk'] ], topn=5 )"
      ],
      "metadata": {
        "colab": {
          "base_uri": "https://localhost:8080/"
        },
        "id": "cR6H2kNgvM-V",
        "outputId": "f56a0a80-b897-431e-ec17-7f4c3a35bc2b"
      },
      "execution_count": null,
      "outputs": [
        {
          "output_type": "execute_result",
          "data": {
            "text/plain": [
              "[('CHRG-110hhrg43351', 0.4115368723869324),\n",
              " ('The Low-Level Plutonium Spill at Nist-Boulder: Contamination of Lab and Personnel',\n",
              "  0.41139426827430725),\n",
              " (\"Cost Management Issues in NASA's Acquisitions and Programs\",\n",
              "  0.3619903028011322),\n",
              " ('CHRG-111hhrg47554', 0.361959844827652),\n",
              " ('CHRG-110hhrg35235', 0.3542455732822418)]"
            ]
          },
          "metadata": {},
          "execution_count": 82
        }
      ]
    },
    {
      "cell_type": "code",
      "source": [
        "risk_doc = D2V.docvecs.most_similar([D2V['risk'] ], topn=5 )\n",
        "docs = []\n",
        "for doc in risk_doc:\n",
        "  name, score = doc\n",
        "  if name[:4] == 'CHRG':\n",
        "    row = DF0510[DF0510['index'] == name]\n",
        "    title = row['title']\n",
        "    docs.append(title)\n",
        "  else:\n",
        "    docs.append(name)"
      ],
      "metadata": {
        "id": "0RnLBl_ywzLn"
      },
      "execution_count": null,
      "outputs": []
    },
    {
      "cell_type": "code",
      "source": [
        "docs"
      ],
      "metadata": {
        "colab": {
          "base_uri": "https://localhost:8080/"
        },
        "id": "06yhzN9_w3mp",
        "outputId": "be807234-bfee-4f5a-97bc-a4b5a2f64819"
      },
      "execution_count": null,
      "outputs": [
        {
          "output_type": "execute_result",
          "data": {
            "text/plain": [
              "[161    The Low-Level Plutonium Spill at Nist-Boulder:...\n",
              " Name: title, dtype: object,\n",
              " 'The Low-Level Plutonium Spill at Nist-Boulder: Contamination of Lab and Personnel',\n",
              " \"Cost Management Issues in NASA's Acquisitions and Programs\",\n",
              " 49    Cost Management Issues in NASA's Acquisitions ...\n",
              " Name: title, dtype: object,\n",
              " 209    Building and Maintaining A Healthy and Strong ...\n",
              " Name: title, dtype: object]"
            ]
          },
          "metadata": {},
          "execution_count": 95
        }
      ]
    },
    {
      "cell_type": "code",
      "source": [
        "# what words are closer to hearing \"Imbalance in U.S.-Korea Automobile Trade\"?\n",
        "D2V.most_similar( [D2V.docvecs['CHRG-110shrg35813'] ], topn=5) "
      ],
      "metadata": {
        "colab": {
          "base_uri": "https://localhost:8080/"
        },
        "id": "1HlXkU3BxMmD",
        "outputId": "0eafaad6-a54a-448c-f41b-0dd182da0bc2"
      },
      "execution_count": null,
      "outputs": [
        {
          "output_type": "execute_result",
          "data": {
            "text/plain": [
              "[('cattle', 0.8236516118049622),\n",
              " ('bse', 0.7715116739273071),\n",
              " ('canada', 0.7281527519226074),\n",
              " ('antifreeze', 0.7277476787567139),\n",
              " ('otm', 0.720319390296936)]"
            ]
          },
          "metadata": {},
          "execution_count": 96
        }
      ]
    },
    {
      "cell_type": "code",
      "source": [
        "# plot words and docs\n",
        "heatmapMatrix = []\n",
        "for tagOuter in keywords:\n",
        "    column = []\n",
        "    tagVec = D2V.docvecs[tagOuter].reshape(1, -1)\n",
        "    for tagInner in keywords:\n",
        "        column.append(sklearn.metrics.pairwise.cosine_similarity(tagVec, D2V.docvecs[tagInner].reshape(1, -1))[0][0])\n",
        "    heatmapMatrix.append(column)\n",
        "heatmapMatrix = np.array(heatmapMatrix)"
      ],
      "metadata": {
        "id": "lVpy9vcCxhQK"
      },
      "execution_count": null,
      "outputs": []
    },
    {
      "cell_type": "code",
      "source": [
        "fig, ax = plt.subplots()\n",
        "hmap = ax.pcolor(heatmapMatrix, cmap='RdBu')\n",
        "cbar = plt.colorbar(hmap)\n",
        "\n",
        "cbar.set_label('cosine similarity', rotation=270)\n",
        "a = ax.set_xticks(np.arange(heatmapMatrix.shape[1]) + 0.5, minor=False)\n",
        "a = ax.set_yticks(np.arange(heatmapMatrix.shape[0]) + 0.5, minor=False)\n",
        "\n",
        "a = ax.set_xticklabels(keywords, minor=False, rotation=270)\n",
        "a = ax.set_yticklabels(keywords, minor=False)"
      ],
      "metadata": {
        "colab": {
          "base_uri": "https://localhost:8080/",
          "height": 340
        },
        "id": "Inli0Xbgxs-U",
        "outputId": "0591d133-5ea4-4d31-97d4-a1b44f13e4dc"
      },
      "execution_count": null,
      "outputs": [
        {
          "output_type": "display_data",
          "data": {
            "image/png": "[encoded data removed]",
            "text/plain": [
              "<Figure size 432x288 with 2 Axes>"
            ]
          },
          "metadata": {
            "needs_background": "light"
          }
        }
      ]
    },
    {
      "cell_type": "code",
      "source": [
        "targetDocs = DF0510['index'][:10]\n",
        "\n",
        "heatmapMatrixD = []\n",
        "\n",
        "for tagOuter in targetDocs:\n",
        "    column = []\n",
        "    tagVec = D2V.docvecs[tagOuter].reshape(1, -1)\n",
        "    for tagInner in targetDocs:\n",
        "        column.append(sklearn.metrics.pairwise.cosine_similarity(tagVec, D2V.docvecs[tagInner].reshape(1, -1))[0][0])\n",
        "    heatmapMatrixD.append(column)\n",
        "heatmapMatrixD = np.array(heatmapMatrixD)"
      ],
      "metadata": {
        "id": "xQlTGuWFyaRp"
      },
      "execution_count": null,
      "outputs": []
    },
    {
      "cell_type": "code",
      "source": [
        "# documents are barely similar to each other\n",
        "# suggest that perhaps a sampling strategy according to policy-issue cluster\n",
        "# makes sense before applying D2V\n",
        "fig, ax = plt.subplots()\n",
        "hmap = ax.pcolor(heatmapMatrixD, cmap='RdBu')\n",
        "cbar = plt.colorbar(hmap)\n",
        "\n",
        "cbar.set_label('cosine similarity', rotation=270)\n",
        "a = ax.set_xticks(np.arange(heatmapMatrixD.shape[1]) + 0.5, minor=False)\n",
        "a = ax.set_yticks(np.arange(heatmapMatrixD.shape[0]) + 0.5, minor=False)\n",
        "\n",
        "a = ax.set_xticklabels(targetDocs, minor=False, rotation=270)\n",
        "a = ax.set_yticklabels(targetDocs, minor=False)"
      ],
      "metadata": {
        "colab": {
          "base_uri": "https://localhost:8080/",
          "height": 366
        },
        "id": "l2i7uCf4yyG6",
        "outputId": "cc16d553-233c-4d6c-9021-c098fcad5218"
      },
      "execution_count": null,
      "outputs": [
        {
          "output_type": "display_data",
          "data": {
            "image/png": "[encoded data removed]",
            "text/plain": [
              "<Figure size 432x288 with 2 Axes>"
            ]
          },
          "metadata": {
            "needs_background": "light"
          }
        }
      ]
    },
    {
      "cell_type": "code",
      "source": [
        "# similarities between the first ten documents and our keywords:\n",
        "heatmapMatrixC = []\n",
        "\n",
        "for tagOuter in targetDocs:\n",
        "    column = []\n",
        "    tagVec = D2V.docvecs[tagOuter].reshape(1, -1)\n",
        "    for tagInner in keywords:\n",
        "        column.append(sklearn.metrics.pairwise.cosine_similarity(tagVec, D2V.docvecs[tagInner].reshape(1, -1))[0][0])\n",
        "    heatmapMatrixC.append(column)\n",
        "heatmapMatrixC = np.array(heatmapMatrixC)"
      ],
      "metadata": {
        "id": "3wCBbKdJzLxt"
      },
      "execution_count": null,
      "outputs": []
    },
    {
      "cell_type": "code",
      "source": [
        "# this method could be used to test whether different hearing panels\n",
        "# e.g. directed by Republicans vs. Democrats, who serve as experts, \n",
        "# different policy issue focus makes discussions more positive vs. negative,\n",
        "# nationalist vs. globalist\n",
        "\n",
        "fig, ax = plt.subplots()\n",
        "hmap = ax.pcolor(heatmapMatrixC, cmap='RdBu')\n",
        "cbar = plt.colorbar(hmap)\n",
        "\n",
        "cbar.set_label('cosine similarity', rotation=270)\n",
        "a = ax.set_xticks(np.arange(heatmapMatrixC.shape[1]) + 0.5, minor=False)\n",
        "a = ax.set_yticks(np.arange(heatmapMatrixC.shape[0]) + 0.5, minor=False)\n",
        "\n",
        "a = ax.set_xticklabels(keywords, minor=False, rotation=270)\n",
        "a = ax.set_yticklabels(targetDocs, minor=False)"
      ],
      "metadata": {
        "colab": {
          "base_uri": "https://localhost:8080/",
          "height": 336
        },
        "id": "sv2gd2hJzRK-",
        "outputId": "0f180799-a45e-4dff-bd1c-4a1b354d2a43"
      },
      "execution_count": null,
      "outputs": [
        {
          "output_type": "display_data",
          "data": {
            "image/png": "[encoded data removed]",
            "text/plain": [
              "<Figure size 432x288 with 2 Axes>"
            ]
          },
          "metadata": {
            "needs_background": "light"
          }
        }
      ]
    },
    {
      "cell_type": "code",
      "source": [
        "D2V.save('D2V')"
      ],
      "metadata": {
        "id": "Er8yHWc-zkGK"
      },
      "execution_count": null,
      "outputs": []
    },
    {
      "cell_type": "markdown",
      "metadata": {
        "id": "HZURJ1MX07OB"
      },
      "source": [
        "# Projection"
      ]
    },
    {
      "cell_type": "code",
      "execution_count": null,
      "metadata": {
        "id": "MvMXHQ4U07OG"
      },
      "outputs": [],
      "source": [
        "fig = plt.figure(figsize = (12,4))\n",
        "ax1 = fig.add_subplot(131)\n",
        "PlotDimension(ax1, Sportsdf, 'gender')\n",
        "ax2 = fig.add_subplot(132)\n",
        "PlotDimension(ax2, Sportsdf, 'race')\n",
        "ax3 = fig.add_subplot(133)\n",
        "PlotDimension(ax3, Sportsdf, 'class')\n",
        "plt.show()"
      ]
    },
    {
      "cell_type": "markdown",
      "metadata": {
        "id": "V7Dic9DL07OH"
      },
      "source": [
        "## <font color=\"red\">*Exercise 3*</font>\n",
        "\n",
        "<font color=\"red\">Construct cells immediately below this that embed documents related to your final project, then generate meaningful semantic dimensions based on your theoretical understanding of the semantic space (i.e., by subtracting semantically opposite word vectors) and project another set of word vectors onto those dimensions. Interpret the meaning of these projections for your analysis. Which of the dimensions you analyze explain the most variation in the projection of your words and why? \n",
        "\n",
        "<font color=\"red\">***Stretch***: Average together multiple antonym pairs to create robust semantic dimensions. How do word projections on these robust dimensions differ from single-pair dimensions?"
      ]
    },
    {
      "cell_type": "code",
      "source": [
        "#words to create dimensions\n",
        "tnytTargetWords = ['man','woman', 'expensive',\n",
        "                   'cheap', 'private', 'public', 'industry', 'national',\n",
        "                   'american', 'chinese', 'korea', 'japan', 'mexico', 'canada', 'europe']\n",
        "#words we will be mapping\n",
        "tnytTargetWords += [\"nuclear\",\"nanotechnology\", 'drug', 'phd', 'engineer', 'rail',\n",
        "                    'cable', 'broadcast', 'radio', 'television', 'coal', 'student',\n",
        "                    'exploration', 'innovation', 'science', 'progress', 'risk', 'uncertainty',\n",
        "                    'development', 'research']\n",
        "\n",
        "\n",
        "wordsSubMatrix = []\n",
        "for word in tnytTargetWords:\n",
        "    wordsSubMatrix.append(W2V_CB[word])\n",
        "wordsSubMatrix = np.array(wordsSubMatrix)\n",
        "wordsSubMatrix"
      ],
      "metadata": {
        "colab": {
          "base_uri": "https://localhost:8080/"
        },
        "id": "kSXk0Q9h2MON",
        "outputId": "d094ab5f-e4d0-475b-822d-2c07d7b7ffe1"
      },
      "execution_count": null,
      "outputs": [
        {
          "output_type": "execute_result",
          "data": {
            "text/plain": [
              "array([[-0.48296207, -0.77132523, -0.7584645 , ...,  0.30113345,\n",
              "        -1.2961214 ,  0.05494889],\n",
              "       [-0.39464566, -1.043827  , -2.4679034 , ...,  0.07721343,\n",
              "        -2.2926116 , -0.82903993],\n",
              "       [-1.0391825 ,  1.1072266 ,  0.24962696, ...,  0.5794517 ,\n",
              "         0.53178513, -0.49823684],\n",
              "       ...,\n",
              "       [-0.36105633, -0.54900646, -0.3704137 , ...,  2.195476  ,\n",
              "        -2.07441   ,  0.58961767],\n",
              "       [-0.26003775,  0.06194274, -0.2024391 , ...,  1.1527458 ,\n",
              "         1.6399826 ,  1.6209477 ],\n",
              "       [ 1.1717588 ,  1.1022869 ,  2.0300467 , ...,  3.5056703 ,\n",
              "        -1.3801167 ,  0.45846054]], dtype=float32)"
            ]
          },
          "metadata": {},
          "execution_count": 110
        }
      ]
    },
    {
      "cell_type": "code",
      "source": [
        "pcaWordsNYT = sklearn.decomposition.PCA(n_components = 30).fit(wordsSubMatrix)\n",
        "reducedPCA_dataNYT = pcaWordsNYT.transform(wordsSubMatrix)\n",
        "tsneWordsNYT = sklearn.manifold.TSNE(n_components = 2).fit_transform(reducedPCA_dataNYT)"
      ],
      "metadata": {
        "id": "hp13-XXd4Vhj"
      },
      "execution_count": null,
      "outputs": []
    },
    {
      "cell_type": "code",
      "source": [
        "fig = plt.figure(figsize = (20,12))\n",
        "ax = fig.add_subplot(111)\n",
        "ax.set_frame_on(False)\n",
        "plt.scatter(tsneWordsNYT[:, 0], tsneWordsNYT[:, 1], alpha = 0) #Making the points invisible\n",
        "for i, word in enumerate(tnytTargetWords):\n",
        "    ax.annotate(word, (tsneWordsNYT[:, 0][i],tsneWordsNYT[:, 1][i]), size =  50 * (len(tnytTargetWords) - i) / len(tnytTargetWords))\n",
        "plt.xticks(())\n",
        "plt.yticks(())\n",
        "plt.show()"
      ],
      "metadata": {
        "colab": {
          "base_uri": "https://localhost:8080/",
          "height": 458
        },
        "id": "OETBVjJW4lBT",
        "outputId": "e5b7c072-e186-47b1-b7bd-ef441de02c24"
      },
      "execution_count": null,
      "outputs": [
        {
          "output_type": "display_data",
          "data": {
            "image/png": "[encoded data removed]",
            "text/plain": [
              "<Figure size 1440x864 with 1 Axes>"
            ]
          },
          "metadata": {}
        }
      ]
    },
    {
      "cell_type": "code",
      "source": [
        "def normalize(vector):\n",
        "    normalized_vector = vector / np.linalg.norm(vector)\n",
        "    return normalized_vector\n",
        "\n",
        "def dimension(model, positives, negatives):\n",
        "    diff = sum([normalize(model[x]) for x in positives]) - sum([normalize(model[y]) for y in negatives])\n",
        "    return diff"
      ],
      "metadata": {
        "id": "HSXqPYFT44Y5"
      },
      "execution_count": null,
      "outputs": []
    },
    {
      "cell_type": "code",
      "source": [
        "# Gender = dimension(W2V_CB, ['man'], ['woman'])\n",
        "Nationality = dimension(W2V_CB, ['america'], ['chinese'])\n",
        "Class = dimension(W2V_CB, ['cheap'], ['expensive'])\n",
        "Jurisdiction =  dimension(W2V_CB, ['private', 'industry'],['public', 'national'])"
      ],
      "metadata": {
        "id": "7GWxqbV3452l"
      },
      "execution_count": null,
      "outputs": []
    },
    {
      "cell_type": "code",
      "source": [
        "Education = ['phd', 'engineer', \n",
        "                    'student']\n",
        "Tech = [\"nuclear\",\"nanotechnology\", 'drug', 'rail','cable', 'broadcast', 'radio', \n",
        "        'television', 'coal']\n",
        "Risk = ['risk', 'uncertainty']\n",
        "RD = ['exploration', 'innovation', 'science', 'progress', \n",
        "                    'development', 'research']"
      ],
      "metadata": {
        "id": "pBgkXmkF5qa8"
      },
      "execution_count": null,
      "outputs": []
    },
    {
      "cell_type": "code",
      "source": [
        "def makeDF(model, word_list):\n",
        "    g = []\n",
        "    r = []\n",
        "    c = []\n",
        "    d = []\n",
        "    for word in word_list:\n",
        "        # g.append(sklearn.metrics.pairwise.cosine_similarity(W2V_CB[word].reshape(1,-1), Gender.reshape(1,-1))[0][0])\n",
        "        r.append(sklearn.metrics.pairwise.cosine_similarity(W2V_CB[word].reshape(1,-1), Nationality.reshape(1,-1))[0][0])\n",
        "        c.append(sklearn.metrics.pairwise.cosine_similarity(W2V_CB[word].reshape(1,-1), Class.reshape(1,-1))[0][0])\n",
        "        d.append(sklearn.metrics.pairwise.cosine_similarity(W2V_CB[word].reshape(1,-1), Jurisdiction.reshape(1,-1))[0][0])\n",
        "    df = pd.DataFrame({'nationality': r, 'class': c, 'jurisdiction': d}, index = word_list)\n",
        "    return df"
      ],
      "metadata": {
        "id": "GdSDtB0R6NE2"
      },
      "execution_count": null,
      "outputs": []
    },
    {
      "cell_type": "code",
      "source": [
        "Edudf = makeDF(W2V_CB, Education) \n",
        "Techdf = makeDF(W2V_CB, Tech)\n",
        "Riskdf = makeDF(W2V_CB, Risk)\n",
        "RDdf = makeDF(W2V_CB, RD)"
      ],
      "metadata": {
        "id": "9IWjgbXj6iqw"
      },
      "execution_count": null,
      "outputs": []
    },
    {
      "cell_type": "code",
      "source": [
        "def Coloring(Series):\n",
        "    x = Series.values\n",
        "    y = x-x.min()\n",
        "    z = y/y.max()\n",
        "    c = list(plt.cm.rainbow(z))\n",
        "    return c\n",
        "\n",
        "def PlotDimension(ax,df, dim):\n",
        "    ax.set_frame_on(False)\n",
        "    ax.set_title(dim, fontsize = 20)\n",
        "    colors = Coloring(df[dim])\n",
        "    for i, word in enumerate(df.index):\n",
        "        ax.annotate(word, (0, df[dim][i]), color = colors[i], alpha = 0.6, fontsize = 12)\n",
        "    MaxY = df[dim].max()\n",
        "    MinY = df[dim].min()\n",
        "    plt.ylim(MinY,MaxY)\n",
        "    plt.yticks(())\n",
        "    plt.xticks(())"
      ],
      "metadata": {
        "id": "DDSM_TOJ6-6A"
      },
      "execution_count": null,
      "outputs": []
    },
    {
      "cell_type": "code",
      "source": [
        "fig = plt.figure(figsize = (12,4))\n",
        "ax1 = fig.add_subplot(131)\n",
        "PlotDimension(ax1, Edudf, 'nationality')\n",
        "ax2 = fig.add_subplot(132)\n",
        "PlotDimension(ax2, Edudf, 'class')\n",
        "ax3 = fig.add_subplot(133)\n",
        "PlotDimension(ax3, Edudf, 'jurisdiction')\n",
        "plt.show()\n",
        "# phd, student are cheap, engineer is expensive"
      ],
      "metadata": {
        "colab": {
          "base_uri": "https://localhost:8080/",
          "height": 272
        },
        "id": "uOp7aZDS6_qv",
        "outputId": "0db9450f-1058-41ba-b819-00597b9c73dd"
      },
      "execution_count": null,
      "outputs": [
        {
          "output_type": "display_data",
          "data": {
            "image/png": "[encoded data removed]",
            "text/plain": [
              "<Figure size 864x288 with 3 Axes>"
            ]
          },
          "metadata": {}
        }
      ]
    },
    {
      "cell_type": "code",
      "source": [
        "fig = plt.figure(figsize = (12,4))\n",
        "ax1 = fig.add_subplot(131)\n",
        "PlotDimension(ax1, Techdf, 'nationality')\n",
        "ax2 = fig.add_subplot(132)\n",
        "PlotDimension(ax2, Techdf, 'class')\n",
        "ax3 = fig.add_subplot(133)\n",
        "PlotDimension(ax3, Techdf, 'jurisdiction')\n",
        "plt.show()\n",
        "# radio, coal, television are cheap, nuclear, nanotechnology are expensive\n",
        "# nuclear, drug are public, rail, nanotechnology are private"
      ],
      "metadata": {
        "colab": {
          "base_uri": "https://localhost:8080/",
          "height": 272
        },
        "id": "hwjJZPlo8WuU",
        "outputId": "8860a637-fff0-4efa-b8f2-19056ea0cf3a"
      },
      "execution_count": null,
      "outputs": [
        {
          "output_type": "display_data",
          "data": {
            "image/png": "[encoded data removed]",
            "text/plain": [
              "<Figure size 864x288 with 3 Axes>"
            ]
          },
          "metadata": {}
        }
      ]
    },
    {
      "cell_type": "code",
      "source": [
        "fig = plt.figure(figsize = (12,4))\n",
        "ax1 = fig.add_subplot(131)\n",
        "PlotDimension(ax1, Riskdf, 'nationality')\n",
        "ax2 = fig.add_subplot(132)\n",
        "PlotDimension(ax2, Riskdf, 'class')\n",
        "ax3 = fig.add_subplot(133)\n",
        "PlotDimension(ax3, Riskdf, 'jurisdiction')\n",
        "plt.show() \n",
        "# uncertainty is private, cheap, more Chinese; risk is public, expensive, more American"
      ],
      "metadata": {
        "colab": {
          "base_uri": "https://localhost:8080/",
          "height": 272
        },
        "id": "1o-40UDx8iA8",
        "outputId": "6135096c-012c-48c3-b4a9-11b5d5c97de4"
      },
      "execution_count": null,
      "outputs": [
        {
          "output_type": "display_data",
          "data": {
            "image/png": "[encoded data removed]",
            "text/plain": [
              "<Figure size 864x288 with 3 Axes>"
            ]
          },
          "metadata": {}
        }
      ]
    },
    {
      "cell_type": "code",
      "source": [
        "fig = plt.figure(figsize = (12,4))\n",
        "ax1 = fig.add_subplot(131)\n",
        "PlotDimension(ax1, RDdf, 'nationality')\n",
        "ax2 = fig.add_subplot(132)\n",
        "PlotDimension(ax2, RDdf, 'class')\n",
        "ax3 = fig.add_subplot(133)\n",
        "PlotDimension(ax3, RDdf, 'jurisdiction')\n",
        "plt.show() "
      ],
      "metadata": {
        "colab": {
          "base_uri": "https://localhost:8080/",
          "height": 272
        },
        "id": "ppBFLFH48wX1",
        "outputId": "5b75985f-d4bb-414b-9368-2dc97b616817"
      },
      "execution_count": null,
      "outputs": [
        {
          "output_type": "display_data",
          "data": {
            "image/png": "[encoded data removed]",
            "text/plain": [
              "<Figure size 864x288 with 3 Axes>"
            ]
          },
          "metadata": {}
        }
      ]
    },
    {
      "cell_type": "markdown",
      "metadata": {
        "id": "uGtQ7uHo07OL"
      },
      "source": [
        "# Linguistic Change or Difference\n",
        "\n",
        "Below is code that aligns the dimensions of multiple embeddings arrayed over time or some other dimension and allow identification of semantic chanage as the word vectors change their loadings for focal words. This code comes from the approach piloted at Stanford by William Hamilton, Daniel Jurafsky and Jure Lescovec [here](https://arxiv.org/pdf/1605.09096.pdf). "
      ]
    },
    {
      "cell_type": "markdown",
      "metadata": {
        "id": "jJ1nsn3507OV"
      },
      "source": [
        "## <font color=\"red\">*Exercise 4b*</font>\n",
        "\n",
        "<font color=\"red\">**Do only 4a or 4b.** Construct cells immediately below this that align word embeddings over time or across domains/corpora. Interrogate the spaces that result and ask which words changed most and least over the entire period or between contexts/corpora. What does this reveal about the social game underlying your space? "
      ]
    },
    {
      "cell_type": "markdown",
      "source": [
        "Overall, this exploration informs me that hearings about climate changes gradually from 109th Congress to 110th Congress, but more rapidly from 110th Congress to 111th Congress. Substantive words such as 'shell', 'climate' changes quite a lot; 'u.s' and 'china' changes slowly, suggesting that their semantic construction is quite stable; adjectives like 'theoretical' barely changes at all. "
      ],
      "metadata": {
        "id": "BVE5r8Avmh4Z"
      }
    },
    {
      "cell_type": "code",
      "execution_count": 1,
      "metadata": {
        "id": "HFiX9nIf07OL"
      },
      "outputs": [],
      "source": [
        "import copy"
      ]
    },
    {
      "cell_type": "code",
      "execution_count": 2,
      "metadata": {
        "id": "ukI0E3mw07OL"
      },
      "outputs": [],
      "source": [
        "def calc_syn0norm(model):\n",
        "    \"\"\"since syn0norm is now depricated\"\"\"\n",
        "    return (model.wv.syn0 / np.sqrt((model.wv.syn0 ** 2).sum(-1))[..., np.newaxis]).astype(np.float32)\n",
        "\n",
        "def smart_procrustes_align_gensim(base_embed, other_embed, words=None):\n",
        "    \"\"\"Procrustes align two gensim word2vec models (to allow for comparison between same word across models).\n",
        "    Code ported from HistWords <https://github.com/williamleif/histwords> by William Hamilton <wleif@stanford.edu>.\n",
        "    (With help from William. Thank you!)\n",
        "    First, intersect the vocabularies (see `intersection_align_gensim` documentation).\n",
        "    Then do the alignment on the other_embed model.\n",
        "    Replace the other_embed model's syn0 and syn0norm numpy matrices with the aligned version.\n",
        "    Return other_embed.\n",
        "    If `words` is set, intersect the two models' vocabulary with the vocabulary in words (see `intersection_align_gensim` documentation).\n",
        "    \"\"\"\n",
        "    base_embed = copy.copy(base_embed)\n",
        "    other_embed = copy.copy(other_embed)\n",
        "    # make sure vocabulary and indices are aligned\n",
        "    in_base_embed, in_other_embed = intersection_align_gensim(base_embed, other_embed, words=words)\n",
        "\n",
        "    # get the embedding matrices\n",
        "    base_vecs = calc_syn0norm(in_base_embed)\n",
        "    other_vecs = calc_syn0norm(in_other_embed)\n",
        "\n",
        "    # just a matrix dot product with numpy\n",
        "    m = other_vecs.T.dot(base_vecs) \n",
        "    # SVD method from numpy\n",
        "    u, _, v = np.linalg.svd(m)\n",
        "    # another matrix operation\n",
        "    ortho = u.dot(v) \n",
        "    # Replace original array with modified one\n",
        "    # i.e. multiplying the embedding matrix (syn0norm)by \"ortho\"\n",
        "    other_embed.wv.syn0norm = other_embed.wv.syn0 = (calc_syn0norm(other_embed)).dot(ortho)\n",
        "    return other_embed\n",
        "    \n",
        "def intersection_align_gensim(m1,m2, words=None):\n",
        "    \"\"\"\n",
        "    Intersect two gensim word2vec models, m1 and m2.\n",
        "    Only the shared vocabulary between them is kept.\n",
        "    If 'words' is set (as list or set), then the vocabulary is intersected with this list as well.\n",
        "    Indices are re-organized from 0..N in order of descending frequency (=sum of counts from both m1 and m2).\n",
        "    These indices correspond to the new syn0 and syn0norm objects in both gensim models:\n",
        "        -- so that Row 0 of m1.syn0 will be for the same word as Row 0 of m2.syn0\n",
        "        -- you can find the index of any word on the .index2word list: model.index2word.index(word) => 2\n",
        "    The .vocab dictionary is also updated for each model, preserving the count but updating the index.\n",
        "    \"\"\"\n",
        "\n",
        "    # Get the vocab for each model\n",
        "    vocab_m1 = set(m1.wv.vocab.keys())\n",
        "    vocab_m2 = set(m2.wv.vocab.keys())\n",
        "\n",
        "    # Find the common vocabulary\n",
        "    common_vocab = vocab_m1&vocab_m2\n",
        "    if words: common_vocab&=set(words)\n",
        "\n",
        "    # If no alignment necessary because vocab is identical...\n",
        "    if not vocab_m1-common_vocab and not vocab_m2-common_vocab:\n",
        "        return (m1,m2)\n",
        "\n",
        "    # Otherwise sort by frequency (summed for both)\n",
        "    common_vocab = list(common_vocab)\n",
        "    common_vocab.sort(key=lambda w: m1.wv.vocab[w].count + m2.wv.vocab[w].count,reverse=True)\n",
        "\n",
        "    # Then for each model...\n",
        "    for m in [m1,m2]:\n",
        "        # Replace old syn0norm array with new one (with common vocab)\n",
        "        indices = [m.wv.vocab[w].index for w in common_vocab]\n",
        "        old_arr = calc_syn0norm(m)\n",
        "        new_arr = np.array([old_arr[index] for index in indices])\n",
        "        m.wv.syn0norm = m.wv.syn0 = new_arr\n",
        "\n",
        "        # Replace old vocab dictionary with new one (with common vocab)\n",
        "        # and old index2word with new one\n",
        "        m.index2word = common_vocab\n",
        "        old_vocab = m.wv.vocab\n",
        "        new_vocab = {}\n",
        "        for new_index,word in enumerate(common_vocab):\n",
        "            old_vocab_obj=old_vocab[word]\n",
        "            new_vocab[word] = gensim.models.word2vec.Vocab(index=new_index, count=old_vocab_obj.count)\n",
        "        m.wv.vocab = new_vocab\n",
        "\n",
        "    return (m1,m2)"
      ]
    },
    {
      "cell_type": "code",
      "source": [
        "DF0510['tokenized_sents'] = DF0510['raw_text'].apply(lambda x: [lucem_illud.word_tokenize(s, MAX_LEN=1800000) for s in lucem_illud.sent_tokenize(x)])"
      ],
      "metadata": {
        "id": "Jtum8IX-_Jld"
      },
      "execution_count": 16,
      "outputs": []
    },
    {
      "cell_type": "code",
      "source": [
        "DF0510['normalized_sents'] = DF0510['tokenized_sents'].apply(lambda x: [lucem_illud.normalizeTokens(s, MAX_LEN=1800000) for s in x])"
      ],
      "metadata": {
        "id": "9lCsx5uPEsW2"
      },
      "execution_count": 19,
      "outputs": []
    },
    {
      "cell_type": "code",
      "execution_count": 20,
      "metadata": {
        "id": "uaJ94fwh07ON"
      },
      "outputs": [],
      "source": [
        "# group hearings by their congressional session number\n",
        "y_lst = []\n",
        "for index, row in DF0510.iterrows():\n",
        "  year = row['index'][5:8]\n",
        "  y_lst.append(year)\n",
        "DF0510['year'] = y_lst"
      ]
    },
    {
      "cell_type": "code",
      "source": [
        "DF0510['year']"
      ],
      "metadata": {
        "colab": {
          "base_uri": "https://localhost:8080/"
        },
        "id": "dDcXUtgCAhaR",
        "outputId": "65f6b1d3-6485-49f2-b529-246964192281"
      },
      "execution_count": 21,
      "outputs": [
        {
          "output_type": "execute_result",
          "data": {
            "text/plain": [
              "0      110\n",
              "1      110\n",
              "2      110\n",
              "3      110\n",
              "4      110\n",
              "      ... \n",
              "263    109\n",
              "264    109\n",
              "265    110\n",
              "266    109\n",
              "267    110\n",
              "Name: year, Length: 268, dtype: object"
            ]
          },
          "metadata": {},
          "execution_count": 21
        }
      ]
    },
    {
      "cell_type": "code",
      "source": [
        "DF0510 = DF0510.sort_values(by='year')"
      ],
      "metadata": {
        "id": "EE5b2wrbAki7"
      },
      "execution_count": 22,
      "outputs": []
    },
    {
      "cell_type": "markdown",
      "metadata": {
        "id": "MOYBsWm307ON"
      },
      "source": [
        "We will be creating many embeddings so we have created this function to do most of the work. It creates two collections of embeddings, one the original and one the aligned."
      ]
    },
    {
      "cell_type": "code",
      "execution_count": 23,
      "metadata": {
        "id": "pcm9KpMx07ON"
      },
      "outputs": [],
      "source": [
        "def compareModels(df, category, text_column_name='normalized_sents', sort = True, embeddings_raw={}):\n",
        "    \"\"\"If you are using time as your category sorting is important\"\"\"\n",
        "    if len(embeddings_raw) == 0:\n",
        "        embeddings_raw = rawModels(df, category, text_column_name, sort)\n",
        "    cats = sorted(set(df[category]))\n",
        "    #These are much quicker\n",
        "    embeddings_aligned = {}\n",
        "    for catOuter in cats:\n",
        "        embeddings_aligned[catOuter] = [embeddings_raw[catOuter]]\n",
        "        for catInner in cats:\n",
        "            embeddings_aligned[catOuter].append(smart_procrustes_align_gensim(embeddings_aligned[catOuter][-1], embeddings_raw[catInner]))\n",
        "    return embeddings_raw, embeddings_aligned"
      ]
    },
    {
      "cell_type": "code",
      "execution_count": 24,
      "metadata": {
        "id": "YseO5G9P07ON"
      },
      "outputs": [],
      "source": [
        "def rawModels(df, category, text_column_name='normalized_sents', sort = True):\n",
        "    embeddings_raw = {}\n",
        "    cats = sorted(set(df[category]))\n",
        "    for cat in cats:\n",
        "        #This can take a while\n",
        "        print(\"Embedding {}\".format(cat), end = '\\r')\n",
        "        subsetDF = df[df[category] == cat]\n",
        "        #You might want to change the W2V parameters\n",
        "        embeddings_raw[cat] = gensim.models.word2vec.Word2Vec(subsetDF[text_column_name].sum())\n",
        "    return embeddings_raw"
      ]
    },
    {
      "cell_type": "code",
      "execution_count": 25,
      "metadata": {
        "id": "nlte6Q7-07OO",
        "colab": {
          "base_uri": "https://localhost:8080/"
        },
        "outputId": "7146a72f-5289-4762-a860-d4f76987a155"
      },
      "outputs": [
        {
          "output_type": "stream",
          "name": "stdout",
          "text": [
            ""
          ]
        }
      ],
      "source": [
        "rawEmbeddings, comparedEmbeddings = compareModels(DF0510, 'year')"
      ]
    },
    {
      "cell_type": "code",
      "execution_count": 26,
      "metadata": {
        "id": "fwkBnAwv07OO",
        "colab": {
          "base_uri": "https://localhost:8080/"
        },
        "outputId": "eaac0ec9-bcc7-4652-ff28-4186d9f42aeb"
      },
      "outputs": [
        {
          "output_type": "execute_result",
          "data": {
            "text/plain": [
              "dict_keys(['109', '110', '111'])"
            ]
          },
          "metadata": {},
          "execution_count": 26
        }
      ],
      "source": [
        "rawEmbeddings.keys()"
      ]
    },
    {
      "cell_type": "markdown",
      "metadata": {
        "id": "UF9lp8dk07OO"
      },
      "source": [
        "We need to compare them across all permutions so we will define another function to help, we will be using 1 - cosine similarity as that gives a more intitive range of 0-2 with low values meaning little change and high meaning lots of change."
      ]
    },
    {
      "cell_type": "code",
      "execution_count": 27,
      "metadata": {
        "id": "Y9lX7-lE07OO"
      },
      "outputs": [],
      "source": [
        "def getDivergenceDF(word, embeddingsDict):\n",
        "    dists = []\n",
        "    cats = sorted(set(embeddingsDict.keys()))\n",
        "    dists = {}\n",
        "    print(word)\n",
        "    for cat in cats:\n",
        "        dists[cat] = []\n",
        "        for embed in embeddingsDict[cat][1:]:\n",
        "            dists[cat].append(np.abs(1 - sklearn.metrics.pairwise.cosine_similarity(np.expand_dims(embeddingsDict[cat][0][word], axis = 0),\n",
        "                                                                             np.expand_dims(embed[word], axis = 0))[0,0]))\n",
        "    return pd.DataFrame(dists, index = cats)"
      ]
    },
    {
      "cell_type": "markdown",
      "metadata": {
        "id": "gczZtEgX07OO"
      },
      "source": [
        "Lets look at a couple words:"
      ]
    },
    {
      "cell_type": "code",
      "execution_count": 29,
      "metadata": {
        "id": "Tnf-zygb07OO",
        "colab": {
          "base_uri": "https://localhost:8080/",
          "height": 476
        },
        "outputId": "7015ecb6-4b5c-4257-8867-36e901e3b769"
      },
      "outputs": [
        {
          "output_type": "stream",
          "name": "stdout",
          "text": [
            "china\n"
          ]
        },
        {
          "output_type": "display_data",
          "data": {
            "image/png": "[encoded data removed]",
            "text/plain": [
              "<Figure size 720x504 with 2 Axes>"
            ]
          },
          "metadata": {
            "needs_background": "light"
          }
        }
      ],
      "source": [
        "targetWord = 'china'\n",
        "\n",
        "pltDF = getDivergenceDF(targetWord, comparedEmbeddings)\n",
        "fig, ax = plt.subplots(figsize = (10, 7))\n",
        "seaborn.heatmap(pltDF, ax = ax, annot = False) #set annot True for a lot more information\n",
        "ax.set_xlabel(\"Starting year\")\n",
        "ax.set_ylabel(\"Final year\")\n",
        "ax.set_ylabel(\"Final year\")\n",
        "ax.set_title(\"Yearly linguistic change for: '{}'\".format(targetWord))\n",
        "plt.show()\n",
        "# seems like construction of 'china' changes a lot from 110th to 111th congress"
      ]
    },
    {
      "cell_type": "code",
      "execution_count": 32,
      "metadata": {
        "id": "AZdzQrlr07OQ",
        "colab": {
          "base_uri": "https://localhost:8080/",
          "height": 476
        },
        "outputId": "4b13121a-e872-4652-d2f5-746627e17bb6"
      },
      "outputs": [
        {
          "output_type": "stream",
          "name": "stdout",
          "text": [
            "u.s\n"
          ]
        },
        {
          "output_type": "display_data",
          "data": {
            "image/png": "[encoded data removed]",
            "text/plain": [
              "<Figure size 720x504 with 2 Axes>"
            ]
          },
          "metadata": {
            "needs_background": "light"
          }
        }
      ],
      "source": [
        "targetWord = 'u.s'\n",
        "\n",
        "pltDF = getDivergenceDF(targetWord, comparedEmbeddings)\n",
        "fig, ax = plt.subplots(figsize = (10, 7))\n",
        "seaborn.heatmap(pltDF, ax = ax, annot = False) #set annot True for a lot more information\n",
        "ax.set_xlabel(\"Starting year\")\n",
        "ax.set_ylabel(\"Final year\")\n",
        "ax.set_ylabel(\"Final year\")\n",
        "ax.set_title(\"Yearly linguistic change for: '{}'\".format(targetWord))\n",
        "plt.show()\n",
        "# accordingly, the construction of 'u.s'"
      ]
    },
    {
      "cell_type": "code",
      "source": [
        "targetWord = 'climate'\n",
        "\n",
        "pltDF = getDivergenceDF(targetWord, comparedEmbeddings)\n",
        "fig, ax = plt.subplots(figsize = (10, 7))\n",
        "seaborn.heatmap(pltDF, ax = ax, annot = False) #set annot True for a lot more information\n",
        "ax.set_xlabel(\"Starting year\")\n",
        "ax.set_ylabel(\"Final year\")\n",
        "ax.set_ylabel(\"Final year\")\n",
        "ax.set_title(\"Yearly linguistic change for: '{}'\".format(targetWord))\n",
        "plt.show()\n",
        "# climate changes slighting from 109th to 110th, a lot from 110th to 111th"
      ],
      "metadata": {
        "colab": {
          "base_uri": "https://localhost:8080/",
          "height": 476
        },
        "id": "7J0r2wM0kav6",
        "outputId": "5d42e9ab-de86-4ae6-9aa9-f319321f3cb8"
      },
      "execution_count": 33,
      "outputs": [
        {
          "output_type": "stream",
          "name": "stdout",
          "text": [
            "climate\n"
          ]
        },
        {
          "output_type": "display_data",
          "data": {
            "image/png": "[encoded data removed]",
            "text/plain": [
              "<Figure size 720x504 with 2 Axes>"
            ]
          },
          "metadata": {
            "needs_background": "light"
          }
        }
      ]
    },
    {
      "cell_type": "code",
      "source": [
        "targetWord = 'shell'\n",
        "\n",
        "pltDF = getDivergenceDF(targetWord, comparedEmbeddings)\n",
        "fig, ax = plt.subplots(figsize = (10, 7))\n",
        "seaborn.heatmap(pltDF, ax = ax, annot = False) #set annot True for a lot more information\n",
        "ax.set_xlabel(\"Starting year\")\n",
        "ax.set_ylabel(\"Final year\")\n",
        "ax.set_ylabel(\"Final year\")\n",
        "ax.set_title(\"Yearly linguistic change for: '{}'\".format(targetWord))\n",
        "plt.show()\n",
        "\n",
        "# shell is one of the words that changes the most"
      ],
      "metadata": {
        "colab": {
          "base_uri": "https://localhost:8080/",
          "height": 476
        },
        "id": "RqLNTV3-ko8I",
        "outputId": "ff11aa9b-c02c-410b-a634-7d821cf2408d"
      },
      "execution_count": 40,
      "outputs": [
        {
          "output_type": "stream",
          "name": "stdout",
          "text": [
            "shell\n"
          ]
        },
        {
          "output_type": "display_data",
          "data": {
            "image/png": "[encoded data removed]",
            "text/plain": [
              "<Figure size 720x504 with 2 Axes>"
            ]
          },
          "metadata": {
            "needs_background": "light"
          }
        }
      ]
    },
    {
      "cell_type": "code",
      "execution_count": 37,
      "metadata": {
        "id": "hy4uxDmP07OQ"
      },
      "outputs": [],
      "source": [
        "def findDiverence(word, embeddingsDict):\n",
        "    cats = sorted(set(embeddingsDict.keys()))\n",
        "    \n",
        "    dists = []\n",
        "    for embed in embeddingsDict[cats[0]][1:]:\n",
        "        dists.append(1 - sklearn.metrics.pairwise.cosine_similarity(np.expand_dims(embeddingsDict[cats[0]][0][word], axis = 0), np.expand_dims(embed[word], axis = 0))[0,0])\n",
        "    return sum(dists)\n",
        "\n",
        "def findMostDivergent(embeddingsDict):\n",
        "    words = []\n",
        "    for embeds in embeddingsDict.values():\n",
        "        for embed in embeds:\n",
        "            words += list(embed.wv.vocab.keys())\n",
        "    words = set(words)\n",
        "    print(\"Found {} words to compare\".format(len(words)))\n",
        "    return sorted([(w, findDiverence(w, embeddingsDict)) for w in words], key = lambda x: x[1], reverse=True)\n",
        "    "
      ]
    },
    {
      "cell_type": "code",
      "execution_count": 38,
      "metadata": {
        "id": "a115eboJ07OQ",
        "colab": {
          "base_uri": "https://localhost:8080/"
        },
        "outputId": "b84c8ca9-4025-4470-c325-f77034db3569"
      },
      "outputs": [
        {
          "output_type": "stream",
          "name": "stdout",
          "text": [
            "Found 6315 words to compare\n"
          ]
        }
      ],
      "source": [
        "wordDivergences = findMostDivergent(comparedEmbeddings)"
      ]
    },
    {
      "cell_type": "markdown",
      "metadata": {
        "id": "Tmg4GU-w07OQ"
      },
      "source": [
        "The most divergent words are:"
      ]
    },
    {
      "cell_type": "code",
      "execution_count": 46,
      "metadata": {
        "id": "K2FhW3fY07OQ",
        "colab": {
          "base_uri": "https://localhost:8080/"
        },
        "outputId": "2947c850-515d-4d25-e37d-f0fa74b496fc"
      },
      "outputs": [
        {
          "output_type": "execute_result",
          "data": {
            "text/plain": [
              "[('a8', 2.122320517897606),\n",
              " ('a1b', 2.0810674596577883),\n",
              " ('green', 1.977477477863431),\n",
              " ('phe-', 1.967592030763626),\n",
              " ('a13', 1.9313245564699173),\n",
              " ('q12', 1.91801933106035),\n",
              " ('shell', 1.761667512357235),\n",
              " ('cc', 1.6724665984511375),\n",
              " ('a2b', 1.64243383705616),\n",
              " ('a12', 1.6338036879897118),\n",
              " ('q4a', 1.591497726738453),\n",
              " ('fax', 1.5873438268899918),\n",
              " ('q2b', 1.544810138642788),\n",
              " ('q1a', 1.4880220592021942),\n",
              " ('chairmanship', 1.446881264448166),\n",
              " ('vacancy', 1.4143948429264128),\n",
              " ('magnuson', 1.409132655709982),\n",
              " ('delta', 1.4029036164283752),\n",
              " ('after-', 1.3947856537997723),\n",
              " ('con-', 1.3945426642894745)]"
            ]
          },
          "metadata": {},
          "execution_count": 46
        }
      ],
      "source": [
        "wordDivergences[:20]"
      ]
    },
    {
      "cell_type": "markdown",
      "metadata": {
        "id": "6wARWL8007OQ"
      },
      "source": [
        "And the least:"
      ]
    },
    {
      "cell_type": "code",
      "execution_count": 41,
      "metadata": {
        "id": "JvCqzhex07OQ",
        "colab": {
          "base_uri": "https://localhost:8080/"
        },
        "outputId": "3bea7d30-b930-41e5-fb55-8251dbb840c3"
      },
      "outputs": [
        {
          "output_type": "execute_result",
          "data": {
            "text/plain": [
              "[('angry', 0.2491198182106018),\n",
              " ('laughter', 0.24802333116531372),\n",
              " ('conversely', 0.24607014656066895),\n",
              " ('q7', 0.2439078688621521),\n",
              " ('ically', 0.24344682693481445),\n",
              " ('mario', 0.2427583932876587),\n",
              " ('sequentially', 0.2422923445701599),\n",
              " ('theoretically', 0.24190211296081543),\n",
              " ('newman', 0.2413114309310913),\n",
              " ('lb', 0.24016791582107544),\n",
              " ('racy', 0.2295016050338745),\n",
              " ('detectable', 0.22689902782440186),\n",
              " ('shadow', 0.22631216049194336),\n",
              " ('pencil', 0.21963578462600708),\n",
              " ('versed', 0.21328645944595337),\n",
              " ('bama', 0.21115589141845703),\n",
              " ('pamela', 0.20640915632247925),\n",
              " ('chicken', 0.1994609832763672),\n",
              " ('r.e', 0.19543510675430298),\n",
              " ('para-', 0.18160796165466309)]"
            ]
          },
          "metadata": {},
          "execution_count": 41
        }
      ],
      "source": [
        "wordDivergences[-20:]"
      ]
    },
    {
      "cell_type": "code",
      "execution_count": 48,
      "metadata": {
        "id": "tD7oZAXQ07OQ",
        "colab": {
          "base_uri": "https://localhost:8080/",
          "height": 476
        },
        "outputId": "f9d89ef5-80b5-4884-a650-8a3740285ab4"
      },
      "outputs": [
        {
          "output_type": "stream",
          "name": "stdout",
          "text": [
            "detectable\n"
          ]
        },
        {
          "output_type": "display_data",
          "data": {
            "image/png": "[encoded data removed]",
            "text/plain": [
              "<Figure size 720x504 with 2 Axes>"
            ]
          },
          "metadata": {
            "needs_background": "light"
          }
        }
      ],
      "source": [
        "targetWord = 'detectable'\n",
        "\n",
        "pltDF = getDivergenceDF(targetWord, comparedEmbeddings)\n",
        "fig, ax = plt.subplots(figsize = (10, 7))\n",
        "seaborn.heatmap(pltDF, ax = ax, annot = False) #set annot True for a lot more information\n",
        "ax.set_xlabel(\"Starting year\")\n",
        "ax.set_ylabel(\"Final year\")\n",
        "ax.set_ylabel(\"Final year\")\n",
        "ax.set_title(\"Yearly linguistic change for: '{}'\".format(targetWord))\n",
        "plt.show()"
      ]
    },
    {
      "cell_type": "code",
      "execution_count": 49,
      "metadata": {
        "id": "NMw6b-RQ07OS",
        "colab": {
          "base_uri": "https://localhost:8080/",
          "height": 476
        },
        "outputId": "eac7f4f5-6750-4d6d-9ad3-a520ce7506fa"
      },
      "outputs": [
        {
          "output_type": "stream",
          "name": "stdout",
          "text": [
            "chairmanship\n"
          ]
        },
        {
          "output_type": "display_data",
          "data": {
            "image/png": "[encoded data removed]",
            "text/plain": [
              "<Figure size 720x504 with 2 Axes>"
            ]
          },
          "metadata": {
            "needs_background": "light"
          }
        }
      ],
      "source": [
        "targetWord = 'chairmanship'\n",
        "\n",
        "pltDF = getDivergenceDF(targetWord, comparedEmbeddings)\n",
        "fig, ax = plt.subplots(figsize = (10, 7))\n",
        "seaborn.heatmap(pltDF, ax = ax, annot = False) #set annot True for a lot more information\n",
        "ax.set_xlabel(\"Starting year\")\n",
        "ax.set_ylabel(\"Final year\")\n",
        "ax.set_ylabel(\"Final year\")\n",
        "ax.set_title(\"Yearly linguistic change for: '{}'\".format(targetWord))\n",
        "plt.show()"
      ]
    }
  ],
  "metadata": {
    "anaconda-cloud": {},
    "colab": {
      "collapsed_sections": [
        "1e1qHJSm07OS",
        "jJ1nsn3507OV",
        "CeCZlXXfvUPs",
        "UjAyx16xvccJ",
        "ipIs45YhvhBM"
      ],
      "name": "4-Word-Embeddings.ipynb",
      "provenance": []
    },
    "kernelspec": {
      "display_name": "Python 3 (ipykernel)",
      "language": "python",
      "name": "python3"
    },
    "language_info": {
      "codemirror_mode": {
        "name": "ipython",
        "version": 3
      },
      "file_extension": ".py",
      "mimetype": "text/x-python",
      "name": "python",
      "nbconvert_exporter": "python",
      "pygments_lexer": "ipython3",
      "version": "3.8.8"
    }
  },
  "nbformat": 4,
  "nbformat_minor": 0
}