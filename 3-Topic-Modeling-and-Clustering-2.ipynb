{
 "cells": [
  {
   "cell_type": "markdown",
   "metadata": {
    "id": "ESKfI6oh3Nh6"
   },
   "source": [
    "\n",
    "# Week 3 - Discovering higher-level Patterns (Topic Modeling & Clustering)\n",
    "\n",
    "The first 2 weeks have primarily used the word count of documents as their measure, such as counting the number of \"positive\" and \"negative\" words to determine sentiment.\n",
    "\n",
    "This week, we learn a second kind of document representation in clusters or topics. First, we take a text corpus that we have developed and discovery emergent clusters through a process known as clustering or partitioning. We pilot this here both with a well-known *flat* clustering method, `kmeans`, and also a *hierarchical* approach, `Ward's (minimum variance) method`. We will demonstrate a simple (graphical) approach to identifying optimal cluster number, the sillhouette method, and evaluate the quality of unsupervised clusters on labeled data. Next, we will explore a method of two dimensional content clustering called topic modeling (e.g., words cluster in topics; topics cluster in documents). This statistical technique models and computationally induces *topics* from data, which are sparse distributions over (nonexclusive clusters of) words, from which documents can formally be described as sparse mixtures. We will explore these topics and consider their utility for understanding trends within a corpus. We will consider how to construct models that take document cluster and topic loadings as predictive features, the basis of influence metrics and dynamically over time.\n",
    "\n",
    "For this notebook we will be using the following packages:"
   ]
  },
  {
   "cell_type": "code",
   "execution_count": 4,
   "metadata": {
    "id": "CsbYaHSL3Nh9"
   },
   "outputs": [],
   "source": [
    "#Special module written for this class\n",
    "#This provides access to data and to helper functions from previous weeks\n",
    "#Make sure you update it before starting this notebook\n",
    "import lucem_illud #pip install -U git+git://github.com/UChicago-Computational-Content-Analysis/lucem_illud.git\n",
    "\n",
    "\n",
    "#All these packages need to be installed from pip\n",
    "#These are all for the cluster detection\n",
    "import sklearn\n",
    "import sklearn.feature_extraction.text\n",
    "import sklearn.pipeline\n",
    "import sklearn.preprocessing\n",
    "import sklearn.datasets\n",
    "import sklearn.cluster\n",
    "import sklearn.decomposition\n",
    "import sklearn.metrics\n",
    "\n",
    "import scipy #For hierarchical clustering and some visuals\n",
    "#import scipy.cluster.hierarchy\n",
    "import gensim#For topic modeling\n",
    "import requests #For downloading our datasets\n",
    "import numpy as np #for arrays\n",
    "import pandas #gives us DataFrames\n",
    "import matplotlib.pyplot as plt #For graphics\n",
    "import matplotlib.cm #Still for graphics\n",
    "import seaborn as sns #Makes the graphics look nicer\n",
    "\n",
    "#This 'magic' command makes the plots work better\n",
    "#in the notebook, don't use it outside of a notebook.\n",
    "#Also you can ignore the warning, it\n",
    "%matplotlib inline\n",
    "\n",
    "import itertools\n",
    "import json"
   ]
  },
  {
   "cell_type": "code",
   "execution_count": null,
   "metadata": {
    "colab": {
     "background_save": true,
     "base_uri": "https://localhost:8080/"
    },
    "id": "N3z12_qO4YIU",
    "outputId": "6bcc1bcc-4d15-496d-8e97-769f44813770"
   },
   "outputs": [
    {
     "name": "stdout",
     "output_type": "stream",
     "text": [
      "Collecting git+git://github.com/UChicago-Computational-Content-Analysis/lucem_illud.git\n",
      "  Cloning git://github.com/UChicago-Computational-Content-Analysis/lucem_illud.git to /tmp/pip-req-build-0lzt_qez\n",
      "  Running command git clone -q git://github.com/UChicago-Computational-Content-Analysis/lucem_illud.git /tmp/pip-req-build-0lzt_qez\n",
      "Requirement already satisfied: numpy in /usr/local/lib/python3.7/dist-packages (from lucem-illud==8.0.1) (1.19.5)\n",
      "Requirement already satisfied: requests in /usr/local/lib/python3.7/dist-packages (from lucem-illud==8.0.1) (2.23.0)\n",
      "Requirement already satisfied: pandas in /usr/local/lib/python3.7/dist-packages (from lucem-illud==8.0.1) (1.3.5)\n",
      "Collecting python-docx\n",
      "  Downloading python-docx-0.8.11.tar.gz (5.6 MB)\n",
      "\u001b[K     |████████████████████████████████| 5.6 MB 5.0 MB/s \n",
      "\u001b[?25hRequirement already satisfied: pillow in /usr/local/lib/python3.7/dist-packages (from lucem-illud==8.0.1) (7.1.2)\n",
      "Collecting pdfminer2\n",
      "  Downloading pdfminer2-20151206-py2.py3-none-any.whl (117 kB)\n",
      "\u001b[K     |████████████████████████████████| 117 kB 14.7 MB/s \n",
      "\u001b[?25hCollecting GitPython\n",
      "  Downloading GitPython-3.1.26-py3-none-any.whl (180 kB)\n",
      "\u001b[K     |████████████████████████████████| 180 kB 50.0 MB/s \n",
      "\u001b[?25hRequirement already satisfied: wordcloud in /usr/local/lib/python3.7/dist-packages (from lucem-illud==8.0.1) (1.5.0)\n",
      "Requirement already satisfied: scipy in /usr/local/lib/python3.7/dist-packages (from lucem-illud==8.0.1) (1.4.1)\n",
      "Requirement already satisfied: seaborn in /usr/local/lib/python3.7/dist-packages (from lucem-illud==8.0.1) (0.11.2)\n",
      "Requirement already satisfied: scikit-learn in /usr/local/lib/python3.7/dist-packages (from lucem-illud==8.0.1) (1.0.2)\n",
      "Requirement already satisfied: nltk in /usr/local/lib/python3.7/dist-packages (from lucem-illud==8.0.1) (3.2.5)\n",
      "Requirement already satisfied: gensim in /usr/local/lib/python3.7/dist-packages (from lucem-illud==8.0.1) (3.6.0)\n",
      "Requirement already satisfied: matplotlib in /usr/local/lib/python3.7/dist-packages (from lucem-illud==8.0.1) (3.2.2)\n",
      "Collecting pyanno3\n",
      "  Downloading pyanno3-2.0.2.tar.gz (76 kB)\n",
      "\u001b[K     |████████████████████████████████| 76 kB 3.7 MB/s \n",
      "\u001b[?25hRequirement already satisfied: beautifulsoup4 in /usr/local/lib/python3.7/dist-packages (from lucem-illud==8.0.1) (4.6.3)\n",
      "Requirement already satisfied: graphviz in /usr/local/lib/python3.7/dist-packages (from lucem-illud==8.0.1) (0.10.1)\n",
      "Collecting boto3\n",
      "  Downloading boto3-1.20.46-py3-none-any.whl (131 kB)\n",
      "\u001b[K     |████████████████████████████████| 131 kB 48.6 MB/s \n",
      "\u001b[?25hRequirement already satisfied: networkx in /usr/local/lib/python3.7/dist-packages (from lucem-illud==8.0.1) (2.6.3)\n",
      "Collecting pydub\n",
      "  Downloading pydub-0.25.1-py2.py3-none-any.whl (32 kB)\n",
      "Collecting speechrecognition\n",
      "  Downloading SpeechRecognition-3.8.1-py2.py3-none-any.whl (32.8 MB)\n",
      "\u001b[K     |████████████████████████████████| 32.8 MB 125 kB/s \n",
      "\u001b[?25hCollecting pysoundfile\n",
      "  Downloading PySoundFile-0.9.0.post1-py2.py3-none-any.whl (24 kB)\n",
      "Requirement already satisfied: scikit-image in /usr/local/lib/python3.7/dist-packages (from lucem-illud==8.0.1) (0.18.3)\n",
      "Requirement already satisfied: IPython in /usr/local/lib/python3.7/dist-packages (from lucem-illud==8.0.1) (5.5.0)\n",
      "Requirement already satisfied: spacy in /usr/local/lib/python3.7/dist-packages (from lucem-illud==8.0.1) (2.2.4)\n",
      "Collecting botocore<1.24.0,>=1.23.46\n",
      "  Downloading botocore-1.23.46-py3-none-any.whl (8.5 MB)\n",
      "\u001b[K     |████████████████████████████████| 8.5 MB 26.8 MB/s \n",
      "\u001b[?25hCollecting s3transfer<0.6.0,>=0.5.0\n",
      "  Downloading s3transfer-0.5.0-py3-none-any.whl (79 kB)\n",
      "\u001b[K     |████████████████████████████████| 79 kB 6.9 MB/s \n",
      "\u001b[?25hCollecting jmespath<1.0.0,>=0.7.1\n",
      "  Downloading jmespath-0.10.0-py2.py3-none-any.whl (24 kB)\n",
      "Collecting urllib3<1.27,>=1.25.4\n",
      "  Downloading urllib3-1.26.8-py2.py3-none-any.whl (138 kB)\n",
      "\u001b[K     |████████████████████████████████| 138 kB 43.3 MB/s \n",
      "\u001b[?25hRequirement already satisfied: python-dateutil<3.0.0,>=2.1 in /usr/local/lib/python3.7/dist-packages (from botocore<1.24.0,>=1.23.46->boto3->lucem-illud==8.0.1) (2.8.2)\n",
      "Requirement already satisfied: six>=1.5 in /usr/local/lib/python3.7/dist-packages (from python-dateutil<3.0.0,>=2.1->botocore<1.24.0,>=1.23.46->boto3->lucem-illud==8.0.1) (1.15.0)\n",
      "Requirement already satisfied: smart-open>=1.2.1 in /usr/local/lib/python3.7/dist-packages (from gensim->lucem-illud==8.0.1) (5.2.1)\n",
      "Collecting gitdb<5,>=4.0.1\n",
      "  Downloading gitdb-4.0.9-py3-none-any.whl (63 kB)\n",
      "\u001b[K     |████████████████████████████████| 63 kB 995 kB/s \n",
      "\u001b[?25hRequirement already satisfied: typing-extensions>=3.7.4.3 in /usr/local/lib/python3.7/dist-packages (from GitPython->lucem-illud==8.0.1) (3.10.0.2)\n",
      "Collecting smmap<6,>=3.0.1\n",
      "  Downloading smmap-5.0.0-py3-none-any.whl (24 kB)\n",
      "Requirement already satisfied: decorator in /usr/local/lib/python3.7/dist-packages (from IPython->lucem-illud==8.0.1) (4.4.2)\n",
      "Requirement already satisfied: pexpect in /usr/local/lib/python3.7/dist-packages (from IPython->lucem-illud==8.0.1) (4.8.0)\n",
      "Requirement already satisfied: pygments in /usr/local/lib/python3.7/dist-packages (from IPython->lucem-illud==8.0.1) (2.6.1)\n",
      "Requirement already satisfied: simplegeneric>0.8 in /usr/local/lib/python3.7/dist-packages (from IPython->lucem-illud==8.0.1) (0.8.1)\n",
      "Requirement already satisfied: traitlets>=4.2 in /usr/local/lib/python3.7/dist-packages (from IPython->lucem-illud==8.0.1) (5.1.1)\n",
      "Requirement already satisfied: prompt-toolkit<2.0.0,>=1.0.4 in /usr/local/lib/python3.7/dist-packages (from IPython->lucem-illud==8.0.1) (1.0.18)\n",
      "Requirement already satisfied: setuptools>=18.5 in /usr/local/lib/python3.7/dist-packages (from IPython->lucem-illud==8.0.1) (57.4.0)\n",
      "Requirement already satisfied: pickleshare in /usr/local/lib/python3.7/dist-packages (from IPython->lucem-illud==8.0.1) (0.7.5)\n",
      "Requirement already satisfied: wcwidth in /usr/local/lib/python3.7/dist-packages (from prompt-toolkit<2.0.0,>=1.0.4->IPython->lucem-illud==8.0.1) (0.2.5)\n",
      "Requirement already satisfied: kiwisolver>=1.0.1 in /usr/local/lib/python3.7/dist-packages (from matplotlib->lucem-illud==8.0.1) (1.3.2)\n",
      "Requirement already satisfied: cycler>=0.10 in /usr/local/lib/python3.7/dist-packages (from matplotlib->lucem-illud==8.0.1) (0.11.0)\n",
      "Requirement already satisfied: pyparsing!=2.0.4,!=2.1.2,!=2.1.6,>=2.0.1 in /usr/local/lib/python3.7/dist-packages (from matplotlib->lucem-illud==8.0.1) (3.0.7)\n",
      "Requirement already satisfied: pytz>=2017.3 in /usr/local/lib/python3.7/dist-packages (from pandas->lucem-illud==8.0.1) (2018.9)\n",
      "Requirement already satisfied: ptyprocess>=0.5 in /usr/local/lib/python3.7/dist-packages (from pexpect->IPython->lucem-illud==8.0.1) (0.7.0)\n",
      "Collecting traits\n",
      "  Downloading traits-6.3.2-cp37-cp37m-manylinux_2_5_x86_64.manylinux1_x86_64.manylinux_2_12_x86_64.manylinux2010_x86_64.whl (5.1 MB)\n",
      "\u001b[K     |████████████████████████████████| 5.1 MB 42.7 MB/s \n",
      "\u001b[?25hRequirement already satisfied: cffi>=0.6 in /usr/local/lib/python3.7/dist-packages (from pysoundfile->lucem-illud==8.0.1) (1.15.0)\n",
      "Requirement already satisfied: pycparser in /usr/local/lib/python3.7/dist-packages (from cffi>=0.6->pysoundfile->lucem-illud==8.0.1) (2.21)\n",
      "Requirement already satisfied: lxml>=2.3.2 in /usr/local/lib/python3.7/dist-packages (from python-docx->lucem-illud==8.0.1) (4.2.6)\n",
      "Requirement already satisfied: idna<3,>=2.5 in /usr/local/lib/python3.7/dist-packages (from requests->lucem-illud==8.0.1) (2.10)\n",
      "Collecting urllib3<1.27,>=1.25.4\n",
      "  Downloading urllib3-1.25.11-py2.py3-none-any.whl (127 kB)\n",
      "\u001b[K     |████████████████████████████████| 127 kB 44.9 MB/s \n",
      "\u001b[?25hRequirement already satisfied: chardet<4,>=3.0.2 in /usr/local/lib/python3.7/dist-packages (from requests->lucem-illud==8.0.1) (3.0.4)\n",
      "Requirement already satisfied: certifi>=2017.4.17 in /usr/local/lib/python3.7/dist-packages (from requests->lucem-illud==8.0.1) (2021.10.8)\n",
      "Requirement already satisfied: imageio>=2.3.0 in /usr/local/lib/python3.7/dist-packages (from scikit-image->lucem-illud==8.0.1) (2.4.1)\n",
      "Requirement already satisfied: PyWavelets>=1.1.1 in /usr/local/lib/python3.7/dist-packages (from scikit-image->lucem-illud==8.0.1) (1.2.0)\n",
      "Requirement already satisfied: tifffile>=2019.7.26 in /usr/local/lib/python3.7/dist-packages (from scikit-image->lucem-illud==8.0.1) (2021.11.2)\n",
      "Requirement already satisfied: threadpoolctl>=2.0.0 in /usr/local/lib/python3.7/dist-packages (from scikit-learn->lucem-illud==8.0.1) (3.0.0)\n",
      "Requirement already satisfied: joblib>=0.11 in /usr/local/lib/python3.7/dist-packages (from scikit-learn->lucem-illud==8.0.1) (1.1.0)\n",
      "Requirement already satisfied: plac<1.2.0,>=0.9.6 in /usr/local/lib/python3.7/dist-packages (from spacy->lucem-illud==8.0.1) (1.1.3)\n",
      "Requirement already satisfied: wasabi<1.1.0,>=0.4.0 in /usr/local/lib/python3.7/dist-packages (from spacy->lucem-illud==8.0.1) (0.9.0)\n",
      "Requirement already satisfied: preshed<3.1.0,>=3.0.2 in /usr/local/lib/python3.7/dist-packages (from spacy->lucem-illud==8.0.1) (3.0.6)\n",
      "Requirement already satisfied: catalogue<1.1.0,>=0.0.7 in /usr/local/lib/python3.7/dist-packages (from spacy->lucem-illud==8.0.1) (1.0.0)\n",
      "Requirement already satisfied: tqdm<5.0.0,>=4.38.0 in /usr/local/lib/python3.7/dist-packages (from spacy->lucem-illud==8.0.1) (4.62.3)\n",
      "Requirement already satisfied: cymem<2.1.0,>=2.0.2 in /usr/local/lib/python3.7/dist-packages (from spacy->lucem-illud==8.0.1) (2.0.6)\n",
      "Requirement already satisfied: thinc==7.4.0 in /usr/local/lib/python3.7/dist-packages (from spacy->lucem-illud==8.0.1) (7.4.0)\n",
      "Requirement already satisfied: blis<0.5.0,>=0.4.0 in /usr/local/lib/python3.7/dist-packages (from spacy->lucem-illud==8.0.1) (0.4.1)\n",
      "Requirement already satisfied: murmurhash<1.1.0,>=0.28.0 in /usr/local/lib/python3.7/dist-packages (from spacy->lucem-illud==8.0.1) (1.0.6)\n",
      "Requirement already satisfied: srsly<1.1.0,>=1.0.2 in /usr/local/lib/python3.7/dist-packages (from spacy->lucem-illud==8.0.1) (1.0.5)\n",
      "Requirement already satisfied: importlib-metadata>=0.20 in /usr/local/lib/python3.7/dist-packages (from catalogue<1.1.0,>=0.0.7->spacy->lucem-illud==8.0.1) (4.10.1)\n",
      "Requirement already satisfied: zipp>=0.5 in /usr/local/lib/python3.7/dist-packages (from importlib-metadata>=0.20->catalogue<1.1.0,>=0.0.7->spacy->lucem-illud==8.0.1) (3.7.0)\n",
      "Building wheels for collected packages: lucem-illud, pyanno3, python-docx\n",
      "  Building wheel for lucem-illud (setup.py) ... \u001b[?25l\u001b[?25hdone\n",
      "  Created wheel for lucem-illud: filename=lucem_illud-8.0.1-py3-none-any.whl size=34964 sha256=6bec485cabcd58821b414f920067da765e1ae23ef6e3d2bec86db03905f1c0b2\n",
      "  Stored in directory: /tmp/pip-ephem-wheel-cache-9kof8hao/wheels/a5/6a/0f/ddf40c68215bc4b072c455caa6a08e0031c92187c93a1b5a81\n",
      "  Building wheel for pyanno3 (setup.py) ... \u001b[?25l\u001b[?25hdone\n",
      "  Created wheel for pyanno3: filename=pyanno3-2.0.2-py3-none-any.whl size=116978 sha256=458e2669b36e9f69943032f060641ed49abc52f9a5e68139a9b441fe1c152e58\n",
      "  Stored in directory: /root/.cache/pip/wheels/28/eb/a9/d9c212d9388cde6cf3ee6edd7aa3891624bca58b24d9c26c76\n",
      "  Building wheel for python-docx (setup.py) ... \u001b[?25l\u001b[?25hdone\n",
      "  Created wheel for python-docx: filename=python_docx-0.8.11-py3-none-any.whl size=184507 sha256=111c7e6f04890bcafd4e94afbf7a111bebc31186195754f7bca73a818c40190f\n",
      "  Stored in directory: /root/.cache/pip/wheels/f6/6f/b9/d798122a8b55b74ad30b5f52b01482169b445fbb84a11797a6\n",
      "Successfully built lucem-illud pyanno3 python-docx\n",
      "Installing collected packages: urllib3, jmespath, smmap, botocore, traits, s3transfer, gitdb, speechrecognition, python-docx, pysoundfile, pydub, pyanno3, pdfminer2, GitPython, boto3, lucem-illud\n",
      "  Attempting uninstall: urllib3\n",
      "    Found existing installation: urllib3 1.24.3\n",
      "    Uninstalling urllib3-1.24.3:\n",
      "      Successfully uninstalled urllib3-1.24.3\n",
      "\u001b[31mERROR: pip's dependency resolver does not currently take into account all the packages that are installed. This behaviour is the source of the following dependency conflicts.\n",
      "datascience 0.10.6 requires folium==0.2.1, but you have folium 0.8.3 which is incompatible.\u001b[0m\n",
      "Successfully installed GitPython-3.1.26 boto3-1.20.46 botocore-1.23.46 gitdb-4.0.9 jmespath-0.10.0 lucem-illud-8.0.1 pdfminer2-20151206 pyanno3-2.0.2 pydub-0.25.1 pysoundfile-0.9.0.post1 python-docx-0.8.11 s3transfer-0.5.0 smmap-5.0.0 speechrecognition-3.8.1 traits-6.3.2 urllib3-1.25.11\n"
     ]
    }
   ],
   "source": [
    "pip install -U git+git://github.com/UChicago-Computational-Content-Analysis/lucem_illud.git"
   ]
  },
  {
   "cell_type": "markdown",
   "metadata": {
    "id": "eqThPkFE3NjD"
   },
   "source": [
    "## <font color=\"red\">*Exercise 3*</font>\n",
    "\n",
    "<font color=\"red\">Construct cells immediately below this that topic model documents related to your anticipated final project. Interrogate and visually plot (e.g., as a bar graph?) the topic-word loadings and the document-topic loadings. What does this topic structure reveal about the distribution of contents across your documents? Systematically vary the $\\alpha$, $\\eta$, and topic number of the model for your text and describe in detail whether and how these changes led to distinctive outcomes, visible to you as analyst.  \n",
    "\n",
    "<font color=\"red\">**Stretch**: Cluster your documents, but instead of using words alone, use their topic loadings as an additional set of features. Do these topic loadings increase the apparent semantic coherence of your clusters?</font> "
   ]
  },
  {
   "cell_type": "code",
   "execution_count": null,
   "metadata": {
    "id": "aEXRN8003NjD",
    "scrolled": true
   },
   "outputs": [],
   "source": [
    "# tokenize and normalize texts\n",
    "DF0510['tokenized_text'] = DF0510['raw_text'].apply(lambda x: lucem_illud.word_tokenize(x, MAX_LEN=2000000))\n",
    "DF0510['normalized_tokens'] = DF0510['tokenized_text'].apply(lambda x: lucem_illud.normalizeTokens(x, MAX_LEN=2000000))"
   ]
  },
  {
   "cell_type": "code",
   "execution_count": null,
   "metadata": {
    "colab": {
     "base_uri": "https://localhost:8080/",
     "height": 832
    },
    "id": "QGkSrF-OvaJZ",
    "outputId": "a0d5a179-7d70-4c9b-8bb7-07aacb52f727"
   },
   "outputs": [
    {
     "data": {
      "text/html": [
       "\n",
       "  <div id=\"df-6c56915e-f44a-4f20-9dff-879a5bbf4d21\">\n",
       "    <div class=\"colab-df-container\">\n",
       "      <div>\n",
       "<style scoped>\n",
       "    .dataframe tbody tr th:only-of-type {\n",
       "        vertical-align: middle;\n",
       "    }\n",
       "\n",
       "    .dataframe tbody tr th {\n",
       "        vertical-align: top;\n",
       "    }\n",
       "\n",
       "    .dataframe thead th {\n",
       "        text-align: right;\n",
       "    }\n",
       "</style>\n",
       "<table border=\"1\" class=\"dataframe\">\n",
       "  <thead>\n",
       "    <tr style=\"text-align: right;\">\n",
       "      <th></th>\n",
       "      <th>index</th>\n",
       "      <th>title</th>\n",
       "      <th>raw_text</th>\n",
       "      <th>kmeans_predictions</th>\n",
       "      <th>tokenized_text</th>\n",
       "      <th>normalized_tokens</th>\n",
       "    </tr>\n",
       "  </thead>\n",
       "  <tbody>\n",
       "    <tr>\n",
       "      <th>0</th>\n",
       "      <td>CHRG-109hhrg27970</td>\n",
       "      <td>The Future of Npoess: Results of the Nunn-Mccu...</td>\n",
       "      <td>THE  FUTURE  OF  NPOESS:  RESULTS  OF\\n\\nTHE  ...</td>\n",
       "      <td>4</td>\n",
       "      <td>[THE, FUTURE, OF, NPOESS, RESULTS, OF, THE, NU...</td>\n",
       "      <td>[future, npoess, result, nunn, mccurdy, review...</td>\n",
       "    </tr>\n",
       "    <tr>\n",
       "      <th>1</th>\n",
       "      <td>CHRG-109shrg67239</td>\n",
       "      <td>National Oceanic and Atmospheric Administratio...</td>\n",
       "      <td>NATIONAL  OCEANIC  AND  ATMOSPHERIC \\n\\nADMINI...</td>\n",
       "      <td>4</td>\n",
       "      <td>[NATIONAL, OCEANIC, AND, ATMOSPHERIC, ADMINIST...</td>\n",
       "      <td>[national, oceanic, atmospheric, administratio...</td>\n",
       "    </tr>\n",
       "    <tr>\n",
       "      <th>2</th>\n",
       "      <td>CHRG-110shrg48450</td>\n",
       "      <td>Broadband Providers and Consumer Privacy</td>\n",
       "      <td>BROADBAND  PROVIDERS \\nAND  CONSUMER  PRIVACY ...</td>\n",
       "      <td>4</td>\n",
       "      <td>[BROADBAND, PROVIDERS, AND, CONSUMER, PRIVACY,...</td>\n",
       "      <td>[broadband, provider, consumer, privacy, s., h...</td>\n",
       "    </tr>\n",
       "    <tr>\n",
       "      <th>3</th>\n",
       "      <td>CHRG-109shrg34711</td>\n",
       "      <td>Nominations of Steven Chealander to Be A Membe...</td>\n",
       "      <td>S.  HRG.  109–933\\n\\nOF \\n\\nTHE \\n\\nA  MEMBER ...</td>\n",
       "      <td>5</td>\n",
       "      <td>[S., HRG, 109–933, OF, THE, A, MEMBER, NOMINAT...</td>\n",
       "      <td>[s., hrg, 109–933, member, nomination, steven,...</td>\n",
       "    </tr>\n",
       "    <tr>\n",
       "      <th>4</th>\n",
       "      <td>CHRG-110hhrg38340</td>\n",
       "      <td>Radiological Response: Assessing Environmental...</td>\n",
       "      <td>RADIOLOGICAL  RESPONSE:  ASSESSING\\n\\nENVIRONM...</td>\n",
       "      <td>2</td>\n",
       "      <td>[RADIOLOGICAL, RESPONSE, ASSESSING, ENVIRONMEN...</td>\n",
       "      <td>[radiological, response, assess, environmental...</td>\n",
       "    </tr>\n",
       "    <tr>\n",
       "      <th>...</th>\n",
       "      <td>...</td>\n",
       "      <td>...</td>\n",
       "      <td>...</td>\n",
       "      <td>...</td>\n",
       "      <td>...</td>\n",
       "      <td>...</td>\n",
       "    </tr>\n",
       "    <tr>\n",
       "      <th>465</th>\n",
       "      <td>CHRG-110shrg38931</td>\n",
       "      <td>Federal Aviation Administration Modernization</td>\n",
       "      <td>FEDERAL  AVIATION  ADMINISTRATION \\n\\nMODERNIZ...</td>\n",
       "      <td>1</td>\n",
       "      <td>[FEDERAL, AVIATION, ADMINISTRATION, MODERNIZAT...</td>\n",
       "      <td>[federal, aviation, administration, modernizat...</td>\n",
       "    </tr>\n",
       "    <tr>\n",
       "      <th>466</th>\n",
       "      <td>CHRG-109hhrg24133</td>\n",
       "      <td>The Investigation of the World Trade Center Co...</td>\n",
       "      <td>THE  INVESTIGATION  OF  THE  WORLD  TRADE\\n\\nC...</td>\n",
       "      <td>2</td>\n",
       "      <td>[THE, INVESTIGATION, OF, THE, WORLD, TRADE, CE...</td>\n",
       "      <td>[investigation, world, trade, center, collapse...</td>\n",
       "    </tr>\n",
       "    <tr>\n",
       "      <th>467</th>\n",
       "      <td>CHRG-110shrg39473</td>\n",
       "      <td>The Present and Future of Public Safety Commun...</td>\n",
       "      <td>THE  PRESENT  AND  FUTURE  OF \\n\\nPUBLIC  SAFE...</td>\n",
       "      <td>6</td>\n",
       "      <td>[THE, PRESENT, AND, FUTURE, OF, PUBLIC, SAFETY...</td>\n",
       "      <td>[present, future, public, safety, communicatio...</td>\n",
       "    </tr>\n",
       "    <tr>\n",
       "      <th>468</th>\n",
       "      <td>CHRG-109shrg27672</td>\n",
       "      <td>Aviation Safety</td>\n",
       "      <td>AVIATION  SAFETY\\n\\nS.  HRG.  109–434\\n\\nHEARI...</td>\n",
       "      <td>1</td>\n",
       "      <td>[AVIATION, SAFETY, S., HRG, 109–434, HEARING, ...</td>\n",
       "      <td>[aviation, safety, s., hrg, 109–434, hear, sub...</td>\n",
       "    </tr>\n",
       "    <tr>\n",
       "      <th>469</th>\n",
       "      <td>CHRG-109hhrg29851</td>\n",
       "      <td>Department of Energy's Plan for Climate Change...</td>\n",
       "      <td>DEPARTMENT  OF  ENERGY’S  PLAN  FOR\\n\\nCLIMATE...</td>\n",
       "      <td>3</td>\n",
       "      <td>[DEPARTMENT, OF, ENERGY, ’S, PLAN, FOR, CLIMAT...</td>\n",
       "      <td>[department, energy, plan, climate, change, te...</td>\n",
       "    </tr>\n",
       "  </tbody>\n",
       "</table>\n",
       "<p>470 rows × 6 columns</p>\n",
       "</div>\n",
       "      <button class=\"colab-df-convert\" onclick=\"convertToInteractive('df-6c56915e-f44a-4f20-9dff-879a5bbf4d21')\"\n",
       "              title=\"Convert this dataframe to an interactive table.\"\n",
       "              style=\"display:none;\">\n",
       "        \n",
       "  <svg xmlns=\"http://www.w3.org/2000/svg\" height=\"24px\"viewBox=\"0 0 24 24\"\n",
       "       width=\"24px\">\n",
       "    <path d=\"M0 0h24v24H0V0z\" fill=\"none\"/>\n",
       "    <path d=\"M18.56 5.44l.94 2.06.94-2.06 2.06-.94-2.06-.94-.94-2.06-.94 2.06-2.06.94zm-11 1L8.5 8.5l.94-2.06 2.06-.94-2.06-.94L8.5 2.5l-.94 2.06-2.06.94zm10 10l.94 2.06.94-2.06 2.06-.94-2.06-.94-.94-2.06-.94 2.06-2.06.94z\"/><path d=\"M17.41 7.96l-1.37-1.37c-.4-.4-.92-.59-1.43-.59-.52 0-1.04.2-1.43.59L10.3 9.45l-7.72 7.72c-.78.78-.78 2.05 0 2.83L4 21.41c.39.39.9.59 1.41.59.51 0 1.02-.2 1.41-.59l7.78-7.78 2.81-2.81c.8-.78.8-2.07 0-2.86zM5.41 20L4 18.59l7.72-7.72 1.47 1.35L5.41 20z\"/>\n",
       "  </svg>\n",
       "      </button>\n",
       "      \n",
       "  <style>\n",
       "    .colab-df-container {\n",
       "      display:flex;\n",
       "      flex-wrap:wrap;\n",
       "      gap: 12px;\n",
       "    }\n",
       "\n",
       "    .colab-df-convert {\n",
       "      background-color: #E8F0FE;\n",
       "      border: none;\n",
       "      border-radius: 50%;\n",
       "      cursor: pointer;\n",
       "      display: none;\n",
       "      fill: #1967D2;\n",
       "      height: 32px;\n",
       "      padding: 0 0 0 0;\n",
       "      width: 32px;\n",
       "    }\n",
       "\n",
       "    .colab-df-convert:hover {\n",
       "      background-color: #E2EBFA;\n",
       "      box-shadow: 0px 1px 2px rgba(60, 64, 67, 0.3), 0px 1px 3px 1px rgba(60, 64, 67, 0.15);\n",
       "      fill: #174EA6;\n",
       "    }\n",
       "\n",
       "    [theme=dark] .colab-df-convert {\n",
       "      background-color: #3B4455;\n",
       "      fill: #D2E3FC;\n",
       "    }\n",
       "\n",
       "    [theme=dark] .colab-df-convert:hover {\n",
       "      background-color: #434B5C;\n",
       "      box-shadow: 0px 1px 3px 1px rgba(0, 0, 0, 0.15);\n",
       "      filter: drop-shadow(0px 1px 2px rgba(0, 0, 0, 0.3));\n",
       "      fill: #FFFFFF;\n",
       "    }\n",
       "  </style>\n",
       "\n",
       "      <script>\n",
       "        const buttonEl =\n",
       "          document.querySelector('#df-6c56915e-f44a-4f20-9dff-879a5bbf4d21 button.colab-df-convert');\n",
       "        buttonEl.style.display =\n",
       "          google.colab.kernel.accessAllowed ? 'block' : 'none';\n",
       "\n",
       "        async function convertToInteractive(key) {\n",
       "          const element = document.querySelector('#df-6c56915e-f44a-4f20-9dff-879a5bbf4d21');\n",
       "          const dataTable =\n",
       "            await google.colab.kernel.invokeFunction('convertToInteractive',\n",
       "                                                     [key], {});\n",
       "          if (!dataTable) return;\n",
       "\n",
       "          const docLinkHtml = 'Like what you see? Visit the ' +\n",
       "            '<a target=\"_blank\" href=https://colab.research.google.com/notebooks/data_table.ipynb>data table notebook</a>'\n",
       "            + ' to learn more about interactive tables.';\n",
       "          element.innerHTML = '';\n",
       "          dataTable['output_type'] = 'display_data';\n",
       "          await google.colab.output.renderOutput(dataTable, element);\n",
       "          const docLink = document.createElement('div');\n",
       "          docLink.innerHTML = docLinkHtml;\n",
       "          element.appendChild(docLink);\n",
       "        }\n",
       "      </script>\n",
       "    </div>\n",
       "  </div>\n",
       "  "
      ],
      "text/plain": [
       "                 index  ...                                  normalized_tokens\n",
       "0    CHRG-109hhrg27970  ...  [future, npoess, result, nunn, mccurdy, review...\n",
       "1    CHRG-109shrg67239  ...  [national, oceanic, atmospheric, administratio...\n",
       "2    CHRG-110shrg48450  ...  [broadband, provider, consumer, privacy, s., h...\n",
       "3    CHRG-109shrg34711  ...  [s., hrg, 109–933, member, nomination, steven,...\n",
       "4    CHRG-110hhrg38340  ...  [radiological, response, assess, environmental...\n",
       "..                 ...  ...                                                ...\n",
       "465  CHRG-110shrg38931  ...  [federal, aviation, administration, modernizat...\n",
       "466  CHRG-109hhrg24133  ...  [investigation, world, trade, center, collapse...\n",
       "467  CHRG-110shrg39473  ...  [present, future, public, safety, communicatio...\n",
       "468  CHRG-109shrg27672  ...  [aviation, safety, s., hrg, 109–434, hear, sub...\n",
       "469  CHRG-109hhrg29851  ...  [department, energy, plan, climate, change, te...\n",
       "\n",
       "[470 rows x 6 columns]"
      ]
     },
     "execution_count": 20,
     "metadata": {},
     "output_type": "execute_result"
    }
   ],
   "source": [
    "DF0510"
   ]
  },
  {
   "cell_type": "code",
   "execution_count": null,
   "metadata": {
    "id": "uSX7h-Ocm6rj"
   },
   "outputs": [],
   "source": [
    "# add year\n",
    "y_lst = []\n",
    "for k in raw_0510.keys():\n",
    "  for result in filesLst['resultSet']:\n",
    "        if result['granuleId'] == k:\n",
    "            y_lst.append(result['publishdate'][:4])\n",
    "DF0510['year'] = y_lst"
   ]
  },
  {
   "cell_type": "code",
   "execution_count": null,
   "metadata": {
    "id": "_pIv5ONEoFoF"
   },
   "outputs": [],
   "source": [
    "DF0510 = DF0510.sort_values(by='year')"
   ]
  },
  {
   "cell_type": "code",
   "execution_count": null,
   "metadata": {
    "id": "CeVF0mNs3NjD"
   },
   "outputs": [],
   "source": [
    "def dropMissing(wordLst, vocab):\n",
    "    return [w for w in wordLst if w in vocab]\n",
    "\n",
    "DF0510['reduced_tokens'] = DF0510['normalized_tokens'].apply(lambda x: dropMissing(x, TFVectorizer.vocabulary_.keys()))"
   ]
  },
  {
   "cell_type": "code",
   "execution_count": null,
   "metadata": {
    "id": "eo5KXVbK3NjF"
   },
   "outputs": [],
   "source": [
    "# prepare corpus\n",
    "dictionary = gensim.corpora.Dictionary(DF0510['reduced_tokens'])\n",
    "corpus = [dictionary.doc2bow(text) for text in DF0510['reduced_tokens']]"
   ]
  },
  {
   "cell_type": "code",
   "execution_count": null,
   "metadata": {
    "id": "_nmW1YyY3NjF"
   },
   "outputs": [],
   "source": [
    "# serialize the corpus\n",
    "gensim.corpora.MmCorpus.serialize('hearing0510.mm', corpus)\n",
    "smm = gensim.corpora.MmCorpus('hearing0510.mm')"
   ]
  },
  {
   "cell_type": "code",
   "execution_count": null,
   "metadata": {
    "id": "6falduf43NjF"
   },
   "outputs": [],
   "source": [
    "# train model\n",
    "lda = gensim.models.ldamodel.LdaModel(corpus=smm, id2word=dictionary, num_topics=7, alpha='auto', eta='auto')"
   ]
  },
  {
   "cell_type": "code",
   "execution_count": null,
   "metadata": {
    "id": "U7gTYh5F3NjF"
   },
   "outputs": [],
   "source": [
    "# map each hearing to topics predicted by the model\n",
    "ldaDF = pandas.DataFrame({\n",
    "        'title' : DF0510['title'],\n",
    "        'year' : DF0510['year'],\n",
    "        'topics' : [lda[dictionary.doc2bow(l)] for l in DF0510['reduced_tokens']]\n",
    "    })\n",
    "topicsProbDict = {i : [0] * len(ldaDF) for i in range(lda.num_topics)}\n",
    "for index, topicTuples in enumerate(ldaDF['topics']):\n",
    "    for topicNum, prob in topicTuples:\n",
    "        topicsProbDict[topicNum][index] = prob\n",
    "\n",
    "for topicNum in range(lda.num_topics):\n",
    "    ldaDF['topic_{}'.format(topicNum)] = topicsProbDict[topicNum]\n",
    "\n",
    "ldaDF = ldaDF.sort_values(by='year')"
   ]
  },
  {
   "cell_type": "code",
   "execution_count": null,
   "metadata": {
    "colab": {
     "base_uri": "https://localhost:8080/",
     "height": 424
    },
    "id": "IsZKTygvwx6V",
    "outputId": "463a4ee5-f043-41d6-ab35-62d782257bcd"
   },
   "outputs": [
    {
     "data": {
      "text/html": [
       "\n",
       "  <div id=\"df-938875da-aeae-4144-8ff0-c2a48541a700\">\n",
       "    <div class=\"colab-df-container\">\n",
       "      <div>\n",
       "<style scoped>\n",
       "    .dataframe tbody tr th:only-of-type {\n",
       "        vertical-align: middle;\n",
       "    }\n",
       "\n",
       "    .dataframe tbody tr th {\n",
       "        vertical-align: top;\n",
       "    }\n",
       "\n",
       "    .dataframe thead th {\n",
       "        text-align: right;\n",
       "    }\n",
       "</style>\n",
       "<table border=\"1\" class=\"dataframe\">\n",
       "  <thead>\n",
       "    <tr style=\"text-align: right;\">\n",
       "      <th></th>\n",
       "      <th>title</th>\n",
       "      <th>year</th>\n",
       "      <th>topics</th>\n",
       "      <th>topic_0</th>\n",
       "      <th>topic_1</th>\n",
       "      <th>topic_2</th>\n",
       "      <th>topic_3</th>\n",
       "      <th>topic_4</th>\n",
       "      <th>topic_5</th>\n",
       "      <th>topic_6</th>\n",
       "    </tr>\n",
       "  </thead>\n",
       "  <tbody>\n",
       "    <tr>\n",
       "      <th>0</th>\n",
       "      <td>The Future of Aeronautics at Nasa</td>\n",
       "      <td>2005</td>\n",
       "      <td>[(0, 0.16392602), (6, 0.83450615)]</td>\n",
       "      <td>0.163926</td>\n",
       "      <td>0.000000</td>\n",
       "      <td>0.000000</td>\n",
       "      <td>0.000000</td>\n",
       "      <td>0.000000</td>\n",
       "      <td>0.000000</td>\n",
       "      <td>0.834506</td>\n",
       "    </tr>\n",
       "    <tr>\n",
       "      <th>126</th>\n",
       "      <td>The Impact of Hurricane Katrina on the Aviatio...</td>\n",
       "      <td>2005</td>\n",
       "      <td>[(1, 0.91243994), (4, 0.08738579)]</td>\n",
       "      <td>0.000000</td>\n",
       "      <td>0.912440</td>\n",
       "      <td>0.000000</td>\n",
       "      <td>0.000000</td>\n",
       "      <td>0.087386</td>\n",
       "      <td>0.000000</td>\n",
       "      <td>0.000000</td>\n",
       "    </tr>\n",
       "    <tr>\n",
       "      <th>130</th>\n",
       "      <td>Energy Prices and Profits</td>\n",
       "      <td>2005</td>\n",
       "      <td>[(1, 0.76157916), (3, 0.15356903), (4, 0.08483...</td>\n",
       "      <td>0.000000</td>\n",
       "      <td>0.761579</td>\n",
       "      <td>0.000000</td>\n",
       "      <td>0.153569</td>\n",
       "      <td>0.084834</td>\n",
       "      <td>0.000000</td>\n",
       "      <td>0.000000</td>\n",
       "    </tr>\n",
       "    <tr>\n",
       "      <th>370</th>\n",
       "      <td>U.s. Competitiveness: the Innovation Challenge</td>\n",
       "      <td>2005</td>\n",
       "      <td>[(2, 0.96124727), (5, 0.038581558)]</td>\n",
       "      <td>0.000000</td>\n",
       "      <td>0.000000</td>\n",
       "      <td>0.961247</td>\n",
       "      <td>0.000000</td>\n",
       "      <td>0.000000</td>\n",
       "      <td>0.038582</td>\n",
       "      <td>0.000000</td>\n",
       "    </tr>\n",
       "    <tr>\n",
       "      <th>135</th>\n",
       "      <td>Future of Science</td>\n",
       "      <td>2005</td>\n",
       "      <td>[(1, 0.18111919), (2, 0.54418916), (3, 0.06162...</td>\n",
       "      <td>0.000000</td>\n",
       "      <td>0.181119</td>\n",
       "      <td>0.544189</td>\n",
       "      <td>0.061625</td>\n",
       "      <td>0.000000</td>\n",
       "      <td>0.000000</td>\n",
       "      <td>0.207502</td>\n",
       "    </tr>\n",
       "    <tr>\n",
       "      <th>...</th>\n",
       "      <td>...</td>\n",
       "      <td>...</td>\n",
       "      <td>...</td>\n",
       "      <td>...</td>\n",
       "      <td>...</td>\n",
       "      <td>...</td>\n",
       "      <td>...</td>\n",
       "      <td>...</td>\n",
       "      <td>...</td>\n",
       "      <td>...</td>\n",
       "    </tr>\n",
       "    <tr>\n",
       "      <th>319</th>\n",
       "      <td>Monitoring, Measurement, and Verification of G...</td>\n",
       "      <td>2009</td>\n",
       "      <td>[(3, 0.98086077), (6, 0.019108072)]</td>\n",
       "      <td>0.000000</td>\n",
       "      <td>0.000000</td>\n",
       "      <td>0.000000</td>\n",
       "      <td>0.980861</td>\n",
       "      <td>0.000000</td>\n",
       "      <td>0.000000</td>\n",
       "      <td>0.019108</td>\n",
       "    </tr>\n",
       "    <tr>\n",
       "      <th>88</th>\n",
       "      <td>Electronic Waste: Investing in Research and In...</td>\n",
       "      <td>2009</td>\n",
       "      <td>[(2, 0.23679988), (4, 0.7630512)]</td>\n",
       "      <td>0.000000</td>\n",
       "      <td>0.000000</td>\n",
       "      <td>0.236800</td>\n",
       "      <td>0.000000</td>\n",
       "      <td>0.763051</td>\n",
       "      <td>0.000000</td>\n",
       "      <td>0.000000</td>\n",
       "    </tr>\n",
       "    <tr>\n",
       "      <th>51</th>\n",
       "      <td>Engineering the Climate: Research Needs and St...</td>\n",
       "      <td>2009</td>\n",
       "      <td>[(2, 0.45417258), (3, 0.54562175)]</td>\n",
       "      <td>0.000000</td>\n",
       "      <td>0.000000</td>\n",
       "      <td>0.454173</td>\n",
       "      <td>0.545622</td>\n",
       "      <td>0.000000</td>\n",
       "      <td>0.000000</td>\n",
       "      <td>0.000000</td>\n",
       "    </tr>\n",
       "    <tr>\n",
       "      <th>259</th>\n",
       "      <td>Nominations to the Executive Office of the Pre...</td>\n",
       "      <td>2009</td>\n",
       "      <td>[(2, 0.12575708), (3, 0.8213839), (4, 0.013291...</td>\n",
       "      <td>0.000000</td>\n",
       "      <td>0.000000</td>\n",
       "      <td>0.125757</td>\n",
       "      <td>0.821384</td>\n",
       "      <td>0.013291</td>\n",
       "      <td>0.035954</td>\n",
       "      <td>0.000000</td>\n",
       "    </tr>\n",
       "    <tr>\n",
       "      <th>234</th>\n",
       "      <td>Futuregen and the Department of Energy's Advan...</td>\n",
       "      <td>2009</td>\n",
       "      <td>[(3, 0.99545974)]</td>\n",
       "      <td>0.000000</td>\n",
       "      <td>0.000000</td>\n",
       "      <td>0.000000</td>\n",
       "      <td>0.995460</td>\n",
       "      <td>0.000000</td>\n",
       "      <td>0.000000</td>\n",
       "      <td>0.000000</td>\n",
       "    </tr>\n",
       "  </tbody>\n",
       "</table>\n",
       "<p>470 rows × 10 columns</p>\n",
       "</div>\n",
       "      <button class=\"colab-df-convert\" onclick=\"convertToInteractive('df-938875da-aeae-4144-8ff0-c2a48541a700')\"\n",
       "              title=\"Convert this dataframe to an interactive table.\"\n",
       "              style=\"display:none;\">\n",
       "        \n",
       "  <svg xmlns=\"http://www.w3.org/2000/svg\" height=\"24px\"viewBox=\"0 0 24 24\"\n",
       "       width=\"24px\">\n",
       "    <path d=\"M0 0h24v24H0V0z\" fill=\"none\"/>\n",
       "    <path d=\"M18.56 5.44l.94 2.06.94-2.06 2.06-.94-2.06-.94-.94-2.06-.94 2.06-2.06.94zm-11 1L8.5 8.5l.94-2.06 2.06-.94-2.06-.94L8.5 2.5l-.94 2.06-2.06.94zm10 10l.94 2.06.94-2.06 2.06-.94-2.06-.94-.94-2.06-.94 2.06-2.06.94z\"/><path d=\"M17.41 7.96l-1.37-1.37c-.4-.4-.92-.59-1.43-.59-.52 0-1.04.2-1.43.59L10.3 9.45l-7.72 7.72c-.78.78-.78 2.05 0 2.83L4 21.41c.39.39.9.59 1.41.59.51 0 1.02-.2 1.41-.59l7.78-7.78 2.81-2.81c.8-.78.8-2.07 0-2.86zM5.41 20L4 18.59l7.72-7.72 1.47 1.35L5.41 20z\"/>\n",
       "  </svg>\n",
       "      </button>\n",
       "      \n",
       "  <style>\n",
       "    .colab-df-container {\n",
       "      display:flex;\n",
       "      flex-wrap:wrap;\n",
       "      gap: 12px;\n",
       "    }\n",
       "\n",
       "    .colab-df-convert {\n",
       "      background-color: #E8F0FE;\n",
       "      border: none;\n",
       "      border-radius: 50%;\n",
       "      cursor: pointer;\n",
       "      display: none;\n",
       "      fill: #1967D2;\n",
       "      height: 32px;\n",
       "      padding: 0 0 0 0;\n",
       "      width: 32px;\n",
       "    }\n",
       "\n",
       "    .colab-df-convert:hover {\n",
       "      background-color: #E2EBFA;\n",
       "      box-shadow: 0px 1px 2px rgba(60, 64, 67, 0.3), 0px 1px 3px 1px rgba(60, 64, 67, 0.15);\n",
       "      fill: #174EA6;\n",
       "    }\n",
       "\n",
       "    [theme=dark] .colab-df-convert {\n",
       "      background-color: #3B4455;\n",
       "      fill: #D2E3FC;\n",
       "    }\n",
       "\n",
       "    [theme=dark] .colab-df-convert:hover {\n",
       "      background-color: #434B5C;\n",
       "      box-shadow: 0px 1px 3px 1px rgba(0, 0, 0, 0.15);\n",
       "      filter: drop-shadow(0px 1px 2px rgba(0, 0, 0, 0.3));\n",
       "      fill: #FFFFFF;\n",
       "    }\n",
       "  </style>\n",
       "\n",
       "      <script>\n",
       "        const buttonEl =\n",
       "          document.querySelector('#df-938875da-aeae-4144-8ff0-c2a48541a700 button.colab-df-convert');\n",
       "        buttonEl.style.display =\n",
       "          google.colab.kernel.accessAllowed ? 'block' : 'none';\n",
       "\n",
       "        async function convertToInteractive(key) {\n",
       "          const element = document.querySelector('#df-938875da-aeae-4144-8ff0-c2a48541a700');\n",
       "          const dataTable =\n",
       "            await google.colab.kernel.invokeFunction('convertToInteractive',\n",
       "                                                     [key], {});\n",
       "          if (!dataTable) return;\n",
       "\n",
       "          const docLinkHtml = 'Like what you see? Visit the ' +\n",
       "            '<a target=\"_blank\" href=https://colab.research.google.com/notebooks/data_table.ipynb>data table notebook</a>'\n",
       "            + ' to learn more about interactive tables.';\n",
       "          element.innerHTML = '';\n",
       "          dataTable['output_type'] = 'display_data';\n",
       "          await google.colab.output.renderOutput(dataTable, element);\n",
       "          const docLink = document.createElement('div');\n",
       "          docLink.innerHTML = docLinkHtml;\n",
       "          element.appendChild(docLink);\n",
       "        }\n",
       "      </script>\n",
       "    </div>\n",
       "  </div>\n",
       "  "
      ],
      "text/plain": [
       "                                                 title  ...   topic_6\n",
       "0                    The Future of Aeronautics at Nasa  ...  0.834506\n",
       "126  The Impact of Hurricane Katrina on the Aviatio...  ...  0.000000\n",
       "130                          Energy Prices and Profits  ...  0.000000\n",
       "370     U.s. Competitiveness: the Innovation Challenge  ...  0.000000\n",
       "135                                  Future of Science  ...  0.207502\n",
       "..                                                 ...  ...       ...\n",
       "319  Monitoring, Measurement, and Verification of G...  ...  0.019108\n",
       "88   Electronic Waste: Investing in Research and In...  ...  0.000000\n",
       "51   Engineering the Climate: Research Needs and St...  ...  0.000000\n",
       "259  Nominations to the Executive Office of the Pre...  ...  0.000000\n",
       "234  Futuregen and the Department of Energy's Advan...  ...  0.000000\n",
       "\n",
       "[470 rows x 10 columns]"
      ]
     },
     "execution_count": 40,
     "metadata": {},
     "output_type": "execute_result"
    }
   ],
   "source": [
    "ldaDF # this is 7-topic model"
   ]
  },
  {
   "cell_type": "code",
   "execution_count": null,
   "metadata": {
    "id": "lT_BxyUWeGeu"
   },
   "outputs": [],
   "source": [
    "# print out hearing title with over 50% scores assigned to topic 0\n",
    "for row in ldaDF.iterrows():\n",
    "    if row[1]['topic_0'] >= 0.5:\n",
    "      print(row[1]['title'], '\\n')"
   ]
  },
  {
   "cell_type": "code",
   "execution_count": null,
   "metadata": {
    "colab": {
     "base_uri": "https://localhost:8080/"
    },
    "id": "KmwKB2MBl9jQ",
    "outputId": "e3af4f3a-b466-4d5c-daae-2bc8b17ed162"
   },
   "outputs": [
    {
     "name": "stdout",
     "output_type": "stream",
     "text": [
      "[(2, 0.13581039), (3, 0.36460334), (4, 0.019086324), (6, 0.4747296)]\n",
      "[(5, 0.99976176)]\n",
      "[(0, 0.7462876), (1, 0.048337374), (3, 0.027999176), (5, 0.17729859)]\n",
      "[(0, 0.103571184), (4, 0.8792177), (5, 0.017133806)]\n",
      "[(5, 0.99950904)]\n",
      "[(0, 0.7125181), (2, 0.053329166), (3, 0.0255964), (6, 0.20851578)]\n",
      "[(3, 0.9998857)]\n",
      "[(0, 0.39457333), (3, 0.5303072), (4, 0.07505621)]\n",
      "[(1, 0.8552286), (5, 0.1447196)]\n",
      "[(0, 0.19792613), (3, 0.11873251), (4, 0.6738821)]\n"
     ]
    }
   ],
   "source": [
    "# print out topics assigned to hearing 15-25\n",
    "for n in ldaDF['topics'][15:25]:\n",
    "  print(n)"
   ]
  },
  {
   "cell_type": "code",
   "execution_count": null,
   "metadata": {
    "colab": {
     "base_uri": "https://localhost:8080/",
     "height": 297
    },
    "id": "X3PMB1lQdKj2",
    "outputId": "9997cf65-4fa6-4848-e837-50e98b5aa59e"
   },
   "outputs": [
    {
     "data": {
      "image/png": "[encoded data removed]",
      "text/plain": [
       "<Figure size 432x288 with 2 Axes>"
      ]
     },
     "metadata": {},
     "output_type": "display_data"
    }
   ],
   "source": [
    "# visualize distribution of topics among hearing 350-360\n",
    "# this is 11-topic model\n",
    "ldaDFV = ldaDF[350:360][['topic_%d' %x for x in range(lda.num_topics)]]\n",
    "ldaDFVisN = ldaDF[350: 360][['title']]\n",
    "ldaDFVis = ldaDFV.to_numpy()\n",
    "ldaDFVisNames = ldaDFVisN.to_numpy()\n",
    "topic_labels = ['Topic #{}'.format(k) for k in range(lda.num_topics)]\n",
    "\n",
    "plt.pcolor(ldaDFV, norm=None, cmap='Blues')\n",
    "# plt.yticks(np.arange(ldaDFVis.shape[0])+0.5, range(0, 470))\n",
    "plt.xticks(np.arange(ldaDFVis.shape[1]+0.5), topic_labels);\n",
    "\n",
    "# flip the y-axis so the texts are in the order we anticipate (Austen first, then Brontë)\n",
    "plt.gca().invert_yaxis()\n",
    "plt.ylabel('Hearing Record Organized by Year')\n",
    "\n",
    "# rotate the ticks on the x-axis\n",
    "plt.xticks(rotation=90)\n",
    "\n",
    "# add a legend\n",
    "plt.title('Topics in 470 Congressional Hearings under 11 Topics')\n",
    "plt.colorbar(cmap='Blues')\n",
    "plt.tight_layout()  # fixes margins\n",
    "plt.show()"
   ]
  },
  {
   "cell_type": "code",
   "execution_count": null,
   "metadata": {
    "colab": {
     "base_uri": "https://localhost:8080/"
    },
    "id": "TPSbKS9FPEFd",
    "outputId": "2a62f9d4-c53c-46ae-900f-4ff7deaf4ace"
   },
   "outputs": [
    {
     "data": {
      "text/plain": [
       "<module 'matplotlib.pyplot' from '/usr/local/lib/python3.7/dist-packages/matplotlib/pyplot.py'>"
      ]
     },
     "execution_count": 139,
     "metadata": {},
     "output_type": "execute_result"
    }
   ],
   "source": [
    "from importlib import reload\n",
    "reload(plt)"
   ]
  },
  {
   "cell_type": "code",
   "execution_count": null,
   "metadata": {
    "colab": {
     "base_uri": "https://localhost:8080/",
     "height": 341
    },
    "id": "Uj44SsaXIkv2",
    "outputId": "66c35a1d-af4c-4da5-9e6e-08f9079d3761"
   },
   "outputs": [
    {
     "name": "stderr",
     "output_type": "stream",
     "text": [
      "/usr/local/lib/python3.7/dist-packages/ipykernel_launcher.py:13: UserWarning: Tight layout not applied. The left and right margins cannot be made large enough to accommodate all axes decorations. \n",
      "  del sys.path[0]\n"
     ]
    },
    {
     "data": {
      "image/png": "[encoded data removed]",
      "text/plain": [
       "<Figure size 432x288 with 2 Axes>"
      ]
     },
     "metadata": {},
     "output_type": "display_data"
    }
   ],
   "source": [
    "plt.pcolor(ldaDFVis, norm=None, cmap='Blues')\n",
    "plt.yticks(np.arange(ldaDFVis.shape[0])+0.5, ldaDFVisNames);\n",
    "plt.xticks(np.arange(ldaDFVis.shape[1])+0.5, topic_labels);\n",
    "\n",
    "# flip the y-axis so the texts are in the order we anticipate (Austen first, then Brontë)\n",
    "plt.gca().invert_yaxis()\n",
    "\n",
    "# rotate the ticks on the x-axis\n",
    "plt.xticks(rotation=90)\n",
    "\n",
    "# add a legend\n",
    "plt.colorbar(cmap='Blues')\n",
    "plt.tight_layout()  # fixes margins\n",
    "plt.show()"
   ]
  },
  {
   "cell_type": "code",
   "execution_count": null,
   "metadata": {
    "id": "wGjt5t_MJ166"
   },
   "outputs": [],
   "source": [
    "# print out topics ; this is 7-topic model\n",
    "def show_model_df(lda):\n",
    "  topicsDict = {}\n",
    "  for topicNum in range(lda.num_topics):\n",
    "      topicWords = [w for w, p in lda.show_topic(topicNum)]\n",
    "      topicsDict['Topic_{}'.format(topicNum)] = topicWords\n",
    "\n",
    "  wordRanksDF = pandas.DataFrame(topicsDict)\n",
    "  return wordRanksDF"
   ]
  },
  {
   "cell_type": "code",
   "execution_count": null,
   "metadata": {
    "colab": {
     "base_uri": "https://localhost:8080/"
    },
    "id": "8x3UMIhKOtSM",
    "outputId": "dcb71e5a-480f-411d-9ed8-e28c1a795805"
   },
   "outputs": [
    {
     "name": "stdout",
     "output_type": "stream",
     "text": [
      "finished training model: topic_num= 6 LdaModel(num_terms=698, num_topics=6, decay=0.5, chunksize=2000)\n",
      "finished training model: topic_num= 7 LdaModel(num_terms=698, num_topics=7, decay=0.5, chunksize=2000)\n",
      "finished training model: topic_num= 8 LdaModel(num_terms=698, num_topics=8, decay=0.5, chunksize=2000)\n",
      "finished training model: topic_num= 9 LdaModel(num_terms=698, num_topics=9, decay=0.5, chunksize=2000)\n",
      "finished training model: topic_num= 10 LdaModel(num_terms=698, num_topics=10, decay=0.5, chunksize=2000)\n",
      "finished training model: topic_num= 11 LdaModel(num_terms=698, num_topics=11, decay=0.5, chunksize=2000)\n",
      "finished training model: topic_num= 12 LdaModel(num_terms=698, num_topics=12, decay=0.5, chunksize=2000)\n",
      "finished training model: topic_num= 13 LdaModel(num_terms=698, num_topics=13, decay=0.5, chunksize=2000)\n",
      "finished training model: topic_num= 14 LdaModel(num_terms=698, num_topics=14, decay=0.5, chunksize=2000)\n",
      "finished training model: topic_num= 15 LdaModel(num_terms=698, num_topics=15, decay=0.5, chunksize=2000)\n",
      "finished training model: topic_num= 16 LdaModel(num_terms=698, num_topics=16, decay=0.5, chunksize=2000)\n",
      "finished training model: topic_num= 17 LdaModel(num_terms=698, num_topics=17, decay=0.5, chunksize=2000)\n",
      "finished training model: topic_num= 18 LdaModel(num_terms=698, num_topics=18, decay=0.5, chunksize=2000)\n",
      "finished training model: topic_num= 19 LdaModel(num_terms=698, num_topics=19, decay=0.5, chunksize=2000)\n"
     ]
    }
   ],
   "source": [
    "# systematically vary the number of topics\n",
    "models = []\n",
    "for n in range(6, 20):\n",
    "  model = gensim.models.ldamodel.LdaModel(corpus=smm, \n",
    "                                               id2word=dictionary, \n",
    "                                               passes=3,\n",
    "                                               num_topics=n, \n",
    "                                               alpha='auto',\n",
    "                                               eta='auto')\n",
    "  models.append(model)\n",
    "  print('finished training model: topic_num=', n, model)"
   ]
  },
  {
   "cell_type": "code",
   "execution_count": null,
   "metadata": {
    "colab": {
     "base_uri": "https://localhost:8080/"
    },
    "id": "AViV4C8MUen5",
    "outputId": "82fa35b3-a93d-4d60-bbf4-a0386bb19f9b"
   },
   "outputs": [
    {
     "data": {
      "text/plain": [
       "[-1.0556779258176376,\n",
       " -1.038271208694035,\n",
       " -1.2472327795033484,\n",
       " -1.1767030759866097,\n",
       " -1.1944699148882538,\n",
       " -1.0398695970583671,\n",
       " -1.3061180046479113,\n",
       " -1.366516900518719,\n",
       " -1.54459896994779,\n",
       " -1.6056294470413737,\n",
       " -1.2126184097442105,\n",
       " -1.2720626441428589,\n",
       " -1.1913162864000948,\n",
       " -1.2846990656059423]"
      ]
     },
     "execution_count": 154,
     "metadata": {},
     "output_type": "execute_result"
    }
   ],
   "source": [
    "from gensim.models import CoherenceModel\n",
    "\n",
    "coherence_lst = []\n",
    "for model in models:\n",
    "  cm = CoherenceModel(model=model, corpus=smm, coherence='u_mass')\n",
    "  coherence_lst.append(cm.get_coherence()) \n",
    "coherence_lst"
   ]
  },
  {
   "cell_type": "code",
   "execution_count": null,
   "metadata": {
    "id": "8Wlde2S8U18c"
   },
   "outputs": [],
   "source": [
    "lda = models[1]"
   ]
  },
  {
   "cell_type": "code",
   "execution_count": null,
   "metadata": {
    "colab": {
     "base_uri": "https://localhost:8080/",
     "height": 295
    },
    "id": "nNfG2ZNBVDgK",
    "outputId": "48b40660-e4d3-4adb-aa7b-f503eb6ca0ab"
   },
   "outputs": [
    {
     "data": {
      "image/png": "[encoded data removed]",
      "text/plain": [
       "<Figure size 432x288 with 1 Axes>"
      ]
     },
     "metadata": {},
     "output_type": "display_data"
    }
   ],
   "source": [
    "n_lst = [n for n in range(6, 20)]\n",
    "fig, ax = plt.subplots()\n",
    "ax.plot(n_lst, coherence_lst)\n",
    "ax.set(xlabel='Number of Topics', ylabel='Coherence Score',\n",
    "       title='Coherence Scores of LDA Topic Models under Different Numbers of Topics')\n",
    "ax.grid()\n",
    "plt.show()"
   ]
  },
  {
   "cell_type": "markdown",
   "metadata": {
    "id": "KLbpWq9Y83hY"
   },
   "source": [
    "### Tuning parameters ###\n",
    "\n",
    "A higher value for alpha means that a topic will be distributed more widely across the documents, whereas a lower value for alpha means that a topic will be distributed more narrowly across the documents. In my corpus, a higher alpha seems to makes sense (i.e. make top words in each topic more interpretable)."
   ]
  },
  {
   "cell_type": "code",
   "execution_count": null,
   "metadata": {
    "colab": {
     "base_uri": "https://localhost:8080/"
    },
    "id": "CrRd-cdN2Z_z",
    "outputId": "5d087626-5190-489f-8bea-d59f81dc16b8"
   },
   "outputs": [
    {
     "name": "stdout",
     "output_type": "stream",
     "text": [
      "finished training model: topic_num= 0.1 LdaModel(num_terms=698, num_topics=7, decay=0.5, chunksize=2000)\n",
      "finished training model: topic_num= 1 LdaModel(num_terms=698, num_topics=7, decay=0.5, chunksize=2000)\n",
      "finished training model: topic_num= 10 LdaModel(num_terms=698, num_topics=7, decay=0.5, chunksize=2000)\n"
     ]
    }
   ],
   "source": [
    "# systematically vary alpha\n",
    "models2 = []\n",
    "for n in [0.1, 1, 10]:\n",
    "  model = gensim.models.ldamodel.LdaModel(corpus=smm, \n",
    "                                               id2word=dictionary, \n",
    "                                               passes=3,\n",
    "                                               num_topics=7, \n",
    "                                               alpha=n,\n",
    "                                               eta='auto')\n",
    "  models2.append(model)\n",
    "  print('finished training model: alpha=', n, model)"
   ]
  },
  {
   "cell_type": "code",
   "execution_count": null,
   "metadata": {
    "colab": {
     "base_uri": "https://localhost:8080/"
    },
    "id": "74-JzQXa5x16",
    "outputId": "2da7058f-30de-43da-a277-9eed0a8092a4"
   },
   "outputs": [
    {
     "data": {
      "text/plain": [
       "[-1.3819837024223998, -1.2400203942654182, -1.3204658497956583]"
      ]
     },
     "execution_count": 33,
     "metadata": {},
     "output_type": "execute_result"
    }
   ],
   "source": [
    "from gensim.test.utils import common_corpus, common_dictionary\n",
    "from gensim import models\n",
    "from gensim.models.ldamodel import LdaModel\n",
    "from gensim.models.coherencemodel import CoherenceModel\n",
    "\n",
    "coherence_lst = []\n",
    "for model in models2:\n",
    "  cm = CoherenceModel(model=model, corpus=smm, coherence='u_mass')\n",
    "  coherence_lst.append(cm.get_coherence()) \n",
    "coherence_lst"
   ]
  },
  {
   "cell_type": "code",
   "execution_count": null,
   "metadata": {
    "colab": {
     "base_uri": "https://localhost:8080/",
     "height": 363
    },
    "id": "yMApSRjC6czj",
    "outputId": "4fbe2ab8-33a4-40a0-ad25-6489484a730c"
   },
   "outputs": [
    {
     "data": {
      "text/html": [
       "\n",
       "  <div id=\"df-2419f3c1-f4e9-467b-a791-8b8f680790c8\">\n",
       "    <div class=\"colab-df-container\">\n",
       "      <div>\n",
       "<style scoped>\n",
       "    .dataframe tbody tr th:only-of-type {\n",
       "        vertical-align: middle;\n",
       "    }\n",
       "\n",
       "    .dataframe tbody tr th {\n",
       "        vertical-align: top;\n",
       "    }\n",
       "\n",
       "    .dataframe thead th {\n",
       "        text-align: right;\n",
       "    }\n",
       "</style>\n",
       "<table border=\"1\" class=\"dataframe\">\n",
       "  <thead>\n",
       "    <tr style=\"text-align: right;\">\n",
       "      <th></th>\n",
       "      <th>Topic_0</th>\n",
       "      <th>Topic_1</th>\n",
       "      <th>Topic_2</th>\n",
       "      <th>Topic_3</th>\n",
       "      <th>Topic_4</th>\n",
       "      <th>Topic_5</th>\n",
       "      <th>Topic_6</th>\n",
       "    </tr>\n",
       "  </thead>\n",
       "  <tbody>\n",
       "    <tr>\n",
       "      <th>0</th>\n",
       "      <td>nasa</td>\n",
       "      <td>faa</td>\n",
       "      <td>guard</td>\n",
       "      <td>science1</td>\n",
       "      <td>science1</td>\n",
       "      <td>tsa</td>\n",
       "      <td>science1</td>\n",
       "    </tr>\n",
       "    <tr>\n",
       "      <th>1</th>\n",
       "      <td>science1</td>\n",
       "      <td>aviation</td>\n",
       "      <td>nanotechnology</td>\n",
       "      <td>noaa</td>\n",
       "      <td>rail</td>\n",
       "      <td>science1</td>\n",
       "      <td>fcc</td>\n",
       "    </tr>\n",
       "    <tr>\n",
       "      <th>2</th>\n",
       "      <td>nuclear</td>\n",
       "      <td>hurricane</td>\n",
       "      <td>science1</td>\n",
       "      <td>ocean</td>\n",
       "      <td>student</td>\n",
       "      <td>jackie</td>\n",
       "      <td>broadband</td>\n",
       "    </tr>\n",
       "    <tr>\n",
       "      <th>3</th>\n",
       "      <td>exploration</td>\n",
       "      <td>airline</td>\n",
       "      <td>jackie</td>\n",
       "      <td>nist</td>\n",
       "      <td>carrier</td>\n",
       "      <td>coal</td>\n",
       "      <td>cable</td>\n",
       "    </tr>\n",
       "    <tr>\n",
       "      <th>4</th>\n",
       "      <td>shuttle</td>\n",
       "      <td>aircraft</td>\n",
       "      <td>child</td>\n",
       "      <td>sea</td>\n",
       "      <td>railroad</td>\n",
       "      <td>nsf</td>\n",
       "      <td>broadcast</td>\n",
       "    </tr>\n",
       "    <tr>\n",
       "      <th>5</th>\n",
       "      <td>flight</td>\n",
       "      <td>airport</td>\n",
       "      <td>vessel</td>\n",
       "      <td>coastal</td>\n",
       "      <td>teacher</td>\n",
       "      <td>dhs</td>\n",
       "      <td>radio</td>\n",
       "    </tr>\n",
       "    <tr>\n",
       "      <th>6</th>\n",
       "      <td>aeronautics</td>\n",
       "      <td>science1</td>\n",
       "      <td>scom1</td>\n",
       "      <td>fishery</td>\n",
       "      <td>engineer</td>\n",
       "      <td>passenger</td>\n",
       "      <td>television</td>\n",
       "    </tr>\n",
       "    <tr>\n",
       "      <th>7</th>\n",
       "      <td>phd</td>\n",
       "      <td>flight</td>\n",
       "      <td>drug</td>\n",
       "      <td>fish</td>\n",
       "      <td>jackie</td>\n",
       "      <td>co2</td>\n",
       "      <td>airline</td>\n",
       "    </tr>\n",
       "    <tr>\n",
       "      <th>8</th>\n",
       "      <td>engineer</td>\n",
       "      <td>jackie</td>\n",
       "      <td>solar</td>\n",
       "      <td>tsunami</td>\n",
       "      <td>universal</td>\n",
       "      <td>airport</td>\n",
       "      <td>jackie</td>\n",
       "    </tr>\n",
       "    <tr>\n",
       "      <th>9</th>\n",
       "      <td>iss</td>\n",
       "      <td>jpdo</td>\n",
       "      <td>fish</td>\n",
       "      <td>marine</td>\n",
       "      <td>driver</td>\n",
       "      <td>screen</td>\n",
       "      <td>jackf</td>\n",
       "    </tr>\n",
       "  </tbody>\n",
       "</table>\n",
       "</div>\n",
       "      <button class=\"colab-df-convert\" onclick=\"convertToInteractive('df-2419f3c1-f4e9-467b-a791-8b8f680790c8')\"\n",
       "              title=\"Convert this dataframe to an interactive table.\"\n",
       "              style=\"display:none;\">\n",
       "        \n",
       "  <svg xmlns=\"http://www.w3.org/2000/svg\" height=\"24px\"viewBox=\"0 0 24 24\"\n",
       "       width=\"24px\">\n",
       "    <path d=\"M0 0h24v24H0V0z\" fill=\"none\"/>\n",
       "    <path d=\"M18.56 5.44l.94 2.06.94-2.06 2.06-.94-2.06-.94-.94-2.06-.94 2.06-2.06.94zm-11 1L8.5 8.5l.94-2.06 2.06-.94-2.06-.94L8.5 2.5l-.94 2.06-2.06.94zm10 10l.94 2.06.94-2.06 2.06-.94-2.06-.94-.94-2.06-.94 2.06-2.06.94z\"/><path d=\"M17.41 7.96l-1.37-1.37c-.4-.4-.92-.59-1.43-.59-.52 0-1.04.2-1.43.59L10.3 9.45l-7.72 7.72c-.78.78-.78 2.05 0 2.83L4 21.41c.39.39.9.59 1.41.59.51 0 1.02-.2 1.41-.59l7.78-7.78 2.81-2.81c.8-.78.8-2.07 0-2.86zM5.41 20L4 18.59l7.72-7.72 1.47 1.35L5.41 20z\"/>\n",
       "  </svg>\n",
       "      </button>\n",
       "      \n",
       "  <style>\n",
       "    .colab-df-container {\n",
       "      display:flex;\n",
       "      flex-wrap:wrap;\n",
       "      gap: 12px;\n",
       "    }\n",
       "\n",
       "    .colab-df-convert {\n",
       "      background-color: #E8F0FE;\n",
       "      border: none;\n",
       "      border-radius: 50%;\n",
       "      cursor: pointer;\n",
       "      display: none;\n",
       "      fill: #1967D2;\n",
       "      height: 32px;\n",
       "      padding: 0 0 0 0;\n",
       "      width: 32px;\n",
       "    }\n",
       "\n",
       "    .colab-df-convert:hover {\n",
       "      background-color: #E2EBFA;\n",
       "      box-shadow: 0px 1px 2px rgba(60, 64, 67, 0.3), 0px 1px 3px 1px rgba(60, 64, 67, 0.15);\n",
       "      fill: #174EA6;\n",
       "    }\n",
       "\n",
       "    [theme=dark] .colab-df-convert {\n",
       "      background-color: #3B4455;\n",
       "      fill: #D2E3FC;\n",
       "    }\n",
       "\n",
       "    [theme=dark] .colab-df-convert:hover {\n",
       "      background-color: #434B5C;\n",
       "      box-shadow: 0px 1px 3px 1px rgba(0, 0, 0, 0.15);\n",
       "      filter: drop-shadow(0px 1px 2px rgba(0, 0, 0, 0.3));\n",
       "      fill: #FFFFFF;\n",
       "    }\n",
       "  </style>\n",
       "\n",
       "      <script>\n",
       "        const buttonEl =\n",
       "          document.querySelector('#df-2419f3c1-f4e9-467b-a791-8b8f680790c8 button.colab-df-convert');\n",
       "        buttonEl.style.display =\n",
       "          google.colab.kernel.accessAllowed ? 'block' : 'none';\n",
       "\n",
       "        async function convertToInteractive(key) {\n",
       "          const element = document.querySelector('#df-2419f3c1-f4e9-467b-a791-8b8f680790c8');\n",
       "          const dataTable =\n",
       "            await google.colab.kernel.invokeFunction('convertToInteractive',\n",
       "                                                     [key], {});\n",
       "          if (!dataTable) return;\n",
       "\n",
       "          const docLinkHtml = 'Like what you see? Visit the ' +\n",
       "            '<a target=\"_blank\" href=https://colab.research.google.com/notebooks/data_table.ipynb>data table notebook</a>'\n",
       "            + ' to learn more about interactive tables.';\n",
       "          element.innerHTML = '';\n",
       "          dataTable['output_type'] = 'display_data';\n",
       "          await google.colab.output.renderOutput(dataTable, element);\n",
       "          const docLink = document.createElement('div');\n",
       "          docLink.innerHTML = docLinkHtml;\n",
       "          element.appendChild(docLink);\n",
       "        }\n",
       "      </script>\n",
       "    </div>\n",
       "  </div>\n",
       "  "
      ],
      "text/plain": [
       "       Topic_0    Topic_1         Topic_2  ...    Topic_4    Topic_5     Topic_6\n",
       "0         nasa        faa           guard  ...   science1        tsa    science1\n",
       "1     science1   aviation  nanotechnology  ...       rail   science1         fcc\n",
       "2      nuclear  hurricane        science1  ...    student     jackie   broadband\n",
       "3  exploration    airline          jackie  ...    carrier       coal       cable\n",
       "4      shuttle   aircraft           child  ...   railroad        nsf   broadcast\n",
       "5       flight    airport          vessel  ...    teacher        dhs       radio\n",
       "6  aeronautics   science1           scom1  ...   engineer  passenger  television\n",
       "7          phd     flight            drug  ...     jackie        co2     airline\n",
       "8     engineer     jackie           solar  ...  universal    airport      jackie\n",
       "9          iss       jpdo            fish  ...     driver     screen       jackf\n",
       "\n",
       "[10 rows x 7 columns]"
      ]
     },
     "execution_count": 41,
     "metadata": {},
     "output_type": "execute_result"
    }
   ],
   "source": [
    "df_lsts = []\n",
    "for model in models2:\n",
    "  df_lsts.append(show_model_df(model))\n",
    "  \n",
    "df_lsts[0] # alpha=0.1"
   ]
  },
  {
   "cell_type": "code",
   "execution_count": null,
   "metadata": {
    "colab": {
     "base_uri": "https://localhost:8080/",
     "height": 363
    },
    "id": "GSuoiai97VrQ",
    "outputId": "68b59a1a-226b-4372-c85e-e2eb3d7f2fff"
   },
   "outputs": [
    {
     "data": {
      "text/html": [
       "\n",
       "  <div id=\"df-de5aa3ee-e731-41fd-b84b-481ec04a335a\">\n",
       "    <div class=\"colab-df-container\">\n",
       "      <div>\n",
       "<style scoped>\n",
       "    .dataframe tbody tr th:only-of-type {\n",
       "        vertical-align: middle;\n",
       "    }\n",
       "\n",
       "    .dataframe tbody tr th {\n",
       "        vertical-align: top;\n",
       "    }\n",
       "\n",
       "    .dataframe thead th {\n",
       "        text-align: right;\n",
       "    }\n",
       "</style>\n",
       "<table border=\"1\" class=\"dataframe\">\n",
       "  <thead>\n",
       "    <tr style=\"text-align: right;\">\n",
       "      <th></th>\n",
       "      <th>Topic_0</th>\n",
       "      <th>Topic_1</th>\n",
       "      <th>Topic_2</th>\n",
       "      <th>Topic_3</th>\n",
       "      <th>Topic_4</th>\n",
       "      <th>Topic_5</th>\n",
       "      <th>Topic_6</th>\n",
       "    </tr>\n",
       "  </thead>\n",
       "  <tbody>\n",
       "    <tr>\n",
       "      <th>0</th>\n",
       "      <td>science1</td>\n",
       "      <td>science1</td>\n",
       "      <td>broadband</td>\n",
       "      <td>faa</td>\n",
       "      <td>guard</td>\n",
       "      <td>nasa</td>\n",
       "      <td>hurricane</td>\n",
       "    </tr>\n",
       "    <tr>\n",
       "      <th>1</th>\n",
       "      <td>ocean</td>\n",
       "      <td>student</td>\n",
       "      <td>fcc</td>\n",
       "      <td>jackie</td>\n",
       "      <td>airline</td>\n",
       "      <td>science1</td>\n",
       "      <td>noaa</td>\n",
       "    </tr>\n",
       "    <tr>\n",
       "      <th>2</th>\n",
       "      <td>emission</td>\n",
       "      <td>nsf</td>\n",
       "      <td>cable</td>\n",
       "      <td>scom1</td>\n",
       "      <td>passenger</td>\n",
       "      <td>nanotechnology</td>\n",
       "      <td>phd</td>\n",
       "    </tr>\n",
       "    <tr>\n",
       "      <th>3</th>\n",
       "      <td>epa</td>\n",
       "      <td>engineer</td>\n",
       "      <td>wireless</td>\n",
       "      <td>gasoline</td>\n",
       "      <td>tsa</td>\n",
       "      <td>flight</td>\n",
       "      <td>ocean</td>\n",
       "    </tr>\n",
       "    <tr>\n",
       "      <th>4</th>\n",
       "      <td>carbon</td>\n",
       "      <td>railroad</td>\n",
       "      <td>provider</td>\n",
       "      <td>vessel</td>\n",
       "      <td>airport</td>\n",
       "      <td>nuclear</td>\n",
       "      <td>science1</td>\n",
       "    </tr>\n",
       "    <tr>\n",
       "      <th>5</th>\n",
       "      <td>noaa</td>\n",
       "      <td>teacher</td>\n",
       "      <td>jackie</td>\n",
       "      <td>fish</td>\n",
       "      <td>carrier</td>\n",
       "      <td>shuttle</td>\n",
       "      <td>forecast</td>\n",
       "    </tr>\n",
       "    <tr>\n",
       "      <th>6</th>\n",
       "      <td>coal</td>\n",
       "      <td>rail</td>\n",
       "      <td>child</td>\n",
       "      <td>aviation</td>\n",
       "      <td>jackie</td>\n",
       "      <td>exploration</td>\n",
       "      <td>nist</td>\n",
       "    </tr>\n",
       "    <tr>\n",
       "      <th>7</th>\n",
       "      <td>plant</td>\n",
       "      <td>solar</td>\n",
       "      <td>broadcast</td>\n",
       "      <td>jpdo</td>\n",
       "      <td>rail</td>\n",
       "      <td>aeronautics</td>\n",
       "      <td>coastal</td>\n",
       "    </tr>\n",
       "    <tr>\n",
       "      <th>8</th>\n",
       "      <td>co2</td>\n",
       "      <td>stem</td>\n",
       "      <td>television</td>\n",
       "      <td>fishery</td>\n",
       "      <td>flight</td>\n",
       "      <td>engineer</td>\n",
       "      <td>storm</td>\n",
       "    </tr>\n",
       "    <tr>\n",
       "      <th>9</th>\n",
       "      <td>sea</td>\n",
       "      <td>jackie</td>\n",
       "      <td>carrier</td>\n",
       "      <td>ftc</td>\n",
       "      <td>aviation</td>\n",
       "      <td>iss</td>\n",
       "      <td>jackie</td>\n",
       "    </tr>\n",
       "  </tbody>\n",
       "</table>\n",
       "</div>\n",
       "      <button class=\"colab-df-convert\" onclick=\"convertToInteractive('df-de5aa3ee-e731-41fd-b84b-481ec04a335a')\"\n",
       "              title=\"Convert this dataframe to an interactive table.\"\n",
       "              style=\"display:none;\">\n",
       "        \n",
       "  <svg xmlns=\"http://www.w3.org/2000/svg\" height=\"24px\"viewBox=\"0 0 24 24\"\n",
       "       width=\"24px\">\n",
       "    <path d=\"M0 0h24v24H0V0z\" fill=\"none\"/>\n",
       "    <path d=\"M18.56 5.44l.94 2.06.94-2.06 2.06-.94-2.06-.94-.94-2.06-.94 2.06-2.06.94zm-11 1L8.5 8.5l.94-2.06 2.06-.94-2.06-.94L8.5 2.5l-.94 2.06-2.06.94zm10 10l.94 2.06.94-2.06 2.06-.94-2.06-.94-.94-2.06-.94 2.06-2.06.94z\"/><path d=\"M17.41 7.96l-1.37-1.37c-.4-.4-.92-.59-1.43-.59-.52 0-1.04.2-1.43.59L10.3 9.45l-7.72 7.72c-.78.78-.78 2.05 0 2.83L4 21.41c.39.39.9.59 1.41.59.51 0 1.02-.2 1.41-.59l7.78-7.78 2.81-2.81c.8-.78.8-2.07 0-2.86zM5.41 20L4 18.59l7.72-7.72 1.47 1.35L5.41 20z\"/>\n",
       "  </svg>\n",
       "      </button>\n",
       "      \n",
       "  <style>\n",
       "    .colab-df-container {\n",
       "      display:flex;\n",
       "      flex-wrap:wrap;\n",
       "      gap: 12px;\n",
       "    }\n",
       "\n",
       "    .colab-df-convert {\n",
       "      background-color: #E8F0FE;\n",
       "      border: none;\n",
       "      border-radius: 50%;\n",
       "      cursor: pointer;\n",
       "      display: none;\n",
       "      fill: #1967D2;\n",
       "      height: 32px;\n",
       "      padding: 0 0 0 0;\n",
       "      width: 32px;\n",
       "    }\n",
       "\n",
       "    .colab-df-convert:hover {\n",
       "      background-color: #E2EBFA;\n",
       "      box-shadow: 0px 1px 2px rgba(60, 64, 67, 0.3), 0px 1px 3px 1px rgba(60, 64, 67, 0.15);\n",
       "      fill: #174EA6;\n",
       "    }\n",
       "\n",
       "    [theme=dark] .colab-df-convert {\n",
       "      background-color: #3B4455;\n",
       "      fill: #D2E3FC;\n",
       "    }\n",
       "\n",
       "    [theme=dark] .colab-df-convert:hover {\n",
       "      background-color: #434B5C;\n",
       "      box-shadow: 0px 1px 3px 1px rgba(0, 0, 0, 0.15);\n",
       "      filter: drop-shadow(0px 1px 2px rgba(0, 0, 0, 0.3));\n",
       "      fill: #FFFFFF;\n",
       "    }\n",
       "  </style>\n",
       "\n",
       "      <script>\n",
       "        const buttonEl =\n",
       "          document.querySelector('#df-de5aa3ee-e731-41fd-b84b-481ec04a335a button.colab-df-convert');\n",
       "        buttonEl.style.display =\n",
       "          google.colab.kernel.accessAllowed ? 'block' : 'none';\n",
       "\n",
       "        async function convertToInteractive(key) {\n",
       "          const element = document.querySelector('#df-de5aa3ee-e731-41fd-b84b-481ec04a335a');\n",
       "          const dataTable =\n",
       "            await google.colab.kernel.invokeFunction('convertToInteractive',\n",
       "                                                     [key], {});\n",
       "          if (!dataTable) return;\n",
       "\n",
       "          const docLinkHtml = 'Like what you see? Visit the ' +\n",
       "            '<a target=\"_blank\" href=https://colab.research.google.com/notebooks/data_table.ipynb>data table notebook</a>'\n",
       "            + ' to learn more about interactive tables.';\n",
       "          element.innerHTML = '';\n",
       "          dataTable['output_type'] = 'display_data';\n",
       "          await google.colab.output.renderOutput(dataTable, element);\n",
       "          const docLink = document.createElement('div');\n",
       "          docLink.innerHTML = docLinkHtml;\n",
       "          element.appendChild(docLink);\n",
       "        }\n",
       "      </script>\n",
       "    </div>\n",
       "  </div>\n",
       "  "
      ],
      "text/plain": [
       "    Topic_0   Topic_1     Topic_2  ...    Topic_4         Topic_5    Topic_6\n",
       "0  science1  science1   broadband  ...      guard            nasa  hurricane\n",
       "1     ocean   student         fcc  ...    airline        science1       noaa\n",
       "2  emission       nsf       cable  ...  passenger  nanotechnology        phd\n",
       "3       epa  engineer    wireless  ...        tsa          flight      ocean\n",
       "4    carbon  railroad    provider  ...    airport         nuclear   science1\n",
       "5      noaa   teacher      jackie  ...    carrier         shuttle   forecast\n",
       "6      coal      rail       child  ...     jackie     exploration       nist\n",
       "7     plant     solar   broadcast  ...       rail     aeronautics    coastal\n",
       "8       co2      stem  television  ...     flight        engineer      storm\n",
       "9       sea    jackie     carrier  ...   aviation             iss     jackie\n",
       "\n",
       "[10 rows x 7 columns]"
      ]
     },
     "execution_count": 43,
     "metadata": {},
     "output_type": "execute_result"
    }
   ],
   "source": [
    "df_lsts[1] # alpha=1"
   ]
  },
  {
   "cell_type": "code",
   "execution_count": null,
   "metadata": {
    "colab": {
     "base_uri": "https://localhost:8080/",
     "height": 363
    },
    "id": "vPlHqtJ_7TTM",
    "outputId": "956d9e43-f816-4bd2-bbe8-57c3347aa641"
   },
   "outputs": [
    {
     "data": {
      "text/html": [
       "\n",
       "  <div id=\"df-f7b8e45e-0919-4dc8-aa85-ed7bd3a9a54d\">\n",
       "    <div class=\"colab-df-container\">\n",
       "      <div>\n",
       "<style scoped>\n",
       "    .dataframe tbody tr th:only-of-type {\n",
       "        vertical-align: middle;\n",
       "    }\n",
       "\n",
       "    .dataframe tbody tr th {\n",
       "        vertical-align: top;\n",
       "    }\n",
       "\n",
       "    .dataframe thead th {\n",
       "        text-align: right;\n",
       "    }\n",
       "</style>\n",
       "<table border=\"1\" class=\"dataframe\">\n",
       "  <thead>\n",
       "    <tr style=\"text-align: right;\">\n",
       "      <th></th>\n",
       "      <th>Topic_0</th>\n",
       "      <th>Topic_1</th>\n",
       "      <th>Topic_2</th>\n",
       "      <th>Topic_3</th>\n",
       "      <th>Topic_4</th>\n",
       "      <th>Topic_5</th>\n",
       "      <th>Topic_6</th>\n",
       "    </tr>\n",
       "  </thead>\n",
       "  <tbody>\n",
       "    <tr>\n",
       "      <th>0</th>\n",
       "      <td>airport</td>\n",
       "      <td>science1</td>\n",
       "      <td>nasa</td>\n",
       "      <td>rail</td>\n",
       "      <td>broadband</td>\n",
       "      <td>science1</td>\n",
       "      <td>guard</td>\n",
       "    </tr>\n",
       "    <tr>\n",
       "      <th>1</th>\n",
       "      <td>airline</td>\n",
       "      <td>nuclear</td>\n",
       "      <td>science1</td>\n",
       "      <td>science1</td>\n",
       "      <td>fcc</td>\n",
       "      <td>student</td>\n",
       "      <td>ocean</td>\n",
       "    </tr>\n",
       "    <tr>\n",
       "      <th>2</th>\n",
       "      <td>faa</td>\n",
       "      <td>emission</td>\n",
       "      <td>hurricane</td>\n",
       "      <td>phd</td>\n",
       "      <td>wireless</td>\n",
       "      <td>engineer</td>\n",
       "      <td>noaa</td>\n",
       "    </tr>\n",
       "    <tr>\n",
       "      <th>3</th>\n",
       "      <td>jackie</td>\n",
       "      <td>plant</td>\n",
       "      <td>exploration</td>\n",
       "      <td>railroad</td>\n",
       "      <td>jackie</td>\n",
       "      <td>nsf</td>\n",
       "      <td>science1</td>\n",
       "    </tr>\n",
       "    <tr>\n",
       "      <th>4</th>\n",
       "      <td>aviation</td>\n",
       "      <td>faa</td>\n",
       "      <td>flight</td>\n",
       "      <td>nanotechnology</td>\n",
       "      <td>carrier</td>\n",
       "      <td>teacher</td>\n",
       "      <td>vessel</td>\n",
       "    </tr>\n",
       "    <tr>\n",
       "      <th>5</th>\n",
       "      <td>tsa</td>\n",
       "      <td>carbon</td>\n",
       "      <td>shuttle</td>\n",
       "      <td>truck</td>\n",
       "      <td>universal</td>\n",
       "      <td>stem</td>\n",
       "      <td>fishery</td>\n",
       "    </tr>\n",
       "    <tr>\n",
       "      <th>6</th>\n",
       "      <td>child</td>\n",
       "      <td>waste</td>\n",
       "      <td>noaa</td>\n",
       "      <td>passenger</td>\n",
       "      <td>science1</td>\n",
       "      <td>nanotechnology</td>\n",
       "      <td>sea</td>\n",
       "    </tr>\n",
       "    <tr>\n",
       "      <th>7</th>\n",
       "      <td>cable</td>\n",
       "      <td>co2</td>\n",
       "      <td>aeronautics</td>\n",
       "      <td>jackie</td>\n",
       "      <td>epa</td>\n",
       "      <td>nasa</td>\n",
       "      <td>fish</td>\n",
       "    </tr>\n",
       "    <tr>\n",
       "      <th>8</th>\n",
       "      <td>carrier</td>\n",
       "      <td>coal</td>\n",
       "      <td>iss</td>\n",
       "      <td>coal</td>\n",
       "      <td>provider</td>\n",
       "      <td>scientist</td>\n",
       "      <td>marine</td>\n",
       "    </tr>\n",
       "    <tr>\n",
       "      <th>9</th>\n",
       "      <td>passenger</td>\n",
       "      <td>atsdr</td>\n",
       "      <td>engineer</td>\n",
       "      <td>solar</td>\n",
       "      <td>scom1</td>\n",
       "      <td>math</td>\n",
       "      <td>jackie</td>\n",
       "    </tr>\n",
       "  </tbody>\n",
       "</table>\n",
       "</div>\n",
       "      <button class=\"colab-df-convert\" onclick=\"convertToInteractive('df-f7b8e45e-0919-4dc8-aa85-ed7bd3a9a54d')\"\n",
       "              title=\"Convert this dataframe to an interactive table.\"\n",
       "              style=\"display:none;\">\n",
       "        \n",
       "  <svg xmlns=\"http://www.w3.org/2000/svg\" height=\"24px\"viewBox=\"0 0 24 24\"\n",
       "       width=\"24px\">\n",
       "    <path d=\"M0 0h24v24H0V0z\" fill=\"none\"/>\n",
       "    <path d=\"M18.56 5.44l.94 2.06.94-2.06 2.06-.94-2.06-.94-.94-2.06-.94 2.06-2.06.94zm-11 1L8.5 8.5l.94-2.06 2.06-.94-2.06-.94L8.5 2.5l-.94 2.06-2.06.94zm10 10l.94 2.06.94-2.06 2.06-.94-2.06-.94-.94-2.06-.94 2.06-2.06.94z\"/><path d=\"M17.41 7.96l-1.37-1.37c-.4-.4-.92-.59-1.43-.59-.52 0-1.04.2-1.43.59L10.3 9.45l-7.72 7.72c-.78.78-.78 2.05 0 2.83L4 21.41c.39.39.9.59 1.41.59.51 0 1.02-.2 1.41-.59l7.78-7.78 2.81-2.81c.8-.78.8-2.07 0-2.86zM5.41 20L4 18.59l7.72-7.72 1.47 1.35L5.41 20z\"/>\n",
       "  </svg>\n",
       "      </button>\n",
       "      \n",
       "  <style>\n",
       "    .colab-df-container {\n",
       "      display:flex;\n",
       "      flex-wrap:wrap;\n",
       "      gap: 12px;\n",
       "    }\n",
       "\n",
       "    .colab-df-convert {\n",
       "      background-color: #E8F0FE;\n",
       "      border: none;\n",
       "      border-radius: 50%;\n",
       "      cursor: pointer;\n",
       "      display: none;\n",
       "      fill: #1967D2;\n",
       "      height: 32px;\n",
       "      padding: 0 0 0 0;\n",
       "      width: 32px;\n",
       "    }\n",
       "\n",
       "    .colab-df-convert:hover {\n",
       "      background-color: #E2EBFA;\n",
       "      box-shadow: 0px 1px 2px rgba(60, 64, 67, 0.3), 0px 1px 3px 1px rgba(60, 64, 67, 0.15);\n",
       "      fill: #174EA6;\n",
       "    }\n",
       "\n",
       "    [theme=dark] .colab-df-convert {\n",
       "      background-color: #3B4455;\n",
       "      fill: #D2E3FC;\n",
       "    }\n",
       "\n",
       "    [theme=dark] .colab-df-convert:hover {\n",
       "      background-color: #434B5C;\n",
       "      box-shadow: 0px 1px 3px 1px rgba(0, 0, 0, 0.15);\n",
       "      filter: drop-shadow(0px 1px 2px rgba(0, 0, 0, 0.3));\n",
       "      fill: #FFFFFF;\n",
       "    }\n",
       "  </style>\n",
       "\n",
       "      <script>\n",
       "        const buttonEl =\n",
       "          document.querySelector('#df-f7b8e45e-0919-4dc8-aa85-ed7bd3a9a54d button.colab-df-convert');\n",
       "        buttonEl.style.display =\n",
       "          google.colab.kernel.accessAllowed ? 'block' : 'none';\n",
       "\n",
       "        async function convertToInteractive(key) {\n",
       "          const element = document.querySelector('#df-f7b8e45e-0919-4dc8-aa85-ed7bd3a9a54d');\n",
       "          const dataTable =\n",
       "            await google.colab.kernel.invokeFunction('convertToInteractive',\n",
       "                                                     [key], {});\n",
       "          if (!dataTable) return;\n",
       "\n",
       "          const docLinkHtml = 'Like what you see? Visit the ' +\n",
       "            '<a target=\"_blank\" href=https://colab.research.google.com/notebooks/data_table.ipynb>data table notebook</a>'\n",
       "            + ' to learn more about interactive tables.';\n",
       "          element.innerHTML = '';\n",
       "          dataTable['output_type'] = 'display_data';\n",
       "          await google.colab.output.renderOutput(dataTable, element);\n",
       "          const docLink = document.createElement('div');\n",
       "          docLink.innerHTML = docLinkHtml;\n",
       "          element.appendChild(docLink);\n",
       "        }\n",
       "      </script>\n",
       "    </div>\n",
       "  </div>\n",
       "  "
      ],
      "text/plain": [
       "     Topic_0   Topic_1      Topic_2  ...    Topic_4         Topic_5   Topic_6\n",
       "0    airport  science1         nasa  ...  broadband        science1     guard\n",
       "1    airline   nuclear     science1  ...        fcc         student     ocean\n",
       "2        faa  emission    hurricane  ...   wireless        engineer      noaa\n",
       "3     jackie     plant  exploration  ...     jackie             nsf  science1\n",
       "4   aviation       faa       flight  ...    carrier         teacher    vessel\n",
       "5        tsa    carbon      shuttle  ...  universal            stem   fishery\n",
       "6      child     waste         noaa  ...   science1  nanotechnology       sea\n",
       "7      cable       co2  aeronautics  ...        epa            nasa      fish\n",
       "8    carrier      coal          iss  ...   provider       scientist    marine\n",
       "9  passenger     atsdr     engineer  ...      scom1            math    jackie\n",
       "\n",
       "[10 rows x 7 columns]"
      ]
     },
     "execution_count": 42,
     "metadata": {},
     "output_type": "execute_result"
    }
   ],
   "source": [
    "df_lsts[2] # alpha=10"
   ]
  },
  {
   "cell_type": "markdown",
   "metadata": {
    "id": "Yywv67ziOngb"
   },
   "source": [
    "ETA controls prior distribution over word weights in each topic, i.e. how much each topic \"likes\" a word. Low ETA results in higher weight placed on the top words and lower weight placed on the bottom words for each topic - intuitively, topics are composed of few words; top words become 'irrelevant' more quickly. In my corpus, small ETA makes topics more interpretable."
   ]
  },
  {
   "cell_type": "code",
   "execution_count": null,
   "metadata": {
    "colab": {
     "base_uri": "https://localhost:8080/"
    },
    "id": "9gs4wzGn3dNW",
    "outputId": "2b9c12a3-80ae-485e-c686-b2506d2daf81"
   },
   "outputs": [
    {
     "name": "stdout",
     "output_type": "stream",
     "text": [
      "finished training model: eta= 0.1 LdaModel(num_terms=698, num_topics=7, decay=0.5, chunksize=2000)\n",
      "finished training model: eta= 1 LdaModel(num_terms=698, num_topics=7, decay=0.5, chunksize=2000)\n",
      "finished training model: eta= 10 LdaModel(num_terms=698, num_topics=7, decay=0.5, chunksize=2000)\n"
     ]
    }
   ],
   "source": [
    "# systematically vary eta\n",
    "models3 = []\n",
    "for n in [0.1, 1, 10]:\n",
    "  model = gensim.models.ldamodel.LdaModel(corpus=smm, \n",
    "                                               id2word=dictionary, \n",
    "                                               passes=3,\n",
    "                                               num_topics=7, \n",
    "                                               alpha='auto',\n",
    "                                               eta=n)\n",
    "  models3.append(model)\n",
    "  print('finished training model: eta=', n, model)"
   ]
  },
  {
   "cell_type": "code",
   "execution_count": null,
   "metadata": {
    "colab": {
     "base_uri": "https://localhost:8080/"
    },
    "id": "OP9Z9XDfA3nb",
    "outputId": "7a2a2605-7406-4c90-ed30-0f33d6cf9d6e"
   },
   "outputs": [
    {
     "data": {
      "text/plain": [
       "[-1.1849934688637904, -1.1932206215047094, -1.2999695843669397]"
      ]
     },
     "execution_count": 45,
     "metadata": {},
     "output_type": "execute_result"
    }
   ],
   "source": [
    "coherence_lst = []\n",
    "for model in models3:\n",
    "  cm = CoherenceModel(model=model, corpus=smm, coherence='u_mass')\n",
    "  coherence_lst.append(cm.get_coherence()) \n",
    "coherence_lst"
   ]
  },
  {
   "cell_type": "code",
   "execution_count": null,
   "metadata": {
    "colab": {
     "base_uri": "https://localhost:8080/",
     "height": 363
    },
    "id": "yVjp69L4BgNp",
    "outputId": "23d2118f-ffca-409f-9d4b-7ae288b2bb24"
   },
   "outputs": [
    {
     "data": {
      "text/html": [
       "\n",
       "  <div id=\"df-eda0f6f4-09b0-489f-8ac5-deb39a4bdd2f\">\n",
       "    <div class=\"colab-df-container\">\n",
       "      <div>\n",
       "<style scoped>\n",
       "    .dataframe tbody tr th:only-of-type {\n",
       "        vertical-align: middle;\n",
       "    }\n",
       "\n",
       "    .dataframe tbody tr th {\n",
       "        vertical-align: top;\n",
       "    }\n",
       "\n",
       "    .dataframe thead th {\n",
       "        text-align: right;\n",
       "    }\n",
       "</style>\n",
       "<table border=\"1\" class=\"dataframe\">\n",
       "  <thead>\n",
       "    <tr style=\"text-align: right;\">\n",
       "      <th></th>\n",
       "      <th>Topic_0</th>\n",
       "      <th>Topic_1</th>\n",
       "      <th>Topic_2</th>\n",
       "      <th>Topic_3</th>\n",
       "      <th>Topic_4</th>\n",
       "      <th>Topic_5</th>\n",
       "      <th>Topic_6</th>\n",
       "    </tr>\n",
       "  </thead>\n",
       "  <tbody>\n",
       "    <tr>\n",
       "      <th>0</th>\n",
       "      <td>guard</td>\n",
       "      <td>broadband</td>\n",
       "      <td>hurricane</td>\n",
       "      <td>airline</td>\n",
       "      <td>science1</td>\n",
       "      <td>faa</td>\n",
       "      <td>nasa</td>\n",
       "    </tr>\n",
       "    <tr>\n",
       "      <th>1</th>\n",
       "      <td>science1</td>\n",
       "      <td>fcc</td>\n",
       "      <td>rail</td>\n",
       "      <td>airport</td>\n",
       "      <td>student</td>\n",
       "      <td>noaa</td>\n",
       "      <td>science1</td>\n",
       "    </tr>\n",
       "    <tr>\n",
       "      <th>2</th>\n",
       "      <td>tsunami</td>\n",
       "      <td>cable</td>\n",
       "      <td>jackie</td>\n",
       "      <td>science1</td>\n",
       "      <td>engineer</td>\n",
       "      <td>jackie</td>\n",
       "      <td>ocean</td>\n",
       "    </tr>\n",
       "    <tr>\n",
       "      <th>3</th>\n",
       "      <td>jackie</td>\n",
       "      <td>jackie</td>\n",
       "      <td>fishery</td>\n",
       "      <td>emission</td>\n",
       "      <td>nsf</td>\n",
       "      <td>rail</td>\n",
       "      <td>phd</td>\n",
       "    </tr>\n",
       "    <tr>\n",
       "      <th>4</th>\n",
       "      <td>truck</td>\n",
       "      <td>child</td>\n",
       "      <td>fish</td>\n",
       "      <td>faa</td>\n",
       "      <td>nuclear</td>\n",
       "      <td>fish</td>\n",
       "      <td>exploration</td>\n",
       "    </tr>\n",
       "    <tr>\n",
       "      <th>5</th>\n",
       "      <td>deepwater</td>\n",
       "      <td>nanotechnology</td>\n",
       "      <td>vessel</td>\n",
       "      <td>aviation</td>\n",
       "      <td>teacher</td>\n",
       "      <td>aquaculture</td>\n",
       "      <td>shuttle</td>\n",
       "    </tr>\n",
       "    <tr>\n",
       "      <th>6</th>\n",
       "      <td>hybrid</td>\n",
       "      <td>wireless</td>\n",
       "      <td>railroad</td>\n",
       "      <td>coal</td>\n",
       "      <td>scientist</td>\n",
       "      <td>scom1</td>\n",
       "      <td>flight</td>\n",
       "    </tr>\n",
       "    <tr>\n",
       "      <th>7</th>\n",
       "      <td>nist</td>\n",
       "      <td>television</td>\n",
       "      <td>noaa</td>\n",
       "      <td>carbon</td>\n",
       "      <td>stem</td>\n",
       "      <td>aviation</td>\n",
       "      <td>noaa</td>\n",
       "    </tr>\n",
       "    <tr>\n",
       "      <th>8</th>\n",
       "      <td>admiral</td>\n",
       "      <td>broadcast</td>\n",
       "      <td>scom1</td>\n",
       "      <td>passenger</td>\n",
       "      <td>epa</td>\n",
       "      <td>aircraft</td>\n",
       "      <td>aeronautics</td>\n",
       "    </tr>\n",
       "    <tr>\n",
       "      <th>9</th>\n",
       "      <td>asset</td>\n",
       "      <td>scom1</td>\n",
       "      <td>tsa</td>\n",
       "      <td>plant</td>\n",
       "      <td>nist</td>\n",
       "      <td>jackf</td>\n",
       "      <td>iss</td>\n",
       "    </tr>\n",
       "  </tbody>\n",
       "</table>\n",
       "</div>\n",
       "      <button class=\"colab-df-convert\" onclick=\"convertToInteractive('df-eda0f6f4-09b0-489f-8ac5-deb39a4bdd2f')\"\n",
       "              title=\"Convert this dataframe to an interactive table.\"\n",
       "              style=\"display:none;\">\n",
       "        \n",
       "  <svg xmlns=\"http://www.w3.org/2000/svg\" height=\"24px\"viewBox=\"0 0 24 24\"\n",
       "       width=\"24px\">\n",
       "    <path d=\"M0 0h24v24H0V0z\" fill=\"none\"/>\n",
       "    <path d=\"M18.56 5.44l.94 2.06.94-2.06 2.06-.94-2.06-.94-.94-2.06-.94 2.06-2.06.94zm-11 1L8.5 8.5l.94-2.06 2.06-.94-2.06-.94L8.5 2.5l-.94 2.06-2.06.94zm10 10l.94 2.06.94-2.06 2.06-.94-2.06-.94-.94-2.06-.94 2.06-2.06.94z\"/><path d=\"M17.41 7.96l-1.37-1.37c-.4-.4-.92-.59-1.43-.59-.52 0-1.04.2-1.43.59L10.3 9.45l-7.72 7.72c-.78.78-.78 2.05 0 2.83L4 21.41c.39.39.9.59 1.41.59.51 0 1.02-.2 1.41-.59l7.78-7.78 2.81-2.81c.8-.78.8-2.07 0-2.86zM5.41 20L4 18.59l7.72-7.72 1.47 1.35L5.41 20z\"/>\n",
       "  </svg>\n",
       "      </button>\n",
       "      \n",
       "  <style>\n",
       "    .colab-df-container {\n",
       "      display:flex;\n",
       "      flex-wrap:wrap;\n",
       "      gap: 12px;\n",
       "    }\n",
       "\n",
       "    .colab-df-convert {\n",
       "      background-color: #E8F0FE;\n",
       "      border: none;\n",
       "      border-radius: 50%;\n",
       "      cursor: pointer;\n",
       "      display: none;\n",
       "      fill: #1967D2;\n",
       "      height: 32px;\n",
       "      padding: 0 0 0 0;\n",
       "      width: 32px;\n",
       "    }\n",
       "\n",
       "    .colab-df-convert:hover {\n",
       "      background-color: #E2EBFA;\n",
       "      box-shadow: 0px 1px 2px rgba(60, 64, 67, 0.3), 0px 1px 3px 1px rgba(60, 64, 67, 0.15);\n",
       "      fill: #174EA6;\n",
       "    }\n",
       "\n",
       "    [theme=dark] .colab-df-convert {\n",
       "      background-color: #3B4455;\n",
       "      fill: #D2E3FC;\n",
       "    }\n",
       "\n",
       "    [theme=dark] .colab-df-convert:hover {\n",
       "      background-color: #434B5C;\n",
       "      box-shadow: 0px 1px 3px 1px rgba(0, 0, 0, 0.15);\n",
       "      filter: drop-shadow(0px 1px 2px rgba(0, 0, 0, 0.3));\n",
       "      fill: #FFFFFF;\n",
       "    }\n",
       "  </style>\n",
       "\n",
       "      <script>\n",
       "        const buttonEl =\n",
       "          document.querySelector('#df-eda0f6f4-09b0-489f-8ac5-deb39a4bdd2f button.colab-df-convert');\n",
       "        buttonEl.style.display =\n",
       "          google.colab.kernel.accessAllowed ? 'block' : 'none';\n",
       "\n",
       "        async function convertToInteractive(key) {\n",
       "          const element = document.querySelector('#df-eda0f6f4-09b0-489f-8ac5-deb39a4bdd2f');\n",
       "          const dataTable =\n",
       "            await google.colab.kernel.invokeFunction('convertToInteractive',\n",
       "                                                     [key], {});\n",
       "          if (!dataTable) return;\n",
       "\n",
       "          const docLinkHtml = 'Like what you see? Visit the ' +\n",
       "            '<a target=\"_blank\" href=https://colab.research.google.com/notebooks/data_table.ipynb>data table notebook</a>'\n",
       "            + ' to learn more about interactive tables.';\n",
       "          element.innerHTML = '';\n",
       "          dataTable['output_type'] = 'display_data';\n",
       "          await google.colab.output.renderOutput(dataTable, element);\n",
       "          const docLink = document.createElement('div');\n",
       "          docLink.innerHTML = docLinkHtml;\n",
       "          element.appendChild(docLink);\n",
       "        }\n",
       "      </script>\n",
       "    </div>\n",
       "  </div>\n",
       "  "
      ],
      "text/plain": [
       "     Topic_0         Topic_1    Topic_2  ...    Topic_4      Topic_5      Topic_6\n",
       "0      guard       broadband  hurricane  ...   science1          faa         nasa\n",
       "1   science1             fcc       rail  ...    student         noaa     science1\n",
       "2    tsunami           cable     jackie  ...   engineer       jackie        ocean\n",
       "3     jackie          jackie    fishery  ...        nsf         rail          phd\n",
       "4      truck           child       fish  ...    nuclear         fish  exploration\n",
       "5  deepwater  nanotechnology     vessel  ...    teacher  aquaculture      shuttle\n",
       "6     hybrid        wireless   railroad  ...  scientist        scom1       flight\n",
       "7       nist      television       noaa  ...       stem     aviation         noaa\n",
       "8    admiral       broadcast      scom1  ...        epa     aircraft  aeronautics\n",
       "9      asset           scom1        tsa  ...       nist        jackf          iss\n",
       "\n",
       "[10 rows x 7 columns]"
      ]
     },
     "execution_count": 46,
     "metadata": {},
     "output_type": "execute_result"
    }
   ],
   "source": [
    "df_lsts = []\n",
    "for model in models3:\n",
    "  df_lsts.append(show_model_df(model))\n",
    "  \n",
    "df_lsts[0] # eta=0.1"
   ]
  },
  {
   "cell_type": "code",
   "execution_count": null,
   "metadata": {
    "colab": {
     "base_uri": "https://localhost:8080/",
     "height": 363
    },
    "id": "1ebYEGqzB-c_",
    "outputId": "25158113-50a0-4738-90b6-90b8a0040cbc"
   },
   "outputs": [
    {
     "data": {
      "text/html": [
       "\n",
       "  <div id=\"df-7acc0c8b-7ce7-4eb6-a7d3-8c08b12b3180\">\n",
       "    <div class=\"colab-df-container\">\n",
       "      <div>\n",
       "<style scoped>\n",
       "    .dataframe tbody tr th:only-of-type {\n",
       "        vertical-align: middle;\n",
       "    }\n",
       "\n",
       "    .dataframe tbody tr th {\n",
       "        vertical-align: top;\n",
       "    }\n",
       "\n",
       "    .dataframe thead th {\n",
       "        text-align: right;\n",
       "    }\n",
       "</style>\n",
       "<table border=\"1\" class=\"dataframe\">\n",
       "  <thead>\n",
       "    <tr style=\"text-align: right;\">\n",
       "      <th></th>\n",
       "      <th>Topic_0</th>\n",
       "      <th>Topic_1</th>\n",
       "      <th>Topic_2</th>\n",
       "      <th>Topic_3</th>\n",
       "      <th>Topic_4</th>\n",
       "      <th>Topic_5</th>\n",
       "      <th>Topic_6</th>\n",
       "    </tr>\n",
       "  </thead>\n",
       "  <tbody>\n",
       "    <tr>\n",
       "      <th>0</th>\n",
       "      <td>science1</td>\n",
       "      <td>guard</td>\n",
       "      <td>nasa</td>\n",
       "      <td>science1</td>\n",
       "      <td>faa</td>\n",
       "      <td>tsa</td>\n",
       "      <td>student</td>\n",
       "    </tr>\n",
       "    <tr>\n",
       "      <th>1</th>\n",
       "      <td>airline</td>\n",
       "      <td>science1</td>\n",
       "      <td>science1</td>\n",
       "      <td>noaa</td>\n",
       "      <td>broadband</td>\n",
       "      <td>jackie</td>\n",
       "      <td>science1</td>\n",
       "    </tr>\n",
       "    <tr>\n",
       "      <th>2</th>\n",
       "      <td>emission</td>\n",
       "      <td>rail</td>\n",
       "      <td>flight</td>\n",
       "      <td>ocean</td>\n",
       "      <td>carrier</td>\n",
       "      <td>airport</td>\n",
       "      <td>child</td>\n",
       "    </tr>\n",
       "    <tr>\n",
       "      <th>3</th>\n",
       "      <td>nuclear</td>\n",
       "      <td>railroad</td>\n",
       "      <td>exploration</td>\n",
       "      <td>nanotechnology</td>\n",
       "      <td>aviation</td>\n",
       "      <td>scom1</td>\n",
       "      <td>teacher</td>\n",
       "    </tr>\n",
       "    <tr>\n",
       "      <th>4</th>\n",
       "      <td>tsunami</td>\n",
       "      <td>phd</td>\n",
       "      <td>shuttle</td>\n",
       "      <td>epa</td>\n",
       "      <td>wireless</td>\n",
       "      <td>truck</td>\n",
       "      <td>engineer</td>\n",
       "    </tr>\n",
       "    <tr>\n",
       "      <th>5</th>\n",
       "      <td>carrier</td>\n",
       "      <td>nist</td>\n",
       "      <td>aeronautics</td>\n",
       "      <td>coastal</td>\n",
       "      <td>fcc</td>\n",
       "      <td>television</td>\n",
       "      <td>jackie</td>\n",
       "    </tr>\n",
       "    <tr>\n",
       "      <th>6</th>\n",
       "      <td>plant</td>\n",
       "      <td>coal</td>\n",
       "      <td>nsf</td>\n",
       "      <td>sea</td>\n",
       "      <td>cable</td>\n",
       "      <td>gasoline</td>\n",
       "      <td>fishery</td>\n",
       "    </tr>\n",
       "    <tr>\n",
       "      <th>7</th>\n",
       "      <td>carbon</td>\n",
       "      <td>jackie</td>\n",
       "      <td>engineer</td>\n",
       "      <td>marine</td>\n",
       "      <td>jackie</td>\n",
       "      <td>passenger</td>\n",
       "      <td>fish</td>\n",
       "    </tr>\n",
       "    <tr>\n",
       "      <th>8</th>\n",
       "      <td>greenhouse</td>\n",
       "      <td>dhs</td>\n",
       "      <td>hurricane</td>\n",
       "      <td>hurricane</td>\n",
       "      <td>airport</td>\n",
       "      <td>hybrid</td>\n",
       "      <td>ftc</td>\n",
       "    </tr>\n",
       "    <tr>\n",
       "      <th>9</th>\n",
       "      <td>jackie</td>\n",
       "      <td>plant</td>\n",
       "      <td>iss</td>\n",
       "      <td>fish</td>\n",
       "      <td>science1</td>\n",
       "      <td>screen</td>\n",
       "      <td>stem</td>\n",
       "    </tr>\n",
       "  </tbody>\n",
       "</table>\n",
       "</div>\n",
       "      <button class=\"colab-df-convert\" onclick=\"convertToInteractive('df-7acc0c8b-7ce7-4eb6-a7d3-8c08b12b3180')\"\n",
       "              title=\"Convert this dataframe to an interactive table.\"\n",
       "              style=\"display:none;\">\n",
       "        \n",
       "  <svg xmlns=\"http://www.w3.org/2000/svg\" height=\"24px\"viewBox=\"0 0 24 24\"\n",
       "       width=\"24px\">\n",
       "    <path d=\"M0 0h24v24H0V0z\" fill=\"none\"/>\n",
       "    <path d=\"M18.56 5.44l.94 2.06.94-2.06 2.06-.94-2.06-.94-.94-2.06-.94 2.06-2.06.94zm-11 1L8.5 8.5l.94-2.06 2.06-.94-2.06-.94L8.5 2.5l-.94 2.06-2.06.94zm10 10l.94 2.06.94-2.06 2.06-.94-2.06-.94-.94-2.06-.94 2.06-2.06.94z\"/><path d=\"M17.41 7.96l-1.37-1.37c-.4-.4-.92-.59-1.43-.59-.52 0-1.04.2-1.43.59L10.3 9.45l-7.72 7.72c-.78.78-.78 2.05 0 2.83L4 21.41c.39.39.9.59 1.41.59.51 0 1.02-.2 1.41-.59l7.78-7.78 2.81-2.81c.8-.78.8-2.07 0-2.86zM5.41 20L4 18.59l7.72-7.72 1.47 1.35L5.41 20z\"/>\n",
       "  </svg>\n",
       "      </button>\n",
       "      \n",
       "  <style>\n",
       "    .colab-df-container {\n",
       "      display:flex;\n",
       "      flex-wrap:wrap;\n",
       "      gap: 12px;\n",
       "    }\n",
       "\n",
       "    .colab-df-convert {\n",
       "      background-color: #E8F0FE;\n",
       "      border: none;\n",
       "      border-radius: 50%;\n",
       "      cursor: pointer;\n",
       "      display: none;\n",
       "      fill: #1967D2;\n",
       "      height: 32px;\n",
       "      padding: 0 0 0 0;\n",
       "      width: 32px;\n",
       "    }\n",
       "\n",
       "    .colab-df-convert:hover {\n",
       "      background-color: #E2EBFA;\n",
       "      box-shadow: 0px 1px 2px rgba(60, 64, 67, 0.3), 0px 1px 3px 1px rgba(60, 64, 67, 0.15);\n",
       "      fill: #174EA6;\n",
       "    }\n",
       "\n",
       "    [theme=dark] .colab-df-convert {\n",
       "      background-color: #3B4455;\n",
       "      fill: #D2E3FC;\n",
       "    }\n",
       "\n",
       "    [theme=dark] .colab-df-convert:hover {\n",
       "      background-color: #434B5C;\n",
       "      box-shadow: 0px 1px 3px 1px rgba(0, 0, 0, 0.15);\n",
       "      filter: drop-shadow(0px 1px 2px rgba(0, 0, 0, 0.3));\n",
       "      fill: #FFFFFF;\n",
       "    }\n",
       "  </style>\n",
       "\n",
       "      <script>\n",
       "        const buttonEl =\n",
       "          document.querySelector('#df-7acc0c8b-7ce7-4eb6-a7d3-8c08b12b3180 button.colab-df-convert');\n",
       "        buttonEl.style.display =\n",
       "          google.colab.kernel.accessAllowed ? 'block' : 'none';\n",
       "\n",
       "        async function convertToInteractive(key) {\n",
       "          const element = document.querySelector('#df-7acc0c8b-7ce7-4eb6-a7d3-8c08b12b3180');\n",
       "          const dataTable =\n",
       "            await google.colab.kernel.invokeFunction('convertToInteractive',\n",
       "                                                     [key], {});\n",
       "          if (!dataTable) return;\n",
       "\n",
       "          const docLinkHtml = 'Like what you see? Visit the ' +\n",
       "            '<a target=\"_blank\" href=https://colab.research.google.com/notebooks/data_table.ipynb>data table notebook</a>'\n",
       "            + ' to learn more about interactive tables.';\n",
       "          element.innerHTML = '';\n",
       "          dataTable['output_type'] = 'display_data';\n",
       "          await google.colab.output.renderOutput(dataTable, element);\n",
       "          const docLink = document.createElement('div');\n",
       "          docLink.innerHTML = docLinkHtml;\n",
       "          element.appendChild(docLink);\n",
       "        }\n",
       "      </script>\n",
       "    </div>\n",
       "  </div>\n",
       "  "
      ],
      "text/plain": [
       "      Topic_0   Topic_1      Topic_2  ...    Topic_4     Topic_5   Topic_6\n",
       "0    science1     guard         nasa  ...        faa         tsa   student\n",
       "1     airline  science1     science1  ...  broadband      jackie  science1\n",
       "2    emission      rail       flight  ...    carrier     airport     child\n",
       "3     nuclear  railroad  exploration  ...   aviation       scom1   teacher\n",
       "4     tsunami       phd      shuttle  ...   wireless       truck  engineer\n",
       "5     carrier      nist  aeronautics  ...        fcc  television    jackie\n",
       "6       plant      coal          nsf  ...      cable    gasoline   fishery\n",
       "7      carbon    jackie     engineer  ...     jackie   passenger      fish\n",
       "8  greenhouse       dhs    hurricane  ...    airport      hybrid       ftc\n",
       "9      jackie     plant          iss  ...   science1      screen      stem\n",
       "\n",
       "[10 rows x 7 columns]"
      ]
     },
     "execution_count": 47,
     "metadata": {},
     "output_type": "execute_result"
    }
   ],
   "source": [
    "df_lsts[1] # eta=1"
   ]
  },
  {
   "cell_type": "code",
   "execution_count": null,
   "metadata": {
    "colab": {
     "base_uri": "https://localhost:8080/",
     "height": 363
    },
    "id": "jjJRSOYSCEIO",
    "outputId": "cc7a9ebc-5a3a-4726-997a-4380f34efce0"
   },
   "outputs": [
    {
     "data": {
      "text/html": [
       "\n",
       "  <div id=\"df-736a68a3-061a-49d3-944f-fbfb8957387b\">\n",
       "    <div class=\"colab-df-container\">\n",
       "      <div>\n",
       "<style scoped>\n",
       "    .dataframe tbody tr th:only-of-type {\n",
       "        vertical-align: middle;\n",
       "    }\n",
       "\n",
       "    .dataframe tbody tr th {\n",
       "        vertical-align: top;\n",
       "    }\n",
       "\n",
       "    .dataframe thead th {\n",
       "        text-align: right;\n",
       "    }\n",
       "</style>\n",
       "<table border=\"1\" class=\"dataframe\">\n",
       "  <thead>\n",
       "    <tr style=\"text-align: right;\">\n",
       "      <th></th>\n",
       "      <th>Topic_0</th>\n",
       "      <th>Topic_1</th>\n",
       "      <th>Topic_2</th>\n",
       "      <th>Topic_3</th>\n",
       "      <th>Topic_4</th>\n",
       "      <th>Topic_5</th>\n",
       "      <th>Topic_6</th>\n",
       "    </tr>\n",
       "  </thead>\n",
       "  <tbody>\n",
       "    <tr>\n",
       "      <th>0</th>\n",
       "      <td>tsa</td>\n",
       "      <td>science1</td>\n",
       "      <td>rail</td>\n",
       "      <td>guard</td>\n",
       "      <td>broadband</td>\n",
       "      <td>science1</td>\n",
       "      <td>nasa</td>\n",
       "    </tr>\n",
       "    <tr>\n",
       "      <th>1</th>\n",
       "      <td>jackie</td>\n",
       "      <td>emission</td>\n",
       "      <td>phd</td>\n",
       "      <td>airline</td>\n",
       "      <td>fcc</td>\n",
       "      <td>nanotechnology</td>\n",
       "      <td>science1</td>\n",
       "    </tr>\n",
       "    <tr>\n",
       "      <th>2</th>\n",
       "      <td>passenger</td>\n",
       "      <td>carbon</td>\n",
       "      <td>ftc</td>\n",
       "      <td>fish</td>\n",
       "      <td>wireless</td>\n",
       "      <td>nuclear</td>\n",
       "      <td>flight</td>\n",
       "    </tr>\n",
       "    <tr>\n",
       "      <th>3</th>\n",
       "      <td>driver</td>\n",
       "      <td>coal</td>\n",
       "      <td>hurricane</td>\n",
       "      <td>ocean</td>\n",
       "      <td>child</td>\n",
       "      <td>epa</td>\n",
       "      <td>faa</td>\n",
       "    </tr>\n",
       "    <tr>\n",
       "      <th>4</th>\n",
       "      <td>airport</td>\n",
       "      <td>plant</td>\n",
       "      <td>jackf</td>\n",
       "      <td>jackie</td>\n",
       "      <td>cable</td>\n",
       "      <td>engineer</td>\n",
       "      <td>exploration</td>\n",
       "    </tr>\n",
       "    <tr>\n",
       "      <th>5</th>\n",
       "      <td>dhs</td>\n",
       "      <td>co2</td>\n",
       "      <td>railroad</td>\n",
       "      <td>noaa</td>\n",
       "      <td>science1</td>\n",
       "      <td>solar</td>\n",
       "      <td>shuttle</td>\n",
       "    </tr>\n",
       "    <tr>\n",
       "      <th>6</th>\n",
       "      <td>border</td>\n",
       "      <td>ocean</td>\n",
       "      <td>jackie</td>\n",
       "      <td>faa</td>\n",
       "      <td>provider</td>\n",
       "      <td>noaa</td>\n",
       "      <td>aeronautics</td>\n",
       "    </tr>\n",
       "    <tr>\n",
       "      <th>7</th>\n",
       "      <td>screen</td>\n",
       "      <td>greenhouse</td>\n",
       "      <td>0ct</td>\n",
       "      <td>airport</td>\n",
       "      <td>student</td>\n",
       "      <td>nasa</td>\n",
       "      <td>engineer</td>\n",
       "    </tr>\n",
       "    <tr>\n",
       "      <th>8</th>\n",
       "      <td>carrier</td>\n",
       "      <td>jackie</td>\n",
       "      <td>passenger</td>\n",
       "      <td>vessel</td>\n",
       "      <td>jackie</td>\n",
       "      <td>waste</td>\n",
       "      <td>nist</td>\n",
       "    </tr>\n",
       "    <tr>\n",
       "      <th>9</th>\n",
       "      <td>truck</td>\n",
       "      <td>scom1</td>\n",
       "      <td>scom1</td>\n",
       "      <td>fishery</td>\n",
       "      <td>universal</td>\n",
       "      <td>nsf</td>\n",
       "      <td>hurricane</td>\n",
       "    </tr>\n",
       "  </tbody>\n",
       "</table>\n",
       "</div>\n",
       "      <button class=\"colab-df-convert\" onclick=\"convertToInteractive('df-736a68a3-061a-49d3-944f-fbfb8957387b')\"\n",
       "              title=\"Convert this dataframe to an interactive table.\"\n",
       "              style=\"display:none;\">\n",
       "        \n",
       "  <svg xmlns=\"http://www.w3.org/2000/svg\" height=\"24px\"viewBox=\"0 0 24 24\"\n",
       "       width=\"24px\">\n",
       "    <path d=\"M0 0h24v24H0V0z\" fill=\"none\"/>\n",
       "    <path d=\"M18.56 5.44l.94 2.06.94-2.06 2.06-.94-2.06-.94-.94-2.06-.94 2.06-2.06.94zm-11 1L8.5 8.5l.94-2.06 2.06-.94-2.06-.94L8.5 2.5l-.94 2.06-2.06.94zm10 10l.94 2.06.94-2.06 2.06-.94-2.06-.94-.94-2.06-.94 2.06-2.06.94z\"/><path d=\"M17.41 7.96l-1.37-1.37c-.4-.4-.92-.59-1.43-.59-.52 0-1.04.2-1.43.59L10.3 9.45l-7.72 7.72c-.78.78-.78 2.05 0 2.83L4 21.41c.39.39.9.59 1.41.59.51 0 1.02-.2 1.41-.59l7.78-7.78 2.81-2.81c.8-.78.8-2.07 0-2.86zM5.41 20L4 18.59l7.72-7.72 1.47 1.35L5.41 20z\"/>\n",
       "  </svg>\n",
       "      </button>\n",
       "      \n",
       "  <style>\n",
       "    .colab-df-container {\n",
       "      display:flex;\n",
       "      flex-wrap:wrap;\n",
       "      gap: 12px;\n",
       "    }\n",
       "\n",
       "    .colab-df-convert {\n",
       "      background-color: #E8F0FE;\n",
       "      border: none;\n",
       "      border-radius: 50%;\n",
       "      cursor: pointer;\n",
       "      display: none;\n",
       "      fill: #1967D2;\n",
       "      height: 32px;\n",
       "      padding: 0 0 0 0;\n",
       "      width: 32px;\n",
       "    }\n",
       "\n",
       "    .colab-df-convert:hover {\n",
       "      background-color: #E2EBFA;\n",
       "      box-shadow: 0px 1px 2px rgba(60, 64, 67, 0.3), 0px 1px 3px 1px rgba(60, 64, 67, 0.15);\n",
       "      fill: #174EA6;\n",
       "    }\n",
       "\n",
       "    [theme=dark] .colab-df-convert {\n",
       "      background-color: #3B4455;\n",
       "      fill: #D2E3FC;\n",
       "    }\n",
       "\n",
       "    [theme=dark] .colab-df-convert:hover {\n",
       "      background-color: #434B5C;\n",
       "      box-shadow: 0px 1px 3px 1px rgba(0, 0, 0, 0.15);\n",
       "      filter: drop-shadow(0px 1px 2px rgba(0, 0, 0, 0.3));\n",
       "      fill: #FFFFFF;\n",
       "    }\n",
       "  </style>\n",
       "\n",
       "      <script>\n",
       "        const buttonEl =\n",
       "          document.querySelector('#df-736a68a3-061a-49d3-944f-fbfb8957387b button.colab-df-convert');\n",
       "        buttonEl.style.display =\n",
       "          google.colab.kernel.accessAllowed ? 'block' : 'none';\n",
       "\n",
       "        async function convertToInteractive(key) {\n",
       "          const element = document.querySelector('#df-736a68a3-061a-49d3-944f-fbfb8957387b');\n",
       "          const dataTable =\n",
       "            await google.colab.kernel.invokeFunction('convertToInteractive',\n",
       "                                                     [key], {});\n",
       "          if (!dataTable) return;\n",
       "\n",
       "          const docLinkHtml = 'Like what you see? Visit the ' +\n",
       "            '<a target=\"_blank\" href=https://colab.research.google.com/notebooks/data_table.ipynb>data table notebook</a>'\n",
       "            + ' to learn more about interactive tables.';\n",
       "          element.innerHTML = '';\n",
       "          dataTable['output_type'] = 'display_data';\n",
       "          await google.colab.output.renderOutput(dataTable, element);\n",
       "          const docLink = document.createElement('div');\n",
       "          docLink.innerHTML = docLinkHtml;\n",
       "          element.appendChild(docLink);\n",
       "        }\n",
       "      </script>\n",
       "    </div>\n",
       "  </div>\n",
       "  "
      ],
      "text/plain": [
       "     Topic_0     Topic_1    Topic_2  ...    Topic_4         Topic_5      Topic_6\n",
       "0        tsa    science1       rail  ...  broadband        science1         nasa\n",
       "1     jackie    emission        phd  ...        fcc  nanotechnology     science1\n",
       "2  passenger      carbon        ftc  ...   wireless         nuclear       flight\n",
       "3     driver        coal  hurricane  ...      child             epa          faa\n",
       "4    airport       plant      jackf  ...      cable        engineer  exploration\n",
       "5        dhs         co2   railroad  ...   science1           solar      shuttle\n",
       "6     border       ocean     jackie  ...   provider            noaa  aeronautics\n",
       "7     screen  greenhouse        0ct  ...    student            nasa     engineer\n",
       "8    carrier      jackie  passenger  ...     jackie           waste         nist\n",
       "9      truck       scom1      scom1  ...  universal             nsf    hurricane\n",
       "\n",
       "[10 rows x 7 columns]"
      ]
     },
     "execution_count": 48,
     "metadata": {},
     "output_type": "execute_result"
    }
   ],
   "source": [
    "df_lsts[2] # eta=10"
   ]
  },
  {
   "cell_type": "code",
   "execution_count": null,
   "metadata": {
    "id": "r0kIglTZWC89"
   },
   "outputs": [],
   "source": [
    "FeatureDF = ldaDF[['topic_0', 'topic_1', 'topic_2','topic_3','topic_4','topic_5', 'topic_6']]\n"
   ]
  },
  {
   "cell_type": "code",
   "execution_count": null,
   "metadata": {
    "id": "S1swRe6GW0Wy"
   },
   "outputs": [],
   "source": [
    "TFVectorizer = sklearn.feature_extraction.text.TfidfVectorizer(max_df=0.5, \n",
    "                                                               max_features=1010, \n",
    "                                                               min_df=1, \n",
    "                                                               stop_words='english',\n",
    "                                                               norm='l2')"
   ]
  },
  {
   "cell_type": "code",
   "execution_count": null,
   "metadata": {
    "colab": {
     "base_uri": "https://localhost:8080/",
     "height": 207
    },
    "collapsed": true,
    "id": "8aQHzlQIRmtQ",
    "outputId": "e8389466-c3ef-4beb-bc0f-0dd0239c2a79"
   },
   "outputs": [
    {
     "ename": "NameError",
     "evalue": "ignored",
     "output_type": "error",
     "traceback": [
      "\u001b[0;31m---------------------------------------------------------------------------\u001b[0m",
      "\u001b[0;31mNameError\u001b[0m                                 Traceback (most recent call last)",
      "\u001b[0;32m<ipython-input-1-67aaa0b13969>\u001b[0m in \u001b[0;36m<module>\u001b[0;34m()\u001b[0m\n\u001b[1;32m      1\u001b[0m \u001b[0;31m# fit a new k-mean clustering with topics as additional feature\u001b[0m\u001b[0;34m\u001b[0m\u001b[0;34m\u001b[0m\u001b[0;34m\u001b[0m\u001b[0m\n\u001b[0;32m----> 2\u001b[0;31m \u001b[0mTFVects3\u001b[0m \u001b[0;34m=\u001b[0m \u001b[0mTFVectorizer\u001b[0m\u001b[0;34m.\u001b[0m\u001b[0mfit_transform\u001b[0m\u001b[0;34m(\u001b[0m\u001b[0mDF0510\u001b[0m\u001b[0;34m[\u001b[0m\u001b[0;34m'raw_text'\u001b[0m\u001b[0;34m]\u001b[0m\u001b[0;34m)\u001b[0m\u001b[0;34m\u001b[0m\u001b[0;34m\u001b[0m\u001b[0m\n\u001b[0m\u001b[1;32m      3\u001b[0m \u001b[0mTFVects3\u001b[0m \u001b[0;34m=\u001b[0m \u001b[0mnp\u001b[0m\u001b[0;34m.\u001b[0m\u001b[0mappend\u001b[0m\u001b[0;34m(\u001b[0m\u001b[0mTFVects3\u001b[0m \u001b[0;34m,\u001b[0m \u001b[0mFeatureDF\u001b[0m\u001b[0;34m.\u001b[0m\u001b[0mto_numpy\u001b[0m\u001b[0;34m(\u001b[0m\u001b[0;34m)\u001b[0m\u001b[0;34m)\u001b[0m\u001b[0;34m\u001b[0m\u001b[0;34m\u001b[0m\u001b[0m\n",
      "\u001b[0;31mNameError\u001b[0m: name 'TFVectorizer' is not defined"
     ]
    }
   ],
   "source": [
    "# fit a new k-mean clustering with topics as additional feature; have not managed to make it work\n",
    "TFVects3 = TFVectorizer.fit_transform(DF0510['raw_text'])\n",
    "TFVects3 = np.append(TFVects3 , FeatureDF.to_numpy())"
   ]
  },
  {
   "cell_type": "code",
   "execution_count": null,
   "metadata": {
    "colab": {
     "base_uri": "https://localhost:8080/",
     "height": 433
    },
    "collapsed": true,
    "id": "cayG8bsTXApx",
    "outputId": "94a74a61-3d56-4958-e2f2-a90df424f1db"
   },
   "outputs": [
    {
     "ename": "ValueError",
     "evalue": "ignored",
     "output_type": "error",
     "traceback": [
      "\u001b[0;31m---------------------------------------------------------------------------\u001b[0m",
      "\u001b[0;31mTypeError\u001b[0m                                 Traceback (most recent call last)",
      "\u001b[0;31mTypeError\u001b[0m: float() argument must be a string or a number, not 'csr_matrix'",
      "\nThe above exception was the direct cause of the following exception:\n",
      "\u001b[0;31mValueError\u001b[0m                                Traceback (most recent call last)",
      "\u001b[0;32m<ipython-input-72-f6ab240cbad9>\u001b[0m in \u001b[0;36m<module>\u001b[0;34m()\u001b[0m\n\u001b[1;32m      1\u001b[0m \u001b[0mKM3\u001b[0m \u001b[0;34m=\u001b[0m \u001b[0msklearn\u001b[0m\u001b[0;34m.\u001b[0m\u001b[0mcluster\u001b[0m\u001b[0;34m.\u001b[0m\u001b[0mKMeans\u001b[0m\u001b[0;34m(\u001b[0m\u001b[0mn_clusters\u001b[0m \u001b[0;34m=\u001b[0m \u001b[0mnumCategories\u001b[0m\u001b[0;34m,\u001b[0m \u001b[0minit\u001b[0m\u001b[0;34m=\u001b[0m\u001b[0;34m'k-means++'\u001b[0m\u001b[0;34m)\u001b[0m\u001b[0;34m\u001b[0m\u001b[0;34m\u001b[0m\u001b[0m\n\u001b[0;32m----> 2\u001b[0;31m \u001b[0mKM3\u001b[0m\u001b[0;34m.\u001b[0m\u001b[0mfit\u001b[0m\u001b[0;34m(\u001b[0m\u001b[0mTFVects3\u001b[0m\u001b[0;34m)\u001b[0m\u001b[0;34m\u001b[0m\u001b[0;34m\u001b[0m\u001b[0m\n\u001b[0m",
      "\u001b[0;32m/usr/local/lib/python3.7/dist-packages/sklearn/cluster/_kmeans.py\u001b[0m in \u001b[0;36mfit\u001b[0;34m(self, X, y, sample_weight)\u001b[0m\n\u001b[1;32m   1141\u001b[0m             \u001b[0morder\u001b[0m\u001b[0;34m=\u001b[0m\u001b[0;34m\"C\"\u001b[0m\u001b[0;34m,\u001b[0m\u001b[0;34m\u001b[0m\u001b[0;34m\u001b[0m\u001b[0m\n\u001b[1;32m   1142\u001b[0m             \u001b[0mcopy\u001b[0m\u001b[0;34m=\u001b[0m\u001b[0mself\u001b[0m\u001b[0;34m.\u001b[0m\u001b[0mcopy_x\u001b[0m\u001b[0;34m,\u001b[0m\u001b[0;34m\u001b[0m\u001b[0;34m\u001b[0m\u001b[0m\n\u001b[0;32m-> 1143\u001b[0;31m             \u001b[0maccept_large_sparse\u001b[0m\u001b[0;34m=\u001b[0m\u001b[0;32mFalse\u001b[0m\u001b[0;34m,\u001b[0m\u001b[0;34m\u001b[0m\u001b[0;34m\u001b[0m\u001b[0m\n\u001b[0m\u001b[1;32m   1144\u001b[0m         )\n\u001b[1;32m   1145\u001b[0m \u001b[0;34m\u001b[0m\u001b[0m\n",
      "\u001b[0;32m/usr/local/lib/python3.7/dist-packages/sklearn/base.py\u001b[0m in \u001b[0;36m_validate_data\u001b[0;34m(self, X, y, reset, validate_separately, **check_params)\u001b[0m\n\u001b[1;32m    564\u001b[0m             \u001b[0;32mraise\u001b[0m \u001b[0mValueError\u001b[0m\u001b[0;34m(\u001b[0m\u001b[0;34m\"Validation should be done on X, y or both.\"\u001b[0m\u001b[0;34m)\u001b[0m\u001b[0;34m\u001b[0m\u001b[0;34m\u001b[0m\u001b[0m\n\u001b[1;32m    565\u001b[0m         \u001b[0;32melif\u001b[0m \u001b[0;32mnot\u001b[0m \u001b[0mno_val_X\u001b[0m \u001b[0;32mand\u001b[0m \u001b[0mno_val_y\u001b[0m\u001b[0;34m:\u001b[0m\u001b[0;34m\u001b[0m\u001b[0;34m\u001b[0m\u001b[0m\n\u001b[0;32m--> 566\u001b[0;31m             \u001b[0mX\u001b[0m \u001b[0;34m=\u001b[0m \u001b[0mcheck_array\u001b[0m\u001b[0;34m(\u001b[0m\u001b[0mX\u001b[0m\u001b[0;34m,\u001b[0m \u001b[0;34m**\u001b[0m\u001b[0mcheck_params\u001b[0m\u001b[0;34m)\u001b[0m\u001b[0;34m\u001b[0m\u001b[0;34m\u001b[0m\u001b[0m\n\u001b[0m\u001b[1;32m    567\u001b[0m             \u001b[0mout\u001b[0m \u001b[0;34m=\u001b[0m \u001b[0mX\u001b[0m\u001b[0;34m\u001b[0m\u001b[0;34m\u001b[0m\u001b[0m\n\u001b[1;32m    568\u001b[0m         \u001b[0;32melif\u001b[0m \u001b[0mno_val_X\u001b[0m \u001b[0;32mand\u001b[0m \u001b[0;32mnot\u001b[0m \u001b[0mno_val_y\u001b[0m\u001b[0;34m:\u001b[0m\u001b[0;34m\u001b[0m\u001b[0;34m\u001b[0m\u001b[0m\n",
      "\u001b[0;32m/usr/local/lib/python3.7/dist-packages/sklearn/utils/validation.py\u001b[0m in \u001b[0;36mcheck_array\u001b[0;34m(array, accept_sparse, accept_large_sparse, dtype, order, copy, force_all_finite, ensure_2d, allow_nd, ensure_min_samples, ensure_min_features, estimator)\u001b[0m\n\u001b[1;32m    744\u001b[0m                     \u001b[0marray\u001b[0m \u001b[0;34m=\u001b[0m \u001b[0marray\u001b[0m\u001b[0;34m.\u001b[0m\u001b[0mastype\u001b[0m\u001b[0;34m(\u001b[0m\u001b[0mdtype\u001b[0m\u001b[0;34m,\u001b[0m \u001b[0mcasting\u001b[0m\u001b[0;34m=\u001b[0m\u001b[0;34m\"unsafe\"\u001b[0m\u001b[0;34m,\u001b[0m \u001b[0mcopy\u001b[0m\u001b[0;34m=\u001b[0m\u001b[0;32mFalse\u001b[0m\u001b[0;34m)\u001b[0m\u001b[0;34m\u001b[0m\u001b[0;34m\u001b[0m\u001b[0m\n\u001b[1;32m    745\u001b[0m                 \u001b[0;32melse\u001b[0m\u001b[0;34m:\u001b[0m\u001b[0;34m\u001b[0m\u001b[0;34m\u001b[0m\u001b[0m\n\u001b[0;32m--> 746\u001b[0;31m                     \u001b[0marray\u001b[0m \u001b[0;34m=\u001b[0m \u001b[0mnp\u001b[0m\u001b[0;34m.\u001b[0m\u001b[0masarray\u001b[0m\u001b[0;34m(\u001b[0m\u001b[0marray\u001b[0m\u001b[0;34m,\u001b[0m \u001b[0morder\u001b[0m\u001b[0;34m=\u001b[0m\u001b[0morder\u001b[0m\u001b[0;34m,\u001b[0m \u001b[0mdtype\u001b[0m\u001b[0;34m=\u001b[0m\u001b[0mdtype\u001b[0m\u001b[0;34m)\u001b[0m\u001b[0;34m\u001b[0m\u001b[0;34m\u001b[0m\u001b[0m\n\u001b[0m\u001b[1;32m    747\u001b[0m             \u001b[0;32mexcept\u001b[0m \u001b[0mComplexWarning\u001b[0m \u001b[0;32mas\u001b[0m \u001b[0mcomplex_warning\u001b[0m\u001b[0;34m:\u001b[0m\u001b[0;34m\u001b[0m\u001b[0;34m\u001b[0m\u001b[0m\n\u001b[1;32m    748\u001b[0m                 raise ValueError(\n",
      "\u001b[0;32m/usr/local/lib/python3.7/dist-packages/numpy/core/_asarray.py\u001b[0m in \u001b[0;36masarray\u001b[0;34m(a, dtype, order)\u001b[0m\n\u001b[1;32m     81\u001b[0m \u001b[0;34m\u001b[0m\u001b[0m\n\u001b[1;32m     82\u001b[0m     \"\"\"\n\u001b[0;32m---> 83\u001b[0;31m     \u001b[0;32mreturn\u001b[0m \u001b[0marray\u001b[0m\u001b[0;34m(\u001b[0m\u001b[0ma\u001b[0m\u001b[0;34m,\u001b[0m \u001b[0mdtype\u001b[0m\u001b[0;34m,\u001b[0m \u001b[0mcopy\u001b[0m\u001b[0;34m=\u001b[0m\u001b[0;32mFalse\u001b[0m\u001b[0;34m,\u001b[0m \u001b[0morder\u001b[0m\u001b[0;34m=\u001b[0m\u001b[0morder\u001b[0m\u001b[0;34m)\u001b[0m\u001b[0;34m\u001b[0m\u001b[0;34m\u001b[0m\u001b[0m\n\u001b[0m\u001b[1;32m     84\u001b[0m \u001b[0;34m\u001b[0m\u001b[0m\n\u001b[1;32m     85\u001b[0m \u001b[0;34m\u001b[0m\u001b[0m\n",
      "\u001b[0;31mValueError\u001b[0m: setting an array element with a sequence."
     ]
    }
   ],
   "source": [
    "KM3 = sklearn.cluster.KMeans(n_clusters = numCategories, init='k-means++')\n",
    "KM3.fit(TFVects3)"
   ]
  },
  {
   "cell_type": "code",
   "execution_count": null,
   "metadata": {
    "colab": {
     "base_uri": "https://localhost:8080/"
    },
    "collapsed": true,
    "id": "DAYuTqVQWjiT",
    "outputId": "b94a579d-c743-4296-bca0-a36152de0be1"
   },
   "outputs": [
    {
     "data": {
      "text/plain": [
       "array([<470x1000 sparse matrix of type '<class 'numpy.float64'>'\n",
       "\twith 145812 stored elements in Compressed Sparse Row format>,\n",
       "       0.0, 0.0, ..., 0.0, 0.0, 0.0], dtype=object)"
      ]
     },
     "execution_count": 67,
     "metadata": {},
     "output_type": "execute_result"
    }
   ],
   "source": [
    "TFVects3"
   ]
  },
  {
   "cell_type": "code",
   "execution_count": null,
   "metadata": {
    "colab": {
     "base_uri": "https://localhost:8080/",
     "height": 424
    },
    "collapsed": true,
    "id": "zIfDpSGLUH7v",
    "outputId": "d38a98b4-b3ba-4c4d-e4a7-dff3e4e79881"
   },
   "outputs": [
    {
     "data": {
      "text/html": [
       "\n",
       "  <div id=\"df-2507ab3d-6427-4087-862e-992886d67187\">\n",
       "    <div class=\"colab-df-container\">\n",
       "      <div>\n",
       "<style scoped>\n",
       "    .dataframe tbody tr th:only-of-type {\n",
       "        vertical-align: middle;\n",
       "    }\n",
       "\n",
       "    .dataframe tbody tr th {\n",
       "        vertical-align: top;\n",
       "    }\n",
       "\n",
       "    .dataframe thead th {\n",
       "        text-align: right;\n",
       "    }\n",
       "</style>\n",
       "<table border=\"1\" class=\"dataframe\">\n",
       "  <thead>\n",
       "    <tr style=\"text-align: right;\">\n",
       "      <th></th>\n",
       "      <th>topic_0</th>\n",
       "      <th>topic_1</th>\n",
       "      <th>topic_2</th>\n",
       "      <th>topic_3</th>\n",
       "      <th>topic_4</th>\n",
       "      <th>topic_5</th>\n",
       "      <th>topic_6</th>\n",
       "    </tr>\n",
       "  </thead>\n",
       "  <tbody>\n",
       "    <tr>\n",
       "      <th>324</th>\n",
       "      <td>0.000000</td>\n",
       "      <td>0.000000</td>\n",
       "      <td>0.358744</td>\n",
       "      <td>0.0</td>\n",
       "      <td>0.640481</td>\n",
       "      <td>0.0</td>\n",
       "      <td>0.000000</td>\n",
       "    </tr>\n",
       "    <tr>\n",
       "      <th>262</th>\n",
       "      <td>0.000000</td>\n",
       "      <td>0.000000</td>\n",
       "      <td>0.026157</td>\n",
       "      <td>0.0</td>\n",
       "      <td>0.579163</td>\n",
       "      <td>0.0</td>\n",
       "      <td>0.387950</td>\n",
       "    </tr>\n",
       "    <tr>\n",
       "      <th>263</th>\n",
       "      <td>0.999779</td>\n",
       "      <td>0.000000</td>\n",
       "      <td>0.000000</td>\n",
       "      <td>0.0</td>\n",
       "      <td>0.000000</td>\n",
       "      <td>0.0</td>\n",
       "      <td>0.000000</td>\n",
       "    </tr>\n",
       "    <tr>\n",
       "      <th>117</th>\n",
       "      <td>0.000000</td>\n",
       "      <td>0.000000</td>\n",
       "      <td>0.997017</td>\n",
       "      <td>0.0</td>\n",
       "      <td>0.000000</td>\n",
       "      <td>0.0</td>\n",
       "      <td>0.000000</td>\n",
       "    </tr>\n",
       "    <tr>\n",
       "      <th>112</th>\n",
       "      <td>0.000000</td>\n",
       "      <td>0.000000</td>\n",
       "      <td>0.999689</td>\n",
       "      <td>0.0</td>\n",
       "      <td>0.000000</td>\n",
       "      <td>0.0</td>\n",
       "      <td>0.000000</td>\n",
       "    </tr>\n",
       "    <tr>\n",
       "      <th>...</th>\n",
       "      <td>...</td>\n",
       "      <td>...</td>\n",
       "      <td>...</td>\n",
       "      <td>...</td>\n",
       "      <td>...</td>\n",
       "      <td>...</td>\n",
       "      <td>...</td>\n",
       "    </tr>\n",
       "    <tr>\n",
       "      <th>344</th>\n",
       "      <td>0.472346</td>\n",
       "      <td>0.523977</td>\n",
       "      <td>0.000000</td>\n",
       "      <td>0.0</td>\n",
       "      <td>0.000000</td>\n",
       "      <td>0.0</td>\n",
       "      <td>0.000000</td>\n",
       "    </tr>\n",
       "    <tr>\n",
       "      <th>350</th>\n",
       "      <td>0.933412</td>\n",
       "      <td>0.026517</td>\n",
       "      <td>0.039374</td>\n",
       "      <td>0.0</td>\n",
       "      <td>0.000000</td>\n",
       "      <td>0.0</td>\n",
       "      <td>0.000000</td>\n",
       "    </tr>\n",
       "    <tr>\n",
       "      <th>120</th>\n",
       "      <td>0.855716</td>\n",
       "      <td>0.000000</td>\n",
       "      <td>0.143984</td>\n",
       "      <td>0.0</td>\n",
       "      <td>0.000000</td>\n",
       "      <td>0.0</td>\n",
       "      <td>0.000000</td>\n",
       "    </tr>\n",
       "    <tr>\n",
       "      <th>90</th>\n",
       "      <td>0.000000</td>\n",
       "      <td>0.113858</td>\n",
       "      <td>0.000000</td>\n",
       "      <td>0.0</td>\n",
       "      <td>0.356717</td>\n",
       "      <td>0.0</td>\n",
       "      <td>0.529022</td>\n",
       "    </tr>\n",
       "    <tr>\n",
       "      <th>73</th>\n",
       "      <td>0.000000</td>\n",
       "      <td>0.998603</td>\n",
       "      <td>0.000000</td>\n",
       "      <td>0.0</td>\n",
       "      <td>0.000000</td>\n",
       "      <td>0.0</td>\n",
       "      <td>0.000000</td>\n",
       "    </tr>\n",
       "  </tbody>\n",
       "</table>\n",
       "<p>470 rows × 7 columns</p>\n",
       "</div>\n",
       "      <button class=\"colab-df-convert\" onclick=\"convertToInteractive('df-2507ab3d-6427-4087-862e-992886d67187')\"\n",
       "              title=\"Convert this dataframe to an interactive table.\"\n",
       "              style=\"display:none;\">\n",
       "        \n",
       "  <svg xmlns=\"http://www.w3.org/2000/svg\" height=\"24px\"viewBox=\"0 0 24 24\"\n",
       "       width=\"24px\">\n",
       "    <path d=\"M0 0h24v24H0V0z\" fill=\"none\"/>\n",
       "    <path d=\"M18.56 5.44l.94 2.06.94-2.06 2.06-.94-2.06-.94-.94-2.06-.94 2.06-2.06.94zm-11 1L8.5 8.5l.94-2.06 2.06-.94-2.06-.94L8.5 2.5l-.94 2.06-2.06.94zm10 10l.94 2.06.94-2.06 2.06-.94-2.06-.94-.94-2.06-.94 2.06-2.06.94z\"/><path d=\"M17.41 7.96l-1.37-1.37c-.4-.4-.92-.59-1.43-.59-.52 0-1.04.2-1.43.59L10.3 9.45l-7.72 7.72c-.78.78-.78 2.05 0 2.83L4 21.41c.39.39.9.59 1.41.59.51 0 1.02-.2 1.41-.59l7.78-7.78 2.81-2.81c.8-.78.8-2.07 0-2.86zM5.41 20L4 18.59l7.72-7.72 1.47 1.35L5.41 20z\"/>\n",
       "  </svg>\n",
       "      </button>\n",
       "      \n",
       "  <style>\n",
       "    .colab-df-container {\n",
       "      display:flex;\n",
       "      flex-wrap:wrap;\n",
       "      gap: 12px;\n",
       "    }\n",
       "\n",
       "    .colab-df-convert {\n",
       "      background-color: #E8F0FE;\n",
       "      border: none;\n",
       "      border-radius: 50%;\n",
       "      cursor: pointer;\n",
       "      display: none;\n",
       "      fill: #1967D2;\n",
       "      height: 32px;\n",
       "      padding: 0 0 0 0;\n",
       "      width: 32px;\n",
       "    }\n",
       "\n",
       "    .colab-df-convert:hover {\n",
       "      background-color: #E2EBFA;\n",
       "      box-shadow: 0px 1px 2px rgba(60, 64, 67, 0.3), 0px 1px 3px 1px rgba(60, 64, 67, 0.15);\n",
       "      fill: #174EA6;\n",
       "    }\n",
       "\n",
       "    [theme=dark] .colab-df-convert {\n",
       "      background-color: #3B4455;\n",
       "      fill: #D2E3FC;\n",
       "    }\n",
       "\n",
       "    [theme=dark] .colab-df-convert:hover {\n",
       "      background-color: #434B5C;\n",
       "      box-shadow: 0px 1px 3px 1px rgba(0, 0, 0, 0.15);\n",
       "      filter: drop-shadow(0px 1px 2px rgba(0, 0, 0, 0.3));\n",
       "      fill: #FFFFFF;\n",
       "    }\n",
       "  </style>\n",
       "\n",
       "      <script>\n",
       "        const buttonEl =\n",
       "          document.querySelector('#df-2507ab3d-6427-4087-862e-992886d67187 button.colab-df-convert');\n",
       "        buttonEl.style.display =\n",
       "          google.colab.kernel.accessAllowed ? 'block' : 'none';\n",
       "\n",
       "        async function convertToInteractive(key) {\n",
       "          const element = document.querySelector('#df-2507ab3d-6427-4087-862e-992886d67187');\n",
       "          const dataTable =\n",
       "            await google.colab.kernel.invokeFunction('convertToInteractive',\n",
       "                                                     [key], {});\n",
       "          if (!dataTable) return;\n",
       "\n",
       "          const docLinkHtml = 'Like what you see? Visit the ' +\n",
       "            '<a target=\"_blank\" href=https://colab.research.google.com/notebooks/data_table.ipynb>data table notebook</a>'\n",
       "            + ' to learn more about interactive tables.';\n",
       "          element.innerHTML = '';\n",
       "          dataTable['output_type'] = 'display_data';\n",
       "          await google.colab.output.renderOutput(dataTable, element);\n",
       "          const docLink = document.createElement('div');\n",
       "          docLink.innerHTML = docLinkHtml;\n",
       "          element.appendChild(docLink);\n",
       "        }\n",
       "      </script>\n",
       "    </div>\n",
       "  </div>\n",
       "  "
      ],
      "text/plain": [
       "      topic_0   topic_1   topic_2  topic_3   topic_4  topic_5   topic_6\n",
       "324  0.000000  0.000000  0.358744      0.0  0.640481      0.0  0.000000\n",
       "262  0.000000  0.000000  0.026157      0.0  0.579163      0.0  0.387950\n",
       "263  0.999779  0.000000  0.000000      0.0  0.000000      0.0  0.000000\n",
       "117  0.000000  0.000000  0.997017      0.0  0.000000      0.0  0.000000\n",
       "112  0.000000  0.000000  0.999689      0.0  0.000000      0.0  0.000000\n",
       "..        ...       ...       ...      ...       ...      ...       ...\n",
       "344  0.472346  0.523977  0.000000      0.0  0.000000      0.0  0.000000\n",
       "350  0.933412  0.026517  0.039374      0.0  0.000000      0.0  0.000000\n",
       "120  0.855716  0.000000  0.143984      0.0  0.000000      0.0  0.000000\n",
       "90   0.000000  0.113858  0.000000      0.0  0.356717      0.0  0.529022\n",
       "73   0.000000  0.998603  0.000000      0.0  0.000000      0.0  0.000000\n",
       "\n",
       "[470 rows x 7 columns]"
      ]
     },
     "execution_count": 62,
     "metadata": {},
     "output_type": "execute_result"
    }
   ],
   "source": [
    "FeatureDF"
   ]
  },
  {
   "cell_type": "markdown",
   "metadata": {
    "id": "qLKY46Pj3NjF"
   },
   "source": [
    "## Extending Topic Models within broader research pipelines\n",
    "\n",
    "Topic models can be the base of more complex analysis. One good example is the paper - Individuals, institutions, and innovation in the debates of the French Revolution (https://www.pnas.org/content/115/18/4607), where they use topic models to find similarities and differences between the topics of different individuals. Let us revisit this idea using the Soap opera database. Who innovates and influences the most within the Soap?\n",
    "\n",
    "The next few lines of code follows the same process as last weeks notebook. Please visit the old notebook to read descriptions of the code if you have forgotten what it does. `lucem_illud.loadDavies` can be found in [loaders.py](https://github.com/UChicago-Computational-Content-Analysis/lucem_illud/blob/main/lucem_illud/loaders.py)."
   ]
  },
  {
   "cell_type": "code",
   "execution_count": null,
   "metadata": {
    "id": "0568Bu3m3NjF"
   },
   "outputs": [],
   "source": [
    "corpora_address = \"/root/data\""
   ]
  },
  {
   "cell_type": "code",
   "execution_count": null,
   "metadata": {
    "colab": {
     "base_uri": "https://localhost:8080/",
     "height": 299
    },
    "collapsed": true,
    "id": "GeR8OeB63NjF",
    "outputId": "cd1e380e-649a-43d8-c72b-f90304cbf943"
   },
   "outputs": [
    {
     "ename": "FileNotFoundError",
     "evalue": "ignored",
     "output_type": "error",
     "traceback": [
      "\u001b[0;31m---------------------------------------------------------------------------\u001b[0m",
      "\u001b[0;31mFileNotFoundError\u001b[0m                         Traceback (most recent call last)",
      "\u001b[0;32m<ipython-input-40-5c632b770aec>\u001b[0m in \u001b[0;36m<module>\u001b[0;34m()\u001b[0m\n\u001b[0;32m----> 1\u001b[0;31m \u001b[0msoap_texts\u001b[0m \u001b[0;34m=\u001b[0m \u001b[0mlucem_illud\u001b[0m\u001b[0;34m.\u001b[0m\u001b[0mloadDavies\u001b[0m\u001b[0;34m(\u001b[0m\u001b[0mcorpora_address\u001b[0m\u001b[0;34m,\u001b[0m \u001b[0mnum_files\u001b[0m\u001b[0;34m=\u001b[0m\u001b[0;36m2000\u001b[0m\u001b[0;34m)\u001b[0m\u001b[0;34m\u001b[0m\u001b[0;34m\u001b[0m\u001b[0m\n\u001b[0m",
      "\u001b[0;32m/usr/local/lib/python3.7/dist-packages/lucem_illud/loaders.py\u001b[0m in \u001b[0;36mloadDavies\u001b[0;34m(address, corpus_style, num_files, return_raw)\u001b[0m\n\u001b[1;32m    140\u001b[0m \u001b[0;32mdef\u001b[0m \u001b[0mloadDavies\u001b[0m\u001b[0;34m(\u001b[0m\u001b[0maddress\u001b[0m\u001b[0;34m,\u001b[0m \u001b[0mcorpus_style\u001b[0m\u001b[0;34m=\u001b[0m\u001b[0;34m\"text\"\u001b[0m\u001b[0;34m,\u001b[0m \u001b[0mnum_files\u001b[0m\u001b[0;34m=\u001b[0m\u001b[0;36m10000\u001b[0m\u001b[0;34m,\u001b[0m \u001b[0mreturn_raw\u001b[0m\u001b[0;34m=\u001b[0m\u001b[0;32mFalse\u001b[0m\u001b[0;34m)\u001b[0m\u001b[0;34m:\u001b[0m\u001b[0;34m\u001b[0m\u001b[0;34m\u001b[0m\u001b[0m\n\u001b[1;32m    141\u001b[0m     \u001b[0mtexts_raw\u001b[0m \u001b[0;34m=\u001b[0m \u001b[0;34m{\u001b[0m\u001b[0;34m}\u001b[0m\u001b[0;34m\u001b[0m\u001b[0;34m\u001b[0m\u001b[0m\n\u001b[0;32m--> 142\u001b[0;31m     \u001b[0;32mfor\u001b[0m \u001b[0mfile\u001b[0m \u001b[0;32min\u001b[0m \u001b[0mos\u001b[0m\u001b[0;34m.\u001b[0m\u001b[0mlistdir\u001b[0m\u001b[0;34m(\u001b[0m\u001b[0maddress\u001b[0m \u001b[0;34m+\u001b[0m \u001b[0;34m\"/\"\u001b[0m\u001b[0;34m)\u001b[0m\u001b[0;34m:\u001b[0m\u001b[0;34m\u001b[0m\u001b[0;34m\u001b[0m\u001b[0m\n\u001b[0m\u001b[1;32m    143\u001b[0m         \u001b[0;32mif\u001b[0m \u001b[0mcorpus_style\u001b[0m \u001b[0;32min\u001b[0m \u001b[0mfile\u001b[0m\u001b[0;34m:\u001b[0m\u001b[0;34m\u001b[0m\u001b[0;34m\u001b[0m\u001b[0m\n\u001b[1;32m    144\u001b[0m             \u001b[0mprint\u001b[0m\u001b[0;34m(\u001b[0m\u001b[0mfile\u001b[0m\u001b[0;34m)\u001b[0m\u001b[0;34m\u001b[0m\u001b[0;34m\u001b[0m\u001b[0m\n",
      "\u001b[0;31mFileNotFoundError\u001b[0m: [Errno 2] No such file or directory: '/root/data/'"
     ]
    }
   ],
   "source": [
    "soap_texts = lucem_illud.loadDavies(corpora_address, num_files=2000)"
   ]
  },
  {
   "cell_type": "code",
   "execution_count": null,
   "metadata": {
    "id": "HMQTn7Ws3NjG"
   },
   "outputs": [],
   "source": [
    "import zipfile\n",
    "import pandas as pd"
   ]
  },
  {
   "cell_type": "code",
   "execution_count": null,
   "metadata": {
    "id": "ejJZuzSK3NjG"
   },
   "outputs": [],
   "source": [
    "zfile = zipfile.ZipFile(corpora_address + \"/sources_movies.zip\")\n",
    "source = []"
   ]
  },
  {
   "cell_type": "code",
   "execution_count": null,
   "metadata": {
    "id": "g1407Gmg3NjG"
   },
   "outputs": [],
   "source": [
    "for file in zfile.namelist():\n",
    "    with zfile.open(file) as f:\n",
    "        for line in f:\n",
    "            source.append(line)"
   ]
  },
  {
   "cell_type": "code",
   "execution_count": null,
   "metadata": {
    "id": "1j1HrsvYFxa3"
   },
   "outputs": [],
   "source": [
    "source[:10]"
   ]
  },
  {
   "cell_type": "code",
   "execution_count": null,
   "metadata": {
    "id": "nYHbzhnN3NjH"
   },
   "outputs": [],
   "source": [
    "soap_dict = {}"
   ]
  },
  {
   "cell_type": "code",
   "execution_count": null,
   "metadata": {
    "id": "Vj0f7OwA3NjH"
   },
   "outputs": [],
   "source": [
    "for soap in source[3:]:\n",
    "    try:\n",
    "        textID, _, _, _, year, language , _, _, show = soap.decode(\"utf-8\").split(\"\\t\")\n",
    "    except UnicodeDecodeError:\n",
    "        continue\n",
    "    if show.strip() not in soap_dict:\n",
    "        soap_dict[show.strip()] = []\n",
    "    if show.strip() in soap_dict:\n",
    "        try:\n",
    "            soap_dict[show.strip()].append(soap_texts[textID.strip()])\n",
    "        except KeyError:\n",
    "            continue"
   ]
  },
  {
   "cell_type": "code",
   "execution_count": null,
   "metadata": {
    "id": "wRJxmU8R3NjH"
   },
   "outputs": [],
   "source": [
    "soap_dict.keys()"
   ]
  },
  {
   "cell_type": "code",
   "execution_count": null,
   "metadata": {
    "id": "klRDVMmP3NjH"
   },
   "outputs": [],
   "source": [
    "soap_df = pd.DataFrame(columns=[\"Soap Name\", \"Tokenized Texts\"])"
   ]
  },
  {
   "cell_type": "code",
   "execution_count": null,
   "metadata": {
    "id": "nmAEPMyT3NjH"
   },
   "outputs": [],
   "source": [
    "i = 0"
   ]
  },
  {
   "cell_type": "code",
   "execution_count": null,
   "metadata": {
    "id": "lrJ_jwUv3NjH"
   },
   "outputs": [],
   "source": [
    "for soap in soap_dict:\n",
    "    # since there were multiple lists\n",
    "    print(soap)\n",
    "    full_script = []\n",
    "    for part in soap_dict[soap]:\n",
    "        full_script = full_script + part\n",
    "    soap_df.loc[i] = [soap, full_script]\n",
    "    i += 1"
   ]
  },
  {
   "cell_type": "code",
   "execution_count": null,
   "metadata": {
    "id": "8opgAhVF3NjI"
   },
   "outputs": [],
   "source": [
    "soap_df"
   ]
  },
  {
   "cell_type": "markdown",
   "metadata": {
    "id": "-VAVxAiP3NjI"
   },
   "source": [
    "Checking to see which index I should use. In my example it is the last one, so I choose my index as 9. It might be different for you!"
   ]
  },
  {
   "cell_type": "code",
   "execution_count": null,
   "metadata": {
    "id": "GfzAMTHU3NjI"
   },
   "outputs": [],
   "source": [
    "dool = soap_df['Tokenized Texts'][9]"
   ]
  },
  {
   "cell_type": "code",
   "execution_count": null,
   "metadata": {
    "id": "j7aKzMA93NjI"
   },
   "outputs": [],
   "source": [
    "' '.join(dool[0:1500])"
   ]
  },
  {
   "cell_type": "code",
   "execution_count": null,
   "metadata": {
    "id": "M0bKRRud3NjI"
   },
   "outputs": [],
   "source": [
    "characters = {}\n",
    "for token in dool:\n",
    "    if token[0] == '@':\n",
    "        # all characters or actions start with @, so we add that to character\n",
    "        if token[2:] not in characters:\n",
    "            characters[token[2:]] = 0\n",
    "        if token[2:] in characters:\n",
    "            characters[token[2:]] += 1"
   ]
  },
  {
   "cell_type": "code",
   "execution_count": null,
   "metadata": {
    "id": "p57RcLl_3NjI"
   },
   "outputs": [],
   "source": [
    "import networkx as nx"
   ]
  },
  {
   "cell_type": "code",
   "execution_count": null,
   "metadata": {
    "id": "yzmfhwcy3NjI"
   },
   "outputs": [],
   "source": [
    "actor_network = nx.Graph()"
   ]
  },
  {
   "cell_type": "code",
   "execution_count": null,
   "metadata": {
    "id": "AL1nlmu-3NjJ"
   },
   "outputs": [],
   "source": [
    "for character in characters:\n",
    "    if characters[character] > 2000:\n",
    "        actor_network.add_node(character, lines_spoken= characters[character], words=[])"
   ]
  },
  {
   "cell_type": "code",
   "execution_count": null,
   "metadata": {
    "id": "4_d1EdUR3NjJ"
   },
   "outputs": [],
   "source": [
    "i = 0"
   ]
  },
  {
   "cell_type": "code",
   "execution_count": null,
   "metadata": {
    "id": "YUdm8-z73NjJ"
   },
   "outputs": [],
   "source": [
    "all_texts = []"
   ]
  },
  {
   "cell_type": "code",
   "execution_count": null,
   "metadata": {
    "id": "CgFSxLKv3NjJ"
   },
   "outputs": [],
   "source": [
    "for token in dool:\n",
    "    i += 1\n",
    "    if i > len(dool):\n",
    "        break\n",
    "    if token[0] == \"@\":\n",
    "        if token[2:] in actor_network.nodes():\n",
    "            j = i\n",
    "            for token_ in dool[i:]:\n",
    "                if token_[0] == \"@\":\n",
    "                    # if both the characters exist in the graph, add a weight\n",
    "                    if token_[2:] != token[2:] and token_[2:] in actor_network.nodes():\n",
    "                        if (token[2:], token_[2:]) not in actor_network.edges():\n",
    "                            actor_network.add_edge(token[2:], token_[2:], weight=0)\n",
    "                        if (token[2:], token_[2:]) in actor_network.edges():\n",
    "                            actor_network.edges[(token[2:], token_[2:])]['weight'] += 1\n",
    "                    break\n",
    "                j += 1\n",
    "            # adding characters sentences\n",
    "            actor_network.nodes[token[2:]]['words'].append(dool[i:j])\n",
    "            all_texts.append(lucem_illud.normalizeTokens(dool[i:j]))"
   ]
  },
  {
   "cell_type": "code",
   "execution_count": null,
   "metadata": {
    "id": "lklDFqxf3NjJ"
   },
   "outputs": [],
   "source": [
    "nx.draw(actor_network, with_labels=True, font_weight='bold')"
   ]
  },
  {
   "cell_type": "markdown",
   "metadata": {
    "id": "2ETwi2cc3NjJ"
   },
   "source": [
    "Ok - so we have our graph now. Let us create a topic model with all the texts spoken by the characters, see what's being spoken about, and construct topic distributions for each character. What does our all_texts corpus look like?"
   ]
  },
  {
   "cell_type": "code",
   "execution_count": null,
   "metadata": {
    "id": "ae9LSIOu3NjK"
   },
   "outputs": [],
   "source": [
    "all_texts[0:10]"
   ]
  },
  {
   "cell_type": "code",
   "execution_count": null,
   "metadata": {
    "id": "7qpkPcCq3NjK"
   },
   "outputs": [],
   "source": [
    "dictionary = gensim.corpora.Dictionary(all_texts)"
   ]
  },
  {
   "cell_type": "code",
   "execution_count": null,
   "metadata": {
    "id": "K9N4acPs3NjK"
   },
   "outputs": [],
   "source": [
    "corpus = [dictionary.doc2bow(text) for text in all_texts]"
   ]
  },
  {
   "cell_type": "code",
   "execution_count": null,
   "metadata": {
    "id": "AVlWAQws3NjK"
   },
   "outputs": [],
   "source": [
    "gensim.corpora.MmCorpus.serialize('dool.mm', corpus)\n",
    "doolcorpus = gensim.corpora.MmCorpus('dool.mm')"
   ]
  },
  {
   "cell_type": "code",
   "execution_count": null,
   "metadata": {
    "id": "VeSe9Td53NjK"
   },
   "outputs": [],
   "source": [
    "doollda = gensim.models.ldamodel.LdaModel(corpus=doolcorpus, id2word=dictionary, num_topics=10, alpha='auto', eta='auto')"
   ]
  },
  {
   "cell_type": "code",
   "execution_count": null,
   "metadata": {
    "id": "5hpN-ek93NjK"
   },
   "outputs": [],
   "source": [
    "doollda.show_topics()"
   ]
  },
  {
   "cell_type": "markdown",
   "metadata": {
    "id": "jPXNQl3V3NjL"
   },
   "source": [
    "Are your topics interpretable/interesting? Sometimes they require a good deal of fine tuning and parameter choosing to get it to work in a nice way. Check out the gensim ldamodel documentation page and see what parameters you can play around with and try the model again!"
   ]
  },
  {
   "cell_type": "code",
   "execution_count": null,
   "metadata": {
    "id": "VEJDB4PX3NjL"
   },
   "outputs": [],
   "source": [
    "for actor in actor_network.nodes():\n",
    "    actor_all_words = []\n",
    "    for sent in actor_network.nodes[actor]['words']:\n",
    "        for word in sent:\n",
    "            actor_all_words += word\n",
    "    actor_network.nodes[actor]['topic_distribution'] = doollda[dictionary.doc2bow(lucem_illud.normalizeTokens(actor_all_words))]"
   ]
  },
  {
   "cell_type": "markdown",
   "metadata": {
    "id": "9-yFxVA53NjL"
   },
   "source": [
    "We now have topic distributions for each character. Let us have a brief look at what the characters are talking about. "
   ]
  },
  {
   "cell_type": "code",
   "execution_count": null,
   "metadata": {
    "id": "bCsp21W33NjL"
   },
   "outputs": [],
   "source": [
    "for actor in actor_network.nodes():\n",
    "    print(actor, actor_network.nodes[actor]['topic_distribution'])"
   ]
  },
  {
   "cell_type": "markdown",
   "metadata": {
    "id": "arMqiF1W3NjL"
   },
   "source": [
    "Quickly eye-balling these distributions suggest that the model itself could be tuned better - all the topics are loaded more or less equally. \n",
    "\n",
    "In the paper I linked to earlier, they found similarities or differences using the KL divergence - this is a topic we've dealt with before. Let us plot a heatmap with these values."
   ]
  },
  {
   "cell_type": "code",
   "execution_count": null,
   "metadata": {
    "id": "Bb9CJNnY3NjL"
   },
   "outputs": [],
   "source": [
    "from gensim.matutils import kullback_leibler"
   ]
  },
  {
   "cell_type": "code",
   "execution_count": null,
   "metadata": {
    "id": "dh9pDapX3NjL"
   },
   "outputs": [],
   "source": [
    "def convert_to_prob(bow):\n",
    "    ps = []\n",
    "    for topic_no, topic_prob in bow:\n",
    "        ps.append(topic_prob)\n",
    "    return ps"
   ]
  },
  {
   "cell_type": "code",
   "execution_count": null,
   "metadata": {
    "id": "QD4zuMO93NjL"
   },
   "outputs": [],
   "source": [
    "L = []\n",
    "for actor_1 in actor_network.nodes():\n",
    "    p = actor_network.nodes[actor_1]['topic_distribution'] \n",
    "    p = convert_to_prob(p)\n",
    "    l = []\n",
    "    for actor_2 in actor_network.nodes():\n",
    "        q = actor_network.nodes[actor_2]['topic_distribution'] \n",
    "        q = convert_to_prob(q)\n",
    "        l.append(kullback_leibler(p, q))\n",
    "    L.append(l)\n",
    "M = np.array(L)"
   ]
  },
  {
   "cell_type": "code",
   "execution_count": null,
   "metadata": {
    "id": "DF-9fXOI3NjM"
   },
   "outputs": [],
   "source": [
    "fig = plt.figure()\n",
    "div = pandas.DataFrame(M, columns = list(actor_network.nodes()), index = list(actor_network.nodes()))\n",
    "ax = sns.heatmap(div)\n",
    "plt.show()"
   ]
  },
  {
   "cell_type": "markdown",
   "metadata": {
    "id": "uwylLMFJ3NjM"
   },
   "source": [
    "This is one example of how we can use topic models to analyse a network - what other data exploration can you come up with?  Maybe see what are the themes surrounding the top topics for each of the actors? You now have the infrastructure to explore the network and the topics. Gensim has a great set of Jupyter Notebooks which illustrate their methods and functions - https://github.com/RaRe-Technologies/gensim/tree/develop/docs/notebooks. The Auto Examples page also has a good variety of examples - https://radimrehurek.com/gensim/auto_examples/. \n",
    "\n",
    "\n",
    "### Dynamic Topic Modelling\n",
    "\n",
    "Dynamic Topic Modelling is a time based topic model method introduced by David Blei and John Lafferty. It allows one to see topics evolve over a time annotated corpus. I would recommend first viewing the Dynamic Topic Model tutorial on Gensim (https://github.com/RaRe-Technologies/gensim/blob/develop/docs/notebooks/ldaseqmodel.ipynb) to understand what exactly it's about. \n",
    "\n",
    "(An acknowledgement - Bhargav (the author of most of this class's code) wrote the code for Gensim's Dynamic Topic Models back in 2016 as a Google Summer of Code student, and they're still using it as are thousands of others!)\n",
    "\n",
    "To demonstrate it on a time based corpus, we will create a corpus from COHA."
   ]
  },
  {
   "cell_type": "code",
   "execution_count": null,
   "metadata": {
    "id": "ASqUPm8o3NjM"
   },
   "outputs": [],
   "source": [
    "corpora_address = \"/Users/bhargavvader/Downloads/Academics_Tech/corpora/COHA\""
   ]
  },
  {
   "cell_type": "code",
   "execution_count": null,
   "metadata": {
    "id": "-_hGOMDl3NjM"
   },
   "outputs": [],
   "source": [
    "coha_texts = lucem_illud.loadDavies(corpora_address, return_raw=True)"
   ]
  },
  {
   "cell_type": "code",
   "execution_count": null,
   "metadata": {
    "id": "X5evqO2P3NjM"
   },
   "outputs": [],
   "source": [
    "list(coha_texts.keys())[0:5]"
   ]
  },
  {
   "cell_type": "markdown",
   "metadata": {
    "id": "FahjZ6L73NjM"
   },
   "source": [
    "We'd have to approach this differently: note that while extracting the corpus we returned the raw texts, and the dictionary keys already contain some useful information: the year published, and the genre. neat! We can now create some corpora, organised by year and by genre."
   ]
  },
  {
   "cell_type": "code",
   "execution_count": null,
   "metadata": {
    "id": "OdCOXtpP3NjN"
   },
   "outputs": [],
   "source": [
    "coha_genres = {}\n",
    "coha_years = {}"
   ]
  },
  {
   "cell_type": "code",
   "execution_count": null,
   "metadata": {
    "id": "319iod_Y3NjN"
   },
   "outputs": [],
   "source": [
    "for article in coha_texts:\n",
    "    genre, year, id_ = article.split(\"_\")\n",
    "    if genre not in coha_genres:\n",
    "        coha_genres[genre] = []\n",
    "    if genre in coha_genres:\n",
    "        coha_genres[genre].append(coha_texts[article])\n",
    "    \n",
    "    if year not in coha_years:\n",
    "        coha_years[year] = []\n",
    "    if year in coha_years:\n",
    "        coha_years[year].append(coha_texts[article])\n",
    "    "
   ]
  },
  {
   "cell_type": "code",
   "execution_count": null,
   "metadata": {
    "colab": {
     "base_uri": "https://localhost:8080/",
     "height": 424
    },
    "id": "M9B7ZyItp9Fh",
    "outputId": "ef01bc0c-24aa-43eb-9d6f-2af8b040a574"
   },
   "outputs": [
    {
     "data": {
      "text/html": [
       "\n",
       "  <div id=\"df-6435af63-930a-48c3-9f18-e1c761e9ee3f\">\n",
       "    <div class=\"colab-df-container\">\n",
       "      <div>\n",
       "<style scoped>\n",
       "    .dataframe tbody tr th:only-of-type {\n",
       "        vertical-align: middle;\n",
       "    }\n",
       "\n",
       "    .dataframe tbody tr th {\n",
       "        vertical-align: top;\n",
       "    }\n",
       "\n",
       "    .dataframe thead th {\n",
       "        text-align: right;\n",
       "    }\n",
       "</style>\n",
       "<table border=\"1\" class=\"dataframe\">\n",
       "  <thead>\n",
       "    <tr style=\"text-align: right;\">\n",
       "      <th></th>\n",
       "      <th>index</th>\n",
       "      <th>title</th>\n",
       "      <th>raw_text</th>\n",
       "      <th>tokenized_text</th>\n",
       "      <th>normalized_tokens</th>\n",
       "      <th>year</th>\n",
       "    </tr>\n",
       "  </thead>\n",
       "  <tbody>\n",
       "    <tr>\n",
       "      <th>0</th>\n",
       "      <td>CHRG-109hhrg20007</td>\n",
       "      <td>The Future of Aeronautics at Nasa</td>\n",
       "      <td>THE  FUTURE  OF\\n\\nAERONAUTICS  AT  NASA\\n\\nHE...</td>\n",
       "      <td>[THE, FUTURE, OF, AERONAUTICS, AT, NASA, HEARI...</td>\n",
       "      <td>[future, aeronautics, nasa, hear, subcommittee...</td>\n",
       "      <td>2005</td>\n",
       "    </tr>\n",
       "    <tr>\n",
       "      <th>1</th>\n",
       "      <td>CHRG-110hhrg34012</td>\n",
       "      <td>National Science Foundation Reauthorization: P...</td>\n",
       "      <td>NATIONAL  SCIENCE  FOUNDATION\\n\\nREAUTHORIZATI...</td>\n",
       "      <td>[NATIONAL, SCIENCE, FOUNDATION, REAUTHORIZATIO...</td>\n",
       "      <td>[national, science, foundation, reauthorizatio...</td>\n",
       "      <td>2007</td>\n",
       "    </tr>\n",
       "    <tr>\n",
       "      <th>2</th>\n",
       "      <td>CHRG-110hhrg40941</td>\n",
       "      <td>Toxic Trailers: Have the Centers for Disease C...</td>\n",
       "      <td>TOXIC  TRAILERS:  HAVE  THE  CENTERS\\nFOR  DIS...</td>\n",
       "      <td>[TOXIC, TRAILERS, HAVE, THE, CENTERS, FOR, DIS...</td>\n",
       "      <td>[toxic, trailer, center, disease, control, fai...</td>\n",
       "      <td>2008</td>\n",
       "    </tr>\n",
       "    <tr>\n",
       "      <th>3</th>\n",
       "      <td>CHRG-110hhrg40940</td>\n",
       "      <td>The Department of Energy Fiscal Year 2009 Rese...</td>\n",
       "      <td>THE  DEPARTMENT  OF  ENERGY\\n\\nFISCAL  YEAR  2...</td>\n",
       "      <td>[THE, DEPARTMENT, OF, ENERGY, FISCAL, YEAR, 20...</td>\n",
       "      <td>[department, energy, fiscal, year, research, d...</td>\n",
       "      <td>2008</td>\n",
       "    </tr>\n",
       "    <tr>\n",
       "      <th>4</th>\n",
       "      <td>CHRG-110shrg41101</td>\n",
       "      <td>Oversight of the Investigation of the Nasa Ins...</td>\n",
       "      <td>S.  HRG.  110–434 \\nSERIAL 110–37 \\n\\nOVERSIGH...</td>\n",
       "      <td>[S., HRG, 110–434, SERIAL, 110–37, OVERSIGHT, ...</td>\n",
       "      <td>[s., hrg, 110–434, serial, 110–37, oversight, ...</td>\n",
       "      <td>2007</td>\n",
       "    </tr>\n",
       "    <tr>\n",
       "      <th>...</th>\n",
       "      <td>...</td>\n",
       "      <td>...</td>\n",
       "      <td>...</td>\n",
       "      <td>...</td>\n",
       "      <td>...</td>\n",
       "      <td>...</td>\n",
       "    </tr>\n",
       "    <tr>\n",
       "      <th>465</th>\n",
       "      <td>CHRG-110hhrg41800</td>\n",
       "      <td>Aviation Security Research and Development at ...</td>\n",
       "      <td>AVIATION  SECURITY  RESEARCH  AND\\n\\nDEVELOPME...</td>\n",
       "      <td>[AVIATION, SECURITY, RESEARCH, AND, DEVELOPMEN...</td>\n",
       "      <td>[aviation, security, research, development, de...</td>\n",
       "      <td>2008</td>\n",
       "    </tr>\n",
       "    <tr>\n",
       "      <th>466</th>\n",
       "      <td>CHRG-109hhrg20735</td>\n",
       "      <td>Priorities in the Department of Energy Budget ...</td>\n",
       "      <td>PRIORITIES  IN  THE  DEPARTMENT  OF  ENERGY\\n\\...</td>\n",
       "      <td>[PRIORITIES, IN, THE, DEPARTMENT, OF, ENERGY, ...</td>\n",
       "      <td>[priority, department, energy, budget, fiscal,...</td>\n",
       "      <td>2005</td>\n",
       "    </tr>\n",
       "    <tr>\n",
       "      <th>467</th>\n",
       "      <td>CHRG-109hhrg24525</td>\n",
       "      <td>Ongoing Problems and Future Plans for Noaa's W...</td>\n",
       "      <td>ONGOING  PROBLEMS  AND  FUTURE  PLANS\\n\\nFOR  ...</td>\n",
       "      <td>[ONGOING, PROBLEMS, AND, FUTURE, PLANS, FOR, N...</td>\n",
       "      <td>[ongoing, problem, future, plan, noaa, weather...</td>\n",
       "      <td>2005</td>\n",
       "    </tr>\n",
       "    <tr>\n",
       "      <th>468</th>\n",
       "      <td>CHRG-110shrg73896</td>\n",
       "      <td>Rail Safety Reauthorization</td>\n",
       "      <td>RAIL  SAFETY  REAUTHORIZATION \\n\\nS.  HRG.  11...</td>\n",
       "      <td>[RAIL, SAFETY, REAUTHORIZATION, S., HRG, 110–1...</td>\n",
       "      <td>[rail, safety, reauthorization, s., hrg, 110–1...</td>\n",
       "      <td>2007</td>\n",
       "    </tr>\n",
       "    <tr>\n",
       "      <th>469</th>\n",
       "      <td>CHRG-110shrg75784</td>\n",
       "      <td>Oversight of Telemarketing Practices and the C...</td>\n",
       "      <td>OVERSIGHT  OF  TELEMARKETING  PRACTICES  AND \\...</td>\n",
       "      <td>[OVERSIGHT, OF, TELEMARKETING, PRACTICES, AND,...</td>\n",
       "      <td>[oversight, telemarketing, practice, credit, r...</td>\n",
       "      <td>2007</td>\n",
       "    </tr>\n",
       "  </tbody>\n",
       "</table>\n",
       "<p>470 rows × 6 columns</p>\n",
       "</div>\n",
       "      <button class=\"colab-df-convert\" onclick=\"convertToInteractive('df-6435af63-930a-48c3-9f18-e1c761e9ee3f')\"\n",
       "              title=\"Convert this dataframe to an interactive table.\"\n",
       "              style=\"display:none;\">\n",
       "        \n",
       "  <svg xmlns=\"http://www.w3.org/2000/svg\" height=\"24px\"viewBox=\"0 0 24 24\"\n",
       "       width=\"24px\">\n",
       "    <path d=\"M0 0h24v24H0V0z\" fill=\"none\"/>\n",
       "    <path d=\"M18.56 5.44l.94 2.06.94-2.06 2.06-.94-2.06-.94-.94-2.06-.94 2.06-2.06.94zm-11 1L8.5 8.5l.94-2.06 2.06-.94-2.06-.94L8.5 2.5l-.94 2.06-2.06.94zm10 10l.94 2.06.94-2.06 2.06-.94-2.06-.94-.94-2.06-.94 2.06-2.06.94z\"/><path d=\"M17.41 7.96l-1.37-1.37c-.4-.4-.92-.59-1.43-.59-.52 0-1.04.2-1.43.59L10.3 9.45l-7.72 7.72c-.78.78-.78 2.05 0 2.83L4 21.41c.39.39.9.59 1.41.59.51 0 1.02-.2 1.41-.59l7.78-7.78 2.81-2.81c.8-.78.8-2.07 0-2.86zM5.41 20L4 18.59l7.72-7.72 1.47 1.35L5.41 20z\"/>\n",
       "  </svg>\n",
       "      </button>\n",
       "      \n",
       "  <style>\n",
       "    .colab-df-container {\n",
       "      display:flex;\n",
       "      flex-wrap:wrap;\n",
       "      gap: 12px;\n",
       "    }\n",
       "\n",
       "    .colab-df-convert {\n",
       "      background-color: #E8F0FE;\n",
       "      border: none;\n",
       "      border-radius: 50%;\n",
       "      cursor: pointer;\n",
       "      display: none;\n",
       "      fill: #1967D2;\n",
       "      height: 32px;\n",
       "      padding: 0 0 0 0;\n",
       "      width: 32px;\n",
       "    }\n",
       "\n",
       "    .colab-df-convert:hover {\n",
       "      background-color: #E2EBFA;\n",
       "      box-shadow: 0px 1px 2px rgba(60, 64, 67, 0.3), 0px 1px 3px 1px rgba(60, 64, 67, 0.15);\n",
       "      fill: #174EA6;\n",
       "    }\n",
       "\n",
       "    [theme=dark] .colab-df-convert {\n",
       "      background-color: #3B4455;\n",
       "      fill: #D2E3FC;\n",
       "    }\n",
       "\n",
       "    [theme=dark] .colab-df-convert:hover {\n",
       "      background-color: #434B5C;\n",
       "      box-shadow: 0px 1px 3px 1px rgba(0, 0, 0, 0.15);\n",
       "      filter: drop-shadow(0px 1px 2px rgba(0, 0, 0, 0.3));\n",
       "      fill: #FFFFFF;\n",
       "    }\n",
       "  </style>\n",
       "\n",
       "      <script>\n",
       "        const buttonEl =\n",
       "          document.querySelector('#df-6435af63-930a-48c3-9f18-e1c761e9ee3f button.colab-df-convert');\n",
       "        buttonEl.style.display =\n",
       "          google.colab.kernel.accessAllowed ? 'block' : 'none';\n",
       "\n",
       "        async function convertToInteractive(key) {\n",
       "          const element = document.querySelector('#df-6435af63-930a-48c3-9f18-e1c761e9ee3f');\n",
       "          const dataTable =\n",
       "            await google.colab.kernel.invokeFunction('convertToInteractive',\n",
       "                                                     [key], {});\n",
       "          if (!dataTable) return;\n",
       "\n",
       "          const docLinkHtml = 'Like what you see? Visit the ' +\n",
       "            '<a target=\"_blank\" href=https://colab.research.google.com/notebooks/data_table.ipynb>data table notebook</a>'\n",
       "            + ' to learn more about interactive tables.';\n",
       "          element.innerHTML = '';\n",
       "          dataTable['output_type'] = 'display_data';\n",
       "          await google.colab.output.renderOutput(dataTable, element);\n",
       "          const docLink = document.createElement('div');\n",
       "          docLink.innerHTML = docLinkHtml;\n",
       "          element.appendChild(docLink);\n",
       "        }\n",
       "      </script>\n",
       "    </div>\n",
       "  </div>\n",
       "  "
      ],
      "text/plain": [
       "                 index  ...  year\n",
       "0    CHRG-109hhrg20007  ...  2005\n",
       "1    CHRG-110hhrg34012  ...  2007\n",
       "2    CHRG-110hhrg40941  ...  2008\n",
       "3    CHRG-110hhrg40940  ...  2008\n",
       "4    CHRG-110shrg41101  ...  2007\n",
       "..                 ...  ...   ...\n",
       "465  CHRG-110hhrg41800  ...  2008\n",
       "466  CHRG-109hhrg20735  ...  2005\n",
       "467  CHRG-109hhrg24525  ...  2005\n",
       "468  CHRG-110shrg73896  ...  2007\n",
       "469  CHRG-110shrg75784  ...  2007\n",
       "\n",
       "[470 rows x 6 columns]"
      ]
     },
     "execution_count": 41,
     "metadata": {},
     "output_type": "execute_result"
    }
   ],
   "source": [
    "DF0510"
   ]
  },
  {
   "cell_type": "code",
   "execution_count": null,
   "metadata": {
    "id": "-nT-ZqeW3NjN"
   },
   "outputs": [],
   "source": [
    "coha_genres.keys()"
   ]
  },
  {
   "cell_type": "code",
   "execution_count": null,
   "metadata": {
    "id": "7xhyjuKk3NjN"
   },
   "outputs": [],
   "source": [
    "coha_years.keys()"
   ]
  },
  {
   "cell_type": "markdown",
   "metadata": {
    "id": "tj9ScAG13NjN"
   },
   "source": [
    "That's neat: we have 4 genres and 200 years. We have to now decide how many time slices we want. Let us see how the corpus is distributed.\n",
    "\n",
    "If you went through the tutorial, you would notice how we would need to arrange the corpora year wise.\n",
    "We also have to arrange the number of topics per year."
   ]
  },
  {
   "cell_type": "code",
   "execution_count": null,
   "metadata": {
    "id": "VqGYRjhU3NjN"
   },
   "outputs": [],
   "source": [
    "import collections"
   ]
  },
  {
   "cell_type": "code",
   "execution_count": null,
   "metadata": {
    "id": "C_WTeSmg3NjN"
   },
   "outputs": [],
   "source": [
    "years = []\n",
    "year_lens = []"
   ]
  },
  {
   "cell_type": "code",
   "execution_count": null,
   "metadata": {
    "id": "o0RiiAfq3NjO"
   },
   "outputs": [],
   "source": [
    "for year_info in collections.OrderedDict(sorted(coha_years.items())):\n",
    "    years.append(year_info)\n",
    "    year_lens.append(len((coha_years[year_info])))"
   ]
  },
  {
   "cell_type": "code",
   "execution_count": null,
   "metadata": {
    "id": "1umXDN9I3NjO"
   },
   "outputs": [],
   "source": [
    "years[0], years[-1]"
   ]
  },
  {
   "cell_type": "code",
   "execution_count": null,
   "metadata": {
    "id": "w79QD3Au3NjO"
   },
   "outputs": [],
   "source": [
    "import matplotlib.pyplot as plt\n",
    "plt.plot(years, year_lens)"
   ]
  },
  {
   "cell_type": "markdown",
   "metadata": {
    "id": "Kr3gTl343NjO"
   },
   "source": [
    "The X axis isn't legible, but you can get the point: there are far less articles in the beginning, and then it grows. Maybe in our 5 time slices, we do: 1810-1880, 1881-1913, 1914-1950, 1950-1990, 1990-2009?\n",
    "I use some historical intuition to use these time periods, you are encouraged to try your different time slices (for e.g, 20 10 year periods, 10 20 year periods, by total number of papers, etc)"
   ]
  },
  {
   "cell_type": "code",
   "execution_count": null,
   "metadata": {
    "id": "Q5v0s0mQ3NjO"
   },
   "outputs": [],
   "source": [
    "all_texts_coha = []\n",
    "docs_per_timeslice = [0, 0, 0, 0, 0]\n",
    "i = 0"
   ]
  },
  {
   "cell_type": "code",
   "execution_count": null,
   "metadata": {
    "id": "6BAQpXXH3NjO"
   },
   "outputs": [],
   "source": [
    "for year_info in collections.OrderedDict(sorted(coha_years.items())):\n",
    "    large_files = 0\n",
    "    for article in coha_years[year_info]:\n",
    "        try:\n",
    "            if len(article[2]) < 1500000:\n",
    "                all_texts_coha.append(lucem_illud.normalizeTokens(article[2].decode(\"utf-8\")))\n",
    "            if len(article[2]) >= 1500000:\n",
    "                large_files += 1\n",
    "        except IndexError:\n",
    "            continue\n",
    "    # these numbers are the number of years in the \n",
    "    if i < 70:\n",
    "        docs_per_year[0] += len(coha_years[year_info]) - large_files\n",
    "    if i >= 70 and i < 103:\n",
    "        docs_per_year[1] += len(coha_years[year_info]) - large_files\n",
    "    if i >= 103 and i < 140:\n",
    "        docs_per_year[2] += len(coha_years[year_info]) - large_files\n",
    "    if i >= 140 and i < 180:\n",
    "        docs_per_year[3] += len(coha_years[year_info]) - large_files\n",
    "    if i >= 180:\n",
    "        docs_per_year[4] += len(coha_years[year_info]) - large_files\n",
    "    i += 1"
   ]
  },
  {
   "cell_type": "markdown",
   "metadata": {
    "id": "QtSUNW9j3NjP"
   },
   "source": [
    "#### Smaller Corpora\n",
    "\n",
    "The original size of the corpus is wayyy too big for our laptops. Let us demo this with a smaller size. You are welcome to try different sizes until you get the size you would like.\n",
    "I am using a 100 documents per time slice for this example."
   ]
  },
  {
   "cell_type": "code",
   "execution_count": null,
   "metadata": {
    "id": "odsDYlyU3NjP"
   },
   "outputs": [],
   "source": [
    "def choose_n(corpus, time_slices, nums=100):\n",
    "    new_corpus = corpus[0:nums]\n",
    "    for time_slice in time_slices[:-1]:\n",
    "        new_corpus = new_corpus + corpus[time_slice:time_slice+nums]\n",
    "    return new_corpus"
   ]
  },
  {
   "cell_type": "markdown",
   "metadata": {
    "id": "MUrxZTz63NjP"
   },
   "source": [
    "Now, COHA also has some really large files, full books and the like: we're going to now split up really large files such that each of the documents are only 1000 tokens long. This function will return a split up document and the number of files it has been split into, so we can accordingly adjust the documents per time slice, which is important for Dynamic Topic Modelling to work."
   ]
  },
  {
   "cell_type": "code",
   "execution_count": null,
   "metadata": {
    "id": "JOaxy_pq3NjP"
   },
   "outputs": [],
   "source": [
    "def split_up(document, doc_size=1000):\n",
    "    new_docs = [document[i:i + doc_size] for i in range(0, len(document), doc_size)]\n",
    "    return(new_docs, len(new_docs))"
   ]
  },
  {
   "cell_type": "code",
   "execution_count": null,
   "metadata": {
    "id": "0LPTP_hb3NjP"
   },
   "outputs": [],
   "source": [
    "small_corpus = choose_n(all_texts_coha, docs_per_year, nums=100)"
   ]
  },
  {
   "cell_type": "code",
   "execution_count": null,
   "metadata": {
    "id": "JM571hiB3NjP"
   },
   "outputs": [],
   "source": [
    "final_corpus= []"
   ]
  },
  {
   "cell_type": "code",
   "execution_count": null,
   "metadata": {
    "id": "FVg_Y6033NjQ"
   },
   "outputs": [],
   "source": [
    "docs_per_time_slice = [0, 0, 0, 0, 0]"
   ]
  },
  {
   "cell_type": "markdown",
   "metadata": {
    "id": "RsexAIWB3NjQ"
   },
   "source": [
    "I now use the split method to create my final corpus. Note that I hardcode values for the time slice to figure out the number of documets per time slice. Now I have a representative number of documents in each time slice. "
   ]
  },
  {
   "cell_type": "code",
   "execution_count": null,
   "metadata": {
    "id": "czi_dpYi3NjQ"
   },
   "outputs": [],
   "source": [
    "for i, article in enumerate(small_corpus):\n",
    "    # identify time slice based on article number \n",
    "    if i < 100:\n",
    "        time = 0\n",
    "    if i > 100 and i <= 200:\n",
    "        time = 1\n",
    "    if i > 200 and i <= 300:\n",
    "        time = 2\n",
    "    if i > 300 and i <= 400:\n",
    "        time = 3\n",
    "    if i > 400 and i <= 500:\n",
    "        time = 4\n",
    "        \n",
    "    if len(article) > 1000:\n",
    "        split_docs, no_docs = split_up(article)\n",
    "        for doc in split_docs:\n",
    "            final_corpus.append(doc)\n",
    "        docs_per_time_slice[time] += no_docs\n",
    "    else:\n",
    "        final_corpus.append(article)\n",
    "        docs_per_time_slice[time] += 1\n",
    "    # just a check if the counts are correctly added\n",
    "    if np.sum(docs_per_time_slice) != len(final_corpus):\n",
    "        print(np.sum(docs_per_time_slice), len(final_corpus))"
   ]
  },
  {
   "cell_type": "code",
   "execution_count": null,
   "metadata": {
    "id": "wpZ1lTvd3NjQ"
   },
   "outputs": [],
   "source": [
    "dictionary = gensim.corpora.Dictionary(final_corpus)"
   ]
  },
  {
   "cell_type": "code",
   "execution_count": null,
   "metadata": {
    "id": "679_NM7i3NjQ"
   },
   "outputs": [],
   "source": [
    "corpus = [dictionary.doc2bow(text) for text in final_corpus]"
   ]
  },
  {
   "cell_type": "code",
   "execution_count": null,
   "metadata": {
    "id": "brAhur0t3NjQ"
   },
   "outputs": [],
   "source": [
    "gensim.corpora.MmCorpus.serialize('coha.mm', corpus)\n",
    "cohacorpus = gensim.corpora.MmCorpus('coha.mm')"
   ]
  },
  {
   "cell_type": "code",
   "execution_count": null,
   "metadata": {
    "id": "pKL6xKNG3NjR"
   },
   "outputs": [],
   "source": [
    "from gensim.models import ldaseqmodel"
   ]
  },
  {
   "cell_type": "code",
   "execution_count": null,
   "metadata": {
    "id": "otQ23L1m3NjR"
   },
   "outputs": [],
   "source": [
    "ldaseq = ldaseqmodel.LdaSeqModel(corpus=corpus, id2word=dictionary, time_slice=docs_per_time_slice, num_topics=4)"
   ]
  },
  {
   "cell_type": "code",
   "execution_count": null,
   "metadata": {
    "id": "w0NIjJQg3NjR"
   },
   "outputs": [],
   "source": [
    "ldaseq.print_topics(time=0)[1]"
   ]
  },
  {
   "cell_type": "code",
   "execution_count": null,
   "metadata": {
    "id": "gHHgBApc3NjS"
   },
   "outputs": [],
   "source": [
    "ldaseq.print_topics(time=4)[1]"
   ]
  },
  {
   "cell_type": "markdown",
   "metadata": {
    "id": "Tx4Wr_fY3NjS"
   },
   "source": [
    "What can you see from the analysis? I encourage you to explore the tutorial and see what else you can do with this dataset. In the above model I can see how the topic related to state evolves slowly, with the word president not previously there coming into the topic. I will now save this model and also upload it on GitHub so that you can see how it works. Note that the Dynamic Topic Model is a very time consuming algorithm: you might want to start a run overnight if you intend on using it in your analysis."
   ]
  },
  {
   "cell_type": "code",
   "execution_count": null,
   "metadata": {
    "id": "gfXB1dXD3NjS"
   },
   "outputs": [],
   "source": [
    "ldaseq.save(\"ldaseqmodel\")"
   ]
  },
  {
   "cell_type": "code",
   "execution_count": null,
   "metadata": {
    "id": "1PXyDheW3NjS"
   },
   "outputs": [],
   "source": [
    "loaded_model = ldaseqmodel.LdaSeqModel.load(\"ldaseqmodel\")"
   ]
  },
  {
   "cell_type": "markdown",
   "metadata": {
    "id": "mpTC8IFz3NjS"
   },
   "source": [
    "For future research, you can also consider the Structural Topic Model (STM), which can integrate any covariates (e.g., time, author, document length) into your topic model. Unfortunately there is not yet an implementation of this in Python, but there is a wonderful [R package](https://www.structuraltopicmodel.com/) authored by Molly Roberts, Brandon Stewart, and Dustin Tingley.\n",
    "\n",
    "Here are plate diagrams of LDA and STM, which may help you visualize the way STM adds covariates to the \"left\" and \"right\" of the standard LDA model.\n",
    "\n",
    "<img src=\"img/lda_stm_plate_diagrams.jpg\" alt=\"img/lda_stm_plate_diagrams.jpg\"/>"
   ]
  },
  {
   "cell_type": "markdown",
   "metadata": {
    "id": "dEG8y89C3NjS"
   },
   "source": [
    "\n",
    "\n",
    "## <font color=\"red\">*Exercise 4*</font>\n",
    "\n",
    "<font color=\"red\">Construct cells immediately below this that use dynamic topic models on datasets relevant to your final project. You can also extend the analysis of the COHA or Soap datasets, if relevant to the comparison of data for your projects. (You could possibly use coha_genres dictionary to conduct analysis on topic evolution for a particular genre? What themes do you see evolving throughout these corpora?)"
   ]
  },
  {
   "cell_type": "markdown",
   "metadata": {
    "id": "8GHJhGbvaF9q"
   },
   "source": [
    "I trained a subset of my corpus - all hearings under topic 1 of my topic model, which is supposedly about communictaion technology, on dynamic topic model from 2005 to 2008. Because the time span is short, most policy discourse in this area turns out to be stable; however, IP & VoiceIP emerges as new top words during 2006 to 2007, suggesting new technology entering policy discussion."
   ]
  },
  {
   "cell_type": "code",
   "execution_count": null,
   "metadata": {
    "id": "qpWUe508qIku"
   },
   "outputs": [],
   "source": [
    "# Train a topic model to subselect hearings under one topic as inputs for dynamic topic model \n",
    "dictionary = gensim.corpora.Dictionary(DF0510['reduced_tokens'])"
   ]
  },
  {
   "cell_type": "code",
   "execution_count": null,
   "metadata": {
    "id": "XfcKt9heqqhe"
   },
   "outputs": [],
   "source": [
    "corpus = [dictionary.doc2bow(text) for text in DF0510['reduced_tokens']]"
   ]
  },
  {
   "cell_type": "code",
   "execution_count": null,
   "metadata": {
    "id": "jjyI6qmzqbe4"
   },
   "outputs": [],
   "source": [
    "gensim.corpora.MmCorpus.serialize('hearing.mm', corpus)\n",
    "senmm = gensim.corpora.MmCorpus('hearing.mm')"
   ]
  },
  {
   "cell_type": "code",
   "execution_count": null,
   "metadata": {
    "id": "1TbAz8Izq5H0"
   },
   "outputs": [],
   "source": [
    "lda = gensim.models.ldamodel.LdaModel(corpus=senmm, id2word=dictionary, num_topics=7, alpha='auto', eta='auto')\n",
    "ldaDF = pandas.DataFrame({\n",
    "        'index' : DF0510['index'],\n",
    "        'year' : DF0510['year'],\n",
    "        'topics' : [lda[dictionary.doc2bow(l)] for l in DF0510['reduced_tokens']]\n",
    "    })\n",
    "#Dict to temporally hold the probabilities\n",
    "topicsProbDict = {i : [0] * len(ldaDF) for i in range(lda.num_topics)}\n",
    "\n",
    "#Load them into the dict\n",
    "for index, topicTuples in enumerate(ldaDF['topics']):\n",
    "    for topicNum, prob in topicTuples:\n",
    "        topicsProbDict[topicNum][index] = prob\n",
    "\n",
    "#Update the DataFrame\n",
    "for topicNum in range(lda.num_topics):\n",
    "    ldaDF['topic_{}'.format(topicNum)] = topicsProbDict[topicNum]"
   ]
  },
  {
   "cell_type": "code",
   "execution_count": null,
   "metadata": {
    "id": "-qbIntKnrdYb"
   },
   "outputs": [],
   "source": [
    "# select all hearings under topic 1; from 4 years\n",
    "topic1_lst = ldaDF.loc[ldaDF['topic_1'] >= 0.5]['index']\n",
    "newdf = DF0510.iloc[topic1_lst, :]loc[DF0510['index'].isin(topic1_lst) & DF0510['year'].isin(['2005', '2006', '2007', '2008'])]"
   ]
  },
  {
   "cell_type": "code",
   "execution_count": null,
   "metadata": {
    "id": "_GnOR75hTfkI"
   },
   "outputs": [],
   "source": [
    "newdf.sort_values(by= 'year')"
   ]
  },
  {
   "cell_type": "code",
   "execution_count": null,
   "metadata": {
    "id": "RKcqPNjp39Ro"
   },
   "outputs": [],
   "source": [
    "# prepare corpus for dynamic topic model\n",
    "dictionary = gensim.corpora.Dictionary(newdf['reduced_tokens'])"
   ]
  },
  {
   "cell_type": "code",
   "execution_count": null,
   "metadata": {
    "id": "Qeo5nIxi4kqJ"
   },
   "outputs": [],
   "source": [
    "corpus = [dictionary.doc2bow(text) for text in newdf['reduced_tokens']]"
   ]
  },
  {
   "cell_type": "code",
   "execution_count": null,
   "metadata": {
    "id": "T7JtXgIE4oxa"
   },
   "outputs": [],
   "source": [
    "gensim.corpora.MmCorpus.serialize('hearing.mm', corpus)\n",
    "senmm = gensim.corpora.MmCorpus('hearing.mm')"
   ]
  },
  {
   "cell_type": "code",
   "execution_count": null,
   "metadata": {
    "id": "6tOafDEU47e3"
   },
   "outputs": [],
   "source": [
    "from gensim.models import ldaseqmodel"
   ]
  },
  {
   "cell_type": "code",
   "execution_count": null,
   "metadata": {
    "id": "2VEugQpQ5JRn"
   },
   "outputs": [],
   "source": [
    "docs_per_time_slice = [5, 6, 9, 6]"
   ]
  },
  {
   "cell_type": "code",
   "execution_count": null,
   "metadata": {
    "colab": {
     "base_uri": "https://localhost:8080/"
    },
    "id": "xtOb18ct49Jn",
    "outputId": "a8bc83c4-d5e5-4cda-d832-d307f8ebf665"
   },
   "outputs": [
    {
     "name": "stderr",
     "output_type": "stream",
     "text": [
      "/usr/local/lib/python3.7/dist-packages/gensim/models/ldaseqmodel.py:290: RuntimeWarning: divide by zero encountered in double_scalars\n",
      "  convergence = np.fabs((bound - old_bound) / old_bound)\n"
     ]
    }
   ],
   "source": [
    "ldaseq = ldaseqmodel.LdaSeqModel(corpus=corpus, id2word=dictionary, time_slice=docs_per_time_slice, num_topics=3, chain_variance=0.5)"
   ]
  },
  {
   "cell_type": "code",
   "execution_count": null,
   "metadata": {
    "colab": {
     "base_uri": "https://localhost:8080/"
    },
    "id": "-iVQC2dX5eV8",
    "outputId": "c7ea5db7-e9ba-4088-eb63-d47101ef8fdc"
   },
   "outputs": [
    {
     "name": "stdout",
     "output_type": "stream",
     "text": [
      "##### Topic 0, Time Slice 0 #####\n",
      "['faa', 'airport', 'aviation', 'airline', 'jackie', 'aircraft', 'flight', 'passenger', 'runway', 'airspace']\n",
      "##### Topic 0, Time Slice 1 #####\n",
      "['airport', 'airline', 'flight', 'faa', 'passenger', 'aircraft', 'airspace', 'dot', 'aviation', 'congestion']\n",
      "##### Topic 0, Time Slice 2 #####\n",
      "['airport', 'aviation', 'faa', 'aircraft', 'jet', 'flight', 'passenger', 'airline', 'airspace', 'fly']\n",
      "##### Topic 0, Time Slice 3 #####\n",
      "['airline', 'passenger', 'flight', 'faa', 'aviation', 'jackie', 'carrier', 'fly', 'airport', 'aircraft']\n",
      "\n",
      "\n",
      "##### Topic 1, Time Slice 0 #####\n",
      "['aviation', 'airport', 'aircraft', 'flight', 'jackf', 'tsa', 'faa', '0ct', 'fly', 'airspace']\n",
      "##### Topic 1, Time Slice 1 #####\n",
      "['faa', 'repair', 'aircraft', 'aviation', 'inspector', 'carrier', 'airline', 'scom1', 'jackie', 'inspection']\n",
      "##### Topic 1, Time Slice 2 #####\n",
      "['faa', 'aviation', 'inspector', 'airline', 'carrier', 'runway', 'jackf', 'repair', 'aircraft', 'airport']\n",
      "##### Topic 1, Time Slice 3 #####\n",
      "['airport', 'faa', 'flight', 'airspace', 'runway', 'congestion', 'aviation', 'jackf', 'aircraft', 'carrier']\n",
      "\n",
      "\n",
      "##### Topic 2, Time Slice 0 #####\n",
      "['nextgen', 'faa', 'jpdo', 'science1', 'aviation', 'nasa', 'aircraft', 'emission', 'airspace', 'airport']\n",
      "##### Topic 2, Time Slice 1 #####\n",
      "['noaa', 'faa', 'nws', 'aviation', 'forecast', 'science1', 'route', 'ocean', 'airspace', 'gao']\n",
      "##### Topic 2, Time Slice 2 #####\n",
      "['faa', 'jpdo', 'nextgen', 'aviation', 'ngats', 'nasa', 'aircraft', 'airspace', 'science1', 'modernization']\n",
      "##### Topic 2, Time Slice 3 #####\n",
      "['jpdo', 'ngats', 'faa', 'science1', 'nasa', 'airport', 'aviation', 'aircraft', 'jul', 'airspace']\n",
      "\n",
      "\n"
     ]
    }
   ],
   "source": [
    "import dtm # a custom module for printing models\n",
    "dtm.print_dtm(ldaseq, n_topics=3, n_time_slices=4)"
   ]
  },
  {
   "cell_type": "code",
   "execution_count": null,
   "metadata": {
    "colab": {
     "base_uri": "https://localhost:8080/"
    },
    "id": "jaqIfsgR9Jxk",
    "outputId": "aca154f4-3e25-4834-c0a0-6b0576cbfe8d"
   },
   "outputs": [
    {
     "name": "stderr",
     "output_type": "stream",
     "text": [
      "/usr/local/lib/python3.7/dist-packages/past/types/oldstr.py:5: DeprecationWarning: Using or importing the ABCs from 'collections' instead of from 'collections.abc' is deprecated since Python 3.3,and in 3.9 it will stop working\n",
      "  from collections import Iterable\n"
     ]
    }
   ],
   "source": [
    "pip install pyldavis\n",
    "from ipywidgets import interact\n",
    "import pyLDAvis"
   ]
  },
  {
   "cell_type": "code",
   "execution_count": null,
   "metadata": {
    "id": "8ASEsD-b9tSg"
   },
   "outputs": [],
   "source": [
    "topic_weights = pandas.DataFrame([ldaseq.doc_topics(j) for j in range(len(corpus))],\n",
    "                             columns=['topic0', 'topic1', 'topic2'])"
   ]
  },
  {
   "cell_type": "code",
   "execution_count": null,
   "metadata": {
    "id": "V3mkWe7Q-lcL"
   },
   "outputs": [],
   "source": [
    "# map each hearing to topics predicted by the model\n",
    "dtmDF = pandas.DataFrame({\n",
    "        'title' : newdf['title'],\n",
    "        'year' : newdf['year'],\n",
    "        'topics' : [ldaseq[dictionary.doc2bow(l)] for l in newdf['reduced_tokens']]\n",
    "    })\n",
    "dtmDF['topic0'] = topic_weights['topic0'].values.tolist()\n",
    "dtmDF['topic1'] = topic_weights['topic1'].values.tolist()\n",
    "dtmDF['topic2'] = topic_weights['topic2'].values.tolist()"
   ]
  },
  {
   "cell_type": "code",
   "execution_count": null,
   "metadata": {
    "id": "ECkVgT1_DoKO"
   },
   "outputs": [],
   "source": [
    "terms = {}\n",
    "for i, year in enumerate(['2005', '2006', '2007', '2008']):\n",
    "  terms[year] = []\n",
    "  for n in range(3):\n",
    "    terms[year].append(ldaseq.print_topic(n, time=i, top_terms=30))"
   ]
  },
  {
   "cell_type": "code",
   "execution_count": null,
   "metadata": {
    "id": "tSBDgHQUHHIJ"
   },
   "outputs": [],
   "source": [
    "for year in ['2005', '2006', '2007', '2008']:\n",
    "  print(year, '\\n')\n",
    "  topic_lst = terms[year]\n",
    "  for i, topic in enumerate(topic_lst):\n",
    "    print('Topic', i, topic, '\\n')"
   ]
  },
  {
   "cell_type": "code",
   "execution_count": null,
   "metadata": {
    "colab": {
     "base_uri": "https://localhost:8080/"
    },
    "id": "RxZzRNMJW9qV",
    "outputId": "d62af56b-3c8e-4344-91d8-0194852537cd"
   },
   "outputs": [
    {
     "data": {
      "text/plain": [
       "5    [0.222262473914636, 0.7777311486563607, 6.3774...\n",
       "Name: topics, dtype: object"
      ]
     },
     "execution_count": 78,
     "metadata": {},
     "output_type": "execute_result"
    }
   ],
   "source": [
    "dtmDF['topics'][[5]]"
   ]
  },
  {
   "cell_type": "code",
   "execution_count": null,
   "metadata": {
    "colab": {
     "base_uri": "https://localhost:8080/",
     "height": 865
    },
    "id": "n_NVfnvwZ7Ts",
    "outputId": "ad5aa3b8-6253-455c-e983-d253949b306e"
   },
   "outputs": [
    {
     "data": {
      "text/html": [
       "\n",
       "  <div id=\"df-5988e903-4d93-4abe-abf7-b6c31d757896\">\n",
       "    <div class=\"colab-df-container\">\n",
       "      <div>\n",
       "<style scoped>\n",
       "    .dataframe tbody tr th:only-of-type {\n",
       "        vertical-align: middle;\n",
       "    }\n",
       "\n",
       "    .dataframe tbody tr th {\n",
       "        vertical-align: top;\n",
       "    }\n",
       "\n",
       "    .dataframe thead th {\n",
       "        text-align: right;\n",
       "    }\n",
       "</style>\n",
       "<table border=\"1\" class=\"dataframe\">\n",
       "  <thead>\n",
       "    <tr style=\"text-align: right;\">\n",
       "      <th></th>\n",
       "      <th>topic0</th>\n",
       "      <th>topic1</th>\n",
       "      <th>topic2</th>\n",
       "    </tr>\n",
       "  </thead>\n",
       "  <tbody>\n",
       "    <tr>\n",
       "      <th>0</th>\n",
       "      <td>0.255549</td>\n",
       "      <td>0.744444</td>\n",
       "      <td>0.000006</td>\n",
       "    </tr>\n",
       "    <tr>\n",
       "      <th>1</th>\n",
       "      <td>0.000003</td>\n",
       "      <td>0.999993</td>\n",
       "      <td>0.000003</td>\n",
       "    </tr>\n",
       "    <tr>\n",
       "      <th>2</th>\n",
       "      <td>0.935139</td>\n",
       "      <td>0.000004</td>\n",
       "      <td>0.064857</td>\n",
       "    </tr>\n",
       "    <tr>\n",
       "      <th>3</th>\n",
       "      <td>0.000003</td>\n",
       "      <td>0.000003</td>\n",
       "      <td>0.999994</td>\n",
       "    </tr>\n",
       "    <tr>\n",
       "      <th>4</th>\n",
       "      <td>0.985604</td>\n",
       "      <td>0.014393</td>\n",
       "      <td>0.000003</td>\n",
       "    </tr>\n",
       "    <tr>\n",
       "      <th>5</th>\n",
       "      <td>0.013711</td>\n",
       "      <td>0.003457</td>\n",
       "      <td>0.982832</td>\n",
       "    </tr>\n",
       "    <tr>\n",
       "      <th>6</th>\n",
       "      <td>0.005672</td>\n",
       "      <td>0.618129</td>\n",
       "      <td>0.376199</td>\n",
       "    </tr>\n",
       "    <tr>\n",
       "      <th>7</th>\n",
       "      <td>0.000003</td>\n",
       "      <td>0.288704</td>\n",
       "      <td>0.711293</td>\n",
       "    </tr>\n",
       "    <tr>\n",
       "      <th>8</th>\n",
       "      <td>0.002248</td>\n",
       "      <td>0.997749</td>\n",
       "      <td>0.000003</td>\n",
       "    </tr>\n",
       "    <tr>\n",
       "      <th>9</th>\n",
       "      <td>0.999993</td>\n",
       "      <td>0.000004</td>\n",
       "      <td>0.000004</td>\n",
       "    </tr>\n",
       "    <tr>\n",
       "      <th>10</th>\n",
       "      <td>0.998319</td>\n",
       "      <td>0.001679</td>\n",
       "      <td>0.000002</td>\n",
       "    </tr>\n",
       "    <tr>\n",
       "      <th>11</th>\n",
       "      <td>0.720672</td>\n",
       "      <td>0.274642</td>\n",
       "      <td>0.004686</td>\n",
       "    </tr>\n",
       "    <tr>\n",
       "      <th>12</th>\n",
       "      <td>0.011026</td>\n",
       "      <td>0.000004</td>\n",
       "      <td>0.988970</td>\n",
       "    </tr>\n",
       "    <tr>\n",
       "      <th>13</th>\n",
       "      <td>0.026045</td>\n",
       "      <td>0.000004</td>\n",
       "      <td>0.973952</td>\n",
       "    </tr>\n",
       "    <tr>\n",
       "      <th>14</th>\n",
       "      <td>0.323023</td>\n",
       "      <td>0.506370</td>\n",
       "      <td>0.170606</td>\n",
       "    </tr>\n",
       "    <tr>\n",
       "      <th>15</th>\n",
       "      <td>0.083027</td>\n",
       "      <td>0.000005</td>\n",
       "      <td>0.916968</td>\n",
       "    </tr>\n",
       "    <tr>\n",
       "      <th>16</th>\n",
       "      <td>0.005446</td>\n",
       "      <td>0.994552</td>\n",
       "      <td>0.000002</td>\n",
       "    </tr>\n",
       "    <tr>\n",
       "      <th>17</th>\n",
       "      <td>0.694701</td>\n",
       "      <td>0.305292</td>\n",
       "      <td>0.000007</td>\n",
       "    </tr>\n",
       "    <tr>\n",
       "      <th>18</th>\n",
       "      <td>0.944627</td>\n",
       "      <td>0.000046</td>\n",
       "      <td>0.055327</td>\n",
       "    </tr>\n",
       "    <tr>\n",
       "      <th>19</th>\n",
       "      <td>0.789838</td>\n",
       "      <td>0.129176</td>\n",
       "      <td>0.080986</td>\n",
       "    </tr>\n",
       "    <tr>\n",
       "      <th>20</th>\n",
       "      <td>0.017245</td>\n",
       "      <td>0.981823</td>\n",
       "      <td>0.000932</td>\n",
       "    </tr>\n",
       "    <tr>\n",
       "      <th>21</th>\n",
       "      <td>0.994309</td>\n",
       "      <td>0.005688</td>\n",
       "      <td>0.000003</td>\n",
       "    </tr>\n",
       "    <tr>\n",
       "      <th>22</th>\n",
       "      <td>0.003801</td>\n",
       "      <td>0.996195</td>\n",
       "      <td>0.000004</td>\n",
       "    </tr>\n",
       "    <tr>\n",
       "      <th>23</th>\n",
       "      <td>0.999990</td>\n",
       "      <td>0.000005</td>\n",
       "      <td>0.000005</td>\n",
       "    </tr>\n",
       "    <tr>\n",
       "      <th>24</th>\n",
       "      <td>0.000002</td>\n",
       "      <td>0.001437</td>\n",
       "      <td>0.998561</td>\n",
       "    </tr>\n",
       "    <tr>\n",
       "      <th>25</th>\n",
       "      <td>0.651052</td>\n",
       "      <td>0.348944</td>\n",
       "      <td>0.000004</td>\n",
       "    </tr>\n",
       "  </tbody>\n",
       "</table>\n",
       "</div>\n",
       "      <button class=\"colab-df-convert\" onclick=\"convertToInteractive('df-5988e903-4d93-4abe-abf7-b6c31d757896')\"\n",
       "              title=\"Convert this dataframe to an interactive table.\"\n",
       "              style=\"display:none;\">\n",
       "        \n",
       "  <svg xmlns=\"http://www.w3.org/2000/svg\" height=\"24px\"viewBox=\"0 0 24 24\"\n",
       "       width=\"24px\">\n",
       "    <path d=\"M0 0h24v24H0V0z\" fill=\"none\"/>\n",
       "    <path d=\"M18.56 5.44l.94 2.06.94-2.06 2.06-.94-2.06-.94-.94-2.06-.94 2.06-2.06.94zm-11 1L8.5 8.5l.94-2.06 2.06-.94-2.06-.94L8.5 2.5l-.94 2.06-2.06.94zm10 10l.94 2.06.94-2.06 2.06-.94-2.06-.94-.94-2.06-.94 2.06-2.06.94z\"/><path d=\"M17.41 7.96l-1.37-1.37c-.4-.4-.92-.59-1.43-.59-.52 0-1.04.2-1.43.59L10.3 9.45l-7.72 7.72c-.78.78-.78 2.05 0 2.83L4 21.41c.39.39.9.59 1.41.59.51 0 1.02-.2 1.41-.59l7.78-7.78 2.81-2.81c.8-.78.8-2.07 0-2.86zM5.41 20L4 18.59l7.72-7.72 1.47 1.35L5.41 20z\"/>\n",
       "  </svg>\n",
       "      </button>\n",
       "      \n",
       "  <style>\n",
       "    .colab-df-container {\n",
       "      display:flex;\n",
       "      flex-wrap:wrap;\n",
       "      gap: 12px;\n",
       "    }\n",
       "\n",
       "    .colab-df-convert {\n",
       "      background-color: #E8F0FE;\n",
       "      border: none;\n",
       "      border-radius: 50%;\n",
       "      cursor: pointer;\n",
       "      display: none;\n",
       "      fill: #1967D2;\n",
       "      height: 32px;\n",
       "      padding: 0 0 0 0;\n",
       "      width: 32px;\n",
       "    }\n",
       "\n",
       "    .colab-df-convert:hover {\n",
       "      background-color: #E2EBFA;\n",
       "      box-shadow: 0px 1px 2px rgba(60, 64, 67, 0.3), 0px 1px 3px 1px rgba(60, 64, 67, 0.15);\n",
       "      fill: #174EA6;\n",
       "    }\n",
       "\n",
       "    [theme=dark] .colab-df-convert {\n",
       "      background-color: #3B4455;\n",
       "      fill: #D2E3FC;\n",
       "    }\n",
       "\n",
       "    [theme=dark] .colab-df-convert:hover {\n",
       "      background-color: #434B5C;\n",
       "      box-shadow: 0px 1px 3px 1px rgba(0, 0, 0, 0.15);\n",
       "      filter: drop-shadow(0px 1px 2px rgba(0, 0, 0, 0.3));\n",
       "      fill: #FFFFFF;\n",
       "    }\n",
       "  </style>\n",
       "\n",
       "      <script>\n",
       "        const buttonEl =\n",
       "          document.querySelector('#df-5988e903-4d93-4abe-abf7-b6c31d757896 button.colab-df-convert');\n",
       "        buttonEl.style.display =\n",
       "          google.colab.kernel.accessAllowed ? 'block' : 'none';\n",
       "\n",
       "        async function convertToInteractive(key) {\n",
       "          const element = document.querySelector('#df-5988e903-4d93-4abe-abf7-b6c31d757896');\n",
       "          const dataTable =\n",
       "            await google.colab.kernel.invokeFunction('convertToInteractive',\n",
       "                                                     [key], {});\n",
       "          if (!dataTable) return;\n",
       "\n",
       "          const docLinkHtml = 'Like what you see? Visit the ' +\n",
       "            '<a target=\"_blank\" href=https://colab.research.google.com/notebooks/data_table.ipynb>data table notebook</a>'\n",
       "            + ' to learn more about interactive tables.';\n",
       "          element.innerHTML = '';\n",
       "          dataTable['output_type'] = 'display_data';\n",
       "          await google.colab.output.renderOutput(dataTable, element);\n",
       "          const docLink = document.createElement('div');\n",
       "          docLink.innerHTML = docLinkHtml;\n",
       "          element.appendChild(docLink);\n",
       "        }\n",
       "      </script>\n",
       "    </div>\n",
       "  </div>\n",
       "  "
      ],
      "text/plain": [
       "      topic0    topic1    topic2\n",
       "0   0.255549  0.744444  0.000006\n",
       "1   0.000003  0.999993  0.000003\n",
       "2   0.935139  0.000004  0.064857\n",
       "3   0.000003  0.000003  0.999994\n",
       "4   0.985604  0.014393  0.000003\n",
       "5   0.013711  0.003457  0.982832\n",
       "6   0.005672  0.618129  0.376199\n",
       "7   0.000003  0.288704  0.711293\n",
       "8   0.002248  0.997749  0.000003\n",
       "9   0.999993  0.000004  0.000004\n",
       "10  0.998319  0.001679  0.000002\n",
       "11  0.720672  0.274642  0.004686\n",
       "12  0.011026  0.000004  0.988970\n",
       "13  0.026045  0.000004  0.973952\n",
       "14  0.323023  0.506370  0.170606\n",
       "15  0.083027  0.000005  0.916968\n",
       "16  0.005446  0.994552  0.000002\n",
       "17  0.694701  0.305292  0.000007\n",
       "18  0.944627  0.000046  0.055327\n",
       "19  0.789838  0.129176  0.080986\n",
       "20  0.017245  0.981823  0.000932\n",
       "21  0.994309  0.005688  0.000003\n",
       "22  0.003801  0.996195  0.000004\n",
       "23  0.999990  0.000005  0.000005\n",
       "24  0.000002  0.001437  0.998561\n",
       "25  0.651052  0.348944  0.000004"
      ]
     },
     "execution_count": 80,
     "metadata": {},
     "output_type": "execute_result"
    }
   ],
   "source": [
    "dtmDFV = topic_weights\n",
    "dtmDFVisN = dtmDF[:][['title']]\n",
    "dtmDFVis = dtmDFV.to_numpy()\n",
    "dtmDFVisNames = dtmDFVisN.to_numpy()\n",
    "dtmDFV"
   ]
  },
  {
   "cell_type": "code",
   "execution_count": null,
   "metadata": {
    "colab": {
     "base_uri": "https://localhost:8080/",
     "height": 281
    },
    "id": "zS6rEXnoB2Kn",
    "outputId": "b5458f8f-b89b-4c44-c618-a2ec362a2bb2"
   },
   "outputs": [
    {
     "data": {
      "image/png": "[encoded data removed]",
      "text/plain": [
       "<Figure size 432x288 with 1 Axes>"
      ]
     },
     "metadata": {},
     "output_type": "display_data"
    }
   ],
   "source": [
    "N = 52\n",
    "ind = np.arange(N)\n",
    "K = 3  # N documents, K topics\n",
    "ind = np.arange(N)  # the x-axis locations for the novels\n",
    "width = 0.5  # the width of the bars\n",
    "plots = []\n",
    "height_cumulative = np.zeros(N)\n",
    "\n",
    "for i, k in enumerate(['topic0', 'topic1', 'topic2']):\n",
    "    color = plt.cm.coolwarm(i/K, 1)\n",
    "    if k == 'topic0':\n",
    "        p = plt.bar(ind, dtmDFV[k], width, color=color)\n",
    "    else:\n",
    "        p = plt.bar(ind, dtmDFV[k], width, bottom=height_cumulative, color=color)\n",
    "    height_cumulative += dtmDFV[k]\n",
    "    plots.append(p)\n",
    "    \n",
    "\n",
    "plt.ylim((0, 1))  # proportions sum to 1, so the height of the stacked bars is 1\n",
    "plt.ylabel('Topics')\n",
    "\n",
    "plt.title('Topics in Hearings on \"Communication Technology\"')\n",
    "# plt.xticks(ind+width/2, ldaDFVisNames, rotation='vertical')\n",
    "\n",
    "plt.yticks(np.arange(0, 1, 10))\n",
    "topic_labels = ['Topic #{}'.format(k) for k in range(K)]\n",
    "plt.legend([p[0] for p in plots], topic_labels, loc='center left', frameon=True,  bbox_to_anchor = (1, .5))\n",
    "\n",
    "plt.show()"
   ]
  },
  {
   "cell_type": "code",
   "execution_count": null,
   "metadata": {
    "id": "7PZegCXfYxkH"
   },
   "outputs": [],
   "source": [
    "dtmDF"
   ]
  },
  {
   "cell_type": "code",
   "execution_count": null,
   "metadata": {
    "id": "VNzJzFkHK3qE"
   },
   "outputs": [],
   "source": [
    "pyLDAvis.enable_notebook()\n",
    "\n",
    "# Create pyLDAvis visualization for each year:\n",
    "vis = {}\n",
    "dates = pandas.Series(['2005', '2006', '2007', '2008'])\n",
    "for i in range(4):\n",
    "    doc_topic, topic_term, doc_lengths, term_frequency, vocab = ldaseq.dtm_vis(time=i, corpus=bow_corpus)\n",
    "    vis[dates[i]] = pyLDAvis.prepare(topic_term_dists=topic_term,\n",
    "                                            doc_topic_dists=doc_topic,\n",
    "                                            doc_lengths=doc_lengths,\n",
    "                                            vocab=vocab,\n",
    "                                            term_frequency=term_frequency)\n",
    "\n",
    "# Make an interactive plot so we can cycle through topics by year:\n",
    "@interact(Year=dates)\n",
    "def f(Year):\n",
    "    return vis[Year]"
   ]
  }
 ],
 "metadata": {
  "anaconda-cloud": {},
  "colab": {
   "collapsed_sections": [
    "Xir5XBlS3Nh-",
    "wp28_aZe3NiP",
    "ooCeS0Wq3NiY",
    "LomE0DcO3Nia",
    "tgq4hkZw3Nin",
    "A794bGic3Nir",
    "l8zUc5u53Nit",
    "dGy6n-dd3Ni5",
    "syxNwikVgPH0",
    "QtSUNW9j3NjP"
   ],
   "name": "3-Topic-Modeling-and-Clustering.ipynb",
   "provenance": []
  },
  "kernelspec": {
   "display_name": "Python 3 (ipykernel)",
   "language": "python",
   "name": "python3"
  },
  "language_info": {
   "codemirror_mode": {
    "name": "ipython",
    "version": 3
   },
   "file_extension": ".py",
   "mimetype": "text/x-python",
   "name": "python",
   "nbconvert_exporter": "python",
   "pygments_lexer": "ipython3",
   "version": "3.8.8"
  }
 },
 "nbformat": 4,
 "nbformat_minor": 1
}
