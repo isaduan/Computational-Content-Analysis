{
  "cells": [
    {
      "cell_type": "markdown",
      "metadata": {
        "id": "sjH25rkdyKCF"
      },
      "source": [
        "# Week 8 - Conversation and Text Generation\n",
        "Many natural language activities boil down to text generation, especially the back-and-forth nature of natural conversation and question answering. While some may regard it as a parlour trick due to unpredictability, recent dramatic improvements in text generation suggest that these kind of models can find themselves being used in more serious social scientific applications, such as in survey design and construction, idiomatic translation, and the normalization of phrase and sentence meanings.\n",
        "\n",
        "These models can be quite impressive, even uncanny in how human like they sound. Check out this [cool website](https://transformer.huggingface.co), which allows you to write with a transformer. The website is built by the folks who wrote the package we are using. The code underneath the website can be found in their examples: [run_generation.py](https://github.com/huggingface/transformers/blob/master/examples/run_generation.py).\n",
        "\n",
        "Much 2022 NLP research is on text generation. Most famously, this is the primary use of large language models like GPT-3 (OpenAI), Wu Dao (Beijing Academy of AI), and Gopher (DeepMind)."
      ]
    },
    {
      "cell_type": "code",
      "source": [
        "pip install -U git+git://github.com/UChicago-Computational-Content-Analysis/lucem_illud.git"
      ],
      "metadata": {
        "colab": {
          "base_uri": "https://localhost:8080/"
        },
        "id": "FNar30FyyLPW",
        "outputId": "440f4080-7ffe-4852-f423-6c8392873970"
      },
      "execution_count": 5,
      "outputs": [
        {
          "output_type": "stream",
          "name": "stdout",
          "text": [
            "Collecting git+git://github.com/UChicago-Computational-Content-Analysis/lucem_illud.git\n",
            "  Cloning git://github.com/UChicago-Computational-Content-Analysis/lucem_illud.git to /tmp/pip-req-build-msof6h9w\n",
            "  Running command git clone -q git://github.com/UChicago-Computational-Content-Analysis/lucem_illud.git /tmp/pip-req-build-msof6h9w\n",
            "Requirement already satisfied: numpy in /usr/local/lib/python3.7/dist-packages (from lucem-illud==8.0.1) (1.21.5)\n",
            "Requirement already satisfied: requests in /usr/local/lib/python3.7/dist-packages (from lucem-illud==8.0.1) (2.23.0)\n",
            "Requirement already satisfied: pandas in /usr/local/lib/python3.7/dist-packages (from lucem-illud==8.0.1) (1.3.5)\n",
            "Collecting python-docx\n",
            "  Downloading python-docx-0.8.11.tar.gz (5.6 MB)\n",
            "\u001b[K     |████████████████████████████████| 5.6 MB 3.8 MB/s \n",
            "\u001b[?25hRequirement already satisfied: pillow in /usr/local/lib/python3.7/dist-packages (from lucem-illud==8.0.1) (7.1.2)\n",
            "Collecting pdfminer2\n",
            "  Downloading pdfminer2-20151206-py2.py3-none-any.whl (117 kB)\n",
            "\u001b[K     |████████████████████████████████| 117 kB 38.4 MB/s \n",
            "\u001b[?25hCollecting GitPython\n",
            "  Downloading GitPython-3.1.27-py3-none-any.whl (181 kB)\n",
            "\u001b[K     |████████████████████████████████| 181 kB 34.6 MB/s \n",
            "\u001b[?25hRequirement already satisfied: wordcloud in /usr/local/lib/python3.7/dist-packages (from lucem-illud==8.0.1) (1.5.0)\n",
            "Requirement already satisfied: scipy in /usr/local/lib/python3.7/dist-packages (from lucem-illud==8.0.1) (1.4.1)\n",
            "Requirement already satisfied: seaborn in /usr/local/lib/python3.7/dist-packages (from lucem-illud==8.0.1) (0.11.2)\n",
            "Requirement already satisfied: scikit-learn in /usr/local/lib/python3.7/dist-packages (from lucem-illud==8.0.1) (1.0.2)\n",
            "Requirement already satisfied: nltk in /usr/local/lib/python3.7/dist-packages (from lucem-illud==8.0.1) (3.2.5)\n",
            "Requirement already satisfied: gensim in /usr/local/lib/python3.7/dist-packages (from lucem-illud==8.0.1) (3.6.0)\n",
            "Requirement already satisfied: matplotlib in /usr/local/lib/python3.7/dist-packages (from lucem-illud==8.0.1) (3.2.2)\n",
            "Collecting pyanno3\n",
            "  Downloading pyanno3-2.0.2.tar.gz (76 kB)\n",
            "\u001b[K     |████████████████████████████████| 76 kB 5.2 MB/s \n",
            "\u001b[?25hRequirement already satisfied: beautifulsoup4 in /usr/local/lib/python3.7/dist-packages (from lucem-illud==8.0.1) (4.6.3)\n",
            "Requirement already satisfied: graphviz in /usr/local/lib/python3.7/dist-packages (from lucem-illud==8.0.1) (0.10.1)\n",
            "Collecting boto3\n",
            "  Downloading boto3-1.21.13-py3-none-any.whl (132 kB)\n",
            "\u001b[K     |████████████████████████████████| 132 kB 31.3 MB/s \n",
            "\u001b[?25hRequirement already satisfied: networkx in /usr/local/lib/python3.7/dist-packages (from lucem-illud==8.0.1) (2.6.3)\n",
            "Collecting pydub\n",
            "  Downloading pydub-0.25.1-py2.py3-none-any.whl (32 kB)\n",
            "Collecting speechrecognition\n",
            "  Downloading SpeechRecognition-3.8.1-py2.py3-none-any.whl (32.8 MB)\n",
            "\u001b[K     |████████████████████████████████| 32.8 MB 139 kB/s \n",
            "\u001b[?25hCollecting pysoundfile\n",
            "  Downloading PySoundFile-0.9.0.post1-py2.py3-none-any.whl (24 kB)\n",
            "Requirement already satisfied: scikit-image in /usr/local/lib/python3.7/dist-packages (from lucem-illud==8.0.1) (0.18.3)\n",
            "Requirement already satisfied: IPython in /usr/local/lib/python3.7/dist-packages (from lucem-illud==8.0.1) (5.5.0)\n",
            "Requirement already satisfied: spacy in /usr/local/lib/python3.7/dist-packages (from lucem-illud==8.0.1) (2.2.4)\n",
            "Collecting botocore<1.25.0,>=1.24.13\n",
            "  Downloading botocore-1.24.13-py3-none-any.whl (8.6 MB)\n",
            "\u001b[K     |████████████████████████████████| 8.6 MB 38.1 MB/s \n",
            "\u001b[?25hCollecting s3transfer<0.6.0,>=0.5.0\n",
            "  Downloading s3transfer-0.5.2-py3-none-any.whl (79 kB)\n",
            "\u001b[K     |████████████████████████████████| 79 kB 7.4 MB/s \n",
            "\u001b[?25hCollecting jmespath<1.0.0,>=0.7.1\n",
            "  Downloading jmespath-0.10.0-py2.py3-none-any.whl (24 kB)\n",
            "Requirement already satisfied: python-dateutil<3.0.0,>=2.1 in /usr/local/lib/python3.7/dist-packages (from botocore<1.25.0,>=1.24.13->boto3->lucem-illud==8.0.1) (2.8.2)\n",
            "Collecting urllib3<1.27,>=1.25.4\n",
            "  Downloading urllib3-1.26.8-py2.py3-none-any.whl (138 kB)\n",
            "\u001b[K     |████████████████████████████████| 138 kB 36.4 MB/s \n",
            "\u001b[?25hRequirement already satisfied: six>=1.5 in /usr/local/lib/python3.7/dist-packages (from python-dateutil<3.0.0,>=2.1->botocore<1.25.0,>=1.24.13->boto3->lucem-illud==8.0.1) (1.15.0)\n",
            "Requirement already satisfied: smart-open>=1.2.1 in /usr/local/lib/python3.7/dist-packages (from gensim->lucem-illud==8.0.1) (5.2.1)\n",
            "Collecting gitdb<5,>=4.0.1\n",
            "  Downloading gitdb-4.0.9-py3-none-any.whl (63 kB)\n",
            "\u001b[K     |████████████████████████████████| 63 kB 962 kB/s \n",
            "\u001b[?25hRequirement already satisfied: typing-extensions>=3.7.4.3 in /usr/local/lib/python3.7/dist-packages (from GitPython->lucem-illud==8.0.1) (3.10.0.2)\n",
            "Collecting smmap<6,>=3.0.1\n",
            "  Downloading smmap-5.0.0-py3-none-any.whl (24 kB)\n",
            "Requirement already satisfied: pickleshare in /usr/local/lib/python3.7/dist-packages (from IPython->lucem-illud==8.0.1) (0.7.5)\n",
            "Requirement already satisfied: prompt-toolkit<2.0.0,>=1.0.4 in /usr/local/lib/python3.7/dist-packages (from IPython->lucem-illud==8.0.1) (1.0.18)\n",
            "Requirement already satisfied: decorator in /usr/local/lib/python3.7/dist-packages (from IPython->lucem-illud==8.0.1) (4.4.2)\n",
            "Requirement already satisfied: traitlets>=4.2 in /usr/local/lib/python3.7/dist-packages (from IPython->lucem-illud==8.0.1) (5.1.1)\n",
            "Requirement already satisfied: pexpect in /usr/local/lib/python3.7/dist-packages (from IPython->lucem-illud==8.0.1) (4.8.0)\n",
            "Requirement already satisfied: pygments in /usr/local/lib/python3.7/dist-packages (from IPython->lucem-illud==8.0.1) (2.6.1)\n",
            "Requirement already satisfied: simplegeneric>0.8 in /usr/local/lib/python3.7/dist-packages (from IPython->lucem-illud==8.0.1) (0.8.1)\n",
            "Requirement already satisfied: setuptools>=18.5 in /usr/local/lib/python3.7/dist-packages (from IPython->lucem-illud==8.0.1) (57.4.0)\n",
            "Requirement already satisfied: wcwidth in /usr/local/lib/python3.7/dist-packages (from prompt-toolkit<2.0.0,>=1.0.4->IPython->lucem-illud==8.0.1) (0.2.5)\n",
            "Requirement already satisfied: pyparsing!=2.0.4,!=2.1.2,!=2.1.6,>=2.0.1 in /usr/local/lib/python3.7/dist-packages (from matplotlib->lucem-illud==8.0.1) (3.0.7)\n",
            "Requirement already satisfied: cycler>=0.10 in /usr/local/lib/python3.7/dist-packages (from matplotlib->lucem-illud==8.0.1) (0.11.0)\n",
            "Requirement already satisfied: kiwisolver>=1.0.1 in /usr/local/lib/python3.7/dist-packages (from matplotlib->lucem-illud==8.0.1) (1.3.2)\n",
            "Requirement already satisfied: pytz>=2017.3 in /usr/local/lib/python3.7/dist-packages (from pandas->lucem-illud==8.0.1) (2018.9)\n",
            "Requirement already satisfied: ptyprocess>=0.5 in /usr/local/lib/python3.7/dist-packages (from pexpect->IPython->lucem-illud==8.0.1) (0.7.0)\n",
            "Collecting traits\n",
            "  Downloading traits-6.3.2-cp37-cp37m-manylinux_2_5_x86_64.manylinux1_x86_64.manylinux_2_12_x86_64.manylinux2010_x86_64.whl (5.1 MB)\n",
            "\u001b[K     |████████████████████████████████| 5.1 MB 32.1 MB/s \n",
            "\u001b[?25hRequirement already satisfied: cffi>=0.6 in /usr/local/lib/python3.7/dist-packages (from pysoundfile->lucem-illud==8.0.1) (1.15.0)\n",
            "Requirement already satisfied: pycparser in /usr/local/lib/python3.7/dist-packages (from cffi>=0.6->pysoundfile->lucem-illud==8.0.1) (2.21)\n",
            "Requirement already satisfied: lxml>=2.3.2 in /usr/local/lib/python3.7/dist-packages (from python-docx->lucem-illud==8.0.1) (4.2.6)\n",
            "Requirement already satisfied: idna<3,>=2.5 in /usr/local/lib/python3.7/dist-packages (from requests->lucem-illud==8.0.1) (2.10)\n",
            "Requirement already satisfied: chardet<4,>=3.0.2 in /usr/local/lib/python3.7/dist-packages (from requests->lucem-illud==8.0.1) (3.0.4)\n",
            "Collecting urllib3<1.27,>=1.25.4\n",
            "  Downloading urllib3-1.25.11-py2.py3-none-any.whl (127 kB)\n",
            "\u001b[K     |████████████████████████████████| 127 kB 41.2 MB/s \n",
            "\u001b[?25hRequirement already satisfied: certifi>=2017.4.17 in /usr/local/lib/python3.7/dist-packages (from requests->lucem-illud==8.0.1) (2021.10.8)\n",
            "Requirement already satisfied: imageio>=2.3.0 in /usr/local/lib/python3.7/dist-packages (from scikit-image->lucem-illud==8.0.1) (2.4.1)\n",
            "Requirement already satisfied: PyWavelets>=1.1.1 in /usr/local/lib/python3.7/dist-packages (from scikit-image->lucem-illud==8.0.1) (1.2.0)\n",
            "Requirement already satisfied: tifffile>=2019.7.26 in /usr/local/lib/python3.7/dist-packages (from scikit-image->lucem-illud==8.0.1) (2021.11.2)\n",
            "Requirement already satisfied: joblib>=0.11 in /usr/local/lib/python3.7/dist-packages (from scikit-learn->lucem-illud==8.0.1) (1.1.0)\n",
            "Requirement already satisfied: threadpoolctl>=2.0.0 in /usr/local/lib/python3.7/dist-packages (from scikit-learn->lucem-illud==8.0.1) (3.1.0)\n",
            "Requirement already satisfied: preshed<3.1.0,>=3.0.2 in /usr/local/lib/python3.7/dist-packages (from spacy->lucem-illud==8.0.1) (3.0.6)\n",
            "Requirement already satisfied: tqdm<5.0.0,>=4.38.0 in /usr/local/lib/python3.7/dist-packages (from spacy->lucem-illud==8.0.1) (4.63.0)\n",
            "Requirement already satisfied: plac<1.2.0,>=0.9.6 in /usr/local/lib/python3.7/dist-packages (from spacy->lucem-illud==8.0.1) (1.1.3)\n",
            "Requirement already satisfied: srsly<1.1.0,>=1.0.2 in /usr/local/lib/python3.7/dist-packages (from spacy->lucem-illud==8.0.1) (1.0.5)\n",
            "Requirement already satisfied: cymem<2.1.0,>=2.0.2 in /usr/local/lib/python3.7/dist-packages (from spacy->lucem-illud==8.0.1) (2.0.6)\n",
            "Requirement already satisfied: murmurhash<1.1.0,>=0.28.0 in /usr/local/lib/python3.7/dist-packages (from spacy->lucem-illud==8.0.1) (1.0.6)\n",
            "Requirement already satisfied: blis<0.5.0,>=0.4.0 in /usr/local/lib/python3.7/dist-packages (from spacy->lucem-illud==8.0.1) (0.4.1)\n",
            "Requirement already satisfied: wasabi<1.1.0,>=0.4.0 in /usr/local/lib/python3.7/dist-packages (from spacy->lucem-illud==8.0.1) (0.9.0)\n",
            "Requirement already satisfied: catalogue<1.1.0,>=0.0.7 in /usr/local/lib/python3.7/dist-packages (from spacy->lucem-illud==8.0.1) (1.0.0)\n",
            "Requirement already satisfied: thinc==7.4.0 in /usr/local/lib/python3.7/dist-packages (from spacy->lucem-illud==8.0.1) (7.4.0)\n",
            "Requirement already satisfied: importlib-metadata>=0.20 in /usr/local/lib/python3.7/dist-packages (from catalogue<1.1.0,>=0.0.7->spacy->lucem-illud==8.0.1) (4.11.2)\n",
            "Requirement already satisfied: zipp>=0.5 in /usr/local/lib/python3.7/dist-packages (from importlib-metadata>=0.20->catalogue<1.1.0,>=0.0.7->spacy->lucem-illud==8.0.1) (3.7.0)\n",
            "Building wheels for collected packages: lucem-illud, pyanno3, python-docx\n",
            "  Building wheel for lucem-illud (setup.py) ... \u001b[?25l\u001b[?25hdone\n",
            "  Created wheel for lucem-illud: filename=lucem_illud-8.0.1-py3-none-any.whl size=34971 sha256=a121b9d8b4159f7de7ed8c745b6ef7f58a547a40b2ab008820221a8f0f957e32\n",
            "  Stored in directory: /tmp/pip-ephem-wheel-cache-_755fkq1/wheels/a5/6a/0f/ddf40c68215bc4b072c455caa6a08e0031c92187c93a1b5a81\n",
            "  Building wheel for pyanno3 (setup.py) ... \u001b[?25l\u001b[?25hdone\n",
            "  Created wheel for pyanno3: filename=pyanno3-2.0.2-py3-none-any.whl size=116978 sha256=e7a13a1e8d17e1939e3c75e5a053b41900a93701936cdb29ae0a13fc6b69da44\n",
            "  Stored in directory: /root/.cache/pip/wheels/28/eb/a9/d9c212d9388cde6cf3ee6edd7aa3891624bca58b24d9c26c76\n",
            "  Building wheel for python-docx (setup.py) ... \u001b[?25l\u001b[?25hdone\n",
            "  Created wheel for python-docx: filename=python_docx-0.8.11-py3-none-any.whl size=184507 sha256=233df8fcb008db734948b9223e8c0c12be41c52c8a89439e4a060aba9e4db295\n",
            "  Stored in directory: /root/.cache/pip/wheels/f6/6f/b9/d798122a8b55b74ad30b5f52b01482169b445fbb84a11797a6\n",
            "Successfully built lucem-illud pyanno3 python-docx\n",
            "Installing collected packages: urllib3, jmespath, smmap, botocore, traits, s3transfer, gitdb, speechrecognition, python-docx, pysoundfile, pydub, pyanno3, pdfminer2, GitPython, boto3, lucem-illud\n",
            "  Attempting uninstall: urllib3\n",
            "    Found existing installation: urllib3 1.24.3\n",
            "    Uninstalling urllib3-1.24.3:\n",
            "      Successfully uninstalled urllib3-1.24.3\n",
            "\u001b[31mERROR: pip's dependency resolver does not currently take into account all the packages that are installed. This behaviour is the source of the following dependency conflicts.\n",
            "datascience 0.10.6 requires folium==0.2.1, but you have folium 0.8.3 which is incompatible.\u001b[0m\n",
            "Successfully installed GitPython-3.1.27 boto3-1.21.13 botocore-1.24.13 gitdb-4.0.9 jmespath-0.10.0 lucem-illud-8.0.1 pdfminer2-20151206 pyanno3-2.0.2 pydub-0.25.1 pysoundfile-0.9.0.post1 python-docx-0.8.11 s3transfer-0.5.2 smmap-5.0.0 speechrecognition-3.8.1 traits-6.3.2 urllib3-1.25.11\n"
          ]
        }
      ]
    },
    {
      "cell_type": "code",
      "source": [
        "pip install torch"
      ],
      "metadata": {
        "colab": {
          "base_uri": "https://localhost:8080/"
        },
        "id": "vnBEAqDWyQ_B",
        "outputId": "890426f2-2bb5-4188-c467-26cbb39043a7"
      },
      "execution_count": 1,
      "outputs": [
        {
          "output_type": "stream",
          "name": "stdout",
          "text": [
            "Requirement already satisfied: torch in /usr/local/lib/python3.7/dist-packages (1.10.0+cu111)\n",
            "Requirement already satisfied: typing-extensions in /usr/local/lib/python3.7/dist-packages (from torch) (3.10.0.2)\n"
          ]
        }
      ]
    },
    {
      "cell_type": "code",
      "source": [
        "pip install transformers[torch]"
      ],
      "metadata": {
        "colab": {
          "base_uri": "https://localhost:8080/"
        },
        "id": "eHT-7RH4ySjw",
        "outputId": "507fbff9-2fea-464c-b5af-9ee43c15bbcb"
      },
      "execution_count": 2,
      "outputs": [
        {
          "output_type": "stream",
          "name": "stdout",
          "text": [
            "Collecting transformers[torch]\n",
            "  Downloading transformers-4.17.0-py3-none-any.whl (3.8 MB)\n",
            "\u001b[K     |████████████████████████████████| 3.8 MB 5.3 MB/s \n",
            "\u001b[?25hRequirement already satisfied: numpy>=1.17 in /usr/local/lib/python3.7/dist-packages (from transformers[torch]) (1.21.5)\n",
            "Requirement already satisfied: packaging>=20.0 in /usr/local/lib/python3.7/dist-packages (from transformers[torch]) (21.3)\n",
            "Requirement already satisfied: tqdm>=4.27 in /usr/local/lib/python3.7/dist-packages (from transformers[torch]) (4.63.0)\n",
            "Collecting pyyaml>=5.1\n",
            "  Downloading PyYAML-6.0-cp37-cp37m-manylinux_2_5_x86_64.manylinux1_x86_64.manylinux_2_12_x86_64.manylinux2010_x86_64.whl (596 kB)\n",
            "\u001b[K     |████████████████████████████████| 596 kB 35.5 MB/s \n",
            "\u001b[?25hRequirement already satisfied: filelock in /usr/local/lib/python3.7/dist-packages (from transformers[torch]) (3.6.0)\n",
            "Requirement already satisfied: requests in /usr/local/lib/python3.7/dist-packages (from transformers[torch]) (2.23.0)\n",
            "Collecting huggingface-hub<1.0,>=0.1.0\n",
            "  Downloading huggingface_hub-0.4.0-py3-none-any.whl (67 kB)\n",
            "\u001b[K     |████████████████████████████████| 67 kB 3.3 MB/s \n",
            "\u001b[?25hRequirement already satisfied: regex!=2019.12.17 in /usr/local/lib/python3.7/dist-packages (from transformers[torch]) (2019.12.20)\n",
            "Collecting sacremoses\n",
            "  Downloading sacremoses-0.0.47-py2.py3-none-any.whl (895 kB)\n",
            "\u001b[K     |████████████████████████████████| 895 kB 34.2 MB/s \n",
            "\u001b[?25hRequirement already satisfied: importlib-metadata in /usr/local/lib/python3.7/dist-packages (from transformers[torch]) (4.11.2)\n",
            "Collecting tokenizers!=0.11.3,>=0.11.1\n",
            "  Downloading tokenizers-0.11.6-cp37-cp37m-manylinux_2_12_x86_64.manylinux2010_x86_64.whl (6.5 MB)\n",
            "\u001b[K     |████████████████████████████████| 6.5 MB 27.4 MB/s \n",
            "\u001b[?25hRequirement already satisfied: torch>=1.0 in /usr/local/lib/python3.7/dist-packages (from transformers[torch]) (1.10.0+cu111)\n",
            "Requirement already satisfied: typing-extensions>=3.7.4.3 in /usr/local/lib/python3.7/dist-packages (from huggingface-hub<1.0,>=0.1.0->transformers[torch]) (3.10.0.2)\n",
            "Requirement already satisfied: pyparsing!=3.0.5,>=2.0.2 in /usr/local/lib/python3.7/dist-packages (from packaging>=20.0->transformers[torch]) (3.0.7)\n",
            "Requirement already satisfied: zipp>=0.5 in /usr/local/lib/python3.7/dist-packages (from importlib-metadata->transformers[torch]) (3.7.0)\n",
            "Requirement already satisfied: chardet<4,>=3.0.2 in /usr/local/lib/python3.7/dist-packages (from requests->transformers[torch]) (3.0.4)\n",
            "Requirement already satisfied: idna<3,>=2.5 in /usr/local/lib/python3.7/dist-packages (from requests->transformers[torch]) (2.10)\n",
            "Requirement already satisfied: urllib3!=1.25.0,!=1.25.1,<1.26,>=1.21.1 in /usr/local/lib/python3.7/dist-packages (from requests->transformers[torch]) (1.24.3)\n",
            "Requirement already satisfied: certifi>=2017.4.17 in /usr/local/lib/python3.7/dist-packages (from requests->transformers[torch]) (2021.10.8)\n",
            "Requirement already satisfied: joblib in /usr/local/lib/python3.7/dist-packages (from sacremoses->transformers[torch]) (1.1.0)\n",
            "Requirement already satisfied: click in /usr/local/lib/python3.7/dist-packages (from sacremoses->transformers[torch]) (7.1.2)\n",
            "Requirement already satisfied: six in /usr/local/lib/python3.7/dist-packages (from sacremoses->transformers[torch]) (1.15.0)\n",
            "Installing collected packages: pyyaml, tokenizers, sacremoses, huggingface-hub, transformers\n",
            "  Attempting uninstall: pyyaml\n",
            "    Found existing installation: PyYAML 3.13\n",
            "    Uninstalling PyYAML-3.13:\n",
            "      Successfully uninstalled PyYAML-3.13\n",
            "Successfully installed huggingface-hub-0.4.0 pyyaml-6.0 sacremoses-0.0.47 tokenizers-0.11.6 transformers-4.17.0\n"
          ]
        }
      ]
    },
    {
      "cell_type": "code",
      "execution_count": 6,
      "metadata": {
        "id": "4FYMTtfEyKCI"
      },
      "outputs": [],
      "source": [
        "#Special module written for this class\n",
        "#This provides access to data and to helper functions from previous weeks\n",
        "#Make sure you update it before starting this notebook\n",
        "import lucem_illud #pip install -U git+git://github.com/UChicago-Computational-Content-Analysis/lucem_illud.git\n",
        "\n",
        "import sklearn #For generating some matrices\n",
        "import pandas as pd #For DataFrames\n",
        "import numpy as np #For arrays\n",
        "import matplotlib.pyplot as plt #For plotting\n",
        "import seaborn #Makes the plots look nice\n",
        "import seaborn as sns\n",
        "import scipy #Some stats\n",
        "import nltk #a little language code\n",
        "from IPython.display import Image #for pics\n",
        "\n",
        "import pickle #if you want to save layouts\n",
        "import os\n",
        "import io\n",
        "import zipfile\n",
        "\n",
        "import networkx as nx\n",
        "\n",
        "%matplotlib inline\n",
        "\n",
        "import torch # pip install torch\n",
        "from torch.utils.data import TensorDataset, DataLoader, RandomSampler, SequentialSampler\n",
        "from sklearn.model_selection import train_test_split\n",
        "from transformers import BertTokenizer, BertConfig # pip install tranformers\n",
        "from transformers import AdamW, BertForSequenceClassification\n",
        "from tqdm import tqdm, trange"
      ]
    },
    {
      "cell_type": "code",
      "execution_count": 4,
      "metadata": {
        "id": "8Cdsz61TyKCK"
      },
      "outputs": [],
      "source": [
        "%matplotlib inline"
      ]
    },
    {
      "cell_type": "code",
      "execution_count": 7,
      "metadata": {
        "id": "Fod5pdJzyKCL"
      },
      "outputs": [],
      "source": [
        "import os\n",
        "os.environ['KERAS_BACKEND'] = 'tensorflow'\n",
        "from keras.preprocessing.sequence import pad_sequences"
      ]
    },
    {
      "cell_type": "markdown",
      "metadata": {
        "id": "wRlngAUvyKCM"
      },
      "source": [
        "# ConvoKit\n",
        "As we alluded to in Week 6 with causal inference, [ConvoKit](https://convokit.cornell.edu/) is an exciting platform for conversational analysis developed by Jonathan Chang, Calem Chiam, and others, mostly at Cornell. Keep this in mind if you are interested in a final project with conversational data such as Twitter threads or movie scripts. They have an [interactive tutorial](https://colab.research.google.com/github/CornellNLP/Cornell-Conversational-Analysis-Toolkit/blob/master/examples/Introduction_to_ConvoKit.ipynb), which we include some examples from below. Most of the following text and code is authored by them.\n",
        "\n",
        "These ConvoKit corpora can be used for the next exercise in this notebook."
      ]
    },
    {
      "cell_type": "code",
      "execution_count": null,
      "metadata": {
        "id": "EpQTyQjBUonG"
      },
      "outputs": [],
      "source": [
        "try:\n",
        "    import convokit\n",
        "except ModuleNotFoundError:\n",
        "    !pip install convokit"
      ]
    },
    {
      "cell_type": "code",
      "execution_count": 16,
      "metadata": {
        "id": "mMQXf1xHUonH"
      },
      "outputs": [],
      "source": [
        "# for pretty printing of cells within the Colab version of this notebook\n",
        "from IPython.display import HTML, display\n",
        "\n",
        "def set_css():\n",
        "  display(HTML('''\n",
        "  <style>\n",
        "    pre {\n",
        "        white-space: pre-wrap;\n",
        "    }\n",
        "  </style>\n",
        "  '''))\n",
        "get_ipython().events.register('pre_run_cell', set_css)"
      ]
    },
    {
      "cell_type": "code",
      "execution_count": 9,
      "metadata": {
        "id": "RLHbOOAzUonI"
      },
      "outputs": [],
      "source": [
        "import convokit\n",
        "from convokit import Corpus, download"
      ]
    },
    {
      "cell_type": "markdown",
      "metadata": {
        "id": "M5VIPx2oUonI"
      },
      "source": [
        "### Loading a Corpus"
      ]
    },
    {
      "cell_type": "markdown",
      "metadata": {
        "id": "j_lhin9LUonJ"
      },
      "source": [
        "A Corpus represents a conversational dataset. We typically begin our analysis by loading a Corpus. A list of existing datasets already in ConvoKit format can be found [here](https://convokit.cornell.edu/documentation/datasets.html). \n",
        "\n",
        "A growing list of many other conversational datasets covering a variety of conversational settings are available in ConvoKit, such as face-to-face (e.g. the [*Intelligence Squared Debates corpus*](https://convokit.cornell.edu/documentation/iq2.html)), institutional (e.g. the [*Supreme Court Oral Arguments corpus*](https://convokit.cornell.edu/documentation/supreme.html)), fictional (e.g. the [*Cornell Movie Dialog Corpus*](https://convokit.cornell.edu/documentation/movie.html)), or online  (e.g. all talkpage conversations on [*Wikipedia Talk Pages*](https://convokit.cornell.edu/documentation/wiki.html) and a full dump of [*Reddit*](https://convokit.cornell.edu/documentation/subreddit.html)).\n",
        "\n",
        "For this tutorial, we will primarily be using the *r/Cornell* subreddit corpus to demo various ConvoKit functionality, and occasionally the [*Switchboard Dialog Act Corpus*](https://convokit.cornell.edu/documentation/switchboard.html) (a collection of anonymized five-minute telephone conversations) as a contrasting dataset."
      ]
    },
    {
      "cell_type": "code",
      "execution_count": 12,
      "metadata": {
        "id": "488jR7pVUonJ",
        "outputId": "b6a0cb9b-eec1-4d85-b1ef-fecb20921cf4",
        "colab": {
          "base_uri": "https://localhost:8080/",
          "height": 91
        }
      },
      "outputs": [
        {
          "output_type": "display_data",
          "data": {
            "text/html": [
              "\n",
              "  <style>\n",
              "    pre {\n",
              "        white-space: pre-wrap;\n",
              "    }\n",
              "  </style>\n",
              "  "
            ],
            "text/plain": [
              "<IPython.core.display.HTML object>"
            ]
          },
          "metadata": {}
        },
        {
          "output_type": "stream",
          "name": "stdout",
          "text": [
            "Downloading subreddit-Cornell to /root/.convokit/downloads/subreddit-Cornell\n",
            "Downloading subreddit-Cornell from http://zissou.infosci.cornell.edu/convokit/datasets/subreddit-corpus/corpus-zipped/CookingScrewups~-~CrappyDesign/Cornell.corpus.zip (11.2MB)... Done\n"
          ]
        }
      ],
      "source": [
        "corpus = Corpus(download('subreddit-Cornell'))\n",
        "\n",
        "# You can try a different corpus if you want.\n",
        "#corpus = Corpus(download('diplomacy-corpus'))\n",
        "#corpus = Corpus(download('switchboard-corpus'))\n",
        "#corpus = Corpus(download('reddit-corpus-small'))"
      ]
    },
    {
      "cell_type": "code",
      "execution_count": 13,
      "metadata": {
        "id": "rnBisd3QUonL",
        "outputId": "156ef5d7-053d-4d5c-b38a-f9e2313f6b06",
        "colab": {
          "base_uri": "https://localhost:8080/",
          "height": 72
        }
      },
      "outputs": [
        {
          "output_type": "display_data",
          "data": {
            "text/html": [
              "\n",
              "  <style>\n",
              "    pre {\n",
              "        white-space: pre-wrap;\n",
              "    }\n",
              "  </style>\n",
              "  "
            ],
            "text/plain": [
              "<IPython.core.display.HTML object>"
            ]
          },
          "metadata": {}
        },
        {
          "output_type": "stream",
          "name": "stdout",
          "text": [
            "Number of Speakers: 7568\n",
            "Number of Utterances: 74467\n",
            "Number of Conversations: 10744\n"
          ]
        }
      ],
      "source": [
        "corpus.print_summary_stats()"
      ]
    },
    {
      "cell_type": "markdown",
      "metadata": {
        "id": "XTcJWCgzUonL"
      },
      "source": [
        "### Corpus components: Conversations, Utterances, Speakers"
      ]
    },
    {
      "cell_type": "markdown",
      "metadata": {
        "id": "MnnTm_ALUonL"
      },
      "source": [
        "Every Corpus has three main components: [Conversations](https://convokit.cornell.edu/documentation/conversation.html), [Utterances](https://convokit.cornell.edu/documentation/utterance.html), and [Speakers](https://convokit.cornell.edu/documentation/speaker.html). Just as in real life, in ConvoKit, Conversations are some sequence of Utterances, where each Utterance is made by some Speaker. Let's look at an example of each."
      ]
    },
    {
      "cell_type": "code",
      "execution_count": 14,
      "metadata": {
        "id": "xW9eeQrcUonS",
        "outputId": "7c21c7fa-0b88-4b10-dd64-3eb53966aa4d",
        "colab": {
          "base_uri": "https://localhost:8080/",
          "height": 183
        }
      },
      "outputs": [
        {
          "output_type": "display_data",
          "data": {
            "text/html": [
              "\n",
              "  <style>\n",
              "    pre {\n",
              "        white-space: pre-wrap;\n",
              "    }\n",
              "  </style>\n",
              "  "
            ],
            "text/plain": [
              "<IPython.core.display.HTML object>"
            ]
          },
          "metadata": {}
        },
        {
          "output_type": "execute_result",
          "data": {
            "text/plain": [
              "{'author_flair_text': 'ECE 2021',\n",
              " 'domain': 'self.Cornell',\n",
              " 'gilded': 0,\n",
              " 'gildings': None,\n",
              " 'num_comments': 2,\n",
              " 'stickied': False,\n",
              " 'subreddit': 'Cornell',\n",
              " 'timestamp': 1501635783,\n",
              " 'title': 'Econ minor as an engineer?'}"
            ]
          },
          "metadata": {},
          "execution_count": 14
        }
      ],
      "source": [
        "# This is a Reddit thread\n",
        "corpus.random_conversation().meta"
      ]
    },
    {
      "cell_type": "code",
      "execution_count": 15,
      "metadata": {
        "id": "TeR71mPgUonT",
        "outputId": "adcc4c64-77bf-401e-96ee-78662a2e917a",
        "colab": {
          "base_uri": "https://localhost:8080/",
          "height": 183
        }
      },
      "outputs": [
        {
          "output_type": "display_data",
          "data": {
            "text/html": [
              "\n",
              "  <style>\n",
              "    pre {\n",
              "        white-space: pre-wrap;\n",
              "    }\n",
              "  </style>\n",
              "  "
            ],
            "text/plain": [
              "<IPython.core.display.HTML object>"
            ]
          },
          "metadata": {}
        },
        {
          "output_type": "execute_result",
          "data": {
            "text/plain": [
              "{'author_flair_text': '',\n",
              " 'gilded': 0,\n",
              " 'gildings': None,\n",
              " 'permalink': '/r/Cornell/comments/26bwjx/apartment_advice_for_incoming_grad/',\n",
              " 'retrieved_on': 1441342916,\n",
              " 'score': 6,\n",
              " 'stickied': False,\n",
              " 'subreddit': 'Cornell',\n",
              " 'top_level_comment': None}"
            ]
          },
          "metadata": {},
          "execution_count": 15
        }
      ],
      "source": [
        "# This is a Reddit post or comment.\n",
        "corpus.random_utterance().meta"
      ]
    },
    {
      "cell_type": "code",
      "execution_count": 16,
      "metadata": {
        "id": "LnQcLKBxUonS",
        "outputId": "533d2ffd-585f-40cd-81cc-495da69e9c24",
        "colab": {
          "base_uri": "https://localhost:8080/",
          "height": 54
        }
      },
      "outputs": [
        {
          "output_type": "display_data",
          "data": {
            "text/html": [
              "\n",
              "  <style>\n",
              "    pre {\n",
              "        white-space: pre-wrap;\n",
              "    }\n",
              "  </style>\n",
              "  "
            ],
            "text/plain": [
              "<IPython.core.display.HTML object>"
            ]
          },
          "metadata": {}
        },
        {
          "output_type": "execute_result",
          "data": {
            "text/plain": [
              "Speaker({'obj_type': 'speaker', 'meta': {}, 'vectors': [], 'owner': <convokit.model.corpus.Corpus object at 0x7fa360530710>, 'id': 'School_Shooter'})"
            ]
          },
          "metadata": {},
          "execution_count": 16
        }
      ],
      "source": [
        "# The r/Cornell Corpus does not have speaker metadata.\n",
        "#corpus.random_speaker().meta\n",
        "\n",
        "#Speaker do have an 'id' which is their Reddit username, as seen here.\n",
        "corpus.random_speaker()"
      ]
    },
    {
      "cell_type": "code",
      "execution_count": 17,
      "metadata": {
        "colab": {
          "base_uri": "https://localhost:8080/",
          "height": 128
        },
        "id": "MiZxhujUyKCU",
        "outputId": "799b64a7-4809-47b2-f65c-8b48aeb85c67"
      },
      "outputs": [
        {
          "output_type": "display_data",
          "data": {
            "text/html": [
              "\n",
              "  <style>\n",
              "    pre {\n",
              "        white-space: pre-wrap;\n",
              "    }\n",
              "  </style>\n",
              "  "
            ],
            "text/plain": [
              "<IPython.core.display.HTML object>"
            ]
          },
          "metadata": {}
        },
        {
          "output_type": "stream",
          "name": "stdout",
          "text": [
            "I was just reading about the Princeton Mic-Check and it's getting [national press](http://www.bloomberg.com/news/2011-12-29/princeton-brews-trouble-for-us-1-percenters-commentary-by-michael-lewis.html).\n",
            "\n",
            "I want to get a sense of what people felt like around campus. Anything interesting happen? Anything interesting coming up?\n"
          ]
        }
      ],
      "source": [
        "# We can iterate through these objects as we iterate lists or DataFrames in Python.\n",
        "for utt in corpus.iter_utterances():\n",
        "    print(utt.text)\n",
        "    break "
      ]
    },
    {
      "cell_type": "markdown",
      "metadata": {
        "id": "HNLQqxVhyKCU"
      },
      "source": [
        "Conversations, Utterances, and Speakers are each interesting, but the magic of conversational analysis is connecting them. For example, we can get all the Conversations in which a Speaker has participated and all the Utterances they have made. To make it more interesting, we can find a Speaker to study by navigating from a random Utterance."
      ]
    },
    {
      "cell_type": "code",
      "execution_count": 18,
      "metadata": {
        "colab": {
          "base_uri": "https://localhost:8080/",
          "height": 313
        },
        "id": "lE4vIcGkyKCV",
        "outputId": "294e4aef-71a9-4466-ff1e-b8b0c722542d"
      },
      "outputs": [
        {
          "output_type": "display_data",
          "data": {
            "text/html": [
              "\n",
              "  <style>\n",
              "    pre {\n",
              "        white-space: pre-wrap;\n",
              "    }\n",
              "  </style>\n",
              "  "
            ],
            "text/plain": [
              "<IPython.core.display.HTML object>"
            ]
          },
          "metadata": {}
        },
        {
          "output_type": "execute_result",
          "data": {
            "text/plain": [
              "[Conversation({'obj_type': 'conversation', 'meta': {'title': \"For the 2017ers: I moved onto campus in August, 10 years ago. Here's what I wish I was told, what I wish I did, and what I ultimately learned after 4 years far above Cayuga's waters.\", 'num_comments': 14, 'domain': 'self.Cornell', 'timestamp': 1368133432, 'subreddit': 'Cornell', 'gilded': 0, 'gildings': None, 'stickied': False, 'author_flair_text': ''}, 'vectors': [], 'tree': None, 'owner': <convokit.model.corpus.Corpus object at 0x7fa360530710>, 'id': '1e0xzp'}),\n",
              " Conversation({'obj_type': 'conversation', 'meta': {'title': 'Usefulness of a car?', 'num_comments': 14, 'domain': 'self.Cornell', 'timestamp': 1370021582, 'subreddit': 'Cornell', 'gilded': 0, 'gildings': None, 'stickied': False, 'author_flair_text': ''}, 'vectors': [], 'tree': None, 'owner': <convokit.model.corpus.Corpus object at 0x7fa360530710>, 'id': '1feyom'}),\n",
              " Conversation({'obj_type': 'conversation', 'meta': {'title': 'Dorm floor plans?', 'num_comments': 7, 'domain': 'self.Cornell', 'timestamp': 1373798244, 'subreddit': 'Cornell', 'gilded': 0, 'gildings': None, 'stickied': False, 'author_flair_text': ''}, 'vectors': [], 'tree': None, 'owner': <convokit.model.corpus.Corpus object at 0x7fa360530710>, 'id': '1i9r4k'})]"
            ]
          },
          "metadata": {},
          "execution_count": 18
        }
      ],
      "source": [
        "# consider this sequence of operations that highlight how to navigate between components\n",
        "utt = corpus.random_utterance()\n",
        "convo = utt.get_conversation() # get the Conversation the Utterance belongs to\n",
        "spkr = utt.speaker # get the Speaker who made the Utterance\n",
        "\n",
        "spkr_convos = list(spkr.iter_conversations())\n",
        "\n",
        "# Display up to 3 of their conversations.\n",
        "spkr_convos[:3]"
      ]
    },
    {
      "cell_type": "markdown",
      "metadata": {
        "id": "TrnleGtWyKCV"
      },
      "source": [
        "For a more qualitative feel of the data, you can display a Conversation. For Reddit data, this is a single thread."
      ]
    },
    {
      "cell_type": "code",
      "execution_count": 19,
      "metadata": {
        "colab": {
          "base_uri": "https://localhost:8080/",
          "height": 239
        },
        "id": "D6zpcRnvyKCW",
        "outputId": "2ad775f7-67e3-4421-a57c-b25436e1cca2"
      },
      "outputs": [
        {
          "output_type": "display_data",
          "data": {
            "text/html": [
              "\n",
              "  <style>\n",
              "    pre {\n",
              "        white-space: pre-wrap;\n",
              "    }\n",
              "  </style>\n",
              "  "
            ],
            "text/plain": [
              "<IPython.core.display.HTML object>"
            ]
          },
          "metadata": {}
        },
        {
          "output_type": "stream",
          "name": "stdout",
          "text": [
            "I just got accepted and was wondering if anyone could tell me about it. What are\n",
            "\n",
            "    I'm not in the program, but post-grad employment statistics for engineering grad\n",
            "\n",
            "    I graduated last year.  I did my undergrad in MechE from a state school on the w\n",
            "\n",
            "        Response rate was only 50%, so even though the high reported was 76k, that isn't\n",
            "\n",
            "    [deleted]\n",
            "\n",
            "        I know this post is old but do you mind giving me a range of your salary?  I'm t\n",
            "\n"
          ]
        }
      ],
      "source": [
        "# We truncate sentences at character 80 to avoid making this notebook too long!\n",
        "convo.print_conversation_structure(lambda utt: utt.text[:80] + \"\\n\")"
      ]
    },
    {
      "cell_type": "markdown",
      "metadata": {
        "id": "E1FgR-UiyKCW"
      },
      "source": [
        "There is a lot more to ConvoKit that we encourage you to explore, especially their [tutorial](https://colab.research.google.com/github/CornellNLP/Cornell-Conversational-Analysis-Toolkit/blob/master/examples/Introduction_to_ConvoKit.ipynb), but the ability to seamlessly navigate between the Utterances, Conversations, and Speakers of a Corpus is extremely valuable for social science."
      ]
    },
    {
      "cell_type": "markdown",
      "metadata": {
        "id": "zkPSnyATyKCW"
      },
      "source": [
        "## <font color=\"red\">*Exercise 1*</font>\n",
        "\n",
        "<font color=\"red\">Construct cells immediately below this that use ConvoKit to analyze a Corpus other than 'subreddit-Cornell', including at least one function you find in the package not used above. You can also generate a ConvoKit Corpus from your own dataset based on [their Corpus from .txt files tutorial](https://github.com/CornellNLP/Cornell-Conversational-Analysis-Toolkit/blob/master/examples/converting_movie_corpus.ipynb) or [their Corpus from pandas tutorial](https://github.com/CornellNLP/Cornell-Conversational-Analysis-Toolkit/blob/master/examples/corpus_from_pandas.ipynb), but that may be time-consuming for a weekly assignment. (It could be a great idea for your final project!)"
      ]
    },
    {
      "cell_type": "markdown",
      "source": [
        "I use stack exchange politeness corpus to explore: is the machine's sentiment analysis of text's politeness reflective of human judgement?"
      ],
      "metadata": {
        "id": "cHldMyRa3Axf"
      }
    },
    {
      "cell_type": "code",
      "source": [
        "SEcorpus = Corpus(filename=download(\"stack-exchange-politeness-corpus\"))"
      ],
      "metadata": {
        "colab": {
          "base_uri": "https://localhost:8080/",
          "height": 109
        },
        "id": "4zwxV_yx18va",
        "outputId": "826dcfd1-4281-4bab-eff5-033959fde60f"
      },
      "execution_count": 22,
      "outputs": [
        {
          "output_type": "display_data",
          "data": {
            "text/html": [
              "\n",
              "  <style>\n",
              "    pre {\n",
              "        white-space: pre-wrap;\n",
              "    }\n",
              "  </style>\n",
              "  "
            ],
            "text/plain": [
              "<IPython.core.display.HTML object>"
            ]
          },
          "metadata": {}
        },
        {
          "output_type": "stream",
          "name": "stdout",
          "text": [
            "Downloading stack-exchange-politeness-corpus to /root/.convokit/downloads/stack-exchange-politeness-corpus\n",
            "Downloading stack-exchange-politeness-corpus from http://zissou.infosci.cornell.edu/convokit/datasets/stack-exchange-politeness-corpus/stack-exchange-politeness-corpus.zip (2.3MB)... Done\n"
          ]
        }
      ]
    },
    {
      "cell_type": "code",
      "source": [
        "utt_df = SEcorpus.get_utterances_dataframe()"
      ],
      "metadata": {
        "colab": {
          "base_uri": "https://localhost:8080/",
          "height": 17
        },
        "id": "AUpmSxKD1HXk",
        "outputId": "b528a645-61a6-4ab8-aa95-836b4e105c3c"
      },
      "execution_count": 31,
      "outputs": [
        {
          "output_type": "display_data",
          "data": {
            "text/html": [
              "\n",
              "  <style>\n",
              "    pre {\n",
              "        white-space: pre-wrap;\n",
              "    }\n",
              "  </style>\n",
              "  "
            ],
            "text/plain": [
              "<IPython.core.display.HTML object>"
            ]
          },
          "metadata": {}
        }
      ]
    },
    {
      "cell_type": "code",
      "source": [
        "utt_df.tail()"
      ],
      "metadata": {
        "colab": {
          "base_uri": "https://localhost:8080/",
          "height": 736
        },
        "id": "6wh4KsA01fra",
        "outputId": "55306998-3279-455b-beed-c152197f0812"
      },
      "execution_count": 26,
      "outputs": [
        {
          "output_type": "display_data",
          "data": {
            "text/html": [
              "\n",
              "  <style>\n",
              "    pre {\n",
              "        white-space: pre-wrap;\n",
              "    }\n",
              "  </style>\n",
              "  "
            ],
            "text/plain": [
              "<IPython.core.display.HTML object>"
            ]
          },
          "metadata": {}
        },
        {
          "output_type": "execute_result",
          "data": {
            "text/html": [
              "\n",
              "  <div id=\"df-d75f4ded-db33-407c-890a-7526300aa244\">\n",
              "    <div class=\"colab-df-container\">\n",
              "      <div>\n",
              "<style scoped>\n",
              "    .dataframe tbody tr th:only-of-type {\n",
              "        vertical-align: middle;\n",
              "    }\n",
              "\n",
              "    .dataframe tbody tr th {\n",
              "        vertical-align: top;\n",
              "    }\n",
              "\n",
              "    .dataframe thead th {\n",
              "        text-align: right;\n",
              "    }\n",
              "</style>\n",
              "<table border=\"1\" class=\"dataframe\">\n",
              "  <thead>\n",
              "    <tr style=\"text-align: right;\">\n",
              "      <th></th>\n",
              "      <th>timestamp</th>\n",
              "      <th>text</th>\n",
              "      <th>speaker</th>\n",
              "      <th>reply_to</th>\n",
              "      <th>conversation_id</th>\n",
              "      <th>meta.Normalized Score</th>\n",
              "      <th>meta.Binary</th>\n",
              "      <th>meta.Annotations</th>\n",
              "      <th>meta.parsed</th>\n",
              "      <th>vectors</th>\n",
              "    </tr>\n",
              "    <tr>\n",
              "      <th>id</th>\n",
              "      <th></th>\n",
              "      <th></th>\n",
              "      <th></th>\n",
              "      <th></th>\n",
              "      <th></th>\n",
              "      <th></th>\n",
              "      <th></th>\n",
              "      <th></th>\n",
              "      <th></th>\n",
              "      <th></th>\n",
              "    </tr>\n",
              "  </thead>\n",
              "  <tbody>\n",
              "    <tr>\n",
              "      <th>6598</th>\n",
              "      <td>NOT_RECORDED</td>\n",
              "      <td>hello. I do not know if others, but to me your...</td>\n",
              "      <td>user</td>\n",
              "      <td>None</td>\n",
              "      <td>6598</td>\n",
              "      <td>0.088219</td>\n",
              "      <td>0</td>\n",
              "      <td>{'A1E0EK09CA5OIO': 17, 'A233ONYNWKDIYF': 13, '...</td>\n",
              "      <td>[{'rt': 0, 'toks': [{'tok': 'hello', 'tag': 'U...</td>\n",
              "      <td>[]</td>\n",
              "    </tr>\n",
              "    <tr>\n",
              "      <th>6599</th>\n",
              "      <td>NOT_RECORDED</td>\n",
              "      <td>That sounds amazing!! Can I have the link? :D</td>\n",
              "      <td>user</td>\n",
              "      <td>None</td>\n",
              "      <td>6599</td>\n",
              "      <td>0.449894</td>\n",
              "      <td>1</td>\n",
              "      <td>{'A1E0EK09CA5OIO': 17, 'A233ONYNWKDIYF': 17, '...</td>\n",
              "      <td>[{'rt': 1, 'toks': [{'tok': 'That', 'tag': 'DT...</td>\n",
              "      <td>[]</td>\n",
              "    </tr>\n",
              "    <tr>\n",
              "      <th>6600</th>\n",
              "      <td>NOT_RECORDED</td>\n",
              "      <td>Is it easy to use the small pump? Have you not...</td>\n",
              "      <td>user</td>\n",
              "      <td>None</td>\n",
              "      <td>6600</td>\n",
              "      <td>-0.268236</td>\n",
              "      <td>0</td>\n",
              "      <td>{'A233ONYNWKDIYF': 13, 'A3S5L3I8O3Q2G': 13, 'A...</td>\n",
              "      <td>[{'rt': 0, 'toks': [{'tok': 'Is', 'tag': 'VBZ'...</td>\n",
              "      <td>[]</td>\n",
              "    </tr>\n",
              "    <tr>\n",
              "      <th>6601</th>\n",
              "      <td>NOT_RECORDED</td>\n",
              "      <td>Cool idea. I'm curious, though, how can one dr...</td>\n",
              "      <td>user</td>\n",
              "      <td>None</td>\n",
              "      <td>6601</td>\n",
              "      <td>0.526613</td>\n",
              "      <td>1</td>\n",
              "      <td>{'A1E0EK09CA5OIO': 19, 'A233ONYNWKDIYF': 13, '...</td>\n",
              "      <td>[{'rt': 1, 'toks': [{'tok': 'Cool', 'tag': 'JJ...</td>\n",
              "      <td>[]</td>\n",
              "    </tr>\n",
              "    <tr>\n",
              "      <th>6602</th>\n",
              "      <td>NOT_RECORDED</td>\n",
              "      <td>I've never even questioned this before, but no...</td>\n",
              "      <td>user</td>\n",
              "      <td>None</td>\n",
              "      <td>6602</td>\n",
              "      <td>-0.159096</td>\n",
              "      <td>0</td>\n",
              "      <td>{'A1E0EK09CA5OIO': 17, 'A233ONYNWKDIYF': 9, 'A...</td>\n",
              "      <td>[{'rt': 4, 'toks': [{'tok': 'I', 'tag': 'PRP',...</td>\n",
              "      <td>[]</td>\n",
              "    </tr>\n",
              "  </tbody>\n",
              "</table>\n",
              "</div>\n",
              "      <button class=\"colab-df-convert\" onclick=\"convertToInteractive('df-d75f4ded-db33-407c-890a-7526300aa244')\"\n",
              "              title=\"Convert this dataframe to an interactive table.\"\n",
              "              style=\"display:none;\">\n",
              "        \n",
              "  <svg xmlns=\"http://www.w3.org/2000/svg\" height=\"24px\"viewBox=\"0 0 24 24\"\n",
              "       width=\"24px\">\n",
              "    <path d=\"M0 0h24v24H0V0z\" fill=\"none\"/>\n",
              "    <path d=\"M18.56 5.44l.94 2.06.94-2.06 2.06-.94-2.06-.94-.94-2.06-.94 2.06-2.06.94zm-11 1L8.5 8.5l.94-2.06 2.06-.94-2.06-.94L8.5 2.5l-.94 2.06-2.06.94zm10 10l.94 2.06.94-2.06 2.06-.94-2.06-.94-.94-2.06-.94 2.06-2.06.94z\"/><path d=\"M17.41 7.96l-1.37-1.37c-.4-.4-.92-.59-1.43-.59-.52 0-1.04.2-1.43.59L10.3 9.45l-7.72 7.72c-.78.78-.78 2.05 0 2.83L4 21.41c.39.39.9.59 1.41.59.51 0 1.02-.2 1.41-.59l7.78-7.78 2.81-2.81c.8-.78.8-2.07 0-2.86zM5.41 20L4 18.59l7.72-7.72 1.47 1.35L5.41 20z\"/>\n",
              "  </svg>\n",
              "      </button>\n",
              "      \n",
              "  <style>\n",
              "    .colab-df-container {\n",
              "      display:flex;\n",
              "      flex-wrap:wrap;\n",
              "      gap: 12px;\n",
              "    }\n",
              "\n",
              "    .colab-df-convert {\n",
              "      background-color: #E8F0FE;\n",
              "      border: none;\n",
              "      border-radius: 50%;\n",
              "      cursor: pointer;\n",
              "      display: none;\n",
              "      fill: #1967D2;\n",
              "      height: 32px;\n",
              "      padding: 0 0 0 0;\n",
              "      width: 32px;\n",
              "    }\n",
              "\n",
              "    .colab-df-convert:hover {\n",
              "      background-color: #E2EBFA;\n",
              "      box-shadow: 0px 1px 2px rgba(60, 64, 67, 0.3), 0px 1px 3px 1px rgba(60, 64, 67, 0.15);\n",
              "      fill: #174EA6;\n",
              "    }\n",
              "\n",
              "    [theme=dark] .colab-df-convert {\n",
              "      background-color: #3B4455;\n",
              "      fill: #D2E3FC;\n",
              "    }\n",
              "\n",
              "    [theme=dark] .colab-df-convert:hover {\n",
              "      background-color: #434B5C;\n",
              "      box-shadow: 0px 1px 3px 1px rgba(0, 0, 0, 0.15);\n",
              "      filter: drop-shadow(0px 1px 2px rgba(0, 0, 0, 0.3));\n",
              "      fill: #FFFFFF;\n",
              "    }\n",
              "  </style>\n",
              "\n",
              "      <script>\n",
              "        const buttonEl =\n",
              "          document.querySelector('#df-d75f4ded-db33-407c-890a-7526300aa244 button.colab-df-convert');\n",
              "        buttonEl.style.display =\n",
              "          google.colab.kernel.accessAllowed ? 'block' : 'none';\n",
              "\n",
              "        async function convertToInteractive(key) {\n",
              "          const element = document.querySelector('#df-d75f4ded-db33-407c-890a-7526300aa244');\n",
              "          const dataTable =\n",
              "            await google.colab.kernel.invokeFunction('convertToInteractive',\n",
              "                                                     [key], {});\n",
              "          if (!dataTable) return;\n",
              "\n",
              "          const docLinkHtml = 'Like what you see? Visit the ' +\n",
              "            '<a target=\"_blank\" href=https://colab.research.google.com/notebooks/data_table.ipynb>data table notebook</a>'\n",
              "            + ' to learn more about interactive tables.';\n",
              "          element.innerHTML = '';\n",
              "          dataTable['output_type'] = 'display_data';\n",
              "          await google.colab.output.renderOutput(dataTable, element);\n",
              "          const docLink = document.createElement('div');\n",
              "          docLink.innerHTML = docLinkHtml;\n",
              "          element.appendChild(docLink);\n",
              "        }\n",
              "      </script>\n",
              "    </div>\n",
              "  </div>\n",
              "  "
            ],
            "text/plain": [
              "         timestamp                                               text speaker  \\\n",
              "id                                                                              \n",
              "6598  NOT_RECORDED  hello. I do not know if others, but to me your...    user   \n",
              "6599  NOT_RECORDED      That sounds amazing!! Can I have the link? :D    user   \n",
              "6600  NOT_RECORDED  Is it easy to use the small pump? Have you not...    user   \n",
              "6601  NOT_RECORDED  Cool idea. I'm curious, though, how can one dr...    user   \n",
              "6602  NOT_RECORDED  I've never even questioned this before, but no...    user   \n",
              "\n",
              "     reply_to conversation_id meta.Normalized Score meta.Binary  \\\n",
              "id                                                                \n",
              "6598     None            6598              0.088219           0   \n",
              "6599     None            6599              0.449894           1   \n",
              "6600     None            6600             -0.268236           0   \n",
              "6601     None            6601              0.526613           1   \n",
              "6602     None            6602             -0.159096           0   \n",
              "\n",
              "                                       meta.Annotations  \\\n",
              "id                                                        \n",
              "6598  {'A1E0EK09CA5OIO': 17, 'A233ONYNWKDIYF': 13, '...   \n",
              "6599  {'A1E0EK09CA5OIO': 17, 'A233ONYNWKDIYF': 17, '...   \n",
              "6600  {'A233ONYNWKDIYF': 13, 'A3S5L3I8O3Q2G': 13, 'A...   \n",
              "6601  {'A1E0EK09CA5OIO': 19, 'A233ONYNWKDIYF': 13, '...   \n",
              "6602  {'A1E0EK09CA5OIO': 17, 'A233ONYNWKDIYF': 9, 'A...   \n",
              "\n",
              "                                            meta.parsed vectors  \n",
              "id                                                               \n",
              "6598  [{'rt': 0, 'toks': [{'tok': 'hello', 'tag': 'U...      []  \n",
              "6599  [{'rt': 1, 'toks': [{'tok': 'That', 'tag': 'DT...      []  \n",
              "6600  [{'rt': 0, 'toks': [{'tok': 'Is', 'tag': 'VBZ'...      []  \n",
              "6601  [{'rt': 1, 'toks': [{'tok': 'Cool', 'tag': 'JJ...      []  \n",
              "6602  [{'rt': 4, 'toks': [{'tok': 'I', 'tag': 'PRP',...      []  "
            ]
          },
          "metadata": {},
          "execution_count": 26
        }
      ]
    },
    {
      "cell_type": "code",
      "source": [
        "from transformers import pipeline\n",
        "sentiment_pipeline = pipeline(\"sentiment-analysis\")"
      ],
      "metadata": {
        "colab": {
          "base_uri": "https://localhost:8080/",
          "height": 182,
          "referenced_widgets": [
            "2fe0594629004764a9a6ff28547f1b67",
            "c9465ca477a34e43b1a512ae5c6abdf1",
            "8693255b6ba444a386c9aad77572f117",
            "979c5d3754f04a11a2c6ad16fd93f223",
            "9ca5398bff9d4a8ba78483b0ecb9eb6a",
            "b07150807a114de9bdfd1824962b701d",
            "618b447414c04857849ea7259a4c4853",
            "ba92933b58bf467b91d02e0ce7c3ac07",
            "57bc5bf27f454511985545b3f922a1d3",
            "8b76a5b805b84533ada90904ad73dd24",
            "1e8a226106704de398d4277293de30a1",
            "93fcfeb842bf44d58ff45a25c2899b59",
            "be09ffcb97094aeb97e7a52591b291cb",
            "2c159778318046e88f9d77db8e904b3d",
            "514678ad4d3b4954a8fefcb01923a4f9",
            "34bf7a9a2a7a4f11be7a6eab76feb7a8",
            "b0e131d419a746ef9eacdc3a702ac1d4",
            "5171e99f7f964e37bfb88c37a22aaf4a",
            "32ec0a7a695b4a3ea518c2766cdbfc25",
            "66cc5af0fc584fd3a1c37a1b4a2c5842",
            "d2fda7d658ac40f3ba7e6c231cea4a02",
            "f672192824a447f980e88f1e93723581",
            "56c60be5acbf4cedac65daa3e82a40b5",
            "3d9c550c841a401a948fc62f7dc414a4",
            "f1b058598ea34e13b78f3cfeed391e61",
            "446e893ad1774c5b89cfb40bf2eb5a42",
            "7b1b611de1814e239a195916968a13f3",
            "c7ad2d70f24a4cc5bdcb5b31e6e9419f",
            "418a74e7f94d48339b13cbbc1bbd471f",
            "b6b11c0dc4a74ce3a2199ac9ab8a816d",
            "ae1f08b1b23a4a9a879525416443f13a",
            "792f45c2360640c9ba9a0dfa28f8d1cd",
            "cbdb2a0d40dd40d5aa40bcf03383f95b",
            "d85e3f888645494f8d8d23ee4a08aef6",
            "770aa1d19cea44399655b4af6fe6b460",
            "3daa34392721447f960db92cb624743b",
            "f71b5747171a45eca0b170458803a9f7",
            "103042bfd11e4b6b83aa31f4f509ee6d",
            "ef46dd08ac75420bb4d34c2bea9fe80b",
            "a21354986f26432d9ca02d0ea20d7ac6",
            "a22bbdca4ebf4a8e819ef65e36ca7c45",
            "ecb87cd9ba0c4b2db15059c17cc12c7e",
            "c37831b4cfbb4b91bc377efb4221c958",
            "095795fdac294695a0ebadc3e18998eb"
          ]
        },
        "id": "hlYyzcKT3TjL",
        "outputId": "f681f746-366e-43ad-d901-801ff445ceed"
      },
      "execution_count": 27,
      "outputs": [
        {
          "output_type": "display_data",
          "data": {
            "text/html": [
              "\n",
              "  <style>\n",
              "    pre {\n",
              "        white-space: pre-wrap;\n",
              "    }\n",
              "  </style>\n",
              "  "
            ],
            "text/plain": [
              "<IPython.core.display.HTML object>"
            ]
          },
          "metadata": {}
        },
        {
          "output_type": "stream",
          "name": "stderr",
          "text": [
            "No model was supplied, defaulted to distilbert-base-uncased-finetuned-sst-2-english (https://huggingface.co/distilbert-base-uncased-finetuned-sst-2-english)\n"
          ]
        },
        {
          "output_type": "display_data",
          "data": {
            "application/vnd.jupyter.widget-view+json": {
              "model_id": "2fe0594629004764a9a6ff28547f1b67",
              "version_minor": 0,
              "version_major": 2
            },
            "text/plain": [
              "Downloading:   0%|          | 0.00/629 [00:00<?, ?B/s]"
            ]
          },
          "metadata": {}
        },
        {
          "output_type": "display_data",
          "data": {
            "application/vnd.jupyter.widget-view+json": {
              "model_id": "93fcfeb842bf44d58ff45a25c2899b59",
              "version_minor": 0,
              "version_major": 2
            },
            "text/plain": [
              "Downloading:   0%|          | 0.00/255M [00:00<?, ?B/s]"
            ]
          },
          "metadata": {}
        },
        {
          "output_type": "display_data",
          "data": {
            "application/vnd.jupyter.widget-view+json": {
              "model_id": "56c60be5acbf4cedac65daa3e82a40b5",
              "version_minor": 0,
              "version_major": 2
            },
            "text/plain": [
              "Downloading:   0%|          | 0.00/48.0 [00:00<?, ?B/s]"
            ]
          },
          "metadata": {}
        },
        {
          "output_type": "display_data",
          "data": {
            "application/vnd.jupyter.widget-view+json": {
              "model_id": "d85e3f888645494f8d8d23ee4a08aef6",
              "version_minor": 0,
              "version_major": 2
            },
            "text/plain": [
              "Downloading:   0%|          | 0.00/226k [00:00<?, ?B/s]"
            ]
          },
          "metadata": {}
        }
      ]
    },
    {
      "cell_type": "code",
      "source": [
        "utt_df['machine_prediction'] = utt_df['text'].apply(lambda x: sentiment_pipeline(x))"
      ],
      "metadata": {
        "colab": {
          "base_uri": "https://localhost:8080/",
          "height": 17
        },
        "id": "-CARPuZv3xrZ",
        "outputId": "bd7249a8-f092-493e-e0d9-bb81666e268c"
      },
      "execution_count": 36,
      "outputs": [
        {
          "output_type": "display_data",
          "data": {
            "text/html": [
              "\n",
              "  <style>\n",
              "    pre {\n",
              "        white-space: pre-wrap;\n",
              "    }\n",
              "  </style>\n",
              "  "
            ],
            "text/plain": [
              "<IPython.core.display.HTML object>"
            ]
          },
          "metadata": {}
        }
      ]
    },
    {
      "cell_type": "code",
      "source": [
        "utt_df['machine_label'] = utt_df['machine_prediction'].apply(lambda x: x[0]['label'])"
      ],
      "metadata": {
        "colab": {
          "base_uri": "https://localhost:8080/",
          "height": 17
        },
        "id": "osWNoxvm6aop",
        "outputId": "9de6baaa-7d8b-4711-b6a8-a320a670ac54"
      },
      "execution_count": 43,
      "outputs": [
        {
          "output_type": "display_data",
          "data": {
            "text/html": [
              "\n",
              "  <style>\n",
              "    pre {\n",
              "        white-space: pre-wrap;\n",
              "    }\n",
              "  </style>\n",
              "  "
            ],
            "text/plain": [
              "<IPython.core.display.HTML object>"
            ]
          },
          "metadata": {}
        }
      ]
    },
    {
      "cell_type": "code",
      "source": [
        "utt_sub = utt_df.loc[abs(utt_df['meta.Binary'])==1]"
      ],
      "metadata": {
        "colab": {
          "base_uri": "https://localhost:8080/",
          "height": 17
        },
        "id": "gfT4I5Qm7Lsz",
        "outputId": "944f5019-b23c-4186-fbb8-c4c14739dc0e"
      },
      "execution_count": 52,
      "outputs": [
        {
          "output_type": "display_data",
          "data": {
            "text/html": [
              "\n",
              "  <style>\n",
              "    pre {\n",
              "        white-space: pre-wrap;\n",
              "    }\n",
              "  </style>\n",
              "  "
            ],
            "text/plain": [
              "<IPython.core.display.HTML object>"
            ]
          },
          "metadata": {}
        }
      ]
    },
    {
      "cell_type": "code",
      "source": [
        "masks = []\n",
        "for index in utt_sub.index:\n",
        "  if index not in utt_sub.loc[utt_sub['machine_label']=='POSITIVE'].index:\n",
        "    masks.append(1)\n",
        "  else:\n",
        "    masks.append(-1)"
      ],
      "metadata": {
        "colab": {
          "base_uri": "https://localhost:8080/",
          "height": 17
        },
        "id": "zfJQK6mI9mUI",
        "outputId": "de932f37-dcc1-424f-8256-ac0028c9926d"
      },
      "execution_count": 60,
      "outputs": [
        {
          "output_type": "display_data",
          "data": {
            "text/html": [
              "\n",
              "  <style>\n",
              "    pre {\n",
              "        white-space: pre-wrap;\n",
              "    }\n",
              "  </style>\n",
              "  "
            ],
            "text/plain": [
              "<IPython.core.display.HTML object>"
            ]
          },
          "metadata": {}
        }
      ]
    },
    {
      "cell_type": "code",
      "source": [
        "utt_sub['machine_binary'] = masks"
      ],
      "metadata": {
        "id": "xIx0Nhlb9GV8"
      },
      "execution_count": null,
      "outputs": []
    },
    {
      "cell_type": "code",
      "source": [
        "utt_sub"
      ],
      "metadata": {
        "id": "uB3iLu9j6pqU"
      },
      "execution_count": null,
      "outputs": []
    },
    {
      "cell_type": "code",
      "source": [
        "from sklearn.metrics import confusion_matrix"
      ],
      "metadata": {
        "colab": {
          "base_uri": "https://localhost:8080/",
          "height": 17
        },
        "id": "TXoLIC7x-1dJ",
        "outputId": "34c0153b-1fff-456d-a3d0-0d8804a7233e"
      },
      "execution_count": 71,
      "outputs": [
        {
          "output_type": "display_data",
          "data": {
            "text/html": [
              "\n",
              "  <style>\n",
              "    pre {\n",
              "        white-space: pre-wrap;\n",
              "    }\n",
              "  </style>\n",
              "  "
            ],
            "text/plain": [
              "<IPython.core.display.HTML object>"
            ]
          },
          "metadata": {}
        }
      ]
    },
    {
      "cell_type": "code",
      "source": [
        "import numpy as np"
      ],
      "metadata": {
        "colab": {
          "base_uri": "https://localhost:8080/",
          "height": 17
        },
        "id": "s5ulSGXJ-9qK",
        "outputId": "61cdb03b-c2f8-4a65-cdff-af94ab482793"
      },
      "execution_count": 66,
      "outputs": [
        {
          "output_type": "display_data",
          "data": {
            "text/html": [
              "\n",
              "  <style>\n",
              "    pre {\n",
              "        white-space: pre-wrap;\n",
              "    }\n",
              "  </style>\n",
              "  "
            ],
            "text/plain": [
              "<IPython.core.display.HTML object>"
            ]
          },
          "metadata": {}
        }
      ]
    },
    {
      "cell_type": "code",
      "source": [
        "utt_sub['meta.Binary'].value_counts()"
      ],
      "metadata": {
        "colab": {
          "base_uri": "https://localhost:8080/",
          "height": 72
        },
        "id": "qfsVbqYY_pSU",
        "outputId": "ec681a43-7f7c-4eef-fe51-95945cd40aa1"
      },
      "execution_count": 82,
      "outputs": [
        {
          "output_type": "display_data",
          "data": {
            "text/html": [
              "\n",
              "  <style>\n",
              "    pre {\n",
              "        white-space: pre-wrap;\n",
              "    }\n",
              "  </style>\n",
              "  "
            ],
            "text/plain": [
              "<IPython.core.display.HTML object>"
            ]
          },
          "metadata": {}
        },
        {
          "output_type": "execute_result",
          "data": {
            "text/plain": [
              "1    1651\n",
              "0    1651\n",
              "Name: meta.Binary, dtype: int64"
            ]
          },
          "metadata": {},
          "execution_count": 82
        }
      ]
    },
    {
      "cell_type": "code",
      "source": [
        "# confusion matrix do not work with -1, so we change it to 0\n",
        "utt_sub = utt_sub.replace(-1,0)"
      ],
      "metadata": {
        "colab": {
          "base_uri": "https://localhost:8080/",
          "height": 17
        },
        "id": "zoc7kOYvAg9b",
        "outputId": "82cfcac0-0d3b-4656-820a-e291c0f05d78"
      },
      "execution_count": 80,
      "outputs": [
        {
          "output_type": "display_data",
          "data": {
            "text/html": [
              "\n",
              "  <style>\n",
              "    pre {\n",
              "        white-space: pre-wrap;\n",
              "    }\n",
              "  </style>\n",
              "  "
            ],
            "text/plain": [
              "<IPython.core.display.HTML object>"
            ]
          },
          "metadata": {}
        }
      ]
    },
    {
      "cell_type": "code",
      "source": [
        "utt_sub['machine_binary'].value_counts()"
      ],
      "metadata": {
        "colab": {
          "base_uri": "https://localhost:8080/",
          "height": 72
        },
        "id": "m-vKX8L4_r8L",
        "outputId": "866c3533-c2e3-496b-8b9d-0ebd783fb334"
      },
      "execution_count": 81,
      "outputs": [
        {
          "output_type": "display_data",
          "data": {
            "text/html": [
              "\n",
              "  <style>\n",
              "    pre {\n",
              "        white-space: pre-wrap;\n",
              "    }\n",
              "  </style>\n",
              "  "
            ],
            "text/plain": [
              "<IPython.core.display.HTML object>"
            ]
          },
          "metadata": {}
        },
        {
          "output_type": "execute_result",
          "data": {
            "text/plain": [
              "1    3035\n",
              "0     267\n",
              "Name: machine_binary, dtype: int64"
            ]
          },
          "metadata": {},
          "execution_count": 81
        }
      ]
    },
    {
      "cell_type": "code",
      "source": [
        "cf_matrix = confusion_matrix(np.array(utt_sub['meta.Binary']), np.array(utt_sub['machine_binary']))"
      ],
      "metadata": {
        "colab": {
          "base_uri": "https://localhost:8080/",
          "height": 17
        },
        "id": "bkqH7oW0-2sC",
        "outputId": "d63ec3f3-2738-4c07-e120-fa8303e6e6a3"
      },
      "execution_count": 84,
      "outputs": [
        {
          "output_type": "display_data",
          "data": {
            "text/html": [
              "\n",
              "  <style>\n",
              "    pre {\n",
              "        white-space: pre-wrap;\n",
              "    }\n",
              "  </style>\n",
              "  "
            ],
            "text/plain": [
              "<IPython.core.display.HTML object>"
            ]
          },
          "metadata": {}
        }
      ]
    },
    {
      "cell_type": "code",
      "source": [
        "cf_matrix "
      ],
      "metadata": {
        "colab": {
          "base_uri": "https://localhost:8080/",
          "height": 54
        },
        "id": "bYwXcARwBdme",
        "outputId": "31c058e8-cab7-49a4-c8b0-629aa9432d9d"
      },
      "execution_count": 87,
      "outputs": [
        {
          "output_type": "display_data",
          "data": {
            "text/html": [
              "\n",
              "  <style>\n",
              "    pre {\n",
              "        white-space: pre-wrap;\n",
              "    }\n",
              "  </style>\n",
              "  "
            ],
            "text/plain": [
              "<IPython.core.display.HTML object>"
            ]
          },
          "metadata": {}
        },
        {
          "output_type": "execute_result",
          "data": {
            "text/plain": [
              "array([[  90, 1561],\n",
              "       [ 177, 1474]])"
            ]
          },
          "metadata": {},
          "execution_count": 87
        }
      ]
    },
    {
      "cell_type": "code",
      "source": [
        "import seaborn as sns\n",
        "sns.heatmap(cf_matrix, annot=True);"
      ],
      "metadata": {
        "colab": {
          "base_uri": "https://localhost:8080/",
          "height": 265
        },
        "id": "wBY4K111BH9p",
        "outputId": "f4812c74-b150-4a9c-aa93-c3da1c814e11"
      },
      "execution_count": 86,
      "outputs": [
        {
          "output_type": "display_data",
          "data": {
            "text/html": [
              "\n",
              "  <style>\n",
              "    pre {\n",
              "        white-space: pre-wrap;\n",
              "    }\n",
              "  </style>\n",
              "  "
            ],
            "text/plain": [
              "<IPython.core.display.HTML object>"
            ]
          },
          "metadata": {}
        },
        {
          "output_type": "display_data",
          "data": {
            "image/png": "[encoded data removed]",
            "text/plain": [
              "<Figure size 432x288 with 2 Axes>"
            ]
          },
          "metadata": {
            "needs_background": "light"
          }
        }
      ]
    },
    {
      "cell_type": "markdown",
      "source": [
        "It seems like machines are more likely to misclassify negative sentiments into positive sentiments, or perhaps human judgement of impolitness has lower threshold than negative sentiments!"
      ],
      "metadata": {
        "id": "-d5PPHA8Bh1E"
      }
    },
    {
      "cell_type": "markdown",
      "metadata": {
        "id": "pZG6nRHtyKCd"
      },
      "source": [
        "## Creating networks of agents from corpora\n",
        "\n",
        "Now let's return to the Davies corpora (specifically, Soap Operas) to see how we can extract actors and build a network of their relationships in the texts.\n",
        "\n",
        "We'll use the `lucem_illud.loadDavies()` function to get the dataframe. Make sure to download `SOAP.zip` from DropBox, unzip, and edit the following line with the path to that file. This code may take some time."
      ]
    },
    {
      "cell_type": "code",
      "execution_count": null,
      "metadata": {
        "id": "e3-aWQC5yKCe"
      },
      "outputs": [],
      "source": [
        "corpora_address = \"C:/Downloads/SOAP\""
      ]
    },
    {
      "cell_type": "code",
      "execution_count": null,
      "metadata": {
        "id": "mMjBt7O7yKCe"
      },
      "outputs": [],
      "source": [
        "soap_texts = lucem_illud.loadDavies(corpora_address, num_files=2000)"
      ]
    },
    {
      "cell_type": "markdown",
      "metadata": {
        "id": "hQIQeNITyKCe"
      },
      "source": [
        "We now use the source to see how the data is stored. Note that this is different from the movies corpus, and that we will need to use a different aggregating method to store the data. Each dataset would have a different approach, but they are all very similar, it depends on how the data is stored. Here multiple textids match multiple scripts, so our soap dataframe would be structured a little differently. \n",
        "\n",
        "You can see the first 20 lines of the source file here."
      ]
    },
    {
      "cell_type": "code",
      "execution_count": null,
      "metadata": {
        "id": "9kwx5dyryKCe"
      },
      "outputs": [],
      "source": [
        "zfile = zipfile.ZipFile(corpora_address + \"/soap_sources.zip\")\n",
        "source = []"
      ]
    },
    {
      "cell_type": "code",
      "execution_count": null,
      "metadata": {
        "id": "mAqc5Y6yyKCf"
      },
      "outputs": [],
      "source": [
        "for file in zfile.namelist():\n",
        "    with zfile.open(file) as f:\n",
        "        for line in f:\n",
        "            source.append(line)"
      ]
    },
    {
      "cell_type": "code",
      "execution_count": null,
      "metadata": {
        "id": "S6xhBG5xyKCf"
      },
      "outputs": [],
      "source": [
        "source[0:20]"
      ]
    },
    {
      "cell_type": "code",
      "execution_count": null,
      "metadata": {
        "id": "9Xw9MZ2byKCf"
      },
      "outputs": [],
      "source": [
        "soap_dict = {}"
      ]
    },
    {
      "cell_type": "code",
      "execution_count": null,
      "metadata": {
        "id": "cc6WRQ9dyKCg"
      },
      "outputs": [],
      "source": [
        "for soap in source[3:]:\n",
        "    try:\n",
        "        textID, year, show, url = soap.decode(\"utf-8\").split(\"\\t\")\n",
        "    except UnicodeDecodeError:\n",
        "        continue\n",
        "    if show.strip() not in soap_dict:\n",
        "        soap_dict[show.strip()] = []\n",
        "    if show.strip() in soap_dict:\n",
        "        try:\n",
        "            soap_dict[show.strip()].append(soap_texts[textID.strip()])\n",
        "        except KeyError:\n",
        "            continue"
      ]
    },
    {
      "cell_type": "code",
      "execution_count": null,
      "metadata": {
        "id": "O6goSvGGyKCg"
      },
      "outputs": [],
      "source": [
        "soap_dict.keys()"
      ]
    },
    {
      "cell_type": "code",
      "execution_count": null,
      "metadata": {
        "id": "uiMggv2eyKCh"
      },
      "outputs": [],
      "source": [
        "soap_df = pd.DataFrame(columns=[\"Soap Name\", \"Tokenized Texts\"])"
      ]
    },
    {
      "cell_type": "code",
      "execution_count": null,
      "metadata": {
        "id": "jqLTyoqKyKCh"
      },
      "outputs": [],
      "source": [
        "i = 0"
      ]
    },
    {
      "cell_type": "code",
      "execution_count": null,
      "metadata": {
        "id": "bJFgycjkyKCh"
      },
      "outputs": [],
      "source": [
        "for soap in soap_dict:\n",
        "    # since there were multiple lists\n",
        "    print(soap)\n",
        "    full_script = []\n",
        "    for part in soap_dict[soap]:\n",
        "        full_script = full_script + part\n",
        "    soap_df.loc[i] = [soap, full_script]\n",
        "    i += 1"
      ]
    },
    {
      "cell_type": "code",
      "execution_count": null,
      "metadata": {
        "id": "8LB5vnhpyKCi"
      },
      "outputs": [],
      "source": [
        "soap_df"
      ]
    },
    {
      "cell_type": "markdown",
      "metadata": {
        "id": "unsHZQJYyKCi"
      },
      "source": [
        "We now have each Soap, and each of the Tokenized texts. Let us see what kind of information we can get. These are American soap operas, and are likely to be cheesy and dramatic (an understatment). A fun start would be to make networks of each of the actors and actresses in these soaps. \n",
        "\n",
        "What would be a good way to create a network? Maybe everytime someone talks to someone we add one weight? But we wouldn't want to add weights whenever it's a different scene - or maybe we do? Let us look at the text and figure it out.\n",
        "\n",
        "Note that we didn't add the year here because it spans over multiple years. If we are doing different kinds of analysis we would want to a years column as well.\n",
        "\n",
        "In my dataframe, Days of Our Lives is the 4th corpora, and I conducted my basic analysis on that."
      ]
    },
    {
      "cell_type": "code",
      "execution_count": null,
      "metadata": {
        "id": "ytL9gRMWyKCi"
      },
      "outputs": [],
      "source": [
        "dool = soap_df['Tokenized Texts'][3]"
      ]
    },
    {
      "cell_type": "code",
      "execution_count": null,
      "metadata": {
        "id": "h4f4rM6ZyKCi"
      },
      "outputs": [],
      "source": [
        "' '.join(dool[0:1500])"
      ]
    },
    {
      "cell_type": "markdown",
      "metadata": {
        "id": "h0nKxsUgyKCi"
      },
      "source": [
        "Hmmm... we can't do our normal text processing. But this provides us with an interesting oppurtunity: every '@!' is followed by some useeful information. Let us do a quick check of how many characters exist here, and how many times they speak."
      ]
    },
    {
      "cell_type": "code",
      "execution_count": null,
      "metadata": {
        "id": "0l670-6MyKCj"
      },
      "outputs": [],
      "source": [
        "characters = {}"
      ]
    },
    {
      "cell_type": "code",
      "execution_count": null,
      "metadata": {
        "id": "9qdNIjjFyKCj"
      },
      "outputs": [],
      "source": [
        "for token in dool:\n",
        "    if token[0] == '@':\n",
        "        # all characters or actions start with @, so we add that to character\n",
        "        if token[2:] not in characters:\n",
        "            characters[token[2:]] = 0\n",
        "        if token[2:] in characters:\n",
        "            characters[token[2:]] += 1\n"
      ]
    },
    {
      "cell_type": "code",
      "execution_count": null,
      "metadata": {
        "id": "PhSR1bZMyKCj"
      },
      "outputs": [],
      "source": [
        "len(characters)"
      ]
    },
    {
      "cell_type": "markdown",
      "metadata": {
        "id": "hcbHbveWyKCj"
      },
      "source": [
        "Wow, that's a lot of characters: but we notice a '@!' between certain actions too, such as screaming and sobbing. Let us maybe only look for characters with a high number of appearances?"
      ]
    },
    {
      "cell_type": "code",
      "execution_count": null,
      "metadata": {
        "id": "ero7PHiQyKCk"
      },
      "outputs": [],
      "source": [
        "for character in characters:\n",
        "    if characters[character] > 2000:\n",
        "        print(character, characters[character])"
      ]
    },
    {
      "cell_type": "markdown",
      "metadata": {
        "id": "1qvPN4ENyKCk"
      },
      "source": [
        "Let's check these folks out on the interwebz...a image of search of the name + \"days of our lives\":"
      ]
    },
    {
      "cell_type": "code",
      "execution_count": null,
      "metadata": {
        "id": "0Po-yjTNyKCk"
      },
      "outputs": [],
      "source": [
        "Image(filename='../data/dool/dool_john.png') "
      ]
    },
    {
      "cell_type": "code",
      "execution_count": null,
      "metadata": {
        "id": "nSkiBxoxyKCk"
      },
      "outputs": [],
      "source": [
        "Image(filename='../data/dool/dool_brady.jpg') "
      ]
    },
    {
      "cell_type": "code",
      "execution_count": null,
      "metadata": {
        "id": "IQLphVWZyKCl"
      },
      "outputs": [],
      "source": [
        "# Image(filename='../data/dool/dool_hope.jpeg')"
      ]
    },
    {
      "cell_type": "code",
      "execution_count": null,
      "metadata": {
        "id": "JTh1FyF0yKCl"
      },
      "outputs": [],
      "source": [
        "# Image(filename='../data/dool/dool_philip.jpeg')"
      ]
    },
    {
      "cell_type": "code",
      "execution_count": null,
      "metadata": {
        "id": "pAiRozHMyKCm"
      },
      "outputs": [],
      "source": [
        "# Image(filename='../data/dool/dool_marlena.jpg')"
      ]
    },
    {
      "cell_type": "code",
      "execution_count": null,
      "metadata": {
        "id": "NNZk3D9myKCm"
      },
      "outputs": [],
      "source": [
        "# Image(filename='../data/dool/dool_kate.png')"
      ]
    },
    {
      "cell_type": "code",
      "execution_count": null,
      "metadata": {
        "id": "ZkMjapDHyKCm"
      },
      "outputs": [],
      "source": [
        "# Image(filename='../data/dool/dool_bo.png')"
      ]
    },
    {
      "cell_type": "code",
      "execution_count": null,
      "metadata": {
        "id": "dHmUGF0DyKCm"
      },
      "outputs": [],
      "source": [
        "# Image(filename='../data/dool/dool_chloe.jpg')"
      ]
    },
    {
      "cell_type": "code",
      "execution_count": null,
      "metadata": {
        "id": "A-00aKc2yKCn"
      },
      "outputs": [],
      "source": [
        "# Image(filename='../data/dool/dool_sami.jpg')"
      ]
    },
    {
      "cell_type": "code",
      "execution_count": null,
      "metadata": {
        "id": "mLxBSp9iyKCn"
      },
      "outputs": [],
      "source": [
        "# Image(filename='../data/dool/dool_shawn.jpg')"
      ]
    },
    {
      "cell_type": "code",
      "execution_count": null,
      "metadata": {
        "id": "eByvcuG7yKCn"
      },
      "outputs": [],
      "source": [
        "# Image(filename='../data/dool/dool_belle.jpg')"
      ]
    },
    {
      "cell_type": "code",
      "execution_count": null,
      "metadata": {
        "id": "MZaNiafHyKCn"
      },
      "outputs": [],
      "source": [
        "# Image(filename='../data/dool/dool_lucas.jpg')"
      ]
    },
    {
      "cell_type": "code",
      "execution_count": null,
      "metadata": {
        "id": "qa9jODRQyKCo"
      },
      "outputs": [],
      "source": [
        "# Image(filename='../data/dool/dool_nicole.jpg')"
      ]
    },
    {
      "cell_type": "markdown",
      "metadata": {
        "id": "JeZ4hKXzyKCo"
      },
      "source": [
        "These are definitely big, long-time players in the dramatic Days narrative. It would make sense to create a graph where each character who appears over 2000 times is a node, and each time they talk to each other, we add one to their weight. We should also store all the things these chracters say: that's useful information.\n",
        "\n",
        "So we now iterate through the tokens in a manner where we can capture this information."
      ]
    },
    {
      "cell_type": "code",
      "execution_count": null,
      "metadata": {
        "id": "cu_6g6pOyKCo"
      },
      "outputs": [],
      "source": [
        "actor_network = nx.Graph()"
      ]
    },
    {
      "cell_type": "code",
      "execution_count": null,
      "metadata": {
        "id": "XNzaoYgmyKCo"
      },
      "outputs": [],
      "source": [
        "for character in characters:\n",
        "    if characters[character] > 2000:\n",
        "        actor_network.add_node(character, lines_spoken= characters[character], words=[])"
      ]
    },
    {
      "cell_type": "code",
      "execution_count": null,
      "metadata": {
        "id": "aTO8_uqoyKCp"
      },
      "outputs": [],
      "source": [
        "len(actor_network.nodes.data())"
      ]
    },
    {
      "cell_type": "code",
      "execution_count": null,
      "metadata": {
        "id": "ybmrWqs2yKCp"
      },
      "outputs": [],
      "source": [
        "actor_network.nodes.data()"
      ]
    },
    {
      "cell_type": "code",
      "execution_count": null,
      "metadata": {
        "id": "f7zfXMn2yKCp"
      },
      "outputs": [],
      "source": [
        "actor_network.nodes['Sami']['lines_spoken']"
      ]
    },
    {
      "cell_type": "code",
      "execution_count": null,
      "metadata": {
        "id": "jxXG8dQkyKCq"
      },
      "outputs": [],
      "source": [
        "i = 0"
      ]
    },
    {
      "cell_type": "markdown",
      "metadata": {
        "id": "-_Kt6_lByKCq"
      },
      "source": [
        "The following lines of code creates the graph of actors and their relationships."
      ]
    },
    {
      "cell_type": "code",
      "execution_count": null,
      "metadata": {
        "id": "K6y085xEyKCq"
      },
      "outputs": [],
      "source": [
        "for token in dool:\n",
        "    i += 1\n",
        "    if i > len(dool):\n",
        "        break\n",
        "    if token[0] == \"@\":\n",
        "        if token[2:] in actor_network.nodes():\n",
        "            j = i\n",
        "            for token_ in dool[i:]:\n",
        "                if token_[0] == \"@\":\n",
        "                    # if both the characters exist in the graph, add a weight\n",
        "                    if token_[2:] != token[2:] and token_[2:] in actor_network.nodes():\n",
        "                        if (token[2:], token_[2:]) not in actor_network.edges():\n",
        "                            actor_network.add_edge(token[2:], token_[2:], weight=0)\n",
        "                        if (token[2:], token_[2:]) in actor_network.edges():\n",
        "                            actor_network.edges[(token[2:], token_[2:])]['weight'] += 1\n",
        "                    break\n",
        "                j += 1\n",
        "            # adding characters sentences\n",
        "            actor_network.nodes[token[2:]]['words'].append(dool[i:j])"
      ]
    },
    {
      "cell_type": "code",
      "execution_count": null,
      "metadata": {
        "id": "_l8DVjLkyKCq"
      },
      "outputs": [],
      "source": [
        "nx.draw(actor_network, with_labels=True, font_weight='bold')"
      ]
    },
    {
      "cell_type": "code",
      "execution_count": null,
      "metadata": {
        "id": "3EcOZxBXyKCq"
      },
      "outputs": [],
      "source": [
        "L = []\n",
        "for node in actor_network.nodes():\n",
        "    l = []\n",
        "    for node_ in actor_network.nodes():\n",
        "        if node == node_:\n",
        "            l.append(0)\n",
        "        else:\n",
        "            l.append(actor_network.edges[(node, node_)]['weight'])\n",
        "    L.append(l)\n",
        "M_ = np.array(L)\n",
        "fig = plt.figure()\n",
        "div = pd.DataFrame(M_, columns = list(actor_network.nodes()), index = list(actor_network.nodes()))\n",
        "ax = sns.heatmap(div)\n",
        "plt.show()"
      ]
    },
    {
      "cell_type": "code",
      "execution_count": null,
      "metadata": {
        "id": "4QO5mOoyyKCr"
      },
      "outputs": [],
      "source": [
        "from networkx.algorithms.community import greedy_modularity_communities\n",
        "c = list(greedy_modularity_communities(actor_network))"
      ]
    },
    {
      "cell_type": "code",
      "execution_count": null,
      "metadata": {
        "id": "LWwuls9YyKCr"
      },
      "outputs": [],
      "source": [
        "c"
      ]
    },
    {
      "cell_type": "markdown",
      "metadata": {
        "id": "Wbe7x5IIyKCr"
      },
      "source": [
        "### Finding structure in networks\n",
        "\n",
        "We now have a lot of useful information: we have a graph of all the characters, with their relationships with other characters, as well as all the words they've said. We tried finding communities, but it seems like everyone is connected to everyone: each of them form their own 'community'. Seems like people talk to each other a bunch in soaps.\n",
        "\n",
        "This is however, not the best network to find any meaningful patterns, as we can see with everyone connected to everyone. But as we can see with our heatmap, not everyone talks to everyone an equal amount. How about we only keep our \"important\" ties, where people are talking to each other a lot?"
      ]
    },
    {
      "cell_type": "code",
      "execution_count": null,
      "metadata": {
        "id": "5f09BHluyKCs"
      },
      "outputs": [],
      "source": [
        "smaller_actor_network = nx.Graph()"
      ]
    },
    {
      "cell_type": "code",
      "execution_count": null,
      "metadata": {
        "id": "WCJ62sgCyKCs"
      },
      "outputs": [],
      "source": [
        "for actor_1 in actor_network.nodes():\n",
        "    smaller_actor_network.add_node(actor_1, lines_spoken= actor_network.nodes[actor_1]['lines_spoken'], words=actor_network.nodes[actor_1]['words'])\n",
        "    for actor_2 in actor_network.nodes():\n",
        "        if actor_2!=actor_1 and actor_network.edges[(actor_1, actor_2)]['weight'] > 250:\n",
        "            smaller_actor_network.add_edge(actor_1, actor_2, weight=actor_network.edges[(actor_1, actor_2)]['weight'])\n"
      ]
    },
    {
      "cell_type": "code",
      "execution_count": null,
      "metadata": {
        "id": "CzJPYO4QyKCs"
      },
      "outputs": [],
      "source": [
        "nx.draw(smaller_actor_network, with_labels=True, font_weight='bold')"
      ]
    },
    {
      "cell_type": "markdown",
      "metadata": {
        "id": "5ulsBZa7yKCs"
      },
      "source": [
        "This is a lot more interesting: while the sets of characters overlap, there is still two distinct communities if you look at characters who regularly talk to each other!\n",
        "\n",
        "Let us see what our centrality measures look like, as well as communities."
      ]
    },
    {
      "cell_type": "code",
      "execution_count": null,
      "metadata": {
        "id": "7MRXp61jyKCt"
      },
      "outputs": [],
      "source": [
        "from networkx.algorithms.community import greedy_modularity_communities\n",
        "c = list(greedy_modularity_communities(smaller_actor_network))"
      ]
    },
    {
      "cell_type": "code",
      "execution_count": null,
      "metadata": {
        "id": "YJoJBHASyKCt"
      },
      "outputs": [],
      "source": [
        "c"
      ]
    },
    {
      "cell_type": "code",
      "execution_count": null,
      "metadata": {
        "id": "RiQ9b32DyKCt"
      },
      "outputs": [],
      "source": [
        "dcentralities = nx.degree_centrality(smaller_actor_network)"
      ]
    },
    {
      "cell_type": "code",
      "execution_count": null,
      "metadata": {
        "id": "8hZPmwsHyKCt"
      },
      "outputs": [],
      "source": [
        "dcentralities['John'], dcentralities['Philip']"
      ]
    },
    {
      "cell_type": "markdown",
      "metadata": {
        "id": "XrmS9n4tyKCu"
      },
      "source": [
        "Our two different communities show up as detected by the networkx algorithm, and when we look at centralities, we can see that John is a lot more central than Philip."
      ]
    },
    {
      "cell_type": "markdown",
      "metadata": {
        "id": "egNtAzdxyKCu"
      },
      "source": [
        "Let us go back to our original graph, and see if the weight or number of similar appearences matches the text... how do we do this? Well, we already have the graph, and we also have information of who spoke to who. So we have our framework!\n",
        "\n",
        "This means we can explore ideas contained in two of the papers you will be reading: . “No country for old members: User lifecycle and linguistic change in online communities.”, and  “Fitting In or Standing Out? The Tradeoffs of Structural and Cultural Embeddedness”, both of which you can access on Canvas. \n",
        "\n",
        "Let us use a simplified version of the papers, and check if a higher number of conversations might lead to a higher similarity between the word distributions for two characters. We can use the same divergences we used in the last notebook. Do you think it will match with the number of times each character was associated with each other?"
      ]
    },
    {
      "cell_type": "code",
      "execution_count": 7,
      "metadata": {
        "id": "FcwsWsubyKCu"
      },
      "outputs": [],
      "source": [
        "def kl_divergence(X, Y):\n",
        "    P = X.copy()\n",
        "    Q = Y.copy()\n",
        "    P.columns = ['P']\n",
        "    Q.columns = ['Q']\n",
        "    df = Q.join(P).fillna(0)\n",
        "    p = df.iloc[:,1]\n",
        "    q = df.iloc[:,0]\n",
        "    D_kl = scipy.stats.entropy(p, q)\n",
        "    return D_kl\n",
        "\n",
        "def chi2_divergence(X,Y):\n",
        "    P = X.copy()\n",
        "    Q = Y.copy()\n",
        "    P.columns = ['P']\n",
        "    Q.columns = ['Q']\n",
        "    df = Q.join(P).fillna(0)\n",
        "    p = df.iloc[:,1]\n",
        "    q = df.iloc[:,0]\n",
        "    return scipy.stats.chisquare(p, q).statistic\n",
        "\n",
        "def Divergence(corpus1, corpus2, difference=\"KL\"):\n",
        "    \"\"\"Difference parameter can equal KL, Chi2, or Wass\"\"\"\n",
        "    freqP = nltk.FreqDist(corpus1)\n",
        "    P = pd.DataFrame(list(freqP.values()), columns = ['frequency'], index = list(freqP.keys()))\n",
        "    freqQ = nltk.FreqDist(corpus2)\n",
        "    Q = pd.DataFrame(list(freqQ.values()), columns = ['frequency'], index = list(freqQ.keys()))\n",
        "    if difference == \"KL\":\n",
        "        return kl_divergence(P, Q)\n",
        "    elif difference == \"Chi2\":\n",
        "        return chi2_divergence(P, Q)\n",
        "    elif difference == \"KS\":\n",
        "        try:\n",
        "            return scipy.stats.ks_2samp(P['frequency'], Q['frequency']).statistic\n",
        "        except:\n",
        "            return scipy.stats.ks_2samp(P['frequency'], Q['frequency'])\n",
        "    elif difference == \"Wasserstein\":\n",
        "        try:\n",
        "            return scipy.stats.wasserstein_distance(P['frequency'], Q['frequency'], u_weights=None, v_weights=None).statistic\n",
        "        except:\n",
        "            return scipy.stats.wasserstein_distance(P['frequency'], Q['frequency'], u_weights=None, v_weights=None)"
      ]
    },
    {
      "cell_type": "code",
      "execution_count": null,
      "metadata": {
        "id": "ba1kAu2gyKCv"
      },
      "outputs": [],
      "source": [
        "corpora = []\n",
        "for character in actor_network.nodes():\n",
        "    character_words = []\n",
        "    for sentence in actor_network.nodes[character]['words']:\n",
        "        for word in sentence:\n",
        "            character_words.append(word)\n",
        "    corpora.append(lucem_illud.normalizeTokens(character_words))"
      ]
    },
    {
      "cell_type": "code",
      "execution_count": null,
      "metadata": {
        "id": "LTEUBrssyKCv"
      },
      "outputs": [],
      "source": [
        "L = []"
      ]
    },
    {
      "cell_type": "code",
      "execution_count": null,
      "metadata": {
        "id": "zcrPoAzdyKCv"
      },
      "outputs": [],
      "source": [
        "for p in corpora:\n",
        "    l = []\n",
        "    for q in corpora:\n",
        "        l.append(Divergence(p,q, difference='KS'))\n",
        "    L.append(l)\n",
        "M = np.array(L)"
      ]
    },
    {
      "cell_type": "code",
      "execution_count": null,
      "metadata": {
        "id": "ketvgbpdyKCv"
      },
      "outputs": [],
      "source": [
        "fig = plt.figure()\n",
        "div = pd.DataFrame(M, columns = list(actor_network.nodes()), index = list(actor_network.nodes()))\n",
        "ax = sns.heatmap(div)\n",
        "plt.show()"
      ]
    },
    {
      "cell_type": "code",
      "execution_count": null,
      "metadata": {
        "id": "8KMORCHmyKCv"
      },
      "outputs": [],
      "source": [
        "# np.corrcoef(M_, M)[0]"
      ]
    },
    {
      "cell_type": "markdown",
      "metadata": {
        "id": "WPC-ff2byKCw"
      },
      "source": [
        "With our two heatplots, we can attempt to do some rudimentary analysis. We can see from our previous plot that Shawn and Belle talk to each other a lot, so do Hope and Bo, and Nicole and Brady, and Lucas and Sami. Do they also talk *like* each other?\n",
        "\n",
        "Kind of, actually: all four of these pairs have a lower distance between them. Now I don't know anything about this particular soap... are these four pairs related? Are they in a relationship, either married or dating, or are they just really good friends?\n",
        "\n",
        "This lays out the frameworks which you can now use to explore your own networks. "
      ]
    },
    {
      "cell_type": "markdown",
      "metadata": {
        "id": "hSK04hfryKCw"
      },
      "source": [
        "# Interactional influence\n",
        "\n",
        "Before we utilize transformers, let's see how to estimate the influence of one speaker on another in order to estimate a kind of interpersonal influence network based on a recent paper by Fangjian Guo, Charles Blundell, Hanna Wallach, and Katherine Heller entitled [\"The Bayesian Echo Chamber: Modeling Social Influence via Linguistic Accommodation\"](https://arxiv.org/pdf/1411.2674.pdf). This relies on a kind of point process called a Hawkes process that estimate the influence of one point on another. Specifically, what they estimate is the degree to which one actor to an interpersonal interaction engaged in \"accomodation\" behaviors relative to the other, generating a directed edge from the one to the other."
      ]
    },
    {
      "cell_type": "markdown",
      "metadata": {
        "id": "AEsSwWgryKCw"
      },
      "source": [
        "### First let's look at the output of their analysis:"
      ]
    },
    {
      "cell_type": "code",
      "source": [
        "cd "
      ],
      "metadata": {
        "colab": {
          "base_uri": "https://localhost:8080/"
        },
        "id": "Gip1TDk_EkWy",
        "outputId": "933f1bb3-69d6-4c4e-eb93-398085ab2874"
      },
      "execution_count": 9,
      "outputs": [
        {
          "output_type": "stream",
          "name": "stdout",
          "text": [
            "/root\n"
          ]
        }
      ]
    },
    {
      "cell_type": "code",
      "source": [
        "!git clone https://github.com/UChicago-Computational-Content-Analysis/Homework-Notebooks.git"
      ],
      "metadata": {
        "colab": {
          "base_uri": "https://localhost:8080/"
        },
        "id": "n4-nLG2qFbzB",
        "outputId": "3a273257-481a-4d1a-f355-bef8fc5f3c54"
      },
      "execution_count": 10,
      "outputs": [
        {
          "output_type": "stream",
          "name": "stdout",
          "text": [
            "Cloning into 'Homework-Notebooks'...\n",
            "remote: Enumerating objects: 4940, done.\u001b[K\n",
            "^C\n"
          ]
        }
      ]
    },
    {
      "cell_type": "code",
      "execution_count": null,
      "metadata": {
        "id": "Wy0YNhxlyKCw"
      },
      "outputs": [],
      "source": [
        "example_name = '12-angry-men'   #example datasets: \"12-angry-men\" or \"USpresident\""
      ]
    },
    {
      "cell_type": "code",
      "execution_count": null,
      "metadata": {
        "id": "3llpNML8yKCx"
      },
      "outputs": [],
      "source": [
        "result_path = '../data/Bayesian-echo/results/{}/'.format(example_name)\n",
        "if not os.path.isdir(result_path):\n",
        "    raise ValueError('Invalid example selected, only \"12-angry-men\" or \"USpresident\" are avaliable')"
      ]
    },
    {
      "cell_type": "code",
      "execution_count": null,
      "metadata": {
        "id": "-qMvfmquyKCx"
      },
      "outputs": [],
      "source": [
        "df_meta_info = pd.read_table(result_path + 'meta-info.txt',header=None)\n",
        "df_log_prob = pd.read_csv(result_path + \"SAMPLE-log_prior_and_log_likelihood.txt\",delim_whitespace=True) #log_prob samples\n",
        "df_influence = pd.read_csv(result_path + 'SAMPLE-influence.txt',delim_whitespace=True) # influence samples\n",
        "df_participants = pd.read_csv(result_path + 'cast.txt', delim_whitespace=True)\n",
        "person_id = pd.Series(df_participants['agent.num'].values-1,index=df_participants['agent.name']).to_dict()\n",
        "print()\n",
        "print ('Person : ID')\n",
        "person_id"
      ]
    },
    {
      "cell_type": "code",
      "execution_count": null,
      "metadata": {
        "id": "9d3cXwq3yKCy"
      },
      "outputs": [],
      "source": [
        "def getDensity(df):\n",
        "    data = df#_log_prob['log.prior']\n",
        "    density = scipy.stats.gaussian_kde(data)\n",
        "    width = np.max(data) - np.min(data)\n",
        "    xs = np.linspace(np.min(data)-width/5, np.max(data)+width/5,600)\n",
        "    density.covariance_factor = lambda : .25\n",
        "    density._compute_covariance()\n",
        "    return xs, density(xs)"
      ]
    },
    {
      "cell_type": "markdown",
      "metadata": {
        "id": "dyekd_AQyKCz"
      },
      "source": [
        "### Plot MCMC (Markov Monte Carlo) trace and the density of log-likelihoods"
      ]
    },
    {
      "cell_type": "code",
      "execution_count": null,
      "metadata": {
        "scrolled": false,
        "id": "J5X1zfnMyKCz"
      },
      "outputs": [],
      "source": [
        "fig = plt.figure(figsize=[12,10])\n",
        "\n",
        "plt.subplot(4,2,1)\n",
        "plt.plot(df_log_prob['log.prior'])\n",
        "plt.xlabel('Iterations')\n",
        "plt.title('Trace of log.prior')\n",
        "\n",
        "plt.subplot(4,2,2)\n",
        "x,y = getDensity(df_log_prob['log.prior'])\n",
        "plt.plot(x,y)\n",
        "plt.xlabel('Iterations')\n",
        "plt.title('Density of log.prior')\n",
        "\n",
        "plt.subplot(4,2,3)\n",
        "plt.plot(df_log_prob['log.likelihood'])\n",
        "plt.title('Trace of log.likelihood')\n",
        "plt.xlabel('Iterations')\n",
        "plt.tight_layout()\n",
        "\n",
        "plt.subplot(4,2,4)\n",
        "x,y = getDensity(df_log_prob['log.likelihood'])\n",
        "plt.plot(x,y)\n",
        "plt.xlabel('Iterations')\n",
        "plt.title('Density of log.likelihood')\n",
        "\n",
        "plt.subplot(4,2,5)\n",
        "plt.plot(df_log_prob['log.likelihood.test.set'])\n",
        "plt.title('Trace of log.likelihood.test.set')\n",
        "plt.xlabel('Iterations')\n",
        "plt.tight_layout()\n",
        "\n",
        "plt.subplot(4,2,6)\n",
        "x,y = getDensity(df_log_prob['log.likelihood.test.set'])\n",
        "plt.plot(x,y)\n",
        "plt.xlabel('Iterations')\n",
        "plt.title('Density of log.likelihood.test.set')\n",
        "\n",
        "plt.subplot(4,2,7)\n",
        "plt.plot(df_log_prob['log.prior']+df_log_prob['log.likelihood'])\n",
        "plt.title('Trace of log.prob')\n",
        "plt.xlabel('Iterations')\n",
        "\n",
        "plt.subplot(4,2,8)\n",
        "x,y = getDensity(df_log_prob['log.prior']+df_log_prob['log.likelihood'])\n",
        "plt.plot(x,y)\n",
        "plt.xlabel('Iterations')\n",
        "plt.title('Density of log.prob')\n",
        "\n",
        "plt.tight_layout()\n",
        "\n",
        "plt.show()"
      ]
    },
    {
      "cell_type": "markdown",
      "metadata": {
        "id": "n7gUCxr2yKC1"
      },
      "source": [
        "### Plot the influence matrix between participants"
      ]
    },
    {
      "cell_type": "code",
      "execution_count": null,
      "metadata": {
        "id": "OWD69RY7yKC1"
      },
      "outputs": [],
      "source": [
        "A = int(np.sqrt(len(df_influence.columns))) #number of participants\n",
        "id_person = {}\n",
        "for p in person_id:\n",
        "    id_person[person_id[p]]=p"
      ]
    },
    {
      "cell_type": "code",
      "execution_count": null,
      "metadata": {
        "id": "wOcathg1yKC2"
      },
      "outputs": [],
      "source": [
        "def getmatrix(stacked,A):\n",
        "    influence_matrix = [[0 for i in range(A)] for j in range(A)]\n",
        "    for row in stacked.iteritems():\n",
        "        from_ = int(row[0].split('.')[1])-1\n",
        "        to_ = int(row[0].split('.')[2])-1\n",
        "        value = float(row[1])\n",
        "        influence_matrix[from_][to_]=value\n",
        "    df_ = pd.DataFrame(influence_matrix) \n",
        "    \n",
        "    df_ =df_.rename(index = id_person)\n",
        "    df_ =df_.rename(columns = id_person)\n",
        "    return df_"
      ]
    },
    {
      "cell_type": "code",
      "execution_count": null,
      "metadata": {
        "id": "rKz5qWKHyKC2"
      },
      "outputs": [],
      "source": [
        "stacked = df_influence.mean(axis=0)\n",
        "df_mean = getmatrix(stacked,A)\n",
        "\n",
        "stacked = df_influence.std(axis=0)\n",
        "df_std = getmatrix(stacked,A)"
      ]
    },
    {
      "cell_type": "code",
      "execution_count": null,
      "metadata": {
        "id": "7tkK3v7wyKC2"
      },
      "outputs": [],
      "source": [
        "df_mean"
      ]
    },
    {
      "cell_type": "code",
      "execution_count": null,
      "metadata": {
        "id": "laTC_WSqyKC2"
      },
      "outputs": [],
      "source": [
        "f, ax = plt.subplots(figsize=(9, 6))\n",
        "seaborn.heatmap(df_mean, annot=True,  linewidths=.5, ax=ax,cmap=\"YlGnBu\")\n",
        "print('MEAN of influence matrix (row=from, col=to)')\n",
        "plt.show()"
      ]
    },
    {
      "cell_type": "code",
      "execution_count": null,
      "metadata": {
        "id": "S-J2S6PMyKC2"
      },
      "outputs": [],
      "source": [
        "f, ax = plt.subplots(figsize=(9, 6))\n",
        "seaborn.heatmap(df_std, annot=True,  linewidths=.5, ax=ax,cmap=\"YlGnBu\")\n",
        "print('SD of influence matrix (row=from, col=to)')\n",
        "plt.show()"
      ]
    },
    {
      "cell_type": "markdown",
      "metadata": {
        "id": "d7YN7jnEyKC2"
      },
      "source": [
        "### Barplot of total influences sent/received"
      ]
    },
    {
      "cell_type": "code",
      "execution_count": null,
      "metadata": {
        "id": "aipBqcF5yKC2"
      },
      "outputs": [],
      "source": [
        "sender_std = {} #sd of total influence sent\n",
        "reciever_std = {} #sd of total influence recieved\n",
        "for i in range(A):\n",
        "    reciever_std[id_person[i]] = df_influence[df_influence.columns[i::A]].sum(axis=1).std()\n",
        "    sender_std[id_person[i]] = df_influence[df_influence.columns[i*A:(i+1)*A:]].sum(axis=1).std()\n",
        "\n",
        "sent = df_mean.sum(axis=1) #mean of total influence sent\n",
        "recieved =df_mean.sum(axis=0) #mean of total influence recieved"
      ]
    },
    {
      "cell_type": "markdown",
      "metadata": {
        "id": "iWn-1lkAyKC2"
      },
      "source": [
        "Total influence:"
      ]
    },
    {
      "cell_type": "code",
      "execution_count": null,
      "metadata": {
        "id": "pkUOv3XayKC2"
      },
      "outputs": [],
      "source": [
        "print (\"\\t\\tTotal linguistic influence sent/received \")\n",
        "ax.fig = plt.figure(figsize=[np.min([A,20]),6])\n",
        "\n",
        "plt.grid()\n",
        "wd=0.45\n",
        "ii=0\n",
        "for p in sender_std:\n",
        "    plt.bar(person_id[p],sent.loc[p],width=wd,color='red',alpha=0.6,label = \"Sent\" if ii == 0 else \"\")\n",
        "    plt.plot([person_id[p]-wd/4,person_id[p]+wd/4],[sent.loc[p]+sender_std[p],sent.loc[p]+sender_std[p]],color='k')\n",
        "    plt.plot([person_id[p]-wd/4,person_id[p]+wd/4],[sent.loc[p]-sender_std[p],sent.loc[p]-sender_std[p]],color='k')\n",
        "    plt.plot([person_id[p],person_id[p]],[sent.loc[p]-sender_std[p],sent.loc[p]+sender_std[p]],color='k')\n",
        "    ii+=1\n",
        "ii=0\n",
        "for p in reciever_std:\n",
        "    plt.bar(person_id[p]+wd,recieved.loc[p],width=wd,color='blue',alpha=0.4,label = \"Received\" if ii == 0 else \"\")\n",
        "    plt.plot([person_id[p]+wd-wd/4,person_id[p]+wd+wd/4],[recieved.loc[p]+reciever_std[p],recieved.loc[p]+reciever_std[p]],color='k')\n",
        "    plt.plot([person_id[p]+wd-wd/4,person_id[p]+wd+wd/4],[recieved.loc[p]-reciever_std[p],recieved.loc[p]-reciever_std[p]],color='k')\n",
        "    plt.plot([person_id[p]+wd,person_id[p]+wd],[recieved.loc[p]-reciever_std[p],recieved.loc[p]+reciever_std[p]],color='k')\n",
        "    ii+=1\n",
        "plt.legend(loc='center left', bbox_to_anchor=(1, 0.7))\n",
        "plt.xticks([i+0.25 for i in range(A)],list(zip(*sorted(id_person.items())))[1])\n",
        "plt.ylabel('value')\n",
        "plt.xlabel('speaker',fontsize=14)\n",
        "plt.show()"
      ]
    },
    {
      "cell_type": "markdown",
      "metadata": {
        "id": "wOZlGyfiyKC4"
      },
      "source": [
        "## Visualize Influence Network!\n",
        "\n",
        "You can visualize any of the influence matrices above:"
      ]
    },
    {
      "cell_type": "markdown",
      "metadata": {
        "id": "Zq0QTJiGyKC4"
      },
      "source": [
        "Using networkx:"
      ]
    },
    {
      "cell_type": "code",
      "execution_count": null,
      "metadata": {
        "id": "MPUAqzq5yKC4"
      },
      "outputs": [],
      "source": [
        "def drawNetwork(df,title):\n",
        "    fig = plt.figure(figsize=[8,8])\n",
        "    G = nx.DiGraph()\n",
        "    for from_ in df.index:\n",
        "        for to_ in df.columns:\n",
        "            G.add_edge(from_,to_,weight = df.loc[from_][to_])\n",
        "            \n",
        "    pos = nx.spring_layout(G,k=0.55,iterations=20)\n",
        "    edges,weights = zip(*nx.get_edge_attributes(G,'weight').items())\n",
        "    weights = np.array(weights)\n",
        "    #weights = weights*weights\n",
        "    weights = 6*weights/np.max(weights)\n",
        "    print(title)\n",
        "    \n",
        "    edge_colors=20*(weights/np.max(weights))\n",
        "    edge_colors = edge_colors.astype(int)\n",
        "#     nx.draw_networkx_nodes(G,pos,node_size=1200,alpha=0.7,node_color='#99cef7')\n",
        "#     nx.draw_networkx_edges(G,pos,edge_color=edge_colors)\n",
        "#     nx.draw_networkx_labels(G,pos,font_weight='bold')\n",
        "    nx.draw(G,pos,with_labels=True, font_weight='bold',width=weights,\\\n",
        "            edge_color=255-edge_colors,node_color='#99cef7',node_size=1200,\\\n",
        "            alpha=0.75,arrows=True,arrowsize=20)\n",
        "    return edge_colors"
      ]
    },
    {
      "cell_type": "code",
      "execution_count": null,
      "metadata": {
        "id": "jGq5F1J_yKC4"
      },
      "outputs": [],
      "source": [
        "# get quantile influence matrices for 25%, 50%, 75% quantile\n",
        "stacked = df_influence.quantile(0.25)\n",
        "df_q25 = getmatrix(stacked,A)\n",
        "\n",
        "stacked = df_influence.quantile(0.5)\n",
        "df_q50 = getmatrix(stacked,A)\n",
        "\n",
        "stacked = df_influence.quantile(0.75)\n",
        "df_q75 = getmatrix(stacked,A)"
      ]
    },
    {
      "cell_type": "code",
      "execution_count": null,
      "metadata": {
        "id": "yOJ7gZ0eyKC5"
      },
      "outputs": [],
      "source": [
        "G_mean = drawNetwork(df_mean,'Mean Influence Network')"
      ]
    },
    {
      "cell_type": "code",
      "execution_count": null,
      "metadata": {
        "id": "pPSRry9syKC5"
      },
      "outputs": [],
      "source": [
        "G_q25 = drawNetwork(df_q25,'25 Quantile Influence Network')"
      ]
    },
    {
      "cell_type": "code",
      "execution_count": null,
      "metadata": {
        "id": "395XJPLAyKC5"
      },
      "outputs": [],
      "source": [
        "G_q75 = drawNetwork(df_q75,'75 Quantile Influence Network')"
      ]
    },
    {
      "cell_type": "code",
      "execution_count": null,
      "metadata": {
        "id": "n4I5UHyVyKC5"
      },
      "outputs": [],
      "source": [
        "def fakeEnglish(length):\n",
        "    listd=['a','b','c','d','e','f','g','s','h','i','j','k','l']\n",
        "    return ''.join(np.random.choice(listd,length))"
      ]
    },
    {
      "cell_type": "markdown",
      "metadata": {
        "id": "ej6RtFB2yKC5"
      },
      "source": [
        "Your own dataset should contains 4 columns (with the same column names) as the artificial one below:\n",
        "\n",
        "- name: name of the participant\n",
        "- tokens: a list of tokens in one utterance\n",
        "- start: starting time of utterance (unit doesn't matter, can be 'seconds','minutes','hours'...)\n",
        "- end: ending time of utterance (same unit as start)\n",
        "\n",
        "There is no need to sort data for the moment.\n",
        "\n",
        "Below, we generate a fake collection of data from \"Obama\", \"Trump\", \"Clinton\"...and other recent presidents. You can either create your own simulation OR (better), add real interactional data from a online chat forum, comment chain, or transcribed from a conversation."
      ]
    },
    {
      "cell_type": "code",
      "execution_count": null,
      "metadata": {
        "id": "iDZVuNgxyKC5"
      },
      "outputs": [],
      "source": [
        "script= []\n",
        "language = 'eng' #parameter, no need to tune if using English, accept:{'eng','chinese'}\n",
        "role = 'Adult' #parameter, no need to tune \n",
        "\n",
        "for i in range(290):\n",
        "    dt = []\n",
        "    dt.append(np.random.choice(['Obama','Trump','Clinton','Bush','Reagan','Carter','Ford','Nixon','Kennedy','Roosevelt']))\n",
        "    faketokens = [fakeEnglish(length = 4) for j in range(30)]\n",
        "    dt.append(faketokens) #fake utterance\n",
        "    dt.append(i*2+np.random.random()) # start time\n",
        "    dt.append(i*2+1+np.random.random()) # end time\n",
        "    script.append(dt)\n",
        "\n",
        "df_transcript = pd.DataFrame(script,columns=['name','tokens','start','end']) #\"start\", \"end\" are timestamps of utterances, units don't matter\n",
        "df_transcript[:2]"
      ]
    },
    {
      "cell_type": "markdown",
      "metadata": {
        "id": "gUA-qLNuyKC5"
      },
      "source": [
        "Transform data into TalkbankXML format:"
      ]
    },
    {
      "cell_type": "code",
      "execution_count": null,
      "metadata": {
        "id": "ExfOj2zfyKC5"
      },
      "outputs": [],
      "source": [
        "output_fname = 'USpresident.xml'  #should be .xml\n",
        "language = 'eng' \n",
        "#language = 'chinese'\n",
        "lucem_illud.make_TalkbankXML(df_transcript, output_fname, language = language )"
      ]
    },
    {
      "cell_type": "markdown",
      "metadata": {
        "id": "5LJDIItbyKC6"
      },
      "source": [
        "Run Bayesian Echo Chamber to get estimation.\n",
        "\n",
        "- It may take a couple of hours. ( About 4-5 hours if Vocab_size=600 and sampling_time =2000)\n",
        "- Larger \"Vocab_size\" (see below) will cost more time\n",
        "- Larger \"sampling_time\" will also consume more time"
      ]
    },
    {
      "cell_type": "code",
      "execution_count": null,
      "metadata": {
        "id": "HFgsA-yJyKC6"
      },
      "outputs": [],
      "source": [
        "Vocab_size = 90 # up to Vocab_size most frequent words will be considered, it should be smaller than the total vocab\n",
        "sampling_time = 1500  #The times of Gibbs sampling sweeps  (500 burn-in not included)\n",
        "lucem_illud.bec_run(output_fname, Vocab_size, language, sampling_time)"
      ]
    },
    {
      "cell_type": "markdown",
      "metadata": {
        "id": "HV75aVzryKC6"
      },
      "source": [
        "## <font color=\"red\">*Exercise 2*</font>\n",
        "\n",
        "<font color=\"red\">Construct cells immediately below this that perform a similar social similarity or influence analysis on a dataset relevant to your final project (__or one from ConvoKit__). Create relationships between actors in a network based on your dataset (e.g., person to person or document to document), and perform analyses that interrogate the structure of their interactions, similarity, and/or influence on one another. (For example, if relevant to your final project, you could explore different soap operas, counting how many times a character may have used the word love in conversation with another character, and identify if characters in love speak like each other. Or do opposites attract?) What does that analysis and its output reveal about the relative influence of each actor on others? What does it reveal about the social game being played?\n",
        "\n",
        "<font color=\"red\">Stretch 1:\n",
        "Render the social network with weights (e.g., based on the number of scenes in which actors appear together), then calculate the most central actors in the show.Realtime output can be viewed in shell.\n",
        "\n",
        "<font color=\"red\">Stretch 2:\n",
        "Implement more complex measures of similarity based on the papers you have read."
      ]
    },
    {
      "cell_type": "code",
      "source": [
        "corpus = Corpus(filename=download(\"diplomacy-corpus\"))"
      ],
      "metadata": {
        "colab": {
          "base_uri": "https://localhost:8080/"
        },
        "id": "b1U_EkHKF2Co",
        "outputId": "de576c06-98ab-4cf8-d05d-98b71ea34380"
      },
      "execution_count": 10,
      "outputs": [
        {
          "output_type": "stream",
          "name": "stdout",
          "text": [
            "Downloading diplomacy-corpus to /root/.convokit/downloads/diplomacy-corpus\n",
            "Downloading diplomacy-corpus from http://zissou.infosci.cornell.edu/convokit/datasets/diplomacy-corpus/diplomacy-corpus.zip (1.2MB)... Done\n"
          ]
        }
      ]
    },
    {
      "cell_type": "code",
      "source": [
        "corpus.print_summary_stats()"
      ],
      "metadata": {
        "colab": {
          "base_uri": "https://localhost:8080/",
          "height": 72
        },
        "id": "RzQq-f0pHMYI",
        "outputId": "fd8498f8-d54e-45cd-daef-bea2a70fab8c"
      },
      "execution_count": 19,
      "outputs": [
        {
          "output_type": "display_data",
          "data": {
            "text/html": [
              "\n",
              "  <style>\n",
              "    pre {\n",
              "        white-space: pre-wrap;\n",
              "    }\n",
              "  </style>\n",
              "  "
            ],
            "text/plain": [
              "<IPython.core.display.HTML object>"
            ]
          },
          "metadata": {}
        },
        {
          "output_type": "stream",
          "name": "stdout",
          "text": [
            "Number of Speakers: 83\n",
            "Number of Utterances: 17289\n",
            "Number of Conversations: 246\n"
          ]
        }
      ]
    },
    {
      "cell_type": "code",
      "source": [
        "df = corpus.get_utterances_dataframe()"
      ],
      "metadata": {
        "id": "eGvaCl7zHWYM"
      },
      "execution_count": 11,
      "outputs": []
    },
    {
      "cell_type": "code",
      "source": [
        "# sample the first 5000 utterances\n",
        "sample = df[:5000]"
      ],
      "metadata": {
        "id": "I1b9UtX8Hmmq"
      },
      "execution_count": 12,
      "outputs": []
    },
    {
      "cell_type": "code",
      "source": [
        "sample.tail()"
      ],
      "metadata": {
        "colab": {
          "base_uri": "https://localhost:8080/",
          "height": 631
        },
        "id": "4IZl9QBaIqTO",
        "outputId": "18713488-7580-4b80-f5f5-7246c9541dd5"
      },
      "execution_count": 32,
      "outputs": [
        {
          "output_type": "display_data",
          "data": {
            "text/html": [
              "\n",
              "  <style>\n",
              "    pre {\n",
              "        white-space: pre-wrap;\n",
              "    }\n",
              "  </style>\n",
              "  "
            ],
            "text/plain": [
              "<IPython.core.display.HTML object>"
            ]
          },
          "metadata": {}
        },
        {
          "output_type": "execute_result",
          "data": {
            "text/html": [
              "\n",
              "  <div id=\"df-31842575-3fc9-405f-bc6c-d7bc8a93246d\">\n",
              "    <div class=\"colab-df-container\">\n",
              "      <div>\n",
              "<style scoped>\n",
              "    .dataframe tbody tr th:only-of-type {\n",
              "        vertical-align: middle;\n",
              "    }\n",
              "\n",
              "    .dataframe tbody tr th {\n",
              "        vertical-align: top;\n",
              "    }\n",
              "\n",
              "    .dataframe thead th {\n",
              "        text-align: right;\n",
              "    }\n",
              "</style>\n",
              "<table border=\"1\" class=\"dataframe\">\n",
              "  <thead>\n",
              "    <tr style=\"text-align: right;\">\n",
              "      <th></th>\n",
              "      <th>timestamp</th>\n",
              "      <th>text</th>\n",
              "      <th>speaker</th>\n",
              "      <th>reply_to</th>\n",
              "      <th>conversation_id</th>\n",
              "      <th>meta.speaker_intention</th>\n",
              "      <th>meta.receiver_perception</th>\n",
              "      <th>meta.receiver</th>\n",
              "      <th>meta.absolute_message_index</th>\n",
              "      <th>meta.relative_message_index</th>\n",
              "      <th>meta.year</th>\n",
              "      <th>meta.game_score</th>\n",
              "      <th>meta.game_score_delta</th>\n",
              "      <th>meta.deception_quadrant</th>\n",
              "      <th>vectors</th>\n",
              "    </tr>\n",
              "    <tr>\n",
              "      <th>id</th>\n",
              "      <th></th>\n",
              "      <th></th>\n",
              "      <th></th>\n",
              "      <th></th>\n",
              "      <th></th>\n",
              "      <th></th>\n",
              "      <th></th>\n",
              "      <th></th>\n",
              "      <th></th>\n",
              "      <th></th>\n",
              "      <th></th>\n",
              "      <th></th>\n",
              "      <th></th>\n",
              "      <th></th>\n",
              "      <th></th>\n",
              "    </tr>\n",
              "  </thead>\n",
              "  <tbody>\n",
              "    <tr>\n",
              "      <th>Game12-turkey-germany-3</th>\n",
              "      <td>356</td>\n",
              "      <td>I wasn't attacking them, I had non-aggression ...</td>\n",
              "      <td>germany-Game12</td>\n",
              "      <td>Game12-turkey-germany-2</td>\n",
              "      <td>Game12-turkey-germany</td>\n",
              "      <td>Truth</td>\n",
              "      <td>Truth</td>\n",
              "      <td>turkey-Game12</td>\n",
              "      <td>356</td>\n",
              "      <td>3</td>\n",
              "      <td>1902</td>\n",
              "      <td>5</td>\n",
              "      <td>0</td>\n",
              "      <td>Straightforward</td>\n",
              "      <td>[]</td>\n",
              "    </tr>\n",
              "    <tr>\n",
              "      <th>Game12-turkey-germany-4</th>\n",
              "      <td>358</td>\n",
              "      <td>\"non-aggression\" doesn't exist in this game, i...</td>\n",
              "      <td>turkey-Game12</td>\n",
              "      <td>Game12-turkey-germany-3</td>\n",
              "      <td>Game12-turkey-germany</td>\n",
              "      <td>Truth</td>\n",
              "      <td>Truth</td>\n",
              "      <td>germany-Game12</td>\n",
              "      <td>358</td>\n",
              "      <td>4</td>\n",
              "      <td>1902</td>\n",
              "      <td>5</td>\n",
              "      <td>0</td>\n",
              "      <td>Straightforward</td>\n",
              "      <td>[]</td>\n",
              "    </tr>\n",
              "    <tr>\n",
              "      <th>Game12-turkey-germany-5</th>\n",
              "      <td>359</td>\n",
              "      <td>Moving Kie-Hel is a clear act of aggression ag...</td>\n",
              "      <td>turkey-Game12</td>\n",
              "      <td>Game12-turkey-germany-4</td>\n",
              "      <td>Game12-turkey-germany</td>\n",
              "      <td>Truth</td>\n",
              "      <td>Truth</td>\n",
              "      <td>germany-Game12</td>\n",
              "      <td>359</td>\n",
              "      <td>5</td>\n",
              "      <td>1902</td>\n",
              "      <td>5</td>\n",
              "      <td>0</td>\n",
              "      <td>Straightforward</td>\n",
              "      <td>[]</td>\n",
              "    </tr>\n",
              "    <tr>\n",
              "      <th>Game12-turkey-germany-6</th>\n",
              "      <td>360</td>\n",
              "      <td>I agree, I was mostly relying on the fact that...</td>\n",
              "      <td>germany-Game12</td>\n",
              "      <td>Game12-turkey-germany-5</td>\n",
              "      <td>Game12-turkey-germany</td>\n",
              "      <td>Truth</td>\n",
              "      <td>Truth</td>\n",
              "      <td>turkey-Game12</td>\n",
              "      <td>360</td>\n",
              "      <td>6</td>\n",
              "      <td>1902</td>\n",
              "      <td>5</td>\n",
              "      <td>0</td>\n",
              "      <td>Straightforward</td>\n",
              "      <td>[]</td>\n",
              "    </tr>\n",
              "    <tr>\n",
              "      <th>Game12-turkey-germany-7</th>\n",
              "      <td>361</td>\n",
              "      <td>We'll see how things play out</td>\n",
              "      <td>germany-Game12</td>\n",
              "      <td>Game12-turkey-germany-6</td>\n",
              "      <td>Game12-turkey-germany</td>\n",
              "      <td>Truth</td>\n",
              "      <td>Truth</td>\n",
              "      <td>turkey-Game12</td>\n",
              "      <td>361</td>\n",
              "      <td>7</td>\n",
              "      <td>1902</td>\n",
              "      <td>5</td>\n",
              "      <td>0</td>\n",
              "      <td>Straightforward</td>\n",
              "      <td>[]</td>\n",
              "    </tr>\n",
              "  </tbody>\n",
              "</table>\n",
              "</div>\n",
              "      <button class=\"colab-df-convert\" onclick=\"convertToInteractive('df-31842575-3fc9-405f-bc6c-d7bc8a93246d')\"\n",
              "              title=\"Convert this dataframe to an interactive table.\"\n",
              "              style=\"display:none;\">\n",
              "        \n",
              "  <svg xmlns=\"http://www.w3.org/2000/svg\" height=\"24px\"viewBox=\"0 0 24 24\"\n",
              "       width=\"24px\">\n",
              "    <path d=\"M0 0h24v24H0V0z\" fill=\"none\"/>\n",
              "    <path d=\"M18.56 5.44l.94 2.06.94-2.06 2.06-.94-2.06-.94-.94-2.06-.94 2.06-2.06.94zm-11 1L8.5 8.5l.94-2.06 2.06-.94-2.06-.94L8.5 2.5l-.94 2.06-2.06.94zm10 10l.94 2.06.94-2.06 2.06-.94-2.06-.94-.94-2.06-.94 2.06-2.06.94z\"/><path d=\"M17.41 7.96l-1.37-1.37c-.4-.4-.92-.59-1.43-.59-.52 0-1.04.2-1.43.59L10.3 9.45l-7.72 7.72c-.78.78-.78 2.05 0 2.83L4 21.41c.39.39.9.59 1.41.59.51 0 1.02-.2 1.41-.59l7.78-7.78 2.81-2.81c.8-.78.8-2.07 0-2.86zM5.41 20L4 18.59l7.72-7.72 1.47 1.35L5.41 20z\"/>\n",
              "  </svg>\n",
              "      </button>\n",
              "      \n",
              "  <style>\n",
              "    .colab-df-container {\n",
              "      display:flex;\n",
              "      flex-wrap:wrap;\n",
              "      gap: 12px;\n",
              "    }\n",
              "\n",
              "    .colab-df-convert {\n",
              "      background-color: #E8F0FE;\n",
              "      border: none;\n",
              "      border-radius: 50%;\n",
              "      cursor: pointer;\n",
              "      display: none;\n",
              "      fill: #1967D2;\n",
              "      height: 32px;\n",
              "      padding: 0 0 0 0;\n",
              "      width: 32px;\n",
              "    }\n",
              "\n",
              "    .colab-df-convert:hover {\n",
              "      background-color: #E2EBFA;\n",
              "      box-shadow: 0px 1px 2px rgba(60, 64, 67, 0.3), 0px 1px 3px 1px rgba(60, 64, 67, 0.15);\n",
              "      fill: #174EA6;\n",
              "    }\n",
              "\n",
              "    [theme=dark] .colab-df-convert {\n",
              "      background-color: #3B4455;\n",
              "      fill: #D2E3FC;\n",
              "    }\n",
              "\n",
              "    [theme=dark] .colab-df-convert:hover {\n",
              "      background-color: #434B5C;\n",
              "      box-shadow: 0px 1px 3px 1px rgba(0, 0, 0, 0.15);\n",
              "      filter: drop-shadow(0px 1px 2px rgba(0, 0, 0, 0.3));\n",
              "      fill: #FFFFFF;\n",
              "    }\n",
              "  </style>\n",
              "\n",
              "      <script>\n",
              "        const buttonEl =\n",
              "          document.querySelector('#df-31842575-3fc9-405f-bc6c-d7bc8a93246d button.colab-df-convert');\n",
              "        buttonEl.style.display =\n",
              "          google.colab.kernel.accessAllowed ? 'block' : 'none';\n",
              "\n",
              "        async function convertToInteractive(key) {\n",
              "          const element = document.querySelector('#df-31842575-3fc9-405f-bc6c-d7bc8a93246d');\n",
              "          const dataTable =\n",
              "            await google.colab.kernel.invokeFunction('convertToInteractive',\n",
              "                                                     [key], {});\n",
              "          if (!dataTable) return;\n",
              "\n",
              "          const docLinkHtml = 'Like what you see? Visit the ' +\n",
              "            '<a target=\"_blank\" href=https://colab.research.google.com/notebooks/data_table.ipynb>data table notebook</a>'\n",
              "            + ' to learn more about interactive tables.';\n",
              "          element.innerHTML = '';\n",
              "          dataTable['output_type'] = 'display_data';\n",
              "          await google.colab.output.renderOutput(dataTable, element);\n",
              "          const docLink = document.createElement('div');\n",
              "          docLink.innerHTML = docLinkHtml;\n",
              "          element.appendChild(docLink);\n",
              "        }\n",
              "      </script>\n",
              "    </div>\n",
              "  </div>\n",
              "  "
            ],
            "text/plain": [
              "                        timestamp  \\\n",
              "id                                  \n",
              "Game12-turkey-germany-3       356   \n",
              "Game12-turkey-germany-4       358   \n",
              "Game12-turkey-germany-5       359   \n",
              "Game12-turkey-germany-6       360   \n",
              "Game12-turkey-germany-7       361   \n",
              "\n",
              "                                                                      text  \\\n",
              "id                                                                           \n",
              "Game12-turkey-germany-3  I wasn't attacking them, I had non-aggression ...   \n",
              "Game12-turkey-germany-4  \"non-aggression\" doesn't exist in this game, i...   \n",
              "Game12-turkey-germany-5  Moving Kie-Hel is a clear act of aggression ag...   \n",
              "Game12-turkey-germany-6  I agree, I was mostly relying on the fact that...   \n",
              "Game12-turkey-germany-7                      We'll see how things play out   \n",
              "\n",
              "                                speaker                 reply_to  \\\n",
              "id                                                                 \n",
              "Game12-turkey-germany-3  germany-Game12  Game12-turkey-germany-2   \n",
              "Game12-turkey-germany-4   turkey-Game12  Game12-turkey-germany-3   \n",
              "Game12-turkey-germany-5   turkey-Game12  Game12-turkey-germany-4   \n",
              "Game12-turkey-germany-6  germany-Game12  Game12-turkey-germany-5   \n",
              "Game12-turkey-germany-7  germany-Game12  Game12-turkey-germany-6   \n",
              "\n",
              "                               conversation_id meta.speaker_intention  \\\n",
              "id                                                                      \n",
              "Game12-turkey-germany-3  Game12-turkey-germany                  Truth   \n",
              "Game12-turkey-germany-4  Game12-turkey-germany                  Truth   \n",
              "Game12-turkey-germany-5  Game12-turkey-germany                  Truth   \n",
              "Game12-turkey-germany-6  Game12-turkey-germany                  Truth   \n",
              "Game12-turkey-germany-7  Game12-turkey-germany                  Truth   \n",
              "\n",
              "                        meta.receiver_perception   meta.receiver  \\\n",
              "id                                                                 \n",
              "Game12-turkey-germany-3                    Truth   turkey-Game12   \n",
              "Game12-turkey-germany-4                    Truth  germany-Game12   \n",
              "Game12-turkey-germany-5                    Truth  germany-Game12   \n",
              "Game12-turkey-germany-6                    Truth   turkey-Game12   \n",
              "Game12-turkey-germany-7                    Truth   turkey-Game12   \n",
              "\n",
              "                        meta.absolute_message_index  \\\n",
              "id                                                    \n",
              "Game12-turkey-germany-3                         356   \n",
              "Game12-turkey-germany-4                         358   \n",
              "Game12-turkey-germany-5                         359   \n",
              "Game12-turkey-germany-6                         360   \n",
              "Game12-turkey-germany-7                         361   \n",
              "\n",
              "                        meta.relative_message_index meta.year meta.game_score  \\\n",
              "id                                                                              \n",
              "Game12-turkey-germany-3                           3      1902               5   \n",
              "Game12-turkey-germany-4                           4      1902               5   \n",
              "Game12-turkey-germany-5                           5      1902               5   \n",
              "Game12-turkey-germany-6                           6      1902               5   \n",
              "Game12-turkey-germany-7                           7      1902               5   \n",
              "\n",
              "                        meta.game_score_delta meta.deception_quadrant vectors  \n",
              "id                                                                             \n",
              "Game12-turkey-germany-3                     0         Straightforward      []  \n",
              "Game12-turkey-germany-4                     0         Straightforward      []  \n",
              "Game12-turkey-germany-5                     0         Straightforward      []  \n",
              "Game12-turkey-germany-6                     0         Straightforward      []  \n",
              "Game12-turkey-germany-7                     0         Straightforward      []  "
            ]
          },
          "metadata": {},
          "execution_count": 32
        }
      ]
    },
    {
      "cell_type": "code",
      "source": [
        "actor_network = nx.Graph()"
      ],
      "metadata": {
        "colab": {
          "base_uri": "https://localhost:8080/",
          "height": 17
        },
        "id": "jZAyb2ZWI0tF",
        "outputId": "3004c0df-2149-4efe-eff0-1f5d5f43a430"
      },
      "execution_count": 33,
      "outputs": [
        {
          "output_type": "display_data",
          "data": {
            "text/html": [
              "\n",
              "  <style>\n",
              "    pre {\n",
              "        white-space: pre-wrap;\n",
              "    }\n",
              "  </style>\n",
              "  "
            ],
            "text/plain": [
              "<IPython.core.display.HTML object>"
            ]
          },
          "metadata": {}
        }
      ]
    },
    {
      "cell_type": "code",
      "source": [
        "sample['speaker'].value_counts()"
      ],
      "metadata": {
        "colab": {
          "base_uri": "https://localhost:8080/",
          "height": 553
        },
        "id": "kR2XANEvJ7r2",
        "outputId": "0e2beebe-ce52-4479-d8a9-2e8c34a113c0"
      },
      "execution_count": 34,
      "outputs": [
        {
          "output_type": "display_data",
          "data": {
            "text/html": [
              "\n",
              "  <style>\n",
              "    pre {\n",
              "        white-space: pre-wrap;\n",
              "    }\n",
              "  </style>\n",
              "  "
            ],
            "text/plain": [
              "<IPython.core.display.HTML object>"
            ]
          },
          "metadata": {}
        },
        {
          "output_type": "execute_result",
          "data": {
            "text/plain": [
              "england-Game1     743\n",
              "italy-Game1       683\n",
              "germany-Game1     548\n",
              "austria-Game11    341\n",
              "france-Game1      313\n",
              "germany-Game11    305\n",
              "italy-Game11      292\n",
              "turkey-Game11     265\n",
              "austria-Game10    236\n",
              "germany-Game10    190\n",
              "russia-Game1      156\n",
              "england-Game10    148\n",
              "austria-Game1     148\n",
              "france-Game11     124\n",
              "russia-Game10     108\n",
              "italy-Game10       83\n",
              "france-Game10      52\n",
              "italy-Game12       48\n",
              "england-Game11     47\n",
              "russia-Game11      42\n",
              "turkey-Game1       27\n",
              "turkey-Game12      26\n",
              "france-Game12      24\n",
              "germany-Game12     15\n",
              "turkey-Game10      14\n",
              "austria-Game12      8\n",
              "russia-Game12       8\n",
              "england-Game12      6\n",
              "Name: speaker, dtype: int64"
            ]
          },
          "metadata": {},
          "execution_count": 34
        }
      ]
    },
    {
      "cell_type": "code",
      "source": [
        "for speaker in sample.speaker.unique():\n",
        "  actor_network.add_node(speaker)"
      ],
      "metadata": {
        "colab": {
          "base_uri": "https://localhost:8080/",
          "height": 17
        },
        "id": "K4Qj5MBKJ1ee",
        "outputId": "e6f769bf-cb5c-4792-f729-ef1715d559d9"
      },
      "execution_count": 37,
      "outputs": [
        {
          "output_type": "display_data",
          "data": {
            "text/html": [
              "\n",
              "  <style>\n",
              "    pre {\n",
              "        white-space: pre-wrap;\n",
              "    }\n",
              "  </style>\n",
              "  "
            ],
            "text/plain": [
              "<IPython.core.display.HTML object>"
            ]
          },
          "metadata": {}
        }
      ]
    },
    {
      "cell_type": "code",
      "source": [
        "for i, row in sample.iterrows():\n",
        "  speaker = row['speaker']\n",
        "  receiver = row['meta.receiver']\n",
        "  if receiver in actor_network.nodes():\n",
        "    if (speaker, receiver) not in actor_network.edges():\n",
        "      actor_network.add_edge(speaker, receiver, weight=0)\n",
        "    if (speaker, receiver) in actor_network.edges():\n",
        "      actor_network.edges[(speaker, receiver)]['weight'] += 1"
      ],
      "metadata": {
        "colab": {
          "base_uri": "https://localhost:8080/",
          "height": 17
        },
        "id": "ErUJCobuLftT",
        "outputId": "c925fdaf-0cfc-4513-81b4-aafa18e81797"
      },
      "execution_count": 39,
      "outputs": [
        {
          "output_type": "display_data",
          "data": {
            "text/html": [
              "\n",
              "  <style>\n",
              "    pre {\n",
              "        white-space: pre-wrap;\n",
              "    }\n",
              "  </style>\n",
              "  "
            ],
            "text/plain": [
              "<IPython.core.display.HTML object>"
            ]
          },
          "metadata": {}
        }
      ]
    },
    {
      "cell_type": "code",
      "source": [
        "# not surprisingly, players within the same game talk to each other!\n",
        "nx.draw(actor_network, with_labels=True)"
      ],
      "metadata": {
        "colab": {
          "base_uri": "https://localhost:8080/",
          "height": 319
        },
        "id": "s5VHP9dJNa2i",
        "outputId": "3a2a178f-0859-47be-db58-dd85138acc30"
      },
      "execution_count": 42,
      "outputs": [
        {
          "output_type": "display_data",
          "data": {
            "text/html": [
              "\n",
              "  <style>\n",
              "    pre {\n",
              "        white-space: pre-wrap;\n",
              "    }\n",
              "  </style>\n",
              "  "
            ],
            "text/plain": [
              "<IPython.core.display.HTML object>"
            ]
          },
          "metadata": {}
        },
        {
          "output_type": "display_data",
          "data": {
            "image/png": "[encoded data removed]",
            "text/plain": [
              "<Figure size 432x288 with 1 Axes>"
            ]
          },
          "metadata": {}
        }
      ]
    },
    {
      "cell_type": "code",
      "source": [
        "L = []\n",
        "for node in actor_network.nodes():\n",
        "    l = []\n",
        "    for node_ in actor_network.nodes():\n",
        "        if node == node_ or (node, node_ ) not in actor_network.edges:\n",
        "            l.append(0)\n",
        "        else:\n",
        "            l.append(actor_network.edges[(node, node_)]['weight'])\n",
        "    L.append(l)\n",
        "M_ = np.array(L)\n",
        "fig = plt.figure()\n",
        "div = pd.DataFrame(M_, columns = list(actor_network.nodes()), index = list(actor_network.nodes()))\n",
        "ax = sns.heatmap(div)\n",
        "plt.show()\n"
      ],
      "metadata": {
        "colab": {
          "base_uri": "https://localhost:8080/",
          "height": 347
        },
        "id": "1IDNbgVJLTu9",
        "outputId": "61648503-6f99-4d35-c6de-265aa8891e7c"
      },
      "execution_count": 49,
      "outputs": [
        {
          "output_type": "display_data",
          "data": {
            "text/html": [
              "\n",
              "  <style>\n",
              "    pre {\n",
              "        white-space: pre-wrap;\n",
              "    }\n",
              "  </style>\n",
              "  "
            ],
            "text/plain": [
              "<IPython.core.display.HTML object>"
            ]
          },
          "metadata": {}
        },
        {
          "output_type": "display_data",
          "data": {
            "image/png": "[encoded data removed]",
            "text/plain": [
              "<Figure size 432x288 with 2 Axes>"
            ]
          },
          "metadata": {
            "needs_background": "light"
          }
        }
      ]
    },
    {
      "cell_type": "code",
      "source": [
        "from networkx.algorithms.community import greedy_modularity_communities\n",
        "c = list(greedy_modularity_communities(actor_network))"
      ],
      "metadata": {
        "colab": {
          "base_uri": "https://localhost:8080/",
          "height": 17
        },
        "id": "sSA45-b-OkNC",
        "outputId": "0e913b69-615d-426d-b270-f9764859a6ab"
      },
      "execution_count": 50,
      "outputs": [
        {
          "output_type": "display_data",
          "data": {
            "text/html": [
              "\n",
              "  <style>\n",
              "    pre {\n",
              "        white-space: pre-wrap;\n",
              "    }\n",
              "  </style>\n",
              "  "
            ],
            "text/plain": [
              "<IPython.core.display.HTML object>"
            ]
          },
          "metadata": {}
        }
      ]
    },
    {
      "cell_type": "code",
      "source": [
        "c"
      ],
      "metadata": {
        "colab": {
          "base_uri": "https://localhost:8080/",
          "height": 535
        },
        "id": "XqVbIIDIOxYt",
        "outputId": "fe71c8bd-f1e3-4a3f-a5eb-8209c28e775d"
      },
      "execution_count": 51,
      "outputs": [
        {
          "output_type": "display_data",
          "data": {
            "text/html": [
              "\n",
              "  <style>\n",
              "    pre {\n",
              "        white-space: pre-wrap;\n",
              "    }\n",
              "  </style>\n",
              "  "
            ],
            "text/plain": [
              "<IPython.core.display.HTML object>"
            ]
          },
          "metadata": {}
        },
        {
          "output_type": "execute_result",
          "data": {
            "text/plain": [
              "[frozenset({'austria-Game1',\n",
              "            'england-Game1',\n",
              "            'france-Game1',\n",
              "            'germany-Game1',\n",
              "            'italy-Game1',\n",
              "            'russia-Game1',\n",
              "            'turkey-Game1'}),\n",
              " frozenset({'austria-Game10',\n",
              "            'england-Game10',\n",
              "            'france-Game10',\n",
              "            'germany-Game10',\n",
              "            'italy-Game10',\n",
              "            'russia-Game10',\n",
              "            'turkey-Game10'}),\n",
              " frozenset({'austria-Game11',\n",
              "            'england-Game11',\n",
              "            'france-Game11',\n",
              "            'germany-Game11',\n",
              "            'italy-Game11',\n",
              "            'russia-Game11',\n",
              "            'turkey-Game11'}),\n",
              " frozenset({'austria-Game12',\n",
              "            'england-Game12',\n",
              "            'france-Game12',\n",
              "            'germany-Game12',\n",
              "            'italy-Game12',\n",
              "            'russia-Game12',\n",
              "            'turkey-Game12'})]"
            ]
          },
          "metadata": {},
          "execution_count": 51
        }
      ]
    },
    {
      "cell_type": "code",
      "source": [
        "dcentralities = nx.degree_centrality(actor_network)"
      ],
      "metadata": {
        "colab": {
          "base_uri": "https://localhost:8080/",
          "height": 17
        },
        "id": "uPDah28iPBDh",
        "outputId": "a2807cda-207d-4640-cf03-43fa007a1616"
      },
      "execution_count": 52,
      "outputs": [
        {
          "output_type": "display_data",
          "data": {
            "text/html": [
              "\n",
              "  <style>\n",
              "    pre {\n",
              "        white-space: pre-wrap;\n",
              "    }\n",
              "  </style>\n",
              "  "
            ],
            "text/plain": [
              "<IPython.core.display.HTML object>"
            ]
          },
          "metadata": {}
        }
      ]
    },
    {
      "cell_type": "code",
      "source": [
        "sample['meta.game_score'] = sample['meta.game_score'].astype('int')"
      ],
      "metadata": {
        "id": "66tQNpuKTEPf"
      },
      "execution_count": null,
      "outputs": []
    },
    {
      "cell_type": "code",
      "source": [
        "dic = sample.groupby('speaker')['meta.game_score'].mean()"
      ],
      "metadata": {
        "colab": {
          "base_uri": "https://localhost:8080/",
          "height": 17
        },
        "id": "BDJvGrdmR39w",
        "outputId": "3b5b75b8-e34a-43ff-dec0-72e9d859f47d"
      },
      "execution_count": 78,
      "outputs": [
        {
          "output_type": "display_data",
          "data": {
            "text/html": [
              "\n",
              "  <style>\n",
              "    pre {\n",
              "        white-space: pre-wrap;\n",
              "    }\n",
              "  </style>\n",
              "  "
            ],
            "text/plain": [
              "<IPython.core.display.HTML object>"
            ]
          },
          "metadata": {}
        }
      ]
    },
    {
      "cell_type": "code",
      "source": [
        "centrals = []\n",
        "game_scores = []\n",
        "for speaker in actor_network.nodes():\n",
        "  centrals.append(dcentralities[speaker])\n",
        "  game_scores.append(dic[speaker])"
      ],
      "metadata": {
        "colab": {
          "base_uri": "https://localhost:8080/",
          "height": 17
        },
        "id": "iKwEhuZdTaC9",
        "outputId": "7e9c80a4-b1fd-473a-8b6e-728fcbef7a5c"
      },
      "execution_count": 79,
      "outputs": [
        {
          "output_type": "display_data",
          "data": {
            "text/html": [
              "\n",
              "  <style>\n",
              "    pre {\n",
              "        white-space: pre-wrap;\n",
              "    }\n",
              "  </style>\n",
              "  "
            ],
            "text/plain": [
              "<IPython.core.display.HTML object>"
            ]
          },
          "metadata": {}
        }
      ]
    },
    {
      "cell_type": "code",
      "source": [
        "central_scores = pd.DataFrame({'game_scores': game_scores,\n",
        "                               'centrality': centrals, \n",
        "                               }, index=actor_network.nodes())"
      ],
      "metadata": {
        "colab": {
          "base_uri": "https://localhost:8080/",
          "height": 17
        },
        "id": "Cq7C5ma-TwOH",
        "outputId": "39b9d82f-0913-4e88-937e-5498df29541d"
      },
      "execution_count": 84,
      "outputs": [
        {
          "output_type": "display_data",
          "data": {
            "text/html": [
              "\n",
              "  <style>\n",
              "    pre {\n",
              "        white-space: pre-wrap;\n",
              "    }\n",
              "  </style>\n",
              "  "
            ],
            "text/plain": [
              "<IPython.core.display.HTML object>"
            ]
          },
          "metadata": {}
        }
      ]
    },
    {
      "cell_type": "code",
      "source": [
        "central_scores.head()"
      ],
      "metadata": {
        "colab": {
          "base_uri": "https://localhost:8080/",
          "height": 206
        },
        "id": "PYmV6ScNUOuV",
        "outputId": "1eefac7d-1784-49c1-87fa-fb20cab35013"
      },
      "execution_count": 86,
      "outputs": [
        {
          "output_type": "display_data",
          "data": {
            "text/html": [
              "\n",
              "  <style>\n",
              "    pre {\n",
              "        white-space: pre-wrap;\n",
              "    }\n",
              "  </style>\n",
              "  "
            ],
            "text/plain": [
              "<IPython.core.display.HTML object>"
            ]
          },
          "metadata": {}
        },
        {
          "output_type": "execute_result",
          "data": {
            "text/html": [
              "\n",
              "  <div id=\"df-3cf8c4cd-e88f-407a-bd7b-1528d55a2546\">\n",
              "    <div class=\"colab-df-container\">\n",
              "      <div>\n",
              "<style scoped>\n",
              "    .dataframe tbody tr th:only-of-type {\n",
              "        vertical-align: middle;\n",
              "    }\n",
              "\n",
              "    .dataframe tbody tr th {\n",
              "        vertical-align: top;\n",
              "    }\n",
              "\n",
              "    .dataframe thead th {\n",
              "        text-align: right;\n",
              "    }\n",
              "</style>\n",
              "<table border=\"1\" class=\"dataframe\">\n",
              "  <thead>\n",
              "    <tr style=\"text-align: right;\">\n",
              "      <th></th>\n",
              "      <th>game_scores</th>\n",
              "      <th>centrality</th>\n",
              "    </tr>\n",
              "  </thead>\n",
              "  <tbody>\n",
              "    <tr>\n",
              "      <th>italy-Game1</th>\n",
              "      <td>7.666179</td>\n",
              "      <td>0.222222</td>\n",
              "    </tr>\n",
              "    <tr>\n",
              "      <th>germany-Game1</th>\n",
              "      <td>5.534672</td>\n",
              "      <td>0.185185</td>\n",
              "    </tr>\n",
              "    <tr>\n",
              "      <th>austria-Game1</th>\n",
              "      <td>4.750000</td>\n",
              "      <td>0.222222</td>\n",
              "    </tr>\n",
              "    <tr>\n",
              "      <th>russia-Game1</th>\n",
              "      <td>5.339744</td>\n",
              "      <td>0.222222</td>\n",
              "    </tr>\n",
              "    <tr>\n",
              "      <th>england-Game1</th>\n",
              "      <td>4.830417</td>\n",
              "      <td>0.222222</td>\n",
              "    </tr>\n",
              "  </tbody>\n",
              "</table>\n",
              "</div>\n",
              "      <button class=\"colab-df-convert\" onclick=\"convertToInteractive('df-3cf8c4cd-e88f-407a-bd7b-1528d55a2546')\"\n",
              "              title=\"Convert this dataframe to an interactive table.\"\n",
              "              style=\"display:none;\">\n",
              "        \n",
              "  <svg xmlns=\"http://www.w3.org/2000/svg\" height=\"24px\"viewBox=\"0 0 24 24\"\n",
              "       width=\"24px\">\n",
              "    <path d=\"M0 0h24v24H0V0z\" fill=\"none\"/>\n",
              "    <path d=\"M18.56 5.44l.94 2.06.94-2.06 2.06-.94-2.06-.94-.94-2.06-.94 2.06-2.06.94zm-11 1L8.5 8.5l.94-2.06 2.06-.94-2.06-.94L8.5 2.5l-.94 2.06-2.06.94zm10 10l.94 2.06.94-2.06 2.06-.94-2.06-.94-.94-2.06-.94 2.06-2.06.94z\"/><path d=\"M17.41 7.96l-1.37-1.37c-.4-.4-.92-.59-1.43-.59-.52 0-1.04.2-1.43.59L10.3 9.45l-7.72 7.72c-.78.78-.78 2.05 0 2.83L4 21.41c.39.39.9.59 1.41.59.51 0 1.02-.2 1.41-.59l7.78-7.78 2.81-2.81c.8-.78.8-2.07 0-2.86zM5.41 20L4 18.59l7.72-7.72 1.47 1.35L5.41 20z\"/>\n",
              "  </svg>\n",
              "      </button>\n",
              "      \n",
              "  <style>\n",
              "    .colab-df-container {\n",
              "      display:flex;\n",
              "      flex-wrap:wrap;\n",
              "      gap: 12px;\n",
              "    }\n",
              "\n",
              "    .colab-df-convert {\n",
              "      background-color: #E8F0FE;\n",
              "      border: none;\n",
              "      border-radius: 50%;\n",
              "      cursor: pointer;\n",
              "      display: none;\n",
              "      fill: #1967D2;\n",
              "      height: 32px;\n",
              "      padding: 0 0 0 0;\n",
              "      width: 32px;\n",
              "    }\n",
              "\n",
              "    .colab-df-convert:hover {\n",
              "      background-color: #E2EBFA;\n",
              "      box-shadow: 0px 1px 2px rgba(60, 64, 67, 0.3), 0px 1px 3px 1px rgba(60, 64, 67, 0.15);\n",
              "      fill: #174EA6;\n",
              "    }\n",
              "\n",
              "    [theme=dark] .colab-df-convert {\n",
              "      background-color: #3B4455;\n",
              "      fill: #D2E3FC;\n",
              "    }\n",
              "\n",
              "    [theme=dark] .colab-df-convert:hover {\n",
              "      background-color: #434B5C;\n",
              "      box-shadow: 0px 1px 3px 1px rgba(0, 0, 0, 0.15);\n",
              "      filter: drop-shadow(0px 1px 2px rgba(0, 0, 0, 0.3));\n",
              "      fill: #FFFFFF;\n",
              "    }\n",
              "  </style>\n",
              "\n",
              "      <script>\n",
              "        const buttonEl =\n",
              "          document.querySelector('#df-3cf8c4cd-e88f-407a-bd7b-1528d55a2546 button.colab-df-convert');\n",
              "        buttonEl.style.display =\n",
              "          google.colab.kernel.accessAllowed ? 'block' : 'none';\n",
              "\n",
              "        async function convertToInteractive(key) {\n",
              "          const element = document.querySelector('#df-3cf8c4cd-e88f-407a-bd7b-1528d55a2546');\n",
              "          const dataTable =\n",
              "            await google.colab.kernel.invokeFunction('convertToInteractive',\n",
              "                                                     [key], {});\n",
              "          if (!dataTable) return;\n",
              "\n",
              "          const docLinkHtml = 'Like what you see? Visit the ' +\n",
              "            '<a target=\"_blank\" href=https://colab.research.google.com/notebooks/data_table.ipynb>data table notebook</a>'\n",
              "            + ' to learn more about interactive tables.';\n",
              "          element.innerHTML = '';\n",
              "          dataTable['output_type'] = 'display_data';\n",
              "          await google.colab.output.renderOutput(dataTable, element);\n",
              "          const docLink = document.createElement('div');\n",
              "          docLink.innerHTML = docLinkHtml;\n",
              "          element.appendChild(docLink);\n",
              "        }\n",
              "      </script>\n",
              "    </div>\n",
              "  </div>\n",
              "  "
            ],
            "text/plain": [
              "               game_scores  centrality\n",
              "italy-Game1       7.666179    0.222222\n",
              "germany-Game1     5.534672    0.185185\n",
              "austria-Game1     4.750000    0.222222\n",
              "russia-Game1      5.339744    0.222222\n",
              "england-Game1     4.830417    0.222222"
            ]
          },
          "metadata": {},
          "execution_count": 86
        }
      ]
    },
    {
      "cell_type": "code",
      "source": [
        "central_scores['centrality']"
      ],
      "metadata": {
        "id": "fSrppeFbUx61"
      },
      "execution_count": null,
      "outputs": []
    },
    {
      "cell_type": "code",
      "source": [
        "sns.scatterplot(x=game_scores, y=centrals, hue=centrals);"
      ],
      "metadata": {
        "colab": {
          "base_uri": "https://localhost:8080/",
          "height": 265
        },
        "id": "ICSgz2A9UZqi",
        "outputId": "66422331-df8f-48e2-c50e-d59c2d4182cc"
      },
      "execution_count": 93,
      "outputs": [
        {
          "output_type": "display_data",
          "data": {
            "text/html": [
              "\n",
              "  <style>\n",
              "    pre {\n",
              "        white-space: pre-wrap;\n",
              "    }\n",
              "  </style>\n",
              "  "
            ],
            "text/plain": [
              "<IPython.core.display.HTML object>"
            ]
          },
          "metadata": {}
        },
        {
          "output_type": "display_data",
          "data": {
            "image/png": "[encoded data removed]",
            "text/plain": [
              "<Figure size 432x288 with 1 Axes>"
            ]
          },
          "metadata": {
            "needs_background": "light"
          }
        }
      ]
    },
    {
      "cell_type": "markdown",
      "source": [
        "This scatter plot suggests that there seems to be a positive correlation between speaker's average game scores and their centrality in the networks: players talk to those with higher game scores more often!"
      ],
      "metadata": {
        "id": "HATAL4O_VV3r"
      }
    },
    {
      "cell_type": "code",
      "source": [
        "sample.iloc[1, :]['text']"
      ],
      "metadata": {
        "colab": {
          "base_uri": "https://localhost:8080/",
          "height": 36
        },
        "id": "wz-01TA6QOrL",
        "outputId": "23cc00b8-ab4f-4a63-cd40-7236ca6dedcb"
      },
      "execution_count": 62,
      "outputs": [
        {
          "output_type": "display_data",
          "data": {
            "text/html": [
              "\n",
              "  <style>\n",
              "    pre {\n",
              "        white-space: pre-wrap;\n",
              "    }\n",
              "  </style>\n",
              "  "
            ],
            "text/plain": [
              "<IPython.core.display.HTML object>"
            ]
          },
          "metadata": {}
        },
        {
          "output_type": "execute_result",
          "data": {
            "application/vnd.google.colaboratory.intrinsic+json": {
              "type": "string"
            },
            "text/plain": [
              "\"You've whet my appetite, Italy. What's the suggestion?\""
            ]
          },
          "metadata": {},
          "execution_count": 62
        }
      ]
    },
    {
      "cell_type": "code",
      "source": [
        "for character in actor_network.nodes():\n",
        "    sents = []\n",
        "    for i, row in sample.iterrows():\n",
        "      if row['speaker'] == character:\n",
        "        sents.append(row['text'])\n",
        "    actor_network.nodes[character]['words'] = sents"
      ],
      "metadata": {
        "colab": {
          "base_uri": "https://localhost:8080/",
          "height": 17
        },
        "id": "cpBjmg6ZPgZo",
        "outputId": "66c0c703-8c43-43c1-d7a2-14a76f504da3"
      },
      "execution_count": 63,
      "outputs": [
        {
          "output_type": "display_data",
          "data": {
            "text/html": [
              "\n",
              "  <style>\n",
              "    pre {\n",
              "        white-space: pre-wrap;\n",
              "    }\n",
              "  </style>\n",
              "  "
            ],
            "text/plain": [
              "<IPython.core.display.HTML object>"
            ]
          },
          "metadata": {}
        }
      ]
    },
    {
      "cell_type": "code",
      "source": [
        " corpora = []\n",
        " for character in actor_network.nodes():\n",
        "    character_words = []\n",
        "    for sentence in actor_network.nodes[character]['words']:\n",
        "        for word in sentence:\n",
        "            character_words.append(word)\n",
        "    corpora.append(lucem_illud.normalizeTokens(character_words))"
      ],
      "metadata": {
        "colab": {
          "base_uri": "https://localhost:8080/",
          "height": 17
        },
        "id": "aM5tJVlpQsAo",
        "outputId": "30133230-0177-45e1-b007-7b41e17a02fa"
      },
      "execution_count": 64,
      "outputs": [
        {
          "output_type": "display_data",
          "data": {
            "text/html": [
              "\n",
              "  <style>\n",
              "    pre {\n",
              "        white-space: pre-wrap;\n",
              "    }\n",
              "  </style>\n",
              "  "
            ],
            "text/plain": [
              "<IPython.core.display.HTML object>"
            ]
          },
          "metadata": {}
        }
      ]
    },
    {
      "cell_type": "code",
      "source": [
        "L = []\n",
        "for p in corpora:\n",
        "    l = []\n",
        "    for q in corpora:\n",
        "        l.append(Divergence(p,q, difference='KS'))\n",
        "    L.append(l)\n",
        "M = np.array(L)\n",
        "fig = plt.figure()\n",
        "div = pd.DataFrame(M, columns = list(actor_network.nodes()), index = list(actor_network.nodes()))\n",
        "ax = sns.heatmap(div)\n",
        "plt.show()"
      ],
      "metadata": {
        "colab": {
          "base_uri": "https://localhost:8080/",
          "height": 347
        },
        "id": "Lwc-5eZ_RBKK",
        "outputId": "478cb16a-c4eb-449d-f0c9-2ccae26059fa"
      },
      "execution_count": 65,
      "outputs": [
        {
          "output_type": "display_data",
          "data": {
            "text/html": [
              "\n",
              "  <style>\n",
              "    pre {\n",
              "        white-space: pre-wrap;\n",
              "    }\n",
              "  </style>\n",
              "  "
            ],
            "text/plain": [
              "<IPython.core.display.HTML object>"
            ]
          },
          "metadata": {}
        },
        {
          "output_type": "display_data",
          "data": {
            "image/png": "[encoded data removed]",
            "text/plain": [
              "<Figure size 432x288 with 2 Axes>"
            ]
          },
          "metadata": {
            "needs_background": "light"
          }
        }
      ]
    },
    {
      "cell_type": "code",
      "source": [
        "div"
      ],
      "metadata": {
        "colab": {
          "base_uri": "https://localhost:8080/",
          "height": 1000
        },
        "id": "WbEnr95MWzhz",
        "outputId": "d4357e0c-2bbb-49b9-e7bd-0381d181283f"
      },
      "execution_count": 104,
      "outputs": [
        {
          "output_type": "display_data",
          "data": {
            "text/html": [
              "\n",
              "  <style>\n",
              "    pre {\n",
              "        white-space: pre-wrap;\n",
              "    }\n",
              "  </style>\n",
              "  "
            ],
            "text/plain": [
              "<IPython.core.display.HTML object>"
            ]
          },
          "metadata": {}
        },
        {
          "output_type": "execute_result",
          "data": {
            "text/html": [
              "\n",
              "  <div id=\"df-954b072f-90a3-43f3-b709-bf9d76b17312\">\n",
              "    <div class=\"colab-df-container\">\n",
              "      <div>\n",
              "<style scoped>\n",
              "    .dataframe tbody tr th:only-of-type {\n",
              "        vertical-align: middle;\n",
              "    }\n",
              "\n",
              "    .dataframe tbody tr th {\n",
              "        vertical-align: top;\n",
              "    }\n",
              "\n",
              "    .dataframe thead th {\n",
              "        text-align: right;\n",
              "    }\n",
              "</style>\n",
              "<table border=\"1\" class=\"dataframe\">\n",
              "  <thead>\n",
              "    <tr style=\"text-align: right;\">\n",
              "      <th></th>\n",
              "      <th>italy-Game1</th>\n",
              "      <th>germany-Game1</th>\n",
              "      <th>austria-Game1</th>\n",
              "      <th>russia-Game1</th>\n",
              "      <th>england-Game1</th>\n",
              "      <th>turkey-Game1</th>\n",
              "      <th>france-Game1</th>\n",
              "      <th>italy-Game10</th>\n",
              "      <th>germany-Game10</th>\n",
              "      <th>austria-Game10</th>\n",
              "      <th>...</th>\n",
              "      <th>england-Game11</th>\n",
              "      <th>turkey-Game11</th>\n",
              "      <th>france-Game11</th>\n",
              "      <th>germany-Game12</th>\n",
              "      <th>italy-Game12</th>\n",
              "      <th>austria-Game12</th>\n",
              "      <th>russia-Game12</th>\n",
              "      <th>england-Game12</th>\n",
              "      <th>turkey-Game12</th>\n",
              "      <th>france-Game12</th>\n",
              "    </tr>\n",
              "  </thead>\n",
              "  <tbody>\n",
              "    <tr>\n",
              "      <th>italy-Game1</th>\n",
              "      <td>0.000000</td>\n",
              "      <td>0.274537</td>\n",
              "      <td>0.404255</td>\n",
              "      <td>0.330347</td>\n",
              "      <td>0.316948</td>\n",
              "      <td>0.446809</td>\n",
              "      <td>0.232791</td>\n",
              "      <td>0.425532</td>\n",
              "      <td>0.447695</td>\n",
              "      <td>0.328071</td>\n",
              "      <td>...</td>\n",
              "      <td>0.425532</td>\n",
              "      <td>0.276596</td>\n",
              "      <td>0.404255</td>\n",
              "      <td>0.425532</td>\n",
              "      <td>0.425532</td>\n",
              "      <td>0.468085</td>\n",
              "      <td>0.510638</td>\n",
              "      <td>0.468085</td>\n",
              "      <td>0.425532</td>\n",
              "      <td>0.425532</td>\n",
              "    </tr>\n",
              "    <tr>\n",
              "      <th>germany-Game1</th>\n",
              "      <td>0.274537</td>\n",
              "      <td>0.000000</td>\n",
              "      <td>0.580645</td>\n",
              "      <td>0.507640</td>\n",
              "      <td>0.136819</td>\n",
              "      <td>0.677419</td>\n",
              "      <td>0.227704</td>\n",
              "      <td>0.645161</td>\n",
              "      <td>0.465054</td>\n",
              "      <td>0.225806</td>\n",
              "      <td>...</td>\n",
              "      <td>0.645161</td>\n",
              "      <td>0.451613</td>\n",
              "      <td>0.580645</td>\n",
              "      <td>0.645161</td>\n",
              "      <td>0.645161</td>\n",
              "      <td>0.709677</td>\n",
              "      <td>0.741935</td>\n",
              "      <td>0.709677</td>\n",
              "      <td>0.645161</td>\n",
              "      <td>0.645161</td>\n",
              "    </tr>\n",
              "    <tr>\n",
              "      <th>austria-Game1</th>\n",
              "      <td>0.404255</td>\n",
              "      <td>0.580645</td>\n",
              "      <td>0.000000</td>\n",
              "      <td>0.273684</td>\n",
              "      <td>0.620690</td>\n",
              "      <td>0.760000</td>\n",
              "      <td>0.409412</td>\n",
              "      <td>0.280000</td>\n",
              "      <td>0.311667</td>\n",
              "      <td>0.500645</td>\n",
              "      <td>...</td>\n",
              "      <td>0.490769</td>\n",
              "      <td>0.260645</td>\n",
              "      <td>0.201250</td>\n",
              "      <td>0.595000</td>\n",
              "      <td>0.497778</td>\n",
              "      <td>0.800000</td>\n",
              "      <td>0.800000</td>\n",
              "      <td>0.800000</td>\n",
              "      <td>0.551667</td>\n",
              "      <td>0.720000</td>\n",
              "    </tr>\n",
              "    <tr>\n",
              "      <th>russia-Game1</th>\n",
              "      <td>0.330347</td>\n",
              "      <td>0.507640</td>\n",
              "      <td>0.273684</td>\n",
              "      <td>0.000000</td>\n",
              "      <td>0.568058</td>\n",
              "      <td>0.526316</td>\n",
              "      <td>0.371517</td>\n",
              "      <td>0.289474</td>\n",
              "      <td>0.364035</td>\n",
              "      <td>0.449066</td>\n",
              "      <td>...</td>\n",
              "      <td>0.344130</td>\n",
              "      <td>0.258913</td>\n",
              "      <td>0.098684</td>\n",
              "      <td>0.447368</td>\n",
              "      <td>0.336257</td>\n",
              "      <td>0.526316</td>\n",
              "      <td>0.552632</td>\n",
              "      <td>0.526316</td>\n",
              "      <td>0.421053</td>\n",
              "      <td>0.486316</td>\n",
              "    </tr>\n",
              "    <tr>\n",
              "      <th>england-Game1</th>\n",
              "      <td>0.316948</td>\n",
              "      <td>0.136819</td>\n",
              "      <td>0.620690</td>\n",
              "      <td>0.568058</td>\n",
              "      <td>0.000000</td>\n",
              "      <td>0.720159</td>\n",
              "      <td>0.326572</td>\n",
              "      <td>0.689655</td>\n",
              "      <td>0.551724</td>\n",
              "      <td>0.298109</td>\n",
              "      <td>...</td>\n",
              "      <td>0.689655</td>\n",
              "      <td>0.491657</td>\n",
              "      <td>0.620690</td>\n",
              "      <td>0.689655</td>\n",
              "      <td>0.689655</td>\n",
              "      <td>0.758621</td>\n",
              "      <td>0.793103</td>\n",
              "      <td>0.758621</td>\n",
              "      <td>0.689655</td>\n",
              "      <td>0.689655</td>\n",
              "    </tr>\n",
              "    <tr>\n",
              "      <th>turkey-Game1</th>\n",
              "      <td>0.446809</td>\n",
              "      <td>0.677419</td>\n",
              "      <td>0.760000</td>\n",
              "      <td>0.526316</td>\n",
              "      <td>0.720159</td>\n",
              "      <td>0.000000</td>\n",
              "      <td>0.588235</td>\n",
              "      <td>0.641538</td>\n",
              "      <td>0.833333</td>\n",
              "      <td>0.645161</td>\n",
              "      <td>...</td>\n",
              "      <td>0.500000</td>\n",
              "      <td>0.645161</td>\n",
              "      <td>0.625000</td>\n",
              "      <td>0.403846</td>\n",
              "      <td>0.440171</td>\n",
              "      <td>0.250916</td>\n",
              "      <td>0.481781</td>\n",
              "      <td>0.250916</td>\n",
              "      <td>0.403846</td>\n",
              "      <td>0.255385</td>\n",
              "    </tr>\n",
              "    <tr>\n",
              "      <th>france-Game1</th>\n",
              "      <td>0.232791</td>\n",
              "      <td>0.227704</td>\n",
              "      <td>0.409412</td>\n",
              "      <td>0.371517</td>\n",
              "      <td>0.326572</td>\n",
              "      <td>0.588235</td>\n",
              "      <td>0.000000</td>\n",
              "      <td>0.529412</td>\n",
              "      <td>0.281863</td>\n",
              "      <td>0.168880</td>\n",
              "      <td>...</td>\n",
              "      <td>0.588235</td>\n",
              "      <td>0.239089</td>\n",
              "      <td>0.404412</td>\n",
              "      <td>0.588235</td>\n",
              "      <td>0.588235</td>\n",
              "      <td>0.588235</td>\n",
              "      <td>0.647059</td>\n",
              "      <td>0.588235</td>\n",
              "      <td>0.588235</td>\n",
              "      <td>0.588235</td>\n",
              "    </tr>\n",
              "    <tr>\n",
              "      <th>italy-Game10</th>\n",
              "      <td>0.425532</td>\n",
              "      <td>0.645161</td>\n",
              "      <td>0.280000</td>\n",
              "      <td>0.289474</td>\n",
              "      <td>0.689655</td>\n",
              "      <td>0.641538</td>\n",
              "      <td>0.529412</td>\n",
              "      <td>0.000000</td>\n",
              "      <td>0.471667</td>\n",
              "      <td>0.612903</td>\n",
              "      <td>...</td>\n",
              "      <td>0.293846</td>\n",
              "      <td>0.420645</td>\n",
              "      <td>0.250000</td>\n",
              "      <td>0.430000</td>\n",
              "      <td>0.309630</td>\n",
              "      <td>0.760000</td>\n",
              "      <td>0.800000</td>\n",
              "      <td>0.760000</td>\n",
              "      <td>0.350000</td>\n",
              "      <td>0.560000</td>\n",
              "    </tr>\n",
              "    <tr>\n",
              "      <th>germany-Game10</th>\n",
              "      <td>0.447695</td>\n",
              "      <td>0.465054</td>\n",
              "      <td>0.311667</td>\n",
              "      <td>0.364035</td>\n",
              "      <td>0.551724</td>\n",
              "      <td>0.833333</td>\n",
              "      <td>0.281863</td>\n",
              "      <td>0.471667</td>\n",
              "      <td>0.000000</td>\n",
              "      <td>0.413978</td>\n",
              "      <td>...</td>\n",
              "      <td>0.637821</td>\n",
              "      <td>0.271505</td>\n",
              "      <td>0.354167</td>\n",
              "      <td>0.750000</td>\n",
              "      <td>0.638889</td>\n",
              "      <td>0.833333</td>\n",
              "      <td>0.833333</td>\n",
              "      <td>0.833333</td>\n",
              "      <td>0.708333</td>\n",
              "      <td>0.791667</td>\n",
              "    </tr>\n",
              "    <tr>\n",
              "      <th>austria-Game10</th>\n",
              "      <td>0.328071</td>\n",
              "      <td>0.225806</td>\n",
              "      <td>0.500645</td>\n",
              "      <td>0.449066</td>\n",
              "      <td>0.298109</td>\n",
              "      <td>0.645161</td>\n",
              "      <td>0.168880</td>\n",
              "      <td>0.612903</td>\n",
              "      <td>0.413978</td>\n",
              "      <td>0.000000</td>\n",
              "      <td>...</td>\n",
              "      <td>0.645161</td>\n",
              "      <td>0.322581</td>\n",
              "      <td>0.487903</td>\n",
              "      <td>0.645161</td>\n",
              "      <td>0.645161</td>\n",
              "      <td>0.645161</td>\n",
              "      <td>0.741935</td>\n",
              "      <td>0.677419</td>\n",
              "      <td>0.645161</td>\n",
              "      <td>0.645161</td>\n",
              "    </tr>\n",
              "    <tr>\n",
              "      <th>russia-Game10</th>\n",
              "      <td>0.404255</td>\n",
              "      <td>0.580645</td>\n",
              "      <td>0.134286</td>\n",
              "      <td>0.204887</td>\n",
              "      <td>0.620690</td>\n",
              "      <td>0.714286</td>\n",
              "      <td>0.392857</td>\n",
              "      <td>0.247143</td>\n",
              "      <td>0.291667</td>\n",
              "      <td>0.473502</td>\n",
              "      <td>...</td>\n",
              "      <td>0.453297</td>\n",
              "      <td>0.226959</td>\n",
              "      <td>0.160714</td>\n",
              "      <td>0.529762</td>\n",
              "      <td>0.420635</td>\n",
              "      <td>0.714286</td>\n",
              "      <td>0.714286</td>\n",
              "      <td>0.714286</td>\n",
              "      <td>0.482143</td>\n",
              "      <td>0.678571</td>\n",
              "    </tr>\n",
              "    <tr>\n",
              "      <th>england-Game10</th>\n",
              "      <td>0.404255</td>\n",
              "      <td>0.548387</td>\n",
              "      <td>0.212308</td>\n",
              "      <td>0.277328</td>\n",
              "      <td>0.620690</td>\n",
              "      <td>0.730769</td>\n",
              "      <td>0.375566</td>\n",
              "      <td>0.412308</td>\n",
              "      <td>0.166667</td>\n",
              "      <td>0.426799</td>\n",
              "      <td>...</td>\n",
              "      <td>0.538462</td>\n",
              "      <td>0.169975</td>\n",
              "      <td>0.254808</td>\n",
              "      <td>0.692308</td>\n",
              "      <td>0.581197</td>\n",
              "      <td>0.769231</td>\n",
              "      <td>0.769231</td>\n",
              "      <td>0.769231</td>\n",
              "      <td>0.608974</td>\n",
              "      <td>0.692308</td>\n",
              "    </tr>\n",
              "    <tr>\n",
              "      <th>turkey-Game10</th>\n",
              "      <td>0.446809</td>\n",
              "      <td>0.677419</td>\n",
              "      <td>0.760000</td>\n",
              "      <td>0.526316</td>\n",
              "      <td>0.713166</td>\n",
              "      <td>0.234266</td>\n",
              "      <td>0.588235</td>\n",
              "      <td>0.640000</td>\n",
              "      <td>0.833333</td>\n",
              "      <td>0.645161</td>\n",
              "      <td>...</td>\n",
              "      <td>0.472028</td>\n",
              "      <td>0.645161</td>\n",
              "      <td>0.625000</td>\n",
              "      <td>0.348485</td>\n",
              "      <td>0.419192</td>\n",
              "      <td>0.296537</td>\n",
              "      <td>0.653110</td>\n",
              "      <td>0.391775</td>\n",
              "      <td>0.405303</td>\n",
              "      <td>0.183636</td>\n",
              "    </tr>\n",
              "    <tr>\n",
              "      <th>france-Game10</th>\n",
              "      <td>0.425532</td>\n",
              "      <td>0.645161</td>\n",
              "      <td>0.506087</td>\n",
              "      <td>0.403890</td>\n",
              "      <td>0.689655</td>\n",
              "      <td>0.484950</td>\n",
              "      <td>0.588235</td>\n",
              "      <td>0.335652</td>\n",
              "      <td>0.704710</td>\n",
              "      <td>0.645161</td>\n",
              "      <td>...</td>\n",
              "      <td>0.192308</td>\n",
              "      <td>0.580645</td>\n",
              "      <td>0.394022</td>\n",
              "      <td>0.233696</td>\n",
              "      <td>0.202899</td>\n",
              "      <td>0.608696</td>\n",
              "      <td>0.869565</td>\n",
              "      <td>0.683230</td>\n",
              "      <td>0.231884</td>\n",
              "      <td>0.405217</td>\n",
              "    </tr>\n",
              "    <tr>\n",
              "      <th>germany-Game11</th>\n",
              "      <td>0.412439</td>\n",
              "      <td>0.291563</td>\n",
              "      <td>0.455385</td>\n",
              "      <td>0.404858</td>\n",
              "      <td>0.393899</td>\n",
              "      <td>0.769231</td>\n",
              "      <td>0.246606</td>\n",
              "      <td>0.572308</td>\n",
              "      <td>0.256410</td>\n",
              "      <td>0.169975</td>\n",
              "      <td>...</td>\n",
              "      <td>0.692308</td>\n",
              "      <td>0.239454</td>\n",
              "      <td>0.459135</td>\n",
              "      <td>0.769231</td>\n",
              "      <td>0.692308</td>\n",
              "      <td>0.769231</td>\n",
              "      <td>0.846154</td>\n",
              "      <td>0.769231</td>\n",
              "      <td>0.769231</td>\n",
              "      <td>0.769231</td>\n",
              "    </tr>\n",
              "    <tr>\n",
              "      <th>italy-Game11</th>\n",
              "      <td>0.447695</td>\n",
              "      <td>0.381720</td>\n",
              "      <td>0.430000</td>\n",
              "      <td>0.434211</td>\n",
              "      <td>0.495690</td>\n",
              "      <td>0.833333</td>\n",
              "      <td>0.245098</td>\n",
              "      <td>0.590000</td>\n",
              "      <td>0.250000</td>\n",
              "      <td>0.233871</td>\n",
              "      <td>...</td>\n",
              "      <td>0.711538</td>\n",
              "      <td>0.258065</td>\n",
              "      <td>0.406250</td>\n",
              "      <td>0.750000</td>\n",
              "      <td>0.708333</td>\n",
              "      <td>0.833333</td>\n",
              "      <td>0.833333</td>\n",
              "      <td>0.833333</td>\n",
              "      <td>0.750000</td>\n",
              "      <td>0.833333</td>\n",
              "    </tr>\n",
              "    <tr>\n",
              "      <th>austria-Game11</th>\n",
              "      <td>0.373977</td>\n",
              "      <td>0.465261</td>\n",
              "      <td>0.292308</td>\n",
              "      <td>0.295547</td>\n",
              "      <td>0.505305</td>\n",
              "      <td>0.769231</td>\n",
              "      <td>0.237557</td>\n",
              "      <td>0.452308</td>\n",
              "      <td>0.141026</td>\n",
              "      <td>0.330025</td>\n",
              "      <td>...</td>\n",
              "      <td>0.615385</td>\n",
              "      <td>0.162531</td>\n",
              "      <td>0.298077</td>\n",
              "      <td>0.730769</td>\n",
              "      <td>0.619658</td>\n",
              "      <td>0.769231</td>\n",
              "      <td>0.807692</td>\n",
              "      <td>0.769231</td>\n",
              "      <td>0.653846</td>\n",
              "      <td>0.769231</td>\n",
              "    </tr>\n",
              "    <tr>\n",
              "      <th>russia-Game11</th>\n",
              "      <td>0.425532</td>\n",
              "      <td>0.645161</td>\n",
              "      <td>0.594545</td>\n",
              "      <td>0.473684</td>\n",
              "      <td>0.689655</td>\n",
              "      <td>0.388112</td>\n",
              "      <td>0.588235</td>\n",
              "      <td>0.412727</td>\n",
              "      <td>0.791667</td>\n",
              "      <td>0.645161</td>\n",
              "      <td>...</td>\n",
              "      <td>0.199301</td>\n",
              "      <td>0.612903</td>\n",
              "      <td>0.454545</td>\n",
              "      <td>0.083333</td>\n",
              "      <td>0.191919</td>\n",
              "      <td>0.495671</td>\n",
              "      <td>0.772727</td>\n",
              "      <td>0.629870</td>\n",
              "      <td>0.132576</td>\n",
              "      <td>0.243636</td>\n",
              "    </tr>\n",
              "    <tr>\n",
              "      <th>england-Game11</th>\n",
              "      <td>0.425532</td>\n",
              "      <td>0.645161</td>\n",
              "      <td>0.490769</td>\n",
              "      <td>0.344130</td>\n",
              "      <td>0.689655</td>\n",
              "      <td>0.500000</td>\n",
              "      <td>0.588235</td>\n",
              "      <td>0.293846</td>\n",
              "      <td>0.637821</td>\n",
              "      <td>0.645161</td>\n",
              "      <td>...</td>\n",
              "      <td>0.000000</td>\n",
              "      <td>0.542184</td>\n",
              "      <td>0.377404</td>\n",
              "      <td>0.205128</td>\n",
              "      <td>0.102564</td>\n",
              "      <td>0.597070</td>\n",
              "      <td>0.730769</td>\n",
              "      <td>0.692308</td>\n",
              "      <td>0.205128</td>\n",
              "      <td>0.380000</td>\n",
              "    </tr>\n",
              "    <tr>\n",
              "      <th>turkey-Game11</th>\n",
              "      <td>0.276596</td>\n",
              "      <td>0.451613</td>\n",
              "      <td>0.260645</td>\n",
              "      <td>0.258913</td>\n",
              "      <td>0.491657</td>\n",
              "      <td>0.645161</td>\n",
              "      <td>0.239089</td>\n",
              "      <td>0.420645</td>\n",
              "      <td>0.271505</td>\n",
              "      <td>0.322581</td>\n",
              "      <td>...</td>\n",
              "      <td>0.542184</td>\n",
              "      <td>0.000000</td>\n",
              "      <td>0.262097</td>\n",
              "      <td>0.612903</td>\n",
              "      <td>0.516129</td>\n",
              "      <td>0.645161</td>\n",
              "      <td>0.645161</td>\n",
              "      <td>0.645161</td>\n",
              "      <td>0.580645</td>\n",
              "      <td>0.645161</td>\n",
              "    </tr>\n",
              "    <tr>\n",
              "      <th>france-Game11</th>\n",
              "      <td>0.404255</td>\n",
              "      <td>0.580645</td>\n",
              "      <td>0.201250</td>\n",
              "      <td>0.098684</td>\n",
              "      <td>0.620690</td>\n",
              "      <td>0.625000</td>\n",
              "      <td>0.404412</td>\n",
              "      <td>0.250000</td>\n",
              "      <td>0.354167</td>\n",
              "      <td>0.487903</td>\n",
              "      <td>...</td>\n",
              "      <td>0.377404</td>\n",
              "      <td>0.262097</td>\n",
              "      <td>0.000000</td>\n",
              "      <td>0.458333</td>\n",
              "      <td>0.343750</td>\n",
              "      <td>0.625000</td>\n",
              "      <td>0.625000</td>\n",
              "      <td>0.625000</td>\n",
              "      <td>0.406250</td>\n",
              "      <td>0.553750</td>\n",
              "    </tr>\n",
              "    <tr>\n",
              "      <th>germany-Game12</th>\n",
              "      <td>0.425532</td>\n",
              "      <td>0.645161</td>\n",
              "      <td>0.595000</td>\n",
              "      <td>0.447368</td>\n",
              "      <td>0.689655</td>\n",
              "      <td>0.403846</td>\n",
              "      <td>0.588235</td>\n",
              "      <td>0.430000</td>\n",
              "      <td>0.750000</td>\n",
              "      <td>0.645161</td>\n",
              "      <td>...</td>\n",
              "      <td>0.205128</td>\n",
              "      <td>0.612903</td>\n",
              "      <td>0.458333</td>\n",
              "      <td>0.000000</td>\n",
              "      <td>0.180556</td>\n",
              "      <td>0.571429</td>\n",
              "      <td>0.750000</td>\n",
              "      <td>0.607143</td>\n",
              "      <td>0.166667</td>\n",
              "      <td>0.266667</td>\n",
              "    </tr>\n",
              "    <tr>\n",
              "      <th>italy-Game12</th>\n",
              "      <td>0.425532</td>\n",
              "      <td>0.645161</td>\n",
              "      <td>0.497778</td>\n",
              "      <td>0.336257</td>\n",
              "      <td>0.689655</td>\n",
              "      <td>0.440171</td>\n",
              "      <td>0.588235</td>\n",
              "      <td>0.309630</td>\n",
              "      <td>0.638889</td>\n",
              "      <td>0.645161</td>\n",
              "      <td>...</td>\n",
              "      <td>0.102564</td>\n",
              "      <td>0.516129</td>\n",
              "      <td>0.343750</td>\n",
              "      <td>0.180556</td>\n",
              "      <td>0.000000</td>\n",
              "      <td>0.571429</td>\n",
              "      <td>0.666667</td>\n",
              "      <td>0.592593</td>\n",
              "      <td>0.166667</td>\n",
              "      <td>0.355556</td>\n",
              "    </tr>\n",
              "    <tr>\n",
              "      <th>austria-Game12</th>\n",
              "      <td>0.468085</td>\n",
              "      <td>0.709677</td>\n",
              "      <td>0.800000</td>\n",
              "      <td>0.526316</td>\n",
              "      <td>0.758621</td>\n",
              "      <td>0.250916</td>\n",
              "      <td>0.588235</td>\n",
              "      <td>0.760000</td>\n",
              "      <td>0.833333</td>\n",
              "      <td>0.645161</td>\n",
              "      <td>...</td>\n",
              "      <td>0.597070</td>\n",
              "      <td>0.645161</td>\n",
              "      <td>0.625000</td>\n",
              "      <td>0.571429</td>\n",
              "      <td>0.571429</td>\n",
              "      <td>0.000000</td>\n",
              "      <td>0.408521</td>\n",
              "      <td>0.190476</td>\n",
              "      <td>0.571429</td>\n",
              "      <td>0.320000</td>\n",
              "    </tr>\n",
              "    <tr>\n",
              "      <th>russia-Game12</th>\n",
              "      <td>0.510638</td>\n",
              "      <td>0.741935</td>\n",
              "      <td>0.800000</td>\n",
              "      <td>0.552632</td>\n",
              "      <td>0.793103</td>\n",
              "      <td>0.481781</td>\n",
              "      <td>0.647059</td>\n",
              "      <td>0.800000</td>\n",
              "      <td>0.833333</td>\n",
              "      <td>0.741935</td>\n",
              "      <td>...</td>\n",
              "      <td>0.730769</td>\n",
              "      <td>0.645161</td>\n",
              "      <td>0.625000</td>\n",
              "      <td>0.750000</td>\n",
              "      <td>0.666667</td>\n",
              "      <td>0.408521</td>\n",
              "      <td>0.000000</td>\n",
              "      <td>0.350877</td>\n",
              "      <td>0.750000</td>\n",
              "      <td>0.640000</td>\n",
              "    </tr>\n",
              "    <tr>\n",
              "      <th>england-Game12</th>\n",
              "      <td>0.468085</td>\n",
              "      <td>0.709677</td>\n",
              "      <td>0.800000</td>\n",
              "      <td>0.526316</td>\n",
              "      <td>0.758621</td>\n",
              "      <td>0.250916</td>\n",
              "      <td>0.588235</td>\n",
              "      <td>0.760000</td>\n",
              "      <td>0.833333</td>\n",
              "      <td>0.677419</td>\n",
              "      <td>...</td>\n",
              "      <td>0.692308</td>\n",
              "      <td>0.645161</td>\n",
              "      <td>0.625000</td>\n",
              "      <td>0.607143</td>\n",
              "      <td>0.592593</td>\n",
              "      <td>0.190476</td>\n",
              "      <td>0.350877</td>\n",
              "      <td>0.000000</td>\n",
              "      <td>0.607143</td>\n",
              "      <td>0.417143</td>\n",
              "    </tr>\n",
              "    <tr>\n",
              "      <th>turkey-Game12</th>\n",
              "      <td>0.425532</td>\n",
              "      <td>0.645161</td>\n",
              "      <td>0.551667</td>\n",
              "      <td>0.421053</td>\n",
              "      <td>0.689655</td>\n",
              "      <td>0.403846</td>\n",
              "      <td>0.588235</td>\n",
              "      <td>0.350000</td>\n",
              "      <td>0.708333</td>\n",
              "      <td>0.645161</td>\n",
              "      <td>...</td>\n",
              "      <td>0.205128</td>\n",
              "      <td>0.580645</td>\n",
              "      <td>0.406250</td>\n",
              "      <td>0.166667</td>\n",
              "      <td>0.166667</td>\n",
              "      <td>0.571429</td>\n",
              "      <td>0.750000</td>\n",
              "      <td>0.607143</td>\n",
              "      <td>0.000000</td>\n",
              "      <td>0.300000</td>\n",
              "    </tr>\n",
              "    <tr>\n",
              "      <th>france-Game12</th>\n",
              "      <td>0.425532</td>\n",
              "      <td>0.645161</td>\n",
              "      <td>0.720000</td>\n",
              "      <td>0.486316</td>\n",
              "      <td>0.689655</td>\n",
              "      <td>0.255385</td>\n",
              "      <td>0.588235</td>\n",
              "      <td>0.560000</td>\n",
              "      <td>0.791667</td>\n",
              "      <td>0.645161</td>\n",
              "      <td>...</td>\n",
              "      <td>0.380000</td>\n",
              "      <td>0.645161</td>\n",
              "      <td>0.553750</td>\n",
              "      <td>0.266667</td>\n",
              "      <td>0.355556</td>\n",
              "      <td>0.320000</td>\n",
              "      <td>0.640000</td>\n",
              "      <td>0.417143</td>\n",
              "      <td>0.300000</td>\n",
              "      <td>0.000000</td>\n",
              "    </tr>\n",
              "  </tbody>\n",
              "</table>\n",
              "<p>28 rows × 28 columns</p>\n",
              "</div>\n",
              "      <button class=\"colab-df-convert\" onclick=\"convertToInteractive('df-954b072f-90a3-43f3-b709-bf9d76b17312')\"\n",
              "              title=\"Convert this dataframe to an interactive table.\"\n",
              "              style=\"display:none;\">\n",
              "        \n",
              "  <svg xmlns=\"http://www.w3.org/2000/svg\" height=\"24px\"viewBox=\"0 0 24 24\"\n",
              "       width=\"24px\">\n",
              "    <path d=\"M0 0h24v24H0V0z\" fill=\"none\"/>\n",
              "    <path d=\"M18.56 5.44l.94 2.06.94-2.06 2.06-.94-2.06-.94-.94-2.06-.94 2.06-2.06.94zm-11 1L8.5 8.5l.94-2.06 2.06-.94-2.06-.94L8.5 2.5l-.94 2.06-2.06.94zm10 10l.94 2.06.94-2.06 2.06-.94-2.06-.94-.94-2.06-.94 2.06-2.06.94z\"/><path d=\"M17.41 7.96l-1.37-1.37c-.4-.4-.92-.59-1.43-.59-.52 0-1.04.2-1.43.59L10.3 9.45l-7.72 7.72c-.78.78-.78 2.05 0 2.83L4 21.41c.39.39.9.59 1.41.59.51 0 1.02-.2 1.41-.59l7.78-7.78 2.81-2.81c.8-.78.8-2.07 0-2.86zM5.41 20L4 18.59l7.72-7.72 1.47 1.35L5.41 20z\"/>\n",
              "  </svg>\n",
              "      </button>\n",
              "      \n",
              "  <style>\n",
              "    .colab-df-container {\n",
              "      display:flex;\n",
              "      flex-wrap:wrap;\n",
              "      gap: 12px;\n",
              "    }\n",
              "\n",
              "    .colab-df-convert {\n",
              "      background-color: #E8F0FE;\n",
              "      border: none;\n",
              "      border-radius: 50%;\n",
              "      cursor: pointer;\n",
              "      display: none;\n",
              "      fill: #1967D2;\n",
              "      height: 32px;\n",
              "      padding: 0 0 0 0;\n",
              "      width: 32px;\n",
              "    }\n",
              "\n",
              "    .colab-df-convert:hover {\n",
              "      background-color: #E2EBFA;\n",
              "      box-shadow: 0px 1px 2px rgba(60, 64, 67, 0.3), 0px 1px 3px 1px rgba(60, 64, 67, 0.15);\n",
              "      fill: #174EA6;\n",
              "    }\n",
              "\n",
              "    [theme=dark] .colab-df-convert {\n",
              "      background-color: #3B4455;\n",
              "      fill: #D2E3FC;\n",
              "    }\n",
              "\n",
              "    [theme=dark] .colab-df-convert:hover {\n",
              "      background-color: #434B5C;\n",
              "      box-shadow: 0px 1px 3px 1px rgba(0, 0, 0, 0.15);\n",
              "      filter: drop-shadow(0px 1px 2px rgba(0, 0, 0, 0.3));\n",
              "      fill: #FFFFFF;\n",
              "    }\n",
              "  </style>\n",
              "\n",
              "      <script>\n",
              "        const buttonEl =\n",
              "          document.querySelector('#df-954b072f-90a3-43f3-b709-bf9d76b17312 button.colab-df-convert');\n",
              "        buttonEl.style.display =\n",
              "          google.colab.kernel.accessAllowed ? 'block' : 'none';\n",
              "\n",
              "        async function convertToInteractive(key) {\n",
              "          const element = document.querySelector('#df-954b072f-90a3-43f3-b709-bf9d76b17312');\n",
              "          const dataTable =\n",
              "            await google.colab.kernel.invokeFunction('convertToInteractive',\n",
              "                                                     [key], {});\n",
              "          if (!dataTable) return;\n",
              "\n",
              "          const docLinkHtml = 'Like what you see? Visit the ' +\n",
              "            '<a target=\"_blank\" href=https://colab.research.google.com/notebooks/data_table.ipynb>data table notebook</a>'\n",
              "            + ' to learn more about interactive tables.';\n",
              "          element.innerHTML = '';\n",
              "          dataTable['output_type'] = 'display_data';\n",
              "          await google.colab.output.renderOutput(dataTable, element);\n",
              "          const docLink = document.createElement('div');\n",
              "          docLink.innerHTML = docLinkHtml;\n",
              "          element.appendChild(docLink);\n",
              "        }\n",
              "      </script>\n",
              "    </div>\n",
              "  </div>\n",
              "  "
            ],
            "text/plain": [
              "                italy-Game1  germany-Game1  austria-Game1  russia-Game1  \\\n",
              "italy-Game1        0.000000       0.274537       0.404255      0.330347   \n",
              "germany-Game1      0.274537       0.000000       0.580645      0.507640   \n",
              "austria-Game1      0.404255       0.580645       0.000000      0.273684   \n",
              "russia-Game1       0.330347       0.507640       0.273684      0.000000   \n",
              "england-Game1      0.316948       0.136819       0.620690      0.568058   \n",
              "turkey-Game1       0.446809       0.677419       0.760000      0.526316   \n",
              "france-Game1       0.232791       0.227704       0.409412      0.371517   \n",
              "italy-Game10       0.425532       0.645161       0.280000      0.289474   \n",
              "germany-Game10     0.447695       0.465054       0.311667      0.364035   \n",
              "austria-Game10     0.328071       0.225806       0.500645      0.449066   \n",
              "russia-Game10      0.404255       0.580645       0.134286      0.204887   \n",
              "england-Game10     0.404255       0.548387       0.212308      0.277328   \n",
              "turkey-Game10      0.446809       0.677419       0.760000      0.526316   \n",
              "france-Game10      0.425532       0.645161       0.506087      0.403890   \n",
              "germany-Game11     0.412439       0.291563       0.455385      0.404858   \n",
              "italy-Game11       0.447695       0.381720       0.430000      0.434211   \n",
              "austria-Game11     0.373977       0.465261       0.292308      0.295547   \n",
              "russia-Game11      0.425532       0.645161       0.594545      0.473684   \n",
              "england-Game11     0.425532       0.645161       0.490769      0.344130   \n",
              "turkey-Game11      0.276596       0.451613       0.260645      0.258913   \n",
              "france-Game11      0.404255       0.580645       0.201250      0.098684   \n",
              "germany-Game12     0.425532       0.645161       0.595000      0.447368   \n",
              "italy-Game12       0.425532       0.645161       0.497778      0.336257   \n",
              "austria-Game12     0.468085       0.709677       0.800000      0.526316   \n",
              "russia-Game12      0.510638       0.741935       0.800000      0.552632   \n",
              "england-Game12     0.468085       0.709677       0.800000      0.526316   \n",
              "turkey-Game12      0.425532       0.645161       0.551667      0.421053   \n",
              "france-Game12      0.425532       0.645161       0.720000      0.486316   \n",
              "\n",
              "                england-Game1  turkey-Game1  france-Game1  italy-Game10  \\\n",
              "italy-Game1          0.316948      0.446809      0.232791      0.425532   \n",
              "germany-Game1        0.136819      0.677419      0.227704      0.645161   \n",
              "austria-Game1        0.620690      0.760000      0.409412      0.280000   \n",
              "russia-Game1         0.568058      0.526316      0.371517      0.289474   \n",
              "england-Game1        0.000000      0.720159      0.326572      0.689655   \n",
              "turkey-Game1         0.720159      0.000000      0.588235      0.641538   \n",
              "france-Game1         0.326572      0.588235      0.000000      0.529412   \n",
              "italy-Game10         0.689655      0.641538      0.529412      0.000000   \n",
              "germany-Game10       0.551724      0.833333      0.281863      0.471667   \n",
              "austria-Game10       0.298109      0.645161      0.168880      0.612903   \n",
              "russia-Game10        0.620690      0.714286      0.392857      0.247143   \n",
              "england-Game10       0.620690      0.730769      0.375566      0.412308   \n",
              "turkey-Game10        0.713166      0.234266      0.588235      0.640000   \n",
              "france-Game10        0.689655      0.484950      0.588235      0.335652   \n",
              "germany-Game11       0.393899      0.769231      0.246606      0.572308   \n",
              "italy-Game11         0.495690      0.833333      0.245098      0.590000   \n",
              "austria-Game11       0.505305      0.769231      0.237557      0.452308   \n",
              "russia-Game11        0.689655      0.388112      0.588235      0.412727   \n",
              "england-Game11       0.689655      0.500000      0.588235      0.293846   \n",
              "turkey-Game11        0.491657      0.645161      0.239089      0.420645   \n",
              "france-Game11        0.620690      0.625000      0.404412      0.250000   \n",
              "germany-Game12       0.689655      0.403846      0.588235      0.430000   \n",
              "italy-Game12         0.689655      0.440171      0.588235      0.309630   \n",
              "austria-Game12       0.758621      0.250916      0.588235      0.760000   \n",
              "russia-Game12        0.793103      0.481781      0.647059      0.800000   \n",
              "england-Game12       0.758621      0.250916      0.588235      0.760000   \n",
              "turkey-Game12        0.689655      0.403846      0.588235      0.350000   \n",
              "france-Game12        0.689655      0.255385      0.588235      0.560000   \n",
              "\n",
              "                germany-Game10  austria-Game10  ...  england-Game11  \\\n",
              "italy-Game1           0.447695        0.328071  ...        0.425532   \n",
              "germany-Game1         0.465054        0.225806  ...        0.645161   \n",
              "austria-Game1         0.311667        0.500645  ...        0.490769   \n",
              "russia-Game1          0.364035        0.449066  ...        0.344130   \n",
              "england-Game1         0.551724        0.298109  ...        0.689655   \n",
              "turkey-Game1          0.833333        0.645161  ...        0.500000   \n",
              "france-Game1          0.281863        0.168880  ...        0.588235   \n",
              "italy-Game10          0.471667        0.612903  ...        0.293846   \n",
              "germany-Game10        0.000000        0.413978  ...        0.637821   \n",
              "austria-Game10        0.413978        0.000000  ...        0.645161   \n",
              "russia-Game10         0.291667        0.473502  ...        0.453297   \n",
              "england-Game10        0.166667        0.426799  ...        0.538462   \n",
              "turkey-Game10         0.833333        0.645161  ...        0.472028   \n",
              "france-Game10         0.704710        0.645161  ...        0.192308   \n",
              "germany-Game11        0.256410        0.169975  ...        0.692308   \n",
              "italy-Game11          0.250000        0.233871  ...        0.711538   \n",
              "austria-Game11        0.141026        0.330025  ...        0.615385   \n",
              "russia-Game11         0.791667        0.645161  ...        0.199301   \n",
              "england-Game11        0.637821        0.645161  ...        0.000000   \n",
              "turkey-Game11         0.271505        0.322581  ...        0.542184   \n",
              "france-Game11         0.354167        0.487903  ...        0.377404   \n",
              "germany-Game12        0.750000        0.645161  ...        0.205128   \n",
              "italy-Game12          0.638889        0.645161  ...        0.102564   \n",
              "austria-Game12        0.833333        0.645161  ...        0.597070   \n",
              "russia-Game12         0.833333        0.741935  ...        0.730769   \n",
              "england-Game12        0.833333        0.677419  ...        0.692308   \n",
              "turkey-Game12         0.708333        0.645161  ...        0.205128   \n",
              "france-Game12         0.791667        0.645161  ...        0.380000   \n",
              "\n",
              "                turkey-Game11  france-Game11  germany-Game12  italy-Game12  \\\n",
              "italy-Game1          0.276596       0.404255        0.425532      0.425532   \n",
              "germany-Game1        0.451613       0.580645        0.645161      0.645161   \n",
              "austria-Game1        0.260645       0.201250        0.595000      0.497778   \n",
              "russia-Game1         0.258913       0.098684        0.447368      0.336257   \n",
              "england-Game1        0.491657       0.620690        0.689655      0.689655   \n",
              "turkey-Game1         0.645161       0.625000        0.403846      0.440171   \n",
              "france-Game1         0.239089       0.404412        0.588235      0.588235   \n",
              "italy-Game10         0.420645       0.250000        0.430000      0.309630   \n",
              "germany-Game10       0.271505       0.354167        0.750000      0.638889   \n",
              "austria-Game10       0.322581       0.487903        0.645161      0.645161   \n",
              "russia-Game10        0.226959       0.160714        0.529762      0.420635   \n",
              "england-Game10       0.169975       0.254808        0.692308      0.581197   \n",
              "turkey-Game10        0.645161       0.625000        0.348485      0.419192   \n",
              "france-Game10        0.580645       0.394022        0.233696      0.202899   \n",
              "germany-Game11       0.239454       0.459135        0.769231      0.692308   \n",
              "italy-Game11         0.258065       0.406250        0.750000      0.708333   \n",
              "austria-Game11       0.162531       0.298077        0.730769      0.619658   \n",
              "russia-Game11        0.612903       0.454545        0.083333      0.191919   \n",
              "england-Game11       0.542184       0.377404        0.205128      0.102564   \n",
              "turkey-Game11        0.000000       0.262097        0.612903      0.516129   \n",
              "france-Game11        0.262097       0.000000        0.458333      0.343750   \n",
              "germany-Game12       0.612903       0.458333        0.000000      0.180556   \n",
              "italy-Game12         0.516129       0.343750        0.180556      0.000000   \n",
              "austria-Game12       0.645161       0.625000        0.571429      0.571429   \n",
              "russia-Game12        0.645161       0.625000        0.750000      0.666667   \n",
              "england-Game12       0.645161       0.625000        0.607143      0.592593   \n",
              "turkey-Game12        0.580645       0.406250        0.166667      0.166667   \n",
              "france-Game12        0.645161       0.553750        0.266667      0.355556   \n",
              "\n",
              "                austria-Game12  russia-Game12  england-Game12  turkey-Game12  \\\n",
              "italy-Game1           0.468085       0.510638        0.468085       0.425532   \n",
              "germany-Game1         0.709677       0.741935        0.709677       0.645161   \n",
              "austria-Game1         0.800000       0.800000        0.800000       0.551667   \n",
              "russia-Game1          0.526316       0.552632        0.526316       0.421053   \n",
              "england-Game1         0.758621       0.793103        0.758621       0.689655   \n",
              "turkey-Game1          0.250916       0.481781        0.250916       0.403846   \n",
              "france-Game1          0.588235       0.647059        0.588235       0.588235   \n",
              "italy-Game10          0.760000       0.800000        0.760000       0.350000   \n",
              "germany-Game10        0.833333       0.833333        0.833333       0.708333   \n",
              "austria-Game10        0.645161       0.741935        0.677419       0.645161   \n",
              "russia-Game10         0.714286       0.714286        0.714286       0.482143   \n",
              "england-Game10        0.769231       0.769231        0.769231       0.608974   \n",
              "turkey-Game10         0.296537       0.653110        0.391775       0.405303   \n",
              "france-Game10         0.608696       0.869565        0.683230       0.231884   \n",
              "germany-Game11        0.769231       0.846154        0.769231       0.769231   \n",
              "italy-Game11          0.833333       0.833333        0.833333       0.750000   \n",
              "austria-Game11        0.769231       0.807692        0.769231       0.653846   \n",
              "russia-Game11         0.495671       0.772727        0.629870       0.132576   \n",
              "england-Game11        0.597070       0.730769        0.692308       0.205128   \n",
              "turkey-Game11         0.645161       0.645161        0.645161       0.580645   \n",
              "france-Game11         0.625000       0.625000        0.625000       0.406250   \n",
              "germany-Game12        0.571429       0.750000        0.607143       0.166667   \n",
              "italy-Game12          0.571429       0.666667        0.592593       0.166667   \n",
              "austria-Game12        0.000000       0.408521        0.190476       0.571429   \n",
              "russia-Game12         0.408521       0.000000        0.350877       0.750000   \n",
              "england-Game12        0.190476       0.350877        0.000000       0.607143   \n",
              "turkey-Game12         0.571429       0.750000        0.607143       0.000000   \n",
              "france-Game12         0.320000       0.640000        0.417143       0.300000   \n",
              "\n",
              "                france-Game12  \n",
              "italy-Game1          0.425532  \n",
              "germany-Game1        0.645161  \n",
              "austria-Game1        0.720000  \n",
              "russia-Game1         0.486316  \n",
              "england-Game1        0.689655  \n",
              "turkey-Game1         0.255385  \n",
              "france-Game1         0.588235  \n",
              "italy-Game10         0.560000  \n",
              "germany-Game10       0.791667  \n",
              "austria-Game10       0.645161  \n",
              "russia-Game10        0.678571  \n",
              "england-Game10       0.692308  \n",
              "turkey-Game10        0.183636  \n",
              "france-Game10        0.405217  \n",
              "germany-Game11       0.769231  \n",
              "italy-Game11         0.833333  \n",
              "austria-Game11       0.769231  \n",
              "russia-Game11        0.243636  \n",
              "england-Game11       0.380000  \n",
              "turkey-Game11        0.645161  \n",
              "france-Game11        0.553750  \n",
              "germany-Game12       0.266667  \n",
              "italy-Game12         0.355556  \n",
              "austria-Game12       0.320000  \n",
              "russia-Game12        0.640000  \n",
              "england-Game12       0.417143  \n",
              "turkey-Game12        0.300000  \n",
              "france-Game12        0.000000  \n",
              "\n",
              "[28 rows x 28 columns]"
            ]
          },
          "metadata": {},
          "execution_count": 104
        }
      ]
    },
    {
      "cell_type": "code",
      "source": [
        "sub = div[0:7][0:7]"
      ],
      "metadata": {
        "colab": {
          "base_uri": "https://localhost:8080/",
          "height": 17
        },
        "id": "jILwJPpeWRyF",
        "outputId": "425e8a57-f5bb-4702-8612-69d11674bde3"
      },
      "execution_count": 108,
      "outputs": [
        {
          "output_type": "display_data",
          "data": {
            "text/html": [
              "\n",
              "  <style>\n",
              "    pre {\n",
              "        white-space: pre-wrap;\n",
              "    }\n",
              "  </style>\n",
              "  "
            ],
            "text/plain": [
              "<IPython.core.display.HTML object>"
            ]
          },
          "metadata": {}
        }
      ]
    },
    {
      "cell_type": "code",
      "source": [
        "sub = sub.iloc[:, range(7)]"
      ],
      "metadata": {
        "colab": {
          "base_uri": "https://localhost:8080/",
          "height": 17
        },
        "id": "wFl-6SyFW3NO",
        "outputId": "639ede2d-0838-4e8b-85b5-c834b05e7d69"
      },
      "execution_count": 113,
      "outputs": [
        {
          "output_type": "display_data",
          "data": {
            "text/html": [
              "\n",
              "  <style>\n",
              "    pre {\n",
              "        white-space: pre-wrap;\n",
              "    }\n",
              "  </style>\n",
              "  "
            ],
            "text/plain": [
              "<IPython.core.display.HTML object>"
            ]
          },
          "metadata": {}
        }
      ]
    },
    {
      "cell_type": "code",
      "source": [
        "sub"
      ],
      "metadata": {
        "colab": {
          "base_uri": "https://localhost:8080/",
          "height": 269
        },
        "id": "x7_hMMZZXFCk",
        "outputId": "944926f6-4453-4417-dd73-9f3a758467ad"
      },
      "execution_count": 114,
      "outputs": [
        {
          "output_type": "display_data",
          "data": {
            "text/html": [
              "\n",
              "  <style>\n",
              "    pre {\n",
              "        white-space: pre-wrap;\n",
              "    }\n",
              "  </style>\n",
              "  "
            ],
            "text/plain": [
              "<IPython.core.display.HTML object>"
            ]
          },
          "metadata": {}
        },
        {
          "output_type": "execute_result",
          "data": {
            "text/html": [
              "\n",
              "  <div id=\"df-58033c1f-bc97-47f3-a49c-d8f1a2a7891b\">\n",
              "    <div class=\"colab-df-container\">\n",
              "      <div>\n",
              "<style scoped>\n",
              "    .dataframe tbody tr th:only-of-type {\n",
              "        vertical-align: middle;\n",
              "    }\n",
              "\n",
              "    .dataframe tbody tr th {\n",
              "        vertical-align: top;\n",
              "    }\n",
              "\n",
              "    .dataframe thead th {\n",
              "        text-align: right;\n",
              "    }\n",
              "</style>\n",
              "<table border=\"1\" class=\"dataframe\">\n",
              "  <thead>\n",
              "    <tr style=\"text-align: right;\">\n",
              "      <th></th>\n",
              "      <th>italy-Game1</th>\n",
              "      <th>germany-Game1</th>\n",
              "      <th>austria-Game1</th>\n",
              "      <th>russia-Game1</th>\n",
              "      <th>england-Game1</th>\n",
              "      <th>turkey-Game1</th>\n",
              "      <th>france-Game1</th>\n",
              "    </tr>\n",
              "  </thead>\n",
              "  <tbody>\n",
              "    <tr>\n",
              "      <th>italy-Game1</th>\n",
              "      <td>0.000000</td>\n",
              "      <td>0.274537</td>\n",
              "      <td>0.404255</td>\n",
              "      <td>0.330347</td>\n",
              "      <td>0.316948</td>\n",
              "      <td>0.446809</td>\n",
              "      <td>0.232791</td>\n",
              "    </tr>\n",
              "    <tr>\n",
              "      <th>germany-Game1</th>\n",
              "      <td>0.274537</td>\n",
              "      <td>0.000000</td>\n",
              "      <td>0.580645</td>\n",
              "      <td>0.507640</td>\n",
              "      <td>0.136819</td>\n",
              "      <td>0.677419</td>\n",
              "      <td>0.227704</td>\n",
              "    </tr>\n",
              "    <tr>\n",
              "      <th>austria-Game1</th>\n",
              "      <td>0.404255</td>\n",
              "      <td>0.580645</td>\n",
              "      <td>0.000000</td>\n",
              "      <td>0.273684</td>\n",
              "      <td>0.620690</td>\n",
              "      <td>0.760000</td>\n",
              "      <td>0.409412</td>\n",
              "    </tr>\n",
              "    <tr>\n",
              "      <th>russia-Game1</th>\n",
              "      <td>0.330347</td>\n",
              "      <td>0.507640</td>\n",
              "      <td>0.273684</td>\n",
              "      <td>0.000000</td>\n",
              "      <td>0.568058</td>\n",
              "      <td>0.526316</td>\n",
              "      <td>0.371517</td>\n",
              "    </tr>\n",
              "    <tr>\n",
              "      <th>england-Game1</th>\n",
              "      <td>0.316948</td>\n",
              "      <td>0.136819</td>\n",
              "      <td>0.620690</td>\n",
              "      <td>0.568058</td>\n",
              "      <td>0.000000</td>\n",
              "      <td>0.720159</td>\n",
              "      <td>0.326572</td>\n",
              "    </tr>\n",
              "    <tr>\n",
              "      <th>turkey-Game1</th>\n",
              "      <td>0.446809</td>\n",
              "      <td>0.677419</td>\n",
              "      <td>0.760000</td>\n",
              "      <td>0.526316</td>\n",
              "      <td>0.720159</td>\n",
              "      <td>0.000000</td>\n",
              "      <td>0.588235</td>\n",
              "    </tr>\n",
              "    <tr>\n",
              "      <th>france-Game1</th>\n",
              "      <td>0.232791</td>\n",
              "      <td>0.227704</td>\n",
              "      <td>0.409412</td>\n",
              "      <td>0.371517</td>\n",
              "      <td>0.326572</td>\n",
              "      <td>0.588235</td>\n",
              "      <td>0.000000</td>\n",
              "    </tr>\n",
              "  </tbody>\n",
              "</table>\n",
              "</div>\n",
              "      <button class=\"colab-df-convert\" onclick=\"convertToInteractive('df-58033c1f-bc97-47f3-a49c-d8f1a2a7891b')\"\n",
              "              title=\"Convert this dataframe to an interactive table.\"\n",
              "              style=\"display:none;\">\n",
              "        \n",
              "  <svg xmlns=\"http://www.w3.org/2000/svg\" height=\"24px\"viewBox=\"0 0 24 24\"\n",
              "       width=\"24px\">\n",
              "    <path d=\"M0 0h24v24H0V0z\" fill=\"none\"/>\n",
              "    <path d=\"M18.56 5.44l.94 2.06.94-2.06 2.06-.94-2.06-.94-.94-2.06-.94 2.06-2.06.94zm-11 1L8.5 8.5l.94-2.06 2.06-.94-2.06-.94L8.5 2.5l-.94 2.06-2.06.94zm10 10l.94 2.06.94-2.06 2.06-.94-2.06-.94-.94-2.06-.94 2.06-2.06.94z\"/><path d=\"M17.41 7.96l-1.37-1.37c-.4-.4-.92-.59-1.43-.59-.52 0-1.04.2-1.43.59L10.3 9.45l-7.72 7.72c-.78.78-.78 2.05 0 2.83L4 21.41c.39.39.9.59 1.41.59.51 0 1.02-.2 1.41-.59l7.78-7.78 2.81-2.81c.8-.78.8-2.07 0-2.86zM5.41 20L4 18.59l7.72-7.72 1.47 1.35L5.41 20z\"/>\n",
              "  </svg>\n",
              "      </button>\n",
              "      \n",
              "  <style>\n",
              "    .colab-df-container {\n",
              "      display:flex;\n",
              "      flex-wrap:wrap;\n",
              "      gap: 12px;\n",
              "    }\n",
              "\n",
              "    .colab-df-convert {\n",
              "      background-color: #E8F0FE;\n",
              "      border: none;\n",
              "      border-radius: 50%;\n",
              "      cursor: pointer;\n",
              "      display: none;\n",
              "      fill: #1967D2;\n",
              "      height: 32px;\n",
              "      padding: 0 0 0 0;\n",
              "      width: 32px;\n",
              "    }\n",
              "\n",
              "    .colab-df-convert:hover {\n",
              "      background-color: #E2EBFA;\n",
              "      box-shadow: 0px 1px 2px rgba(60, 64, 67, 0.3), 0px 1px 3px 1px rgba(60, 64, 67, 0.15);\n",
              "      fill: #174EA6;\n",
              "    }\n",
              "\n",
              "    [theme=dark] .colab-df-convert {\n",
              "      background-color: #3B4455;\n",
              "      fill: #D2E3FC;\n",
              "    }\n",
              "\n",
              "    [theme=dark] .colab-df-convert:hover {\n",
              "      background-color: #434B5C;\n",
              "      box-shadow: 0px 1px 3px 1px rgba(0, 0, 0, 0.15);\n",
              "      filter: drop-shadow(0px 1px 2px rgba(0, 0, 0, 0.3));\n",
              "      fill: #FFFFFF;\n",
              "    }\n",
              "  </style>\n",
              "\n",
              "      <script>\n",
              "        const buttonEl =\n",
              "          document.querySelector('#df-58033c1f-bc97-47f3-a49c-d8f1a2a7891b button.colab-df-convert');\n",
              "        buttonEl.style.display =\n",
              "          google.colab.kernel.accessAllowed ? 'block' : 'none';\n",
              "\n",
              "        async function convertToInteractive(key) {\n",
              "          const element = document.querySelector('#df-58033c1f-bc97-47f3-a49c-d8f1a2a7891b');\n",
              "          const dataTable =\n",
              "            await google.colab.kernel.invokeFunction('convertToInteractive',\n",
              "                                                     [key], {});\n",
              "          if (!dataTable) return;\n",
              "\n",
              "          const docLinkHtml = 'Like what you see? Visit the ' +\n",
              "            '<a target=\"_blank\" href=https://colab.research.google.com/notebooks/data_table.ipynb>data table notebook</a>'\n",
              "            + ' to learn more about interactive tables.';\n",
              "          element.innerHTML = '';\n",
              "          dataTable['output_type'] = 'display_data';\n",
              "          await google.colab.output.renderOutput(dataTable, element);\n",
              "          const docLink = document.createElement('div');\n",
              "          docLink.innerHTML = docLinkHtml;\n",
              "          element.appendChild(docLink);\n",
              "        }\n",
              "      </script>\n",
              "    </div>\n",
              "  </div>\n",
              "  "
            ],
            "text/plain": [
              "               italy-Game1  germany-Game1  austria-Game1  russia-Game1  \\\n",
              "italy-Game1       0.000000       0.274537       0.404255      0.330347   \n",
              "germany-Game1     0.274537       0.000000       0.580645      0.507640   \n",
              "austria-Game1     0.404255       0.580645       0.000000      0.273684   \n",
              "russia-Game1      0.330347       0.507640       0.273684      0.000000   \n",
              "england-Game1     0.316948       0.136819       0.620690      0.568058   \n",
              "turkey-Game1      0.446809       0.677419       0.760000      0.526316   \n",
              "france-Game1      0.232791       0.227704       0.409412      0.371517   \n",
              "\n",
              "               england-Game1  turkey-Game1  france-Game1  \n",
              "italy-Game1         0.316948      0.446809      0.232791  \n",
              "germany-Game1       0.136819      0.677419      0.227704  \n",
              "austria-Game1       0.620690      0.760000      0.409412  \n",
              "russia-Game1        0.568058      0.526316      0.371517  \n",
              "england-Game1       0.000000      0.720159      0.326572  \n",
              "turkey-Game1        0.720159      0.000000      0.588235  \n",
              "france-Game1        0.326572      0.588235      0.000000  "
            ]
          },
          "metadata": {},
          "execution_count": 114
        }
      ]
    },
    {
      "cell_type": "code",
      "source": [
        "fig = plt.figure()\n",
        "ax = sns.heatmap(sub)\n",
        "plt.show()"
      ],
      "metadata": {
        "colab": {
          "base_uri": "https://localhost:8080/",
          "height": 340
        },
        "id": "ZmRgqXWVWpK1",
        "outputId": "0974d998-67d0-4a61-822a-ffa697b7a640"
      },
      "execution_count": 115,
      "outputs": [
        {
          "output_type": "display_data",
          "data": {
            "text/html": [
              "\n",
              "  <style>\n",
              "    pre {\n",
              "        white-space: pre-wrap;\n",
              "    }\n",
              "  </style>\n",
              "  "
            ],
            "text/plain": [
              "<IPython.core.display.HTML object>"
            ]
          },
          "metadata": {}
        },
        {
          "output_type": "display_data",
          "data": {
            "image/png": "[encoded data removed]",
            "text/plain": [
              "<Figure size 432x288 with 2 Axes>"
            ]
          },
          "metadata": {
            "needs_background": "light"
          }
        }
      ]
    },
    {
      "cell_type": "markdown",
      "source": [
        "With the heatmap, we could see that within Game 1, italy, Germany, France talk like each other, perhaps they are allies! All players talk a lot similar to Italy, and no surprise: Italy has the highest average game score! Players do not talk like Turkey, and Turkey has the lowest game score. We have witnessed the role of status in conversations!  "
      ],
      "metadata": {
        "id": "2U-rw0zcRfdf"
      }
    },
    {
      "cell_type": "code",
      "source": [
        "central_scores.head(7)"
      ],
      "metadata": {
        "colab": {
          "base_uri": "https://localhost:8080/",
          "height": 269
        },
        "id": "NRHhCCQRRfCr",
        "outputId": "715f549e-3b30-4c6c-df3d-ea72cb8c42fe"
      },
      "execution_count": 97,
      "outputs": [
        {
          "output_type": "display_data",
          "data": {
            "text/html": [
              "\n",
              "  <style>\n",
              "    pre {\n",
              "        white-space: pre-wrap;\n",
              "    }\n",
              "  </style>\n",
              "  "
            ],
            "text/plain": [
              "<IPython.core.display.HTML object>"
            ]
          },
          "metadata": {}
        },
        {
          "output_type": "execute_result",
          "data": {
            "text/html": [
              "\n",
              "  <div id=\"df-876c56ce-bcd8-4c50-9864-b6f937779b68\">\n",
              "    <div class=\"colab-df-container\">\n",
              "      <div>\n",
              "<style scoped>\n",
              "    .dataframe tbody tr th:only-of-type {\n",
              "        vertical-align: middle;\n",
              "    }\n",
              "\n",
              "    .dataframe tbody tr th {\n",
              "        vertical-align: top;\n",
              "    }\n",
              "\n",
              "    .dataframe thead th {\n",
              "        text-align: right;\n",
              "    }\n",
              "</style>\n",
              "<table border=\"1\" class=\"dataframe\">\n",
              "  <thead>\n",
              "    <tr style=\"text-align: right;\">\n",
              "      <th></th>\n",
              "      <th>game_scores</th>\n",
              "      <th>centrality</th>\n",
              "    </tr>\n",
              "  </thead>\n",
              "  <tbody>\n",
              "    <tr>\n",
              "      <th>italy-Game1</th>\n",
              "      <td>7.666179</td>\n",
              "      <td>0.222222</td>\n",
              "    </tr>\n",
              "    <tr>\n",
              "      <th>germany-Game1</th>\n",
              "      <td>5.534672</td>\n",
              "      <td>0.185185</td>\n",
              "    </tr>\n",
              "    <tr>\n",
              "      <th>austria-Game1</th>\n",
              "      <td>4.750000</td>\n",
              "      <td>0.222222</td>\n",
              "    </tr>\n",
              "    <tr>\n",
              "      <th>russia-Game1</th>\n",
              "      <td>5.339744</td>\n",
              "      <td>0.222222</td>\n",
              "    </tr>\n",
              "    <tr>\n",
              "      <th>england-Game1</th>\n",
              "      <td>4.830417</td>\n",
              "      <td>0.222222</td>\n",
              "    </tr>\n",
              "    <tr>\n",
              "      <th>turkey-Game1</th>\n",
              "      <td>3.111111</td>\n",
              "      <td>0.185185</td>\n",
              "    </tr>\n",
              "    <tr>\n",
              "      <th>france-Game1</th>\n",
              "      <td>4.376997</td>\n",
              "      <td>0.222222</td>\n",
              "    </tr>\n",
              "  </tbody>\n",
              "</table>\n",
              "</div>\n",
              "      <button class=\"colab-df-convert\" onclick=\"convertToInteractive('df-876c56ce-bcd8-4c50-9864-b6f937779b68')\"\n",
              "              title=\"Convert this dataframe to an interactive table.\"\n",
              "              style=\"display:none;\">\n",
              "        \n",
              "  <svg xmlns=\"http://www.w3.org/2000/svg\" height=\"24px\"viewBox=\"0 0 24 24\"\n",
              "       width=\"24px\">\n",
              "    <path d=\"M0 0h24v24H0V0z\" fill=\"none\"/>\n",
              "    <path d=\"M18.56 5.44l.94 2.06.94-2.06 2.06-.94-2.06-.94-.94-2.06-.94 2.06-2.06.94zm-11 1L8.5 8.5l.94-2.06 2.06-.94-2.06-.94L8.5 2.5l-.94 2.06-2.06.94zm10 10l.94 2.06.94-2.06 2.06-.94-2.06-.94-.94-2.06-.94 2.06-2.06.94z\"/><path d=\"M17.41 7.96l-1.37-1.37c-.4-.4-.92-.59-1.43-.59-.52 0-1.04.2-1.43.59L10.3 9.45l-7.72 7.72c-.78.78-.78 2.05 0 2.83L4 21.41c.39.39.9.59 1.41.59.51 0 1.02-.2 1.41-.59l7.78-7.78 2.81-2.81c.8-.78.8-2.07 0-2.86zM5.41 20L4 18.59l7.72-7.72 1.47 1.35L5.41 20z\"/>\n",
              "  </svg>\n",
              "      </button>\n",
              "      \n",
              "  <style>\n",
              "    .colab-df-container {\n",
              "      display:flex;\n",
              "      flex-wrap:wrap;\n",
              "      gap: 12px;\n",
              "    }\n",
              "\n",
              "    .colab-df-convert {\n",
              "      background-color: #E8F0FE;\n",
              "      border: none;\n",
              "      border-radius: 50%;\n",
              "      cursor: pointer;\n",
              "      display: none;\n",
              "      fill: #1967D2;\n",
              "      height: 32px;\n",
              "      padding: 0 0 0 0;\n",
              "      width: 32px;\n",
              "    }\n",
              "\n",
              "    .colab-df-convert:hover {\n",
              "      background-color: #E2EBFA;\n",
              "      box-shadow: 0px 1px 2px rgba(60, 64, 67, 0.3), 0px 1px 3px 1px rgba(60, 64, 67, 0.15);\n",
              "      fill: #174EA6;\n",
              "    }\n",
              "\n",
              "    [theme=dark] .colab-df-convert {\n",
              "      background-color: #3B4455;\n",
              "      fill: #D2E3FC;\n",
              "    }\n",
              "\n",
              "    [theme=dark] .colab-df-convert:hover {\n",
              "      background-color: #434B5C;\n",
              "      box-shadow: 0px 1px 3px 1px rgba(0, 0, 0, 0.15);\n",
              "      filter: drop-shadow(0px 1px 2px rgba(0, 0, 0, 0.3));\n",
              "      fill: #FFFFFF;\n",
              "    }\n",
              "  </style>\n",
              "\n",
              "      <script>\n",
              "        const buttonEl =\n",
              "          document.querySelector('#df-876c56ce-bcd8-4c50-9864-b6f937779b68 button.colab-df-convert');\n",
              "        buttonEl.style.display =\n",
              "          google.colab.kernel.accessAllowed ? 'block' : 'none';\n",
              "\n",
              "        async function convertToInteractive(key) {\n",
              "          const element = document.querySelector('#df-876c56ce-bcd8-4c50-9864-b6f937779b68');\n",
              "          const dataTable =\n",
              "            await google.colab.kernel.invokeFunction('convertToInteractive',\n",
              "                                                     [key], {});\n",
              "          if (!dataTable) return;\n",
              "\n",
              "          const docLinkHtml = 'Like what you see? Visit the ' +\n",
              "            '<a target=\"_blank\" href=https://colab.research.google.com/notebooks/data_table.ipynb>data table notebook</a>'\n",
              "            + ' to learn more about interactive tables.';\n",
              "          element.innerHTML = '';\n",
              "          dataTable['output_type'] = 'display_data';\n",
              "          await google.colab.output.renderOutput(dataTable, element);\n",
              "          const docLink = document.createElement('div');\n",
              "          docLink.innerHTML = docLinkHtml;\n",
              "          element.appendChild(docLink);\n",
              "        }\n",
              "      </script>\n",
              "    </div>\n",
              "  </div>\n",
              "  "
            ],
            "text/plain": [
              "               game_scores  centrality\n",
              "italy-Game1       7.666179    0.222222\n",
              "germany-Game1     5.534672    0.185185\n",
              "austria-Game1     4.750000    0.222222\n",
              "russia-Game1      5.339744    0.222222\n",
              "england-Game1     4.830417    0.222222\n",
              "turkey-Game1      3.111111    0.185185\n",
              "france-Game1      4.376997    0.222222"
            ]
          },
          "metadata": {},
          "execution_count": 97
        }
      ]
    },
    {
      "cell_type": "markdown",
      "metadata": {
        "id": "otsmjEHRyKC6"
      },
      "source": [
        "## Text Generation using GPT-2 and BERT\n",
        "\n",
        "We can make use of the transformers we learned about last week to do text generation, where the model takes one or multiple places in a conversation. While some may regard it as a parlour trick due to unpredictability, recent dramatic improvements in text generation suggest that these kind of models can find themselves being used in more serious social scientific applications, such as in survey design and construction, idiomatic translation, and the normalization of phrase and sentence meanings.\n",
        "\n",
        "These models can be quite impressive, even uncanny in how human like they sound. Check out this [cool website](https://transformer.huggingface.co), which allows you to write with a transformer. The website is built by the folks who wrote the package we are using. The code underneath the website can be found in their examples: [run_generation.py](https://github.com/huggingface/transformers/blob/master/examples/run_generation.py).\n",
        "\n",
        "We will be using the built in generate function, but the example file has more detailed code which allows you to set the seed differently."
      ]
    },
    {
      "cell_type": "code",
      "execution_count": 20,
      "metadata": {
        "colab": {
          "base_uri": "https://localhost:8080/",
          "height": 177,
          "referenced_widgets": [
            "d8167d3ac80a43eeb039eff5373fb2b2",
            "8b0a5f12600949e99846b04a84a966fc",
            "12df1592acc74e1f9ab6680feb4bc15e",
            "00bc000f948d4cae8351af0eaaaa7922",
            "bf4268c7a53043468756f0d3cfe1f77f",
            "1b60bf5de2194f3dbe63ef64bf4cab1b",
            "e244a6c435fc4e35a84dab39de40421c",
            "bbb9b71ac41d4b5c8c46cc732af67ca4",
            "035f6cbe793e4d5783fd886b91dbad05",
            "10e43e2ed8184cf889a2e573237be819",
            "72571229e5f645119137f460c2ed6219",
            "e3d92ce418fd49bc98bb64b0ce4d84e3",
            "6575d3d7a3784921b285d9bcda92247b",
            "f8b83f20ae5d4d3ca2f82305de40164d",
            "ef9eba403398487e98177abc46a74b34",
            "5e8ef35e1bdf42ce8fbadcfae9a274d3",
            "83ed6de7f47c43fdbf0bc21c396d9448",
            "82accc8220f44e6f91d8d9bd296448a0",
            "44587f60aae74399bb60726791812454",
            "ab9207fc283c4130b018baa7acfa0c91",
            "21acd3331f1247e6abb66c6d907e9d00",
            "cab998432a534c2f94f975d1d2039a9f",
            "239b221bffbc4ec982b7bafad4a2409f",
            "ae2f2dc9a22849f4a53c4577b3f87906",
            "55396c01ee3347c0a9a4b5a0551e7222",
            "38315ed5bd6c44b3958265938fa72592",
            "e388491c9add4c54b092ec9f24c12635",
            "1fd03cf4da8a4aefb51286e1ed2ad306",
            "86c1b14b173c42eca67ca62dfa3e9fa5",
            "c8a685c4dbb641f898d395818f99845d",
            "f5ed3edc91914964871f2a934c9f17a1",
            "1dc981d5c1234acf999ecb3d42436466",
            "0f4b0e28f12b4d9ea2b91400878d3e78",
            "f3ce4c329e5d433cbbc09d965df517c6",
            "4dda85bcd8e5423e979799dea86708db",
            "178b6cee1f1b41b183eeb7a89833cca1",
            "79b5c30283cd4d318ded085958dc51c1",
            "68716a1ba3c84e7e81ebf0f1c0114ed2",
            "10788f373b0a4582ba6c0c150c4caef3",
            "4003107ab2af40fbbb4c3c30ff24051f",
            "7c942404e1cf4ded84ef51a6f0afdf9f",
            "b500009cd3a04b1288e1a32f076c5e64",
            "f0a5b3b4c5be42529f42e285c150fd11",
            "4aeb561732364e598ed0ad5f41008df3",
            "881c035297cf4ee082875cdccc051ca9",
            "01a2f0cb1970434fafebbf171c692db3",
            "f5581c6ab93540eaa8fa9f8ae9715067",
            "79922a09ffa64ed6996f5c82142b1a18",
            "5fcb71dc38c9437ba8975c2e96f0849a",
            "b63d6822384f4b9e8b1da061871c3177",
            "fac452c76abe48fab828bb278784df9f",
            "bfcf537ca849452d943c0f8762c0edf8",
            "2995f6f3a1e143b9979544c8b3c75110",
            "bd0e9103d34e4fada6f34569b7e8dd78",
            "c0daeaa50b844afc81145eb676ee288f"
          ]
        },
        "id": "naGpw4vryKC7",
        "outputId": "14454e5b-0eaf-420d-a0bb-9165efc6b678"
      },
      "outputs": [
        {
          "output_type": "display_data",
          "data": {
            "application/vnd.jupyter.widget-view+json": {
              "model_id": "d8167d3ac80a43eeb039eff5373fb2b2",
              "version_minor": 0,
              "version_major": 2
            },
            "text/plain": [
              "Downloading:   0%|          | 0.00/665 [00:00<?, ?B/s]"
            ]
          },
          "metadata": {}
        },
        {
          "output_type": "display_data",
          "data": {
            "application/vnd.jupyter.widget-view+json": {
              "model_id": "e3d92ce418fd49bc98bb64b0ce4d84e3",
              "version_minor": 0,
              "version_major": 2
            },
            "text/plain": [
              "Downloading:   0%|          | 0.00/0.99M [00:00<?, ?B/s]"
            ]
          },
          "metadata": {}
        },
        {
          "output_type": "display_data",
          "data": {
            "application/vnd.jupyter.widget-view+json": {
              "model_id": "239b221bffbc4ec982b7bafad4a2409f",
              "version_minor": 0,
              "version_major": 2
            },
            "text/plain": [
              "Downloading:   0%|          | 0.00/446k [00:00<?, ?B/s]"
            ]
          },
          "metadata": {}
        },
        {
          "output_type": "display_data",
          "data": {
            "application/vnd.jupyter.widget-view+json": {
              "model_id": "f3ce4c329e5d433cbbc09d965df517c6",
              "version_minor": 0,
              "version_major": 2
            },
            "text/plain": [
              "Downloading:   0%|          | 0.00/1.29M [00:00<?, ?B/s]"
            ]
          },
          "metadata": {}
        },
        {
          "output_type": "display_data",
          "data": {
            "application/vnd.jupyter.widget-view+json": {
              "model_id": "881c035297cf4ee082875cdccc051ca9",
              "version_minor": 0,
              "version_major": 2
            },
            "text/plain": [
              "Downloading:   0%|          | 0.00/523M [00:00<?, ?B/s]"
            ]
          },
          "metadata": {}
        }
      ],
      "source": [
        "from transformers import AutoModelWithLMHead, AutoTokenizer\n",
        "\n",
        "tokenizer_gpt = AutoTokenizer.from_pretrained(\"gpt2\")\n",
        "model_gpt = AutoModelWithLMHead.from_pretrained(\"gpt2\")"
      ]
    },
    {
      "cell_type": "code",
      "execution_count": 117,
      "metadata": {
        "colab": {
          "base_uri": "https://localhost:8080/",
          "height": 91
        },
        "id": "_puDxdn_yKC7",
        "outputId": "f983829f-6987-4ce2-fe2a-e36503f657c9"
      },
      "outputs": [
        {
          "output_type": "display_data",
          "data": {
            "text/html": [
              "\n",
              "  <style>\n",
              "    pre {\n",
              "        white-space: pre-wrap;\n",
              "    }\n",
              "  </style>\n",
              "  "
            ],
            "text/plain": [
              "<IPython.core.display.HTML object>"
            ]
          },
          "metadata": {}
        },
        {
          "output_type": "stream",
          "name": "stderr",
          "text": [
            "Setting `pad_token_id` to `eos_token_id`:50256 for open-end generation.\n"
          ]
        },
        {
          "output_type": "stream",
          "name": "stdout",
          "text": [
            "Nothing that we like to do more than analyse data all day long and then try to figure out what's going on.\n",
            "\n",
            "\"We're not going to be able to do that. We're not going to be able to do that. We\n"
          ]
        }
      ],
      "source": [
        "sequence = \"Nothing that we like to do more than analyse data all day long and\"\n",
        "\n",
        "input = tokenizer_gpt.encode(sequence, return_tensors=\"pt\")\n",
        "generated = model_gpt.generate(input, max_length=50)\n",
        "\n",
        "resulting_string = tokenizer_gpt.decode(generated.tolist()[0])\n",
        "print(resulting_string)"
      ]
    },
    {
      "cell_type": "markdown",
      "metadata": {
        "id": "nbnEBv0oyKC7"
      },
      "source": [
        "Wow. A little creepy, and as we can see, far from perfect: GPT doesn't alwats work out flawlessly, but it sometimes can, and we will try and see if fine-tuning helps. We are going to tune the model on a complete dataset of Trump tweets, as they have a set of distinctive, highly identifiable qualities.\n",
        "\n",
        "### Creating a domain-specific language model\n",
        "\n",
        "One of the most exciting things about BERT and GPT is being able to retune them the way we want to. We will be training models to perform two tasks - one is to create a BERT with an \"accent\", by traning a model with english news data from the UK, from the US, and from India. We will also train a language generation model with a bunch of Trump tweets. \n",
        "\n",
        "We can train models specifically over a certain domain to make its language generation similar to that domain. \n",
        "[run_language modelling.py](https://github.com/huggingface/transformers/blob/master/examples/run_language_modeling.py), followed by [run_generation.py](https://github.com/huggingface/transformers/blob/master/examples/run_generation.py). I've downloaded these files and added them to this directory so we can run them through the notebook. You are encouraged to look at these files to get a rough idea of what is going on.\n",
        "\n",
        "### Loading Data \n",
        "\n",
        "We want to now get our Trump tweets and our English news datasets ready. The data the scripts expect is just a text file with relevant data. We load the Trump tweets and then write them to disk as train and test files with only data. I leave the original dataframes in case you would like to use it for your own purposes."
      ]
    },
    {
      "cell_type": "code",
      "execution_count": null,
      "metadata": {
        "id": "UwgxLpoLyKC7"
      },
      "outputs": [],
      "source": [
        "dfs = []"
      ]
    },
    {
      "cell_type": "code",
      "execution_count": null,
      "metadata": {
        "id": "DFAIJZ3lyKC7"
      },
      "outputs": [],
      "source": [
        "for file in os.listdir(\"../data/trump_tweets\"):\n",
        "    dfs.append(pd.read_json(\"../data/trump_tweets/\" + file))"
      ]
    },
    {
      "cell_type": "code",
      "execution_count": null,
      "metadata": {
        "id": "wUG7G4FAyKC8"
      },
      "outputs": [],
      "source": [
        "df = pd.concat(dfs)"
      ]
    },
    {
      "cell_type": "code",
      "execution_count": null,
      "metadata": {
        "id": "I8U8S77CyKC8"
      },
      "outputs": [],
      "source": [
        "df.head()"
      ]
    },
    {
      "cell_type": "code",
      "execution_count": null,
      "metadata": {
        "id": "C6W7K2E6yKC8"
      },
      "outputs": [],
      "source": [
        "from sklearn.model_selection import train_test_split\n",
        "train_text, test_text = train_test_split(df['text'], test_size=0.2)"
      ]
    },
    {
      "cell_type": "code",
      "execution_count": null,
      "metadata": {
        "id": "kS3pZKG5yKC9"
      },
      "outputs": [],
      "source": [
        "train_text.head()"
      ]
    },
    {
      "cell_type": "code",
      "execution_count": null,
      "metadata": {
        "id": "5Q-mg4aayKC9"
      },
      "outputs": [],
      "source": [
        "train_text.to_frame().to_csv(r'train_text_trump', header=None, index=None, sep=' ', mode='a')"
      ]
    },
    {
      "cell_type": "code",
      "execution_count": null,
      "metadata": {
        "id": "3DaINRUUyKC9"
      },
      "outputs": [],
      "source": [
        "test_text.to_frame().to_csv(r'test_text_trump', header=None, index=None, sep=' ', mode='a')"
      ]
    },
    {
      "cell_type": "markdown",
      "metadata": {
        "id": "pmVOhMzGyKC-"
      },
      "source": [
        "I now used the Google Colab GPUs to train the Trump tweet models. We'll be doing the same for our blog posts too.\n",
        "\n",
        "### GloWBe dataset\n",
        "\n",
        "We'll now load up the GloWbe (Corpus of Global Web-Based English) dataset which have different texts from different countries. We'll try and draw out texts from only the US, UK and India. We'll then save these to disk. Note that this is a Davies Corpora dataset: the full download can be done with the Dropbox link I sent in an announcement a few weeks ago. The whole download is about 3.5 GB but we only need two files, which are anout 250 MB each. The other files might be useful for your research purposes."
      ]
    },
    {
      "cell_type": "code",
      "execution_count": null,
      "metadata": {
        "id": "S8zfDyVmyKC-"
      },
      "outputs": [],
      "source": [
        "address = \"C:/Downloads/GloWbE\""
      ]
    },
    {
      "cell_type": "code",
      "execution_count": null,
      "metadata": {
        "id": "dYVZXH8oyKC-"
      },
      "outputs": [],
      "source": [
        "# these are the exact name of the files\n",
        "us = \"/text_us_blog_jfy.zip\"\n",
        "gb = \"/text_gb_blog_akq.zip\""
      ]
    },
    {
      "cell_type": "code",
      "execution_count": null,
      "metadata": {
        "id": "ZWcF69sIyKC-"
      },
      "outputs": [],
      "source": [
        "us_texts = lucem_illud.loadDavies(address, corpus_style=\"us_blog\", num_files=5000)"
      ]
    },
    {
      "cell_type": "code",
      "execution_count": null,
      "metadata": {
        "id": "IlzDL03PyKC-"
      },
      "outputs": [],
      "source": [
        "gb_texts = lucem_illud.loadDavies(address, corpus_style=\"gb_blog\", num_files=5000)"
      ]
    },
    {
      "cell_type": "markdown",
      "metadata": {
        "id": "NZEXwoRmyKC_"
      },
      "source": [
        "We now have a dictionary with document ids mapping to text. Since we don't need any information but the text, we can just save these to disk."
      ]
    },
    {
      "cell_type": "code",
      "execution_count": null,
      "metadata": {
        "id": "0QSZ_n1JyKC_"
      },
      "outputs": [],
      "source": [
        "' '.join(list(us_texts.values())[10])"
      ]
    },
    {
      "cell_type": "code",
      "execution_count": null,
      "metadata": {
        "id": "ztif5prDyKC_"
      },
      "outputs": [],
      "source": [
        "def dict_to_texts(texts, file_name):\n",
        "    text = []\n",
        "    for doc in list(texts.values()):\n",
        "        text.append(' '.join(doc).replace(\"< h >\", \"\").replace(\"< p >\", \"\"))\n",
        "    train_text, test_text = train_test_split(text, test_size=0.2)\n",
        "    with open(file_name + \"_train\", 'w') as f:\n",
        "        for item in train_text:\n",
        "            f.write(\"%s\\n\" % item)\n",
        "    \n",
        "    with open(file_name + \"_test\", 'w') as f:\n",
        "        for item in test_text:\n",
        "            f.write(\"%s\\n\" % item)"
      ]
    },
    {
      "cell_type": "code",
      "execution_count": null,
      "metadata": {
        "id": "XF21NsUryKC_"
      },
      "outputs": [],
      "source": [
        "dict_to_texts(us_texts, \"us_blog\")"
      ]
    },
    {
      "cell_type": "code",
      "execution_count": null,
      "metadata": {
        "id": "ecYpM5a7yKC_"
      },
      "outputs": [],
      "source": [
        "dict_to_texts(gb_texts, \"gb_blog\")"
      ]
    },
    {
      "cell_type": "markdown",
      "metadata": {
        "id": "dAuinQt9yKC_"
      },
      "source": [
        "We now have the training and testing files for both US and GB blogs in English. "
      ]
    },
    {
      "cell_type": "markdown",
      "metadata": {
        "id": "_bBYSrRqyKDA"
      },
      "source": [
        "(WARNING - SHIFT TO GOOGLE COLAB OR GPU ENABLED MACHINE)\n",
        "\n",
        "\n",
        "### Running Scripts\n",
        "\n",
        "We use the scripts to do language modelling and text generation. The following cells run the code as if you would have run it in a terminal.\n",
        "\n",
        "#### Trump GPT-2"
      ]
    },
    {
      "cell_type": "code",
      "execution_count": null,
      "metadata": {
        "id": "KgfsYxRwyKDA"
      },
      "outputs": [],
      "source": [
        "# You might have issues with the memory of your GPU in the following code.\n",
        "# The default Google Colab GPU should work with batch size of 2,\n",
        "# but if you get a \"CUDA out of memory\" error, you can reduce it to 1.\n",
        "\n",
        "# !python run_language_modeling.py --per_gpu_train_batch_size=1 --output_dir=output_gpt_trump --model_type=gpt2 --model_name_or_path=gpt2 --do_train --train_data_file=train_text_trump --do_eval --eval_data_file=test_text_trump\n",
        "!python run_language_modeling.py --per_gpu_train_batch_size=2 --output_dir=output_gpt_trump --model_type=gpt2 --model_name_or_path=gpt2 --do_train --train_data_file=train_text_trump --do_eval --eval_data_file=test_text_trump\n",
        "# !python run_language_modeling.py --output_dir=output_gpt_trump --model_type=gpt2 --model_name_or_path=gpt2 --do_train --train_data_file=train_text_trump --do_eval --eval_data_file=test_text_trump\n",
        "\n",
        "# If the GPU memory error still occurs even with a batch size of 1,\n",
        "# you can need to run the code on RCC Midway\n",
        "# (See https://github.com/UChicago-Computational-Content-Analysis/Frequently-Asked-Questions/issues/18)"
      ]
    },
    {
      "cell_type": "markdown",
      "metadata": {
        "id": "-mXVFgUpyKDA"
      },
      "source": [
        "#### RoBERTa US"
      ]
    },
    {
      "cell_type": "code",
      "execution_count": null,
      "metadata": {
        "id": "Nhq234ooyKDA"
      },
      "outputs": [],
      "source": [
        "!python run_language_modeling.py --output_dir=output_roberta_us --model_type=roberta --model_name_or_path=roberta-base --do_train --train_data_file=us_blog_train --do_eval --eval_data_file=us_blog_test --mlm"
      ]
    },
    {
      "cell_type": "markdown",
      "metadata": {
        "id": "94jFLCNqyKDA"
      },
      "source": [
        "#### RoBERTa UK"
      ]
    },
    {
      "cell_type": "code",
      "execution_count": null,
      "metadata": {
        "id": "u6ceuCz7yKDB"
      },
      "outputs": [],
      "source": [
        "!python run_language_modeling.py --output_dir=output_roberta_gb --model_type=roberta --model_name_or_path=roberta-base --do_train --train_data_file=gb_blog_train --do_eval --eval_data_file=gb_blog_test --mlm"
      ]
    },
    {
      "cell_type": "markdown",
      "metadata": {
        "id": "e2aUhenjyKDB"
      },
      "source": [
        "(If you left to use a GPU machine, COME BACK TO THIS NOTEBOOK to load and work with your trained model.)\n",
        "\n",
        "### Loading and using models\n",
        "\n",
        "Let us now load the four models we have and see how we can use them."
      ]
    },
    {
      "cell_type": "markdown",
      "metadata": {
        "id": "kTdxr9EsyKDB"
      },
      "source": [
        "And now - let us see what our Trump Tweet Bot looks like!\n",
        "You can generate text via command line using the command below. You can also load a model once it is saved - I trained my model using Google Colab, downloaded the model, and am loading it again via the command below. Note that you have to download all the files in your folder of the fine-tuned model to use the model."
      ]
    },
    {
      "cell_type": "code",
      "execution_count": null,
      "metadata": {
        "id": "Ik439ndGyKDB"
      },
      "outputs": [],
      "source": [
        "# !python run_generation.py --model_type=gpt2 --model_name_or_path=output_gpt_trump"
      ]
    },
    {
      "cell_type": "code",
      "execution_count": null,
      "metadata": {
        "id": "3EXYBU3VyKDB"
      },
      "outputs": [],
      "source": [
        "tokenizer_trump = AutoTokenizer.from_pretrained(\"output_gpt_trump\")\n",
        "# If this line does not work, try tokenizer_trump = AutoTokenizer.from_pretrained(\"gpt2\")\n",
        "\n",
        "model_trump = AutoModelWithLMHead.from_pretrained(\"output_gpt_trump\")"
      ]
    },
    {
      "cell_type": "code",
      "execution_count": null,
      "metadata": {
        "id": "eadM_9G6yKDC"
      },
      "outputs": [],
      "source": [
        "sequence = \"Obama is going to\"\n",
        "\n",
        "input = tokenizer_trump.encode(sequence, return_tensors=\"pt\")\n",
        "generated = model_trump.generate(input, max_length=50, bos_token_id=1, pad_token_id=1, eos_token_ids=1)\n",
        "\n",
        "resulting_string = tokenizer_trump.decode(generated.tolist()[0])\n",
        "print(resulting_string)"
      ]
    },
    {
      "cell_type": "markdown",
      "metadata": {
        "id": "9H-RI-CpyKDC"
      },
      "source": [
        "Wow - our Trump bot is nasty, so we know our model trained well. What happens if we try the same sentence for our non-fine tuned model?"
      ]
    },
    {
      "cell_type": "code",
      "execution_count": null,
      "metadata": {
        "id": "QyVRILGQyKDC"
      },
      "outputs": [],
      "source": [
        "sequence = \"Obama is going to\"\n",
        "\n",
        "input = tokenizer_gpt.encode(sequence, return_tensors=\"pt\")\n",
        "generated = model_gpt.generate(input, max_length=50, bos_token_id=1, pad_token_id=1, eos_token_ids=1)\n",
        "\n",
        "resulting_string = tokenizer_gpt.decode(generated.tolist()[0])\n",
        "print(resulting_string)"
      ]
    },
    {
      "cell_type": "markdown",
      "metadata": {
        "id": "KPiXn3H3yKDC"
      },
      "source": [
        "Quite the contrast."
      ]
    },
    {
      "cell_type": "markdown",
      "metadata": {
        "id": "yUjz5keTyKDC"
      },
      "source": [
        "## <font color=\"red\">*Exercise 3*</font>\n",
        "\n",
        "<font color=\"red\">Construct cells immediately below this that generate a BERT-powered chatbot tuned on text related to your final project. What is interesting about this model, and how to does it compare to an untrained model? What does it reveal about the social game involved with your dataset?"
      ]
    },
    {
      "cell_type": "code",
      "source": [
        "cd"
      ],
      "metadata": {
        "colab": {
          "base_uri": "https://localhost:8080/"
        },
        "id": "wVR3IPrmfI6L",
        "outputId": "300ab336-8879-46e0-aab4-be88c0d85631"
      },
      "execution_count": 16,
      "outputs": [
        {
          "output_type": "stream",
          "name": "stdout",
          "text": [
            "/root\n"
          ]
        }
      ]
    },
    {
      "cell_type": "code",
      "source": [
        "from sklearn.model_selection import train_test_split\n",
        "train_text, test_text = train_test_split(sample['text'], test_size=0.2)"
      ],
      "metadata": {
        "id": "-Q43nO6acY5H"
      },
      "execution_count": 17,
      "outputs": []
    },
    {
      "cell_type": "code",
      "source": [
        "train_text.to_frame().to_csv(r'train_text', header=None, index=None, sep=' ', mode='a')\n",
        "test_text.to_frame().to_csv(r'test_text', header=None, index=None, sep=' ', mode='a')"
      ],
      "metadata": {
        "id": "ojUcI9t6d-ew"
      },
      "execution_count": 18,
      "outputs": []
    },
    {
      "cell_type": "code",
      "source": [
        "!python run_language_modeling.py --per_gpu_train_batch_size=1 --output_dir=output_gpt_trump --model_type=gpt2 --model_name_or_path=gpt2 --do_train --train_data_file=train_text --do_eval --eval_data_file=test_text"
      ],
      "metadata": {
        "id": "JTB39k9geGSd"
      },
      "execution_count": null,
      "outputs": []
    },
    {
      "cell_type": "code",
      "source": [
        "# did not change the variable name, but this is gpt2 pretrained on deception corpus!\n",
        "tokenizer_trump = AutoTokenizer.from_pretrained(\"gpt2\")"
      ],
      "metadata": {
        "id": "CZqrnYe6fxi1"
      },
      "execution_count": 26,
      "outputs": []
    },
    {
      "cell_type": "code",
      "source": [
        "model_trump = AutoModelWithLMHead.from_pretrained(\"output_gpt_trump\")\n"
      ],
      "metadata": {
        "id": "iMnTdgingHIT"
      },
      "execution_count": 27,
      "outputs": []
    },
    {
      "cell_type": "code",
      "source": [
        "sequence = \"I will\"\n",
        "\n",
        "input = tokenizer_trump.encode(sequence, return_tensors=\"pt\")\n",
        "generated = model_trump.generate(input, max_length=50, bos_token_id=1, pad_token_id=1, eos_token_ids=1)\n",
        "\n",
        "resulting_string = tokenizer_trump.decode(generated.tolist()[0])\n",
        "print(resulting_string)"
      ],
      "metadata": {
        "colab": {
          "base_uri": "https://localhost:8080/"
        },
        "id": "heu047LZhw2l",
        "outputId": "29f5fce0-957e-4e5f-edd7-b664f5cee442"
      },
      "execution_count": 33,
      "outputs": [
        {
          "output_type": "stream",
          "name": "stdout",
          "text": [
            "I will be working with you to get the best deal possible for you.\"\n",
            "\"I'm sorry, but I'm not sure if you're going to be able to get the deal done.\"\n",
            "\"I'm not sure if you're going to\n"
          ]
        }
      ]
    },
    {
      "cell_type": "code",
      "source": [
        "sequence = \"I will\"\n",
        "\n",
        "input = tokenizer_gpt.encode(sequence, return_tensors=\"pt\")\n",
        "generated = model_gpt.generate(input, max_length=50, bos_token_id=1, pad_token_id=1, eos_token_ids=1)\n",
        "\n",
        "resulting_string = tokenizer_gpt.decode(generated.tolist()[0])\n",
        "print(resulting_string)"
      ],
      "metadata": {
        "colab": {
          "base_uri": "https://localhost:8080/"
        },
        "id": "krgcfArHiWIY",
        "outputId": "d864c9ea-9273-4599-aa26-853a91a7b5fd"
      },
      "execution_count": 34,
      "outputs": [
        {
          "output_type": "stream",
          "name": "stdout",
          "text": [
            "I will be the first to admit that I am not a fan of the idea of a \"real\" world. I am a fan of the idea of a \"real\" world. I am a fan of the idea of a \"real\" world\n"
          ]
        }
      ]
    },
    {
      "cell_type": "markdown",
      "source": [
        "The pretrained model now seems to be more diplomatic, whereas the standard model is 'all-over-the-place' and less predictable!"
      ],
      "metadata": {
        "id": "f5AXY1DpiJqP"
      }
    },
    {
      "cell_type": "code",
      "source": [
        "sequence = \"attack is\"\n",
        "\n",
        "input = tokenizer_trump.encode(sequence, return_tensors=\"pt\")\n",
        "generated = model_trump.generate(input, max_length=30, bos_token_id=1, pad_token_id=1, eos_token_ids=1)\n",
        "\n",
        "resulting_string = tokenizer_trump.decode(generated.tolist()[0])\n",
        "print(resulting_string)"
      ],
      "metadata": {
        "colab": {
          "base_uri": "https://localhost:8080/"
        },
        "id": "Q3Heaol9h2HB",
        "outputId": "43d19088-86cd-4ef7-bd9f-93b7854cbf0a"
      },
      "execution_count": 43,
      "outputs": [
        {
          "output_type": "stream",
          "name": "stdout",
          "text": [
            "attack is a good idea, but I think it's a bit of a stretch to say that it's a good idea for you to take the island\n"
          ]
        }
      ]
    },
    {
      "cell_type": "code",
      "source": [
        "sequence = \"attack is\"\n",
        "\n",
        "input = tokenizer_gpt.encode(sequence, return_tensors=\"pt\")\n",
        "generated = model_gpt.generate(input, max_length=30, bos_token_id=1, pad_token_id=1, eos_token_ids=1)\n",
        "\n",
        "resulting_string = tokenizer_gpt.decode(generated.tolist()[0])\n",
        "print(resulting_string)"
      ],
      "metadata": {
        "colab": {
          "base_uri": "https://localhost:8080/"
        },
        "id": "b7LbixRvi_JQ",
        "outputId": "f640dc69-7972-49a2-e787-2f6a3ca53bb3"
      },
      "execution_count": 44,
      "outputs": [
        {
          "output_type": "stream",
          "name": "stdout",
          "text": [
            "attack is a very good way to get a lot of damage.\n",
            "\n",
            "The best way to get a lot of damage is to use a lot of\n"
          ]
        }
      ]
    },
    {
      "cell_type": "markdown",
      "source": [
        "The diplomacy model is also more violent and has less norms around attacks, whereas the standard model share the norm against attack as average people now do!"
      ],
      "metadata": {
        "id": "9D6aL1DSjMKS"
      }
    },
    {
      "cell_type": "code",
      "source": [
        "sequence = \"I need to make specific plans to\"\n",
        "\n",
        "input = tokenizer_trump.encode(sequence, return_tensors=\"pt\")\n",
        "generated = model_trump.generate(input, max_length=30, bos_token_id=1, pad_token_id=1, eos_token_ids=1)\n",
        "\n",
        "resulting_string = tokenizer_trump.decode(generated.tolist()[0])\n",
        "print(resulting_string)"
      ],
      "metadata": {
        "colab": {
          "base_uri": "https://localhost:8080/"
        },
        "id": "2I6UawqAja6i",
        "outputId": "b5bd4e15-fb22-492b-a19d-73c187061f68"
      },
      "execution_count": 46,
      "outputs": [
        {
          "output_type": "stream",
          "name": "stdout",
          "text": [
            "I need to make specific plans to get the fleet out of the way of the enemy.\"\n",
            "\"I'm not sure if you're going to be\n"
          ]
        }
      ]
    },
    {
      "cell_type": "code",
      "source": [
        "sequence = \"I need to make specific plans to\"\n",
        "\n",
        "input = tokenizer_gpt.encode(sequence, return_tensors=\"pt\")\n",
        "generated = model_gpt.generate(input, max_length=30, bos_token_id=1, pad_token_id=1, eos_token_ids=1)\n",
        "\n",
        "resulting_string = tokenizer_gpt.decode(generated.tolist()[0])\n",
        "print(resulting_string)"
      ],
      "metadata": {
        "colab": {
          "base_uri": "https://localhost:8080/"
        },
        "id": "tmtU0qxQjice",
        "outputId": "f14223d6-a6a1-4467-ed00-83af31de3430"
      },
      "execution_count": 47,
      "outputs": [
        {
          "output_type": "stream",
          "name": "stdout",
          "text": [
            "I need to make specific plans to get the job done. I'm not going to be able to do that. I'm not going to be able\n"
          ]
        }
      ]
    },
    {
      "cell_type": "markdown",
      "source": [
        "As it is revealed, the social game played in the diplomacy game is quite distant from the 'average' social game we play in our everyday life. It's more violent, specific to tactics, manipulation, wars! Pretraining gpt models on many specific corpus seems a promising ways to compare different corpus."
      ],
      "metadata": {
        "id": "r7BDRR7fjpCo"
      }
    },
    {
      "cell_type": "markdown",
      "source": [
        "### visualization"
      ],
      "metadata": {
        "id": "JPEuNjTjlh5R"
      }
    },
    {
      "cell_type": "markdown",
      "metadata": {
        "id": "f83nSOZNyKDD"
      },
      "source": [
        "Contextual models can also help us visualize how words in a sentence or different or similar to each other. We will try to construct sentences where words might mean different things in different countries - in the US, people might eat chips with salsa, but in the UK, chips are what Americans call french fries, and might eat it fried fish instead. "
      ]
    },
    {
      "cell_type": "code",
      "execution_count": 48,
      "metadata": {
        "id": "bvm5NbI-yKDD"
      },
      "outputs": [],
      "source": [
        "from transformers import RobertaConfig, RobertaModel, RobertaTokenizer"
      ]
    },
    {
      "cell_type": "code",
      "execution_count": null,
      "metadata": {
        "id": "CNjbGLpGyKDD"
      },
      "outputs": [],
      "source": [
        "roberta_us_model_embedding = RobertaModel.from_pretrained('roberta_us')"
      ]
    },
    {
      "cell_type": "code",
      "execution_count": null,
      "metadata": {
        "id": "jH05H4XjyKDD"
      },
      "outputs": [],
      "source": [
        "roberta_us_tokenizer = RobertaTokenizer.from_pretrained('roberta_us')"
      ]
    },
    {
      "cell_type": "code",
      "execution_count": null,
      "metadata": {
        "id": "31JVhILtyKDD"
      },
      "outputs": [],
      "source": [
        "text = \"Do you have your chips with fish or with salsa?\" "
      ]
    },
    {
      "cell_type": "code",
      "execution_count": null,
      "metadata": {
        "id": "3VuJWIZPyKDD"
      },
      "outputs": [],
      "source": [
        "text1 = \"He went out in just his undershirt and pants.\" #pants are underwear in Britain; maybe closer to an undershirt\n",
        "text2 = \"His braces completed the outfit.\" #braces are suspenders (in Britain); maybe closer to an outfit\n",
        "text3 = \"Does your pencil have a rubber on it?\" #rubber is an eraser in Britain); maybe closer to a pencil\n",
        "text4 = \"Was the bog closer to the forest or the house?\" #bog is a toilen in Britain); maybe closer to a house\n",
        "text5 = \"Are you taking the trolley or the train to the grocery market\" #trolley is a food carriage; possibly closer to a market"
      ]
    },
    {
      "cell_type": "code",
      "execution_count": 49,
      "metadata": {
        "id": "u_jq3pGAyKDE"
      },
      "outputs": [],
      "source": [
        "def visualise_diffs(text, model, tokenizer):\n",
        "    word_vecs = []\n",
        "    for i in range(0, len(text.split())):\n",
        "        word_vecs.append(word_vector(text, i, model, tokenizer))\n",
        "    L = []\n",
        "    for p in word_vecs:\n",
        "        l = []\n",
        "        for q in word_vecs:\n",
        "            l.append(1 - cosine(p, q))\n",
        "        L.append(l)\n",
        "    M = np.array(L)\n",
        "    fig = plt.figure()\n",
        "    div = pd.DataFrame(M, columns = list(text.split()), index = list(text.split()))\n",
        "    ax = sns.heatmap(div)\n",
        "    plt.show()"
      ]
    },
    {
      "cell_type": "code",
      "execution_count": null,
      "metadata": {
        "id": "CklL611cyKDE"
      },
      "outputs": [],
      "source": [
        "visualise_diffs(text, roberta_us_model_embedding, roberta_us_tokenizer)"
      ]
    },
    {
      "cell_type": "code",
      "execution_count": null,
      "metadata": {
        "id": "9oZUDtIeyKDE"
      },
      "outputs": [],
      "source": [
        "roberta_gb_model_embedding = RobertaModel.from_pretrained('roberta_gb')\n",
        "roberta_gb_tokenizer = RobertaTokenizer.from_pretrained('roberta_gb')"
      ]
    },
    {
      "cell_type": "code",
      "execution_count": null,
      "metadata": {
        "id": "N6GNUu_XyKDE"
      },
      "outputs": [],
      "source": [
        "visualise_diffs(text, roberta_gb_model_embedding, roberta_gb_tokenizer)"
      ]
    },
    {
      "cell_type": "markdown",
      "metadata": {
        "id": "t1_m3ZGQyKDF"
      },
      "source": [
        "## <font color=\"red\">*Exercise 4*</font>\n",
        "\n",
        "<font color=\"red\">What's a research question relevant to your final project that would benefit from a generative or conversational model like GPT-2 or GPT-3? What task would you have it perform, and how would you evaluate the ouput?\n",
        "    \n",
        "<font color=\"red\">_Stretch:_ Do it!"
      ]
    },
    {
      "cell_type": "markdown",
      "source": [
        "Research Question: How do conceptions of democracies differ from US to UK? I would first load gpt models on US vs. UK corpus. I will then construct 50 prompts to ask the models to generate texts that reflect their conceptions of democracies, e.g. \"democracy is\", \"democracy will\", \"we all agree that democracy is\", \"we disagree on whether democracy is\", 'democracies and economic inequality are\", and so on. Then, I will evaluate the difference using two measurement: \n",
        "\n",
        "1.   I train word-embedding models on the texts generated by two models and use cosine similarities to inspect how far the word democracy is to other words such as inequality, development; \n",
        "2.   I use bag of words representation of the two corpus, and measure the KL distance between two word distribution.\n",
        "\n"
      ],
      "metadata": {
        "id": "RxtT0CE7lnCX"
      }
    },
    {
      "cell_type": "markdown",
      "metadata": {
        "id": "w-7lt2DcyKDF"
      },
      "source": [
        "# Optional: AI Dungeon\n",
        "A fun way to explore the power of conversation and text generation is [AI Dungeon](https://play.aidungeon.io/main/newGame). If you select _Quick Start_, you can start a text adventure similar to the popular role-playing game Dungeons and Dragons, or the \"choose your own adventure\" books some of us boomers read as kids. AI Dungeon used to use GPT-2 but now uses GPT-3 to generate text in response to your actions. For example, you may begin with the prompt:\n",
        "\n",
        "```\n",
        "You are Jimmy, a wizard living in the kingdom of Larion. You have a staff and a spellbook. You finish your long journey and finally arrive at the ruin you've been looking for. You have come here searching for a mystical spellbook of great power called the book of essence. You look around and see a beautiful woman with raven hair and dark, sparkling eyes. She approaches you and asks you what you seek.\n",
        "\n",
        "You are now before the one known as Raven.\n",
        "```\n",
        "\n",
        "You can respond with any text. I type, `I ask Raven, \"What is the meaning of life?\"`, to which AI Dungeon says:\n",
        "\n",
        "```\n",
        "Raven ponders the question for a moment, and then she answers. Raven says, \"It is the pursuit of happiness.\" What is the pursuit of happiness?\n",
        "```\n",
        "\n",
        "I type, `I respond, \"Happiness to me would be unearthing the treasures of the Kilarean Empire.\"`:\n",
        "\n",
        "```\n",
        "Raven looks at me and says, \"Come with me and live out your one true life.\"\n",
        "\n",
        "You go with Raven through many passages and up and down elevators.\n",
        "```\n",
        "\n",
        "Raven might be helping me unearth the treasures! Not bad!\n",
        "\n",
        "There are a lot of tools like AI Dungeon being developed now with state-of-the-art language models. Now that you have some understanding of deep language models, you can better appreciate them—and perhaps design some of your own!"
      ]
    }
  ],
  "metadata": {
    "kernelspec": {
      "display_name": "Python 3 (ipykernel)",
      "language": "python",
      "name": "python3"
    },
    "language_info": {
      "codemirror_mode": {
        "name": "ipython",
        "version": 3
      },
      "file_extension": ".py",
      "mimetype": "text/x-python",
      "name": "python",
      "nbconvert_exporter": "python",
      "pygments_lexer": "ipython3",
      "version": "3.8.8"
    },
    "colab": {
      "name": "8-Conversation-and-Text-Generation.ipynb",
      "provenance": [],
      "collapsed_sections": [
        "M5VIPx2oUonI",
        "XTcJWCgzUonL",
        "zkPSnyATyKCW",
        "pZG6nRHtyKCd",
        "AEsSwWgryKCw",
        "dyekd_AQyKCz",
        "n7gUCxr2yKC1",
        "d7YN7jnEyKC2",
        "wOZlGyfiyKC4",
        "JPEuNjTjlh5R"
      ]
    },
    "accelerator": "GPU",
    "widgets": {
      "application/vnd.jupyter.widget-state+json": {
        "2fe0594629004764a9a6ff28547f1b67": {
          "model_module": "@jupyter-widgets/controls",
          "model_name": "HBoxModel",
          "model_module_version": "1.5.0",
          "state": {
            "_view_name": "HBoxView",
            "_dom_classes": [],
            "_model_name": "HBoxModel",
            "_view_module": "@jupyter-widgets/controls",
            "_model_module_version": "1.5.0",
            "_view_count": null,
            "_view_module_version": "1.5.0",
            "box_style": "",
            "layout": "IPY_MODEL_c9465ca477a34e43b1a512ae5c6abdf1",
            "_model_module": "@jupyter-widgets/controls",
            "children": [
              "IPY_MODEL_8693255b6ba444a386c9aad77572f117",
              "IPY_MODEL_979c5d3754f04a11a2c6ad16fd93f223",
              "IPY_MODEL_9ca5398bff9d4a8ba78483b0ecb9eb6a"
            ]
          }
        },
        "c9465ca477a34e43b1a512ae5c6abdf1": {
          "model_module": "@jupyter-widgets/base",
          "model_name": "LayoutModel",
          "model_module_version": "1.2.0",
          "state": {
            "_view_name": "LayoutView",
            "grid_template_rows": null,
            "right": null,
            "justify_content": null,
            "_view_module": "@jupyter-widgets/base",
            "overflow": null,
            "_model_module_version": "1.2.0",
            "_view_count": null,
            "flex_flow": null,
            "width": null,
            "min_width": null,
            "border": null,
            "align_items": null,
            "bottom": null,
            "_model_module": "@jupyter-widgets/base",
            "top": null,
            "grid_column": null,
            "overflow_y": null,
            "overflow_x": null,
            "grid_auto_flow": null,
            "grid_area": null,
            "grid_template_columns": null,
            "flex": null,
            "_model_name": "LayoutModel",
            "justify_items": null,
            "grid_row": null,
            "max_height": null,
            "align_content": null,
            "visibility": null,
            "align_self": null,
            "height": null,
            "min_height": null,
            "padding": null,
            "grid_auto_rows": null,
            "grid_gap": null,
            "max_width": null,
            "order": null,
            "_view_module_version": "1.2.0",
            "grid_template_areas": null,
            "object_position": null,
            "object_fit": null,
            "grid_auto_columns": null,
            "margin": null,
            "display": null,
            "left": null
          }
        },
        "8693255b6ba444a386c9aad77572f117": {
          "model_module": "@jupyter-widgets/controls",
          "model_name": "HTMLModel",
          "model_module_version": "1.5.0",
          "state": {
            "_view_name": "HTMLView",
            "style": "IPY_MODEL_b07150807a114de9bdfd1824962b701d",
            "_dom_classes": [],
            "description": "",
            "_model_name": "HTMLModel",
            "placeholder": "​",
            "_view_module": "@jupyter-widgets/controls",
            "_model_module_version": "1.5.0",
            "value": "Downloading: 100%",
            "_view_count": null,
            "_view_module_version": "1.5.0",
            "description_tooltip": null,
            "_model_module": "@jupyter-widgets/controls",
            "layout": "IPY_MODEL_618b447414c04857849ea7259a4c4853"
          }
        },
        "979c5d3754f04a11a2c6ad16fd93f223": {
          "model_module": "@jupyter-widgets/controls",
          "model_name": "FloatProgressModel",
          "model_module_version": "1.5.0",
          "state": {
            "_view_name": "ProgressView",
            "style": "IPY_MODEL_ba92933b58bf467b91d02e0ce7c3ac07",
            "_dom_classes": [],
            "description": "",
            "_model_name": "FloatProgressModel",
            "bar_style": "success",
            "max": 629,
            "_view_module": "@jupyter-widgets/controls",
            "_model_module_version": "1.5.0",
            "value": 629,
            "_view_count": null,
            "_view_module_version": "1.5.0",
            "orientation": "horizontal",
            "min": 0,
            "description_tooltip": null,
            "_model_module": "@jupyter-widgets/controls",
            "layout": "IPY_MODEL_57bc5bf27f454511985545b3f922a1d3"
          }
        },
        "9ca5398bff9d4a8ba78483b0ecb9eb6a": {
          "model_module": "@jupyter-widgets/controls",
          "model_name": "HTMLModel",
          "model_module_version": "1.5.0",
          "state": {
            "_view_name": "HTMLView",
            "style": "IPY_MODEL_8b76a5b805b84533ada90904ad73dd24",
            "_dom_classes": [],
            "description": "",
            "_model_name": "HTMLModel",
            "placeholder": "​",
            "_view_module": "@jupyter-widgets/controls",
            "_model_module_version": "1.5.0",
            "value": " 629/629 [00:00&lt;00:00, 8.77kB/s]",
            "_view_count": null,
            "_view_module_version": "1.5.0",
            "description_tooltip": null,
            "_model_module": "@jupyter-widgets/controls",
            "layout": "IPY_MODEL_1e8a226106704de398d4277293de30a1"
          }
        },
        "b07150807a114de9bdfd1824962b701d": {
          "model_module": "@jupyter-widgets/controls",
          "model_name": "DescriptionStyleModel",
          "model_module_version": "1.5.0",
          "state": {
            "_view_name": "StyleView",
            "_model_name": "DescriptionStyleModel",
            "description_width": "",
            "_view_module": "@jupyter-widgets/base",
            "_model_module_version": "1.5.0",
            "_view_count": null,
            "_view_module_version": "1.2.0",
            "_model_module": "@jupyter-widgets/controls"
          }
        },
        "618b447414c04857849ea7259a4c4853": {
          "model_module": "@jupyter-widgets/base",
          "model_name": "LayoutModel",
          "model_module_version": "1.2.0",
          "state": {
            "_view_name": "LayoutView",
            "grid_template_rows": null,
            "right": null,
            "justify_content": null,
            "_view_module": "@jupyter-widgets/base",
            "overflow": null,
            "_model_module_version": "1.2.0",
            "_view_count": null,
            "flex_flow": null,
            "width": null,
            "min_width": null,
            "border": null,
            "align_items": null,
            "bottom": null,
            "_model_module": "@jupyter-widgets/base",
            "top": null,
            "grid_column": null,
            "overflow_y": null,
            "overflow_x": null,
            "grid_auto_flow": null,
            "grid_area": null,
            "grid_template_columns": null,
            "flex": null,
            "_model_name": "LayoutModel",
            "justify_items": null,
            "grid_row": null,
            "max_height": null,
            "align_content": null,
            "visibility": null,
            "align_self": null,
            "height": null,
            "min_height": null,
            "padding": null,
            "grid_auto_rows": null,
            "grid_gap": null,
            "max_width": null,
            "order": null,
            "_view_module_version": "1.2.0",
            "grid_template_areas": null,
            "object_position": null,
            "object_fit": null,
            "grid_auto_columns": null,
            "margin": null,
            "display": null,
            "left": null
          }
        },
        "ba92933b58bf467b91d02e0ce7c3ac07": {
          "model_module": "@jupyter-widgets/controls",
          "model_name": "ProgressStyleModel",
          "model_module_version": "1.5.0",
          "state": {
            "_view_name": "StyleView",
            "_model_name": "ProgressStyleModel",
            "description_width": "",
            "_view_module": "@jupyter-widgets/base",
            "_model_module_version": "1.5.0",
            "_view_count": null,
            "_view_module_version": "1.2.0",
            "bar_color": null,
            "_model_module": "@jupyter-widgets/controls"
          }
        },
        "57bc5bf27f454511985545b3f922a1d3": {
          "model_module": "@jupyter-widgets/base",
          "model_name": "LayoutModel",
          "model_module_version": "1.2.0",
          "state": {
            "_view_name": "LayoutView",
            "grid_template_rows": null,
            "right": null,
            "justify_content": null,
            "_view_module": "@jupyter-widgets/base",
            "overflow": null,
            "_model_module_version": "1.2.0",
            "_view_count": null,
            "flex_flow": null,
            "width": null,
            "min_width": null,
            "border": null,
            "align_items": null,
            "bottom": null,
            "_model_module": "@jupyter-widgets/base",
            "top": null,
            "grid_column": null,
            "overflow_y": null,
            "overflow_x": null,
            "grid_auto_flow": null,
            "grid_area": null,
            "grid_template_columns": null,
            "flex": null,
            "_model_name": "LayoutModel",
            "justify_items": null,
            "grid_row": null,
            "max_height": null,
            "align_content": null,
            "visibility": null,
            "align_self": null,
            "height": null,
            "min_height": null,
            "padding": null,
            "grid_auto_rows": null,
            "grid_gap": null,
            "max_width": null,
            "order": null,
            "_view_module_version": "1.2.0",
            "grid_template_areas": null,
            "object_position": null,
            "object_fit": null,
            "grid_auto_columns": null,
            "margin": null,
            "display": null,
            "left": null
          }
        },
        "8b76a5b805b84533ada90904ad73dd24": {
          "model_module": "@jupyter-widgets/controls",
          "model_name": "DescriptionStyleModel",
          "model_module_version": "1.5.0",
          "state": {
            "_view_name": "StyleView",
            "_model_name": "DescriptionStyleModel",
            "description_width": "",
            "_view_module": "@jupyter-widgets/base",
            "_model_module_version": "1.5.0",
            "_view_count": null,
            "_view_module_version": "1.2.0",
            "_model_module": "@jupyter-widgets/controls"
          }
        },
        "1e8a226106704de398d4277293de30a1": {
          "model_module": "@jupyter-widgets/base",
          "model_name": "LayoutModel",
          "model_module_version": "1.2.0",
          "state": {
            "_view_name": "LayoutView",
            "grid_template_rows": null,
            "right": null,
            "justify_content": null,
            "_view_module": "@jupyter-widgets/base",
            "overflow": null,
            "_model_module_version": "1.2.0",
            "_view_count": null,
            "flex_flow": null,
            "width": null,
            "min_width": null,
            "border": null,
            "align_items": null,
            "bottom": null,
            "_model_module": "@jupyter-widgets/base",
            "top": null,
            "grid_column": null,
            "overflow_y": null,
            "overflow_x": null,
            "grid_auto_flow": null,
            "grid_area": null,
            "grid_template_columns": null,
            "flex": null,
            "_model_name": "LayoutModel",
            "justify_items": null,
            "grid_row": null,
            "max_height": null,
            "align_content": null,
            "visibility": null,
            "align_self": null,
            "height": null,
            "min_height": null,
            "padding": null,
            "grid_auto_rows": null,
            "grid_gap": null,
            "max_width": null,
            "order": null,
            "_view_module_version": "1.2.0",
            "grid_template_areas": null,
            "object_position": null,
            "object_fit": null,
            "grid_auto_columns": null,
            "margin": null,
            "display": null,
            "left": null
          }
        },
        "93fcfeb842bf44d58ff45a25c2899b59": {
          "model_module": "@jupyter-widgets/controls",
          "model_name": "HBoxModel",
          "model_module_version": "1.5.0",
          "state": {
            "_view_name": "HBoxView",
            "_dom_classes": [],
            "_model_name": "HBoxModel",
            "_view_module": "@jupyter-widgets/controls",
            "_model_module_version": "1.5.0",
            "_view_count": null,
            "_view_module_version": "1.5.0",
            "box_style": "",
            "layout": "IPY_MODEL_be09ffcb97094aeb97e7a52591b291cb",
            "_model_module": "@jupyter-widgets/controls",
            "children": [
              "IPY_MODEL_2c159778318046e88f9d77db8e904b3d",
              "IPY_MODEL_514678ad4d3b4954a8fefcb01923a4f9",
              "IPY_MODEL_34bf7a9a2a7a4f11be7a6eab76feb7a8"
            ]
          }
        },
        "be09ffcb97094aeb97e7a52591b291cb": {
          "model_module": "@jupyter-widgets/base",
          "model_name": "LayoutModel",
          "model_module_version": "1.2.0",
          "state": {
            "_view_name": "LayoutView",
            "grid_template_rows": null,
            "right": null,
            "justify_content": null,
            "_view_module": "@jupyter-widgets/base",
            "overflow": null,
            "_model_module_version": "1.2.0",
            "_view_count": null,
            "flex_flow": null,
            "width": null,
            "min_width": null,
            "border": null,
            "align_items": null,
            "bottom": null,
            "_model_module": "@jupyter-widgets/base",
            "top": null,
            "grid_column": null,
            "overflow_y": null,
            "overflow_x": null,
            "grid_auto_flow": null,
            "grid_area": null,
            "grid_template_columns": null,
            "flex": null,
            "_model_name": "LayoutModel",
            "justify_items": null,
            "grid_row": null,
            "max_height": null,
            "align_content": null,
            "visibility": null,
            "align_self": null,
            "height": null,
            "min_height": null,
            "padding": null,
            "grid_auto_rows": null,
            "grid_gap": null,
            "max_width": null,
            "order": null,
            "_view_module_version": "1.2.0",
            "grid_template_areas": null,
            "object_position": null,
            "object_fit": null,
            "grid_auto_columns": null,
            "margin": null,
            "display": null,
            "left": null
          }
        },
        "2c159778318046e88f9d77db8e904b3d": {
          "model_module": "@jupyter-widgets/controls",
          "model_name": "HTMLModel",
          "model_module_version": "1.5.0",
          "state": {
            "_view_name": "HTMLView",
            "style": "IPY_MODEL_b0e131d419a746ef9eacdc3a702ac1d4",
            "_dom_classes": [],
            "description": "",
            "_model_name": "HTMLModel",
            "placeholder": "​",
            "_view_module": "@jupyter-widgets/controls",
            "_model_module_version": "1.5.0",
            "value": "Downloading: 100%",
            "_view_count": null,
            "_view_module_version": "1.5.0",
            "description_tooltip": null,
            "_model_module": "@jupyter-widgets/controls",
            "layout": "IPY_MODEL_5171e99f7f964e37bfb88c37a22aaf4a"
          }
        },
        "514678ad4d3b4954a8fefcb01923a4f9": {
          "model_module": "@jupyter-widgets/controls",
          "model_name": "FloatProgressModel",
          "model_module_version": "1.5.0",
          "state": {
            "_view_name": "ProgressView",
            "style": "IPY_MODEL_32ec0a7a695b4a3ea518c2766cdbfc25",
            "_dom_classes": [],
            "description": "",
            "_model_name": "FloatProgressModel",
            "bar_style": "success",
            "max": 267844284,
            "_view_module": "@jupyter-widgets/controls",
            "_model_module_version": "1.5.0",
            "value": 267844284,
            "_view_count": null,
            "_view_module_version": "1.5.0",
            "orientation": "horizontal",
            "min": 0,
            "description_tooltip": null,
            "_model_module": "@jupyter-widgets/controls",
            "layout": "IPY_MODEL_66cc5af0fc584fd3a1c37a1b4a2c5842"
          }
        },
        "34bf7a9a2a7a4f11be7a6eab76feb7a8": {
          "model_module": "@jupyter-widgets/controls",
          "model_name": "HTMLModel",
          "model_module_version": "1.5.0",
          "state": {
            "_view_name": "HTMLView",
            "style": "IPY_MODEL_d2fda7d658ac40f3ba7e6c231cea4a02",
            "_dom_classes": [],
            "description": "",
            "_model_name": "HTMLModel",
            "placeholder": "​",
            "_view_module": "@jupyter-widgets/controls",
            "_model_module_version": "1.5.0",
            "value": " 255M/255M [00:07&lt;00:00, 33.8MB/s]",
            "_view_count": null,
            "_view_module_version": "1.5.0",
            "description_tooltip": null,
            "_model_module": "@jupyter-widgets/controls",
            "layout": "IPY_MODEL_f672192824a447f980e88f1e93723581"
          }
        },
        "b0e131d419a746ef9eacdc3a702ac1d4": {
          "model_module": "@jupyter-widgets/controls",
          "model_name": "DescriptionStyleModel",
          "model_module_version": "1.5.0",
          "state": {
            "_view_name": "StyleView",
            "_model_name": "DescriptionStyleModel",
            "description_width": "",
            "_view_module": "@jupyter-widgets/base",
            "_model_module_version": "1.5.0",
            "_view_count": null,
            "_view_module_version": "1.2.0",
            "_model_module": "@jupyter-widgets/controls"
          }
        },
        "5171e99f7f964e37bfb88c37a22aaf4a": {
          "model_module": "@jupyter-widgets/base",
          "model_name": "LayoutModel",
          "model_module_version": "1.2.0",
          "state": {
            "_view_name": "LayoutView",
            "grid_template_rows": null,
            "right": null,
            "justify_content": null,
            "_view_module": "@jupyter-widgets/base",
            "overflow": null,
            "_model_module_version": "1.2.0",
            "_view_count": null,
            "flex_flow": null,
            "width": null,
            "min_width": null,
            "border": null,
            "align_items": null,
            "bottom": null,
            "_model_module": "@jupyter-widgets/base",
            "top": null,
            "grid_column": null,
            "overflow_y": null,
            "overflow_x": null,
            "grid_auto_flow": null,
            "grid_area": null,
            "grid_template_columns": null,
            "flex": null,
            "_model_name": "LayoutModel",
            "justify_items": null,
            "grid_row": null,
            "max_height": null,
            "align_content": null,
            "visibility": null,
            "align_self": null,
            "height": null,
            "min_height": null,
            "padding": null,
            "grid_auto_rows": null,
            "grid_gap": null,
            "max_width": null,
            "order": null,
            "_view_module_version": "1.2.0",
            "grid_template_areas": null,
            "object_position": null,
            "object_fit": null,
            "grid_auto_columns": null,
            "margin": null,
            "display": null,
            "left": null
          }
        },
        "32ec0a7a695b4a3ea518c2766cdbfc25": {
          "model_module": "@jupyter-widgets/controls",
          "model_name": "ProgressStyleModel",
          "model_module_version": "1.5.0",
          "state": {
            "_view_name": "StyleView",
            "_model_name": "ProgressStyleModel",
            "description_width": "",
            "_view_module": "@jupyter-widgets/base",
            "_model_module_version": "1.5.0",
            "_view_count": null,
            "_view_module_version": "1.2.0",
            "bar_color": null,
            "_model_module": "@jupyter-widgets/controls"
          }
        },
        "66cc5af0fc584fd3a1c37a1b4a2c5842": {
          "model_module": "@jupyter-widgets/base",
          "model_name": "LayoutModel",
          "model_module_version": "1.2.0",
          "state": {
            "_view_name": "LayoutView",
            "grid_template_rows": null,
            "right": null,
            "justify_content": null,
            "_view_module": "@jupyter-widgets/base",
            "overflow": null,
            "_model_module_version": "1.2.0",
            "_view_count": null,
            "flex_flow": null,
            "width": null,
            "min_width": null,
            "border": null,
            "align_items": null,
            "bottom": null,
            "_model_module": "@jupyter-widgets/base",
            "top": null,
            "grid_column": null,
            "overflow_y": null,
            "overflow_x": null,
            "grid_auto_flow": null,
            "grid_area": null,
            "grid_template_columns": null,
            "flex": null,
            "_model_name": "LayoutModel",
            "justify_items": null,
            "grid_row": null,
            "max_height": null,
            "align_content": null,
            "visibility": null,
            "align_self": null,
            "height": null,
            "min_height": null,
            "padding": null,
            "grid_auto_rows": null,
            "grid_gap": null,
            "max_width": null,
            "order": null,
            "_view_module_version": "1.2.0",
            "grid_template_areas": null,
            "object_position": null,
            "object_fit": null,
            "grid_auto_columns": null,
            "margin": null,
            "display": null,
            "left": null
          }
        },
        "d2fda7d658ac40f3ba7e6c231cea4a02": {
          "model_module": "@jupyter-widgets/controls",
          "model_name": "DescriptionStyleModel",
          "model_module_version": "1.5.0",
          "state": {
            "_view_name": "StyleView",
            "_model_name": "DescriptionStyleModel",
            "description_width": "",
            "_view_module": "@jupyter-widgets/base",
            "_model_module_version": "1.5.0",
            "_view_count": null,
            "_view_module_version": "1.2.0",
            "_model_module": "@jupyter-widgets/controls"
          }
        },
        "f672192824a447f980e88f1e93723581": {
          "model_module": "@jupyter-widgets/base",
          "model_name": "LayoutModel",
          "model_module_version": "1.2.0",
          "state": {
            "_view_name": "LayoutView",
            "grid_template_rows": null,
            "right": null,
            "justify_content": null,
            "_view_module": "@jupyter-widgets/base",
            "overflow": null,
            "_model_module_version": "1.2.0",
            "_view_count": null,
            "flex_flow": null,
            "width": null,
            "min_width": null,
            "border": null,
            "align_items": null,
            "bottom": null,
            "_model_module": "@jupyter-widgets/base",
            "top": null,
            "grid_column": null,
            "overflow_y": null,
            "overflow_x": null,
            "grid_auto_flow": null,
            "grid_area": null,
            "grid_template_columns": null,
            "flex": null,
            "_model_name": "LayoutModel",
            "justify_items": null,
            "grid_row": null,
            "max_height": null,
            "align_content": null,
            "visibility": null,
            "align_self": null,
            "height": null,
            "min_height": null,
            "padding": null,
            "grid_auto_rows": null,
            "grid_gap": null,
            "max_width": null,
            "order": null,
            "_view_module_version": "1.2.0",
            "grid_template_areas": null,
            "object_position": null,
            "object_fit": null,
            "grid_auto_columns": null,
            "margin": null,
            "display": null,
            "left": null
          }
        },
        "56c60be5acbf4cedac65daa3e82a40b5": {
          "model_module": "@jupyter-widgets/controls",
          "model_name": "HBoxModel",
          "model_module_version": "1.5.0",
          "state": {
            "_view_name": "HBoxView",
            "_dom_classes": [],
            "_model_name": "HBoxModel",
            "_view_module": "@jupyter-widgets/controls",
            "_model_module_version": "1.5.0",
            "_view_count": null,
            "_view_module_version": "1.5.0",
            "box_style": "",
            "layout": "IPY_MODEL_3d9c550c841a401a948fc62f7dc414a4",
            "_model_module": "@jupyter-widgets/controls",
            "children": [
              "IPY_MODEL_f1b058598ea34e13b78f3cfeed391e61",
              "IPY_MODEL_446e893ad1774c5b89cfb40bf2eb5a42",
              "IPY_MODEL_7b1b611de1814e239a195916968a13f3"
            ]
          }
        },
        "3d9c550c841a401a948fc62f7dc414a4": {
          "model_module": "@jupyter-widgets/base",
          "model_name": "LayoutModel",
          "model_module_version": "1.2.0",
          "state": {
            "_view_name": "LayoutView",
            "grid_template_rows": null,
            "right": null,
            "justify_content": null,
            "_view_module": "@jupyter-widgets/base",
            "overflow": null,
            "_model_module_version": "1.2.0",
            "_view_count": null,
            "flex_flow": null,
            "width": null,
            "min_width": null,
            "border": null,
            "align_items": null,
            "bottom": null,
            "_model_module": "@jupyter-widgets/base",
            "top": null,
            "grid_column": null,
            "overflow_y": null,
            "overflow_x": null,
            "grid_auto_flow": null,
            "grid_area": null,
            "grid_template_columns": null,
            "flex": null,
            "_model_name": "LayoutModel",
            "justify_items": null,
            "grid_row": null,
            "max_height": null,
            "align_content": null,
            "visibility": null,
            "align_self": null,
            "height": null,
            "min_height": null,
            "padding": null,
            "grid_auto_rows": null,
            "grid_gap": null,
            "max_width": null,
            "order": null,
            "_view_module_version": "1.2.0",
            "grid_template_areas": null,
            "object_position": null,
            "object_fit": null,
            "grid_auto_columns": null,
            "margin": null,
            "display": null,
            "left": null
          }
        },
        "f1b058598ea34e13b78f3cfeed391e61": {
          "model_module": "@jupyter-widgets/controls",
          "model_name": "HTMLModel",
          "model_module_version": "1.5.0",
          "state": {
            "_view_name": "HTMLView",
            "style": "IPY_MODEL_c7ad2d70f24a4cc5bdcb5b31e6e9419f",
            "_dom_classes": [],
            "description": "",
            "_model_name": "HTMLModel",
            "placeholder": "​",
            "_view_module": "@jupyter-widgets/controls",
            "_model_module_version": "1.5.0",
            "value": "Downloading: 100%",
            "_view_count": null,
            "_view_module_version": "1.5.0",
            "description_tooltip": null,
            "_model_module": "@jupyter-widgets/controls",
            "layout": "IPY_MODEL_418a74e7f94d48339b13cbbc1bbd471f"
          }
        },
        "446e893ad1774c5b89cfb40bf2eb5a42": {
          "model_module": "@jupyter-widgets/controls",
          "model_name": "FloatProgressModel",
          "model_module_version": "1.5.0",
          "state": {
            "_view_name": "ProgressView",
            "style": "IPY_MODEL_b6b11c0dc4a74ce3a2199ac9ab8a816d",
            "_dom_classes": [],
            "description": "",
            "_model_name": "FloatProgressModel",
            "bar_style": "success",
            "max": 48,
            "_view_module": "@jupyter-widgets/controls",
            "_model_module_version": "1.5.0",
            "value": 48,
            "_view_count": null,
            "_view_module_version": "1.5.0",
            "orientation": "horizontal",
            "min": 0,
            "description_tooltip": null,
            "_model_module": "@jupyter-widgets/controls",
            "layout": "IPY_MODEL_ae1f08b1b23a4a9a879525416443f13a"
          }
        },
        "7b1b611de1814e239a195916968a13f3": {
          "model_module": "@jupyter-widgets/controls",
          "model_name": "HTMLModel",
          "model_module_version": "1.5.0",
          "state": {
            "_view_name": "HTMLView",
            "style": "IPY_MODEL_792f45c2360640c9ba9a0dfa28f8d1cd",
            "_dom_classes": [],
            "description": "",
            "_model_name": "HTMLModel",
            "placeholder": "​",
            "_view_module": "@jupyter-widgets/controls",
            "_model_module_version": "1.5.0",
            "value": " 48.0/48.0 [00:00&lt;00:00, 1.26kB/s]",
            "_view_count": null,
            "_view_module_version": "1.5.0",
            "description_tooltip": null,
            "_model_module": "@jupyter-widgets/controls",
            "layout": "IPY_MODEL_cbdb2a0d40dd40d5aa40bcf03383f95b"
          }
        },
        "c7ad2d70f24a4cc5bdcb5b31e6e9419f": {
          "model_module": "@jupyter-widgets/controls",
          "model_name": "DescriptionStyleModel",
          "model_module_version": "1.5.0",
          "state": {
            "_view_name": "StyleView",
            "_model_name": "DescriptionStyleModel",
            "description_width": "",
            "_view_module": "@jupyter-widgets/base",
            "_model_module_version": "1.5.0",
            "_view_count": null,
            "_view_module_version": "1.2.0",
            "_model_module": "@jupyter-widgets/controls"
          }
        },
        "418a74e7f94d48339b13cbbc1bbd471f": {
          "model_module": "@jupyter-widgets/base",
          "model_name": "LayoutModel",
          "model_module_version": "1.2.0",
          "state": {
            "_view_name": "LayoutView",
            "grid_template_rows": null,
            "right": null,
            "justify_content": null,
            "_view_module": "@jupyter-widgets/base",
            "overflow": null,
            "_model_module_version": "1.2.0",
            "_view_count": null,
            "flex_flow": null,
            "width": null,
            "min_width": null,
            "border": null,
            "align_items": null,
            "bottom": null,
            "_model_module": "@jupyter-widgets/base",
            "top": null,
            "grid_column": null,
            "overflow_y": null,
            "overflow_x": null,
            "grid_auto_flow": null,
            "grid_area": null,
            "grid_template_columns": null,
            "flex": null,
            "_model_name": "LayoutModel",
            "justify_items": null,
            "grid_row": null,
            "max_height": null,
            "align_content": null,
            "visibility": null,
            "align_self": null,
            "height": null,
            "min_height": null,
            "padding": null,
            "grid_auto_rows": null,
            "grid_gap": null,
            "max_width": null,
            "order": null,
            "_view_module_version": "1.2.0",
            "grid_template_areas": null,
            "object_position": null,
            "object_fit": null,
            "grid_auto_columns": null,
            "margin": null,
            "display": null,
            "left": null
          }
        },
        "b6b11c0dc4a74ce3a2199ac9ab8a816d": {
          "model_module": "@jupyter-widgets/controls",
          "model_name": "ProgressStyleModel",
          "model_module_version": "1.5.0",
          "state": {
            "_view_name": "StyleView",
            "_model_name": "ProgressStyleModel",
            "description_width": "",
            "_view_module": "@jupyter-widgets/base",
            "_model_module_version": "1.5.0",
            "_view_count": null,
            "_view_module_version": "1.2.0",
            "bar_color": null,
            "_model_module": "@jupyter-widgets/controls"
          }
        },
        "ae1f08b1b23a4a9a879525416443f13a": {
          "model_module": "@jupyter-widgets/base",
          "model_name": "LayoutModel",
          "model_module_version": "1.2.0",
          "state": {
            "_view_name": "LayoutView",
            "grid_template_rows": null,
            "right": null,
            "justify_content": null,
            "_view_module": "@jupyter-widgets/base",
            "overflow": null,
            "_model_module_version": "1.2.0",
            "_view_count": null,
            "flex_flow": null,
            "width": null,
            "min_width": null,
            "border": null,
            "align_items": null,
            "bottom": null,
            "_model_module": "@jupyter-widgets/base",
            "top": null,
            "grid_column": null,
            "overflow_y": null,
            "overflow_x": null,
            "grid_auto_flow": null,
            "grid_area": null,
            "grid_template_columns": null,
            "flex": null,
            "_model_name": "LayoutModel",
            "justify_items": null,
            "grid_row": null,
            "max_height": null,
            "align_content": null,
            "visibility": null,
            "align_self": null,
            "height": null,
            "min_height": null,
            "padding": null,
            "grid_auto_rows": null,
            "grid_gap": null,
            "max_width": null,
            "order": null,
            "_view_module_version": "1.2.0",
            "grid_template_areas": null,
            "object_position": null,
            "object_fit": null,
            "grid_auto_columns": null,
            "margin": null,
            "display": null,
            "left": null
          }
        },
        "792f45c2360640c9ba9a0dfa28f8d1cd": {
          "model_module": "@jupyter-widgets/controls",
          "model_name": "DescriptionStyleModel",
          "model_module_version": "1.5.0",
          "state": {
            "_view_name": "StyleView",
            "_model_name": "DescriptionStyleModel",
            "description_width": "",
            "_view_module": "@jupyter-widgets/base",
            "_model_module_version": "1.5.0",
            "_view_count": null,
            "_view_module_version": "1.2.0",
            "_model_module": "@jupyter-widgets/controls"
          }
        },
        "cbdb2a0d40dd40d5aa40bcf03383f95b": {
          "model_module": "@jupyter-widgets/base",
          "model_name": "LayoutModel",
          "model_module_version": "1.2.0",
          "state": {
            "_view_name": "LayoutView",
            "grid_template_rows": null,
            "right": null,
            "justify_content": null,
            "_view_module": "@jupyter-widgets/base",
            "overflow": null,
            "_model_module_version": "1.2.0",
            "_view_count": null,
            "flex_flow": null,
            "width": null,
            "min_width": null,
            "border": null,
            "align_items": null,
            "bottom": null,
            "_model_module": "@jupyter-widgets/base",
            "top": null,
            "grid_column": null,
            "overflow_y": null,
            "overflow_x": null,
            "grid_auto_flow": null,
            "grid_area": null,
            "grid_template_columns": null,
            "flex": null,
            "_model_name": "LayoutModel",
            "justify_items": null,
            "grid_row": null,
            "max_height": null,
            "align_content": null,
            "visibility": null,
            "align_self": null,
            "height": null,
            "min_height": null,
            "padding": null,
            "grid_auto_rows": null,
            "grid_gap": null,
            "max_width": null,
            "order": null,
            "_view_module_version": "1.2.0",
            "grid_template_areas": null,
            "object_position": null,
            "object_fit": null,
            "grid_auto_columns": null,
            "margin": null,
            "display": null,
            "left": null
          }
        },
        "d85e3f888645494f8d8d23ee4a08aef6": {
          "model_module": "@jupyter-widgets/controls",
          "model_name": "HBoxModel",
          "model_module_version": "1.5.0",
          "state": {
            "_view_name": "HBoxView",
            "_dom_classes": [],
            "_model_name": "HBoxModel",
            "_view_module": "@jupyter-widgets/controls",
            "_model_module_version": "1.5.0",
            "_view_count": null,
            "_view_module_version": "1.5.0",
            "box_style": "",
            "layout": "IPY_MODEL_770aa1d19cea44399655b4af6fe6b460",
            "_model_module": "@jupyter-widgets/controls",
            "children": [
              "IPY_MODEL_3daa34392721447f960db92cb624743b",
              "IPY_MODEL_f71b5747171a45eca0b170458803a9f7",
              "IPY_MODEL_103042bfd11e4b6b83aa31f4f509ee6d"
            ]
          }
        },
        "770aa1d19cea44399655b4af6fe6b460": {
          "model_module": "@jupyter-widgets/base",
          "model_name": "LayoutModel",
          "model_module_version": "1.2.0",
          "state": {
            "_view_name": "LayoutView",
            "grid_template_rows": null,
            "right": null,
            "justify_content": null,
            "_view_module": "@jupyter-widgets/base",
            "overflow": null,
            "_model_module_version": "1.2.0",
            "_view_count": null,
            "flex_flow": null,
            "width": null,
            "min_width": null,
            "border": null,
            "align_items": null,
            "bottom": null,
            "_model_module": "@jupyter-widgets/base",
            "top": null,
            "grid_column": null,
            "overflow_y": null,
            "overflow_x": null,
            "grid_auto_flow": null,
            "grid_area": null,
            "grid_template_columns": null,
            "flex": null,
            "_model_name": "LayoutModel",
            "justify_items": null,
            "grid_row": null,
            "max_height": null,
            "align_content": null,
            "visibility": null,
            "align_self": null,
            "height": null,
            "min_height": null,
            "padding": null,
            "grid_auto_rows": null,
            "grid_gap": null,
            "max_width": null,
            "order": null,
            "_view_module_version": "1.2.0",
            "grid_template_areas": null,
            "object_position": null,
            "object_fit": null,
            "grid_auto_columns": null,
            "margin": null,
            "display": null,
            "left": null
          }
        },
        "3daa34392721447f960db92cb624743b": {
          "model_module": "@jupyter-widgets/controls",
          "model_name": "HTMLModel",
          "model_module_version": "1.5.0",
          "state": {
            "_view_name": "HTMLView",
            "style": "IPY_MODEL_ef46dd08ac75420bb4d34c2bea9fe80b",
            "_dom_classes": [],
            "description": "",
            "_model_name": "HTMLModel",
            "placeholder": "​",
            "_view_module": "@jupyter-widgets/controls",
            "_model_module_version": "1.5.0",
            "value": "Downloading: 100%",
            "_view_count": null,
            "_view_module_version": "1.5.0",
            "description_tooltip": null,
            "_model_module": "@jupyter-widgets/controls",
            "layout": "IPY_MODEL_a21354986f26432d9ca02d0ea20d7ac6"
          }
        },
        "f71b5747171a45eca0b170458803a9f7": {
          "model_module": "@jupyter-widgets/controls",
          "model_name": "FloatProgressModel",
          "model_module_version": "1.5.0",
          "state": {
            "_view_name": "ProgressView",
            "style": "IPY_MODEL_a22bbdca4ebf4a8e819ef65e36ca7c45",
            "_dom_classes": [],
            "description": "",
            "_model_name": "FloatProgressModel",
            "bar_style": "success",
            "max": 231508,
            "_view_module": "@jupyter-widgets/controls",
            "_model_module_version": "1.5.0",
            "value": 231508,
            "_view_count": null,
            "_view_module_version": "1.5.0",
            "orientation": "horizontal",
            "min": 0,
            "description_tooltip": null,
            "_model_module": "@jupyter-widgets/controls",
            "layout": "IPY_MODEL_ecb87cd9ba0c4b2db15059c17cc12c7e"
          }
        },
        "103042bfd11e4b6b83aa31f4f509ee6d": {
          "model_module": "@jupyter-widgets/controls",
          "model_name": "HTMLModel",
          "model_module_version": "1.5.0",
          "state": {
            "_view_name": "HTMLView",
            "style": "IPY_MODEL_c37831b4cfbb4b91bc377efb4221c958",
            "_dom_classes": [],
            "description": "",
            "_model_name": "HTMLModel",
            "placeholder": "​",
            "_view_module": "@jupyter-widgets/controls",
            "_model_module_version": "1.5.0",
            "value": " 226k/226k [00:00&lt;00:00, 317kB/s]",
            "_view_count": null,
            "_view_module_version": "1.5.0",
            "description_tooltip": null,
            "_model_module": "@jupyter-widgets/controls",
            "layout": "IPY_MODEL_095795fdac294695a0ebadc3e18998eb"
          }
        },
        "ef46dd08ac75420bb4d34c2bea9fe80b": {
          "model_module": "@jupyter-widgets/controls",
          "model_name": "DescriptionStyleModel",
          "model_module_version": "1.5.0",
          "state": {
            "_view_name": "StyleView",
            "_model_name": "DescriptionStyleModel",
            "description_width": "",
            "_view_module": "@jupyter-widgets/base",
            "_model_module_version": "1.5.0",
            "_view_count": null,
            "_view_module_version": "1.2.0",
            "_model_module": "@jupyter-widgets/controls"
          }
        },
        "a21354986f26432d9ca02d0ea20d7ac6": {
          "model_module": "@jupyter-widgets/base",
          "model_name": "LayoutModel",
          "model_module_version": "1.2.0",
          "state": {
            "_view_name": "LayoutView",
            "grid_template_rows": null,
            "right": null,
            "justify_content": null,
            "_view_module": "@jupyter-widgets/base",
            "overflow": null,
            "_model_module_version": "1.2.0",
            "_view_count": null,
            "flex_flow": null,
            "width": null,
            "min_width": null,
            "border": null,
            "align_items": null,
            "bottom": null,
            "_model_module": "@jupyter-widgets/base",
            "top": null,
            "grid_column": null,
            "overflow_y": null,
            "overflow_x": null,
            "grid_auto_flow": null,
            "grid_area": null,
            "grid_template_columns": null,
            "flex": null,
            "_model_name": "LayoutModel",
            "justify_items": null,
            "grid_row": null,
            "max_height": null,
            "align_content": null,
            "visibility": null,
            "align_self": null,
            "height": null,
            "min_height": null,
            "padding": null,
            "grid_auto_rows": null,
            "grid_gap": null,
            "max_width": null,
            "order": null,
            "_view_module_version": "1.2.0",
            "grid_template_areas": null,
            "object_position": null,
            "object_fit": null,
            "grid_auto_columns": null,
            "margin": null,
            "display": null,
            "left": null
          }
        },
        "a22bbdca4ebf4a8e819ef65e36ca7c45": {
          "model_module": "@jupyter-widgets/controls",
          "model_name": "ProgressStyleModel",
          "model_module_version": "1.5.0",
          "state": {
            "_view_name": "StyleView",
            "_model_name": "ProgressStyleModel",
            "description_width": "",
            "_view_module": "@jupyter-widgets/base",
            "_model_module_version": "1.5.0",
            "_view_count": null,
            "_view_module_version": "1.2.0",
            "bar_color": null,
            "_model_module": "@jupyter-widgets/controls"
          }
        },
        "ecb87cd9ba0c4b2db15059c17cc12c7e": {
          "model_module": "@jupyter-widgets/base",
          "model_name": "LayoutModel",
          "model_module_version": "1.2.0",
          "state": {
            "_view_name": "LayoutView",
            "grid_template_rows": null,
            "right": null,
            "justify_content": null,
            "_view_module": "@jupyter-widgets/base",
            "overflow": null,
            "_model_module_version": "1.2.0",
            "_view_count": null,
            "flex_flow": null,
            "width": null,
            "min_width": null,
            "border": null,
            "align_items": null,
            "bottom": null,
            "_model_module": "@jupyter-widgets/base",
            "top": null,
            "grid_column": null,
            "overflow_y": null,
            "overflow_x": null,
            "grid_auto_flow": null,
            "grid_area": null,
            "grid_template_columns": null,
            "flex": null,
            "_model_name": "LayoutModel",
            "justify_items": null,
            "grid_row": null,
            "max_height": null,
            "align_content": null,
            "visibility": null,
            "align_self": null,
            "height": null,
            "min_height": null,
            "padding": null,
            "grid_auto_rows": null,
            "grid_gap": null,
            "max_width": null,
            "order": null,
            "_view_module_version": "1.2.0",
            "grid_template_areas": null,
            "object_position": null,
            "object_fit": null,
            "grid_auto_columns": null,
            "margin": null,
            "display": null,
            "left": null
          }
        },
        "c37831b4cfbb4b91bc377efb4221c958": {
          "model_module": "@jupyter-widgets/controls",
          "model_name": "DescriptionStyleModel",
          "model_module_version": "1.5.0",
          "state": {
            "_view_name": "StyleView",
            "_model_name": "DescriptionStyleModel",
            "description_width": "",
            "_view_module": "@jupyter-widgets/base",
            "_model_module_version": "1.5.0",
            "_view_count": null,
            "_view_module_version": "1.2.0",
            "_model_module": "@jupyter-widgets/controls"
          }
        },
        "095795fdac294695a0ebadc3e18998eb": {
          "model_module": "@jupyter-widgets/base",
          "model_name": "LayoutModel",
          "model_module_version": "1.2.0",
          "state": {
            "_view_name": "LayoutView",
            "grid_template_rows": null,
            "right": null,
            "justify_content": null,
            "_view_module": "@jupyter-widgets/base",
            "overflow": null,
            "_model_module_version": "1.2.0",
            "_view_count": null,
            "flex_flow": null,
            "width": null,
            "min_width": null,
            "border": null,
            "align_items": null,
            "bottom": null,
            "_model_module": "@jupyter-widgets/base",
            "top": null,
            "grid_column": null,
            "overflow_y": null,
            "overflow_x": null,
            "grid_auto_flow": null,
            "grid_area": null,
            "grid_template_columns": null,
            "flex": null,
            "_model_name": "LayoutModel",
            "justify_items": null,
            "grid_row": null,
            "max_height": null,
            "align_content": null,
            "visibility": null,
            "align_self": null,
            "height": null,
            "min_height": null,
            "padding": null,
            "grid_auto_rows": null,
            "grid_gap": null,
            "max_width": null,
            "order": null,
            "_view_module_version": "1.2.0",
            "grid_template_areas": null,
            "object_position": null,
            "object_fit": null,
            "grid_auto_columns": null,
            "margin": null,
            "display": null,
            "left": null
          }
        },
        "d8167d3ac80a43eeb039eff5373fb2b2": {
          "model_module": "@jupyter-widgets/controls",
          "model_name": "HBoxModel",
          "model_module_version": "1.5.0",
          "state": {
            "_view_name": "HBoxView",
            "_dom_classes": [],
            "_model_name": "HBoxModel",
            "_view_module": "@jupyter-widgets/controls",
            "_model_module_version": "1.5.0",
            "_view_count": null,
            "_view_module_version": "1.5.0",
            "box_style": "",
            "layout": "IPY_MODEL_8b0a5f12600949e99846b04a84a966fc",
            "_model_module": "@jupyter-widgets/controls",
            "children": [
              "IPY_MODEL_12df1592acc74e1f9ab6680feb4bc15e",
              "IPY_MODEL_00bc000f948d4cae8351af0eaaaa7922",
              "IPY_MODEL_bf4268c7a53043468756f0d3cfe1f77f"
            ]
          }
        },
        "8b0a5f12600949e99846b04a84a966fc": {
          "model_module": "@jupyter-widgets/base",
          "model_name": "LayoutModel",
          "model_module_version": "1.2.0",
          "state": {
            "_view_name": "LayoutView",
            "grid_template_rows": null,
            "right": null,
            "justify_content": null,
            "_view_module": "@jupyter-widgets/base",
            "overflow": null,
            "_model_module_version": "1.2.0",
            "_view_count": null,
            "flex_flow": null,
            "width": null,
            "min_width": null,
            "border": null,
            "align_items": null,
            "bottom": null,
            "_model_module": "@jupyter-widgets/base",
            "top": null,
            "grid_column": null,
            "overflow_y": null,
            "overflow_x": null,
            "grid_auto_flow": null,
            "grid_area": null,
            "grid_template_columns": null,
            "flex": null,
            "_model_name": "LayoutModel",
            "justify_items": null,
            "grid_row": null,
            "max_height": null,
            "align_content": null,
            "visibility": null,
            "align_self": null,
            "height": null,
            "min_height": null,
            "padding": null,
            "grid_auto_rows": null,
            "grid_gap": null,
            "max_width": null,
            "order": null,
            "_view_module_version": "1.2.0",
            "grid_template_areas": null,
            "object_position": null,
            "object_fit": null,
            "grid_auto_columns": null,
            "margin": null,
            "display": null,
            "left": null
          }
        },
        "12df1592acc74e1f9ab6680feb4bc15e": {
          "model_module": "@jupyter-widgets/controls",
          "model_name": "HTMLModel",
          "model_module_version": "1.5.0",
          "state": {
            "_view_name": "HTMLView",
            "style": "IPY_MODEL_1b60bf5de2194f3dbe63ef64bf4cab1b",
            "_dom_classes": [],
            "description": "",
            "_model_name": "HTMLModel",
            "placeholder": "​",
            "_view_module": "@jupyter-widgets/controls",
            "_model_module_version": "1.5.0",
            "value": "Downloading: 100%",
            "_view_count": null,
            "_view_module_version": "1.5.0",
            "description_tooltip": null,
            "_model_module": "@jupyter-widgets/controls",
            "layout": "IPY_MODEL_e244a6c435fc4e35a84dab39de40421c"
          }
        },
        "00bc000f948d4cae8351af0eaaaa7922": {
          "model_module": "@jupyter-widgets/controls",
          "model_name": "FloatProgressModel",
          "model_module_version": "1.5.0",
          "state": {
            "_view_name": "ProgressView",
            "style": "IPY_MODEL_bbb9b71ac41d4b5c8c46cc732af67ca4",
            "_dom_classes": [],
            "description": "",
            "_model_name": "FloatProgressModel",
            "bar_style": "success",
            "max": 665,
            "_view_module": "@jupyter-widgets/controls",
            "_model_module_version": "1.5.0",
            "value": 665,
            "_view_count": null,
            "_view_module_version": "1.5.0",
            "orientation": "horizontal",
            "min": 0,
            "description_tooltip": null,
            "_model_module": "@jupyter-widgets/controls",
            "layout": "IPY_MODEL_035f6cbe793e4d5783fd886b91dbad05"
          }
        },
        "bf4268c7a53043468756f0d3cfe1f77f": {
          "model_module": "@jupyter-widgets/controls",
          "model_name": "HTMLModel",
          "model_module_version": "1.5.0",
          "state": {
            "_view_name": "HTMLView",
            "style": "IPY_MODEL_10e43e2ed8184cf889a2e573237be819",
            "_dom_classes": [],
            "description": "",
            "_model_name": "HTMLModel",
            "placeholder": "​",
            "_view_module": "@jupyter-widgets/controls",
            "_model_module_version": "1.5.0",
            "value": " 665/665 [00:00&lt;00:00, 17.5kB/s]",
            "_view_count": null,
            "_view_module_version": "1.5.0",
            "description_tooltip": null,
            "_model_module": "@jupyter-widgets/controls",
            "layout": "IPY_MODEL_72571229e5f645119137f460c2ed6219"
          }
        },
        "1b60bf5de2194f3dbe63ef64bf4cab1b": {
          "model_module": "@jupyter-widgets/controls",
          "model_name": "DescriptionStyleModel",
          "model_module_version": "1.5.0",
          "state": {
            "_view_name": "StyleView",
            "_model_name": "DescriptionStyleModel",
            "description_width": "",
            "_view_module": "@jupyter-widgets/base",
            "_model_module_version": "1.5.0",
            "_view_count": null,
            "_view_module_version": "1.2.0",
            "_model_module": "@jupyter-widgets/controls"
          }
        },
        "e244a6c435fc4e35a84dab39de40421c": {
          "model_module": "@jupyter-widgets/base",
          "model_name": "LayoutModel",
          "model_module_version": "1.2.0",
          "state": {
            "_view_name": "LayoutView",
            "grid_template_rows": null,
            "right": null,
            "justify_content": null,
            "_view_module": "@jupyter-widgets/base",
            "overflow": null,
            "_model_module_version": "1.2.0",
            "_view_count": null,
            "flex_flow": null,
            "width": null,
            "min_width": null,
            "border": null,
            "align_items": null,
            "bottom": null,
            "_model_module": "@jupyter-widgets/base",
            "top": null,
            "grid_column": null,
            "overflow_y": null,
            "overflow_x": null,
            "grid_auto_flow": null,
            "grid_area": null,
            "grid_template_columns": null,
            "flex": null,
            "_model_name": "LayoutModel",
            "justify_items": null,
            "grid_row": null,
            "max_height": null,
            "align_content": null,
            "visibility": null,
            "align_self": null,
            "height": null,
            "min_height": null,
            "padding": null,
            "grid_auto_rows": null,
            "grid_gap": null,
            "max_width": null,
            "order": null,
            "_view_module_version": "1.2.0",
            "grid_template_areas": null,
            "object_position": null,
            "object_fit": null,
            "grid_auto_columns": null,
            "margin": null,
            "display": null,
            "left": null
          }
        },
        "bbb9b71ac41d4b5c8c46cc732af67ca4": {
          "model_module": "@jupyter-widgets/controls",
          "model_name": "ProgressStyleModel",
          "model_module_version": "1.5.0",
          "state": {
            "_view_name": "StyleView",
            "_model_name": "ProgressStyleModel",
            "description_width": "",
            "_view_module": "@jupyter-widgets/base",
            "_model_module_version": "1.5.0",
            "_view_count": null,
            "_view_module_version": "1.2.0",
            "bar_color": null,
            "_model_module": "@jupyter-widgets/controls"
          }
        },
        "035f6cbe793e4d5783fd886b91dbad05": {
          "model_module": "@jupyter-widgets/base",
          "model_name": "LayoutModel",
          "model_module_version": "1.2.0",
          "state": {
            "_view_name": "LayoutView",
            "grid_template_rows": null,
            "right": null,
            "justify_content": null,
            "_view_module": "@jupyter-widgets/base",
            "overflow": null,
            "_model_module_version": "1.2.0",
            "_view_count": null,
            "flex_flow": null,
            "width": null,
            "min_width": null,
            "border": null,
            "align_items": null,
            "bottom": null,
            "_model_module": "@jupyter-widgets/base",
            "top": null,
            "grid_column": null,
            "overflow_y": null,
            "overflow_x": null,
            "grid_auto_flow": null,
            "grid_area": null,
            "grid_template_columns": null,
            "flex": null,
            "_model_name": "LayoutModel",
            "justify_items": null,
            "grid_row": null,
            "max_height": null,
            "align_content": null,
            "visibility": null,
            "align_self": null,
            "height": null,
            "min_height": null,
            "padding": null,
            "grid_auto_rows": null,
            "grid_gap": null,
            "max_width": null,
            "order": null,
            "_view_module_version": "1.2.0",
            "grid_template_areas": null,
            "object_position": null,
            "object_fit": null,
            "grid_auto_columns": null,
            "margin": null,
            "display": null,
            "left": null
          }
        },
        "10e43e2ed8184cf889a2e573237be819": {
          "model_module": "@jupyter-widgets/controls",
          "model_name": "DescriptionStyleModel",
          "model_module_version": "1.5.0",
          "state": {
            "_view_name": "StyleView",
            "_model_name": "DescriptionStyleModel",
            "description_width": "",
            "_view_module": "@jupyter-widgets/base",
            "_model_module_version": "1.5.0",
            "_view_count": null,
            "_view_module_version": "1.2.0",
            "_model_module": "@jupyter-widgets/controls"
          }
        },
        "72571229e5f645119137f460c2ed6219": {
          "model_module": "@jupyter-widgets/base",
          "model_name": "LayoutModel",
          "model_module_version": "1.2.0",
          "state": {
            "_view_name": "LayoutView",
            "grid_template_rows": null,
            "right": null,
            "justify_content": null,
            "_view_module": "@jupyter-widgets/base",
            "overflow": null,
            "_model_module_version": "1.2.0",
            "_view_count": null,
            "flex_flow": null,
            "width": null,
            "min_width": null,
            "border": null,
            "align_items": null,
            "bottom": null,
            "_model_module": "@jupyter-widgets/base",
            "top": null,
            "grid_column": null,
            "overflow_y": null,
            "overflow_x": null,
            "grid_auto_flow": null,
            "grid_area": null,
            "grid_template_columns": null,
            "flex": null,
            "_model_name": "LayoutModel",
            "justify_items": null,
            "grid_row": null,
            "max_height": null,
            "align_content": null,
            "visibility": null,
            "align_self": null,
            "height": null,
            "min_height": null,
            "padding": null,
            "grid_auto_rows": null,
            "grid_gap": null,
            "max_width": null,
            "order": null,
            "_view_module_version": "1.2.0",
            "grid_template_areas": null,
            "object_position": null,
            "object_fit": null,
            "grid_auto_columns": null,
            "margin": null,
            "display": null,
            "left": null
          }
        },
        "e3d92ce418fd49bc98bb64b0ce4d84e3": {
          "model_module": "@jupyter-widgets/controls",
          "model_name": "HBoxModel",
          "model_module_version": "1.5.0",
          "state": {
            "_view_name": "HBoxView",
            "_dom_classes": [],
            "_model_name": "HBoxModel",
            "_view_module": "@jupyter-widgets/controls",
            "_model_module_version": "1.5.0",
            "_view_count": null,
            "_view_module_version": "1.5.0",
            "box_style": "",
            "layout": "IPY_MODEL_6575d3d7a3784921b285d9bcda92247b",
            "_model_module": "@jupyter-widgets/controls",
            "children": [
              "IPY_MODEL_f8b83f20ae5d4d3ca2f82305de40164d",
              "IPY_MODEL_ef9eba403398487e98177abc46a74b34",
              "IPY_MODEL_5e8ef35e1bdf42ce8fbadcfae9a274d3"
            ]
          }
        },
        "6575d3d7a3784921b285d9bcda92247b": {
          "model_module": "@jupyter-widgets/base",
          "model_name": "LayoutModel",
          "model_module_version": "1.2.0",
          "state": {
            "_view_name": "LayoutView",
            "grid_template_rows": null,
            "right": null,
            "justify_content": null,
            "_view_module": "@jupyter-widgets/base",
            "overflow": null,
            "_model_module_version": "1.2.0",
            "_view_count": null,
            "flex_flow": null,
            "width": null,
            "min_width": null,
            "border": null,
            "align_items": null,
            "bottom": null,
            "_model_module": "@jupyter-widgets/base",
            "top": null,
            "grid_column": null,
            "overflow_y": null,
            "overflow_x": null,
            "grid_auto_flow": null,
            "grid_area": null,
            "grid_template_columns": null,
            "flex": null,
            "_model_name": "LayoutModel",
            "justify_items": null,
            "grid_row": null,
            "max_height": null,
            "align_content": null,
            "visibility": null,
            "align_self": null,
            "height": null,
            "min_height": null,
            "padding": null,
            "grid_auto_rows": null,
            "grid_gap": null,
            "max_width": null,
            "order": null,
            "_view_module_version": "1.2.0",
            "grid_template_areas": null,
            "object_position": null,
            "object_fit": null,
            "grid_auto_columns": null,
            "margin": null,
            "display": null,
            "left": null
          }
        },
        "f8b83f20ae5d4d3ca2f82305de40164d": {
          "model_module": "@jupyter-widgets/controls",
          "model_name": "HTMLModel",
          "model_module_version": "1.5.0",
          "state": {
            "_view_name": "HTMLView",
            "style": "IPY_MODEL_83ed6de7f47c43fdbf0bc21c396d9448",
            "_dom_classes": [],
            "description": "",
            "_model_name": "HTMLModel",
            "placeholder": "​",
            "_view_module": "@jupyter-widgets/controls",
            "_model_module_version": "1.5.0",
            "value": "Downloading: 100%",
            "_view_count": null,
            "_view_module_version": "1.5.0",
            "description_tooltip": null,
            "_model_module": "@jupyter-widgets/controls",
            "layout": "IPY_MODEL_82accc8220f44e6f91d8d9bd296448a0"
          }
        },
        "ef9eba403398487e98177abc46a74b34": {
          "model_module": "@jupyter-widgets/controls",
          "model_name": "FloatProgressModel",
          "model_module_version": "1.5.0",
          "state": {
            "_view_name": "ProgressView",
            "style": "IPY_MODEL_44587f60aae74399bb60726791812454",
            "_dom_classes": [],
            "description": "",
            "_model_name": "FloatProgressModel",
            "bar_style": "success",
            "max": 1042301,
            "_view_module": "@jupyter-widgets/controls",
            "_model_module_version": "1.5.0",
            "value": 1042301,
            "_view_count": null,
            "_view_module_version": "1.5.0",
            "orientation": "horizontal",
            "min": 0,
            "description_tooltip": null,
            "_model_module": "@jupyter-widgets/controls",
            "layout": "IPY_MODEL_ab9207fc283c4130b018baa7acfa0c91"
          }
        },
        "5e8ef35e1bdf42ce8fbadcfae9a274d3": {
          "model_module": "@jupyter-widgets/controls",
          "model_name": "HTMLModel",
          "model_module_version": "1.5.0",
          "state": {
            "_view_name": "HTMLView",
            "style": "IPY_MODEL_21acd3331f1247e6abb66c6d907e9d00",
            "_dom_classes": [],
            "description": "",
            "_model_name": "HTMLModel",
            "placeholder": "​",
            "_view_module": "@jupyter-widgets/controls",
            "_model_module_version": "1.5.0",
            "value": " 0.99M/0.99M [00:00&lt;00:00, 1.18MB/s]",
            "_view_count": null,
            "_view_module_version": "1.5.0",
            "description_tooltip": null,
            "_model_module": "@jupyter-widgets/controls",
            "layout": "IPY_MODEL_cab998432a534c2f94f975d1d2039a9f"
          }
        },
        "83ed6de7f47c43fdbf0bc21c396d9448": {
          "model_module": "@jupyter-widgets/controls",
          "model_name": "DescriptionStyleModel",
          "model_module_version": "1.5.0",
          "state": {
            "_view_name": "StyleView",
            "_model_name": "DescriptionStyleModel",
            "description_width": "",
            "_view_module": "@jupyter-widgets/base",
            "_model_module_version": "1.5.0",
            "_view_count": null,
            "_view_module_version": "1.2.0",
            "_model_module": "@jupyter-widgets/controls"
          }
        },
        "82accc8220f44e6f91d8d9bd296448a0": {
          "model_module": "@jupyter-widgets/base",
          "model_name": "LayoutModel",
          "model_module_version": "1.2.0",
          "state": {
            "_view_name": "LayoutView",
            "grid_template_rows": null,
            "right": null,
            "justify_content": null,
            "_view_module": "@jupyter-widgets/base",
            "overflow": null,
            "_model_module_version": "1.2.0",
            "_view_count": null,
            "flex_flow": null,
            "width": null,
            "min_width": null,
            "border": null,
            "align_items": null,
            "bottom": null,
            "_model_module": "@jupyter-widgets/base",
            "top": null,
            "grid_column": null,
            "overflow_y": null,
            "overflow_x": null,
            "grid_auto_flow": null,
            "grid_area": null,
            "grid_template_columns": null,
            "flex": null,
            "_model_name": "LayoutModel",
            "justify_items": null,
            "grid_row": null,
            "max_height": null,
            "align_content": null,
            "visibility": null,
            "align_self": null,
            "height": null,
            "min_height": null,
            "padding": null,
            "grid_auto_rows": null,
            "grid_gap": null,
            "max_width": null,
            "order": null,
            "_view_module_version": "1.2.0",
            "grid_template_areas": null,
            "object_position": null,
            "object_fit": null,
            "grid_auto_columns": null,
            "margin": null,
            "display": null,
            "left": null
          }
        },
        "44587f60aae74399bb60726791812454": {
          "model_module": "@jupyter-widgets/controls",
          "model_name": "ProgressStyleModel",
          "model_module_version": "1.5.0",
          "state": {
            "_view_name": "StyleView",
            "_model_name": "ProgressStyleModel",
            "description_width": "",
            "_view_module": "@jupyter-widgets/base",
            "_model_module_version": "1.5.0",
            "_view_count": null,
            "_view_module_version": "1.2.0",
            "bar_color": null,
            "_model_module": "@jupyter-widgets/controls"
          }
        },
        "ab9207fc283c4130b018baa7acfa0c91": {
          "model_module": "@jupyter-widgets/base",
          "model_name": "LayoutModel",
          "model_module_version": "1.2.0",
          "state": {
            "_view_name": "LayoutView",
            "grid_template_rows": null,
            "right": null,
            "justify_content": null,
            "_view_module": "@jupyter-widgets/base",
            "overflow": null,
            "_model_module_version": "1.2.0",
            "_view_count": null,
            "flex_flow": null,
            "width": null,
            "min_width": null,
            "border": null,
            "align_items": null,
            "bottom": null,
            "_model_module": "@jupyter-widgets/base",
            "top": null,
            "grid_column": null,
            "overflow_y": null,
            "overflow_x": null,
            "grid_auto_flow": null,
            "grid_area": null,
            "grid_template_columns": null,
            "flex": null,
            "_model_name": "LayoutModel",
            "justify_items": null,
            "grid_row": null,
            "max_height": null,
            "align_content": null,
            "visibility": null,
            "align_self": null,
            "height": null,
            "min_height": null,
            "padding": null,
            "grid_auto_rows": null,
            "grid_gap": null,
            "max_width": null,
            "order": null,
            "_view_module_version": "1.2.0",
            "grid_template_areas": null,
            "object_position": null,
            "object_fit": null,
            "grid_auto_columns": null,
            "margin": null,
            "display": null,
            "left": null
          }
        },
        "21acd3331f1247e6abb66c6d907e9d00": {
          "model_module": "@jupyter-widgets/controls",
          "model_name": "DescriptionStyleModel",
          "model_module_version": "1.5.0",
          "state": {
            "_view_name": "StyleView",
            "_model_name": "DescriptionStyleModel",
            "description_width": "",
            "_view_module": "@jupyter-widgets/base",
            "_model_module_version": "1.5.0",
            "_view_count": null,
            "_view_module_version": "1.2.0",
            "_model_module": "@jupyter-widgets/controls"
          }
        },
        "cab998432a534c2f94f975d1d2039a9f": {
          "model_module": "@jupyter-widgets/base",
          "model_name": "LayoutModel",
          "model_module_version": "1.2.0",
          "state": {
            "_view_name": "LayoutView",
            "grid_template_rows": null,
            "right": null,
            "justify_content": null,
            "_view_module": "@jupyter-widgets/base",
            "overflow": null,
            "_model_module_version": "1.2.0",
            "_view_count": null,
            "flex_flow": null,
            "width": null,
            "min_width": null,
            "border": null,
            "align_items": null,
            "bottom": null,
            "_model_module": "@jupyter-widgets/base",
            "top": null,
            "grid_column": null,
            "overflow_y": null,
            "overflow_x": null,
            "grid_auto_flow": null,
            "grid_area": null,
            "grid_template_columns": null,
            "flex": null,
            "_model_name": "LayoutModel",
            "justify_items": null,
            "grid_row": null,
            "max_height": null,
            "align_content": null,
            "visibility": null,
            "align_self": null,
            "height": null,
            "min_height": null,
            "padding": null,
            "grid_auto_rows": null,
            "grid_gap": null,
            "max_width": null,
            "order": null,
            "_view_module_version": "1.2.0",
            "grid_template_areas": null,
            "object_position": null,
            "object_fit": null,
            "grid_auto_columns": null,
            "margin": null,
            "display": null,
            "left": null
          }
        },
        "239b221bffbc4ec982b7bafad4a2409f": {
          "model_module": "@jupyter-widgets/controls",
          "model_name": "HBoxModel",
          "model_module_version": "1.5.0",
          "state": {
            "_view_name": "HBoxView",
            "_dom_classes": [],
            "_model_name": "HBoxModel",
            "_view_module": "@jupyter-widgets/controls",
            "_model_module_version": "1.5.0",
            "_view_count": null,
            "_view_module_version": "1.5.0",
            "box_style": "",
            "layout": "IPY_MODEL_ae2f2dc9a22849f4a53c4577b3f87906",
            "_model_module": "@jupyter-widgets/controls",
            "children": [
              "IPY_MODEL_55396c01ee3347c0a9a4b5a0551e7222",
              "IPY_MODEL_38315ed5bd6c44b3958265938fa72592",
              "IPY_MODEL_e388491c9add4c54b092ec9f24c12635"
            ]
          }
        },
        "ae2f2dc9a22849f4a53c4577b3f87906": {
          "model_module": "@jupyter-widgets/base",
          "model_name": "LayoutModel",
          "model_module_version": "1.2.0",
          "state": {
            "_view_name": "LayoutView",
            "grid_template_rows": null,
            "right": null,
            "justify_content": null,
            "_view_module": "@jupyter-widgets/base",
            "overflow": null,
            "_model_module_version": "1.2.0",
            "_view_count": null,
            "flex_flow": null,
            "width": null,
            "min_width": null,
            "border": null,
            "align_items": null,
            "bottom": null,
            "_model_module": "@jupyter-widgets/base",
            "top": null,
            "grid_column": null,
            "overflow_y": null,
            "overflow_x": null,
            "grid_auto_flow": null,
            "grid_area": null,
            "grid_template_columns": null,
            "flex": null,
            "_model_name": "LayoutModel",
            "justify_items": null,
            "grid_row": null,
            "max_height": null,
            "align_content": null,
            "visibility": null,
            "align_self": null,
            "height": null,
            "min_height": null,
            "padding": null,
            "grid_auto_rows": null,
            "grid_gap": null,
            "max_width": null,
            "order": null,
            "_view_module_version": "1.2.0",
            "grid_template_areas": null,
            "object_position": null,
            "object_fit": null,
            "grid_auto_columns": null,
            "margin": null,
            "display": null,
            "left": null
          }
        },
        "55396c01ee3347c0a9a4b5a0551e7222": {
          "model_module": "@jupyter-widgets/controls",
          "model_name": "HTMLModel",
          "model_module_version": "1.5.0",
          "state": {
            "_view_name": "HTMLView",
            "style": "IPY_MODEL_1fd03cf4da8a4aefb51286e1ed2ad306",
            "_dom_classes": [],
            "description": "",
            "_model_name": "HTMLModel",
            "placeholder": "​",
            "_view_module": "@jupyter-widgets/controls",
            "_model_module_version": "1.5.0",
            "value": "Downloading: 100%",
            "_view_count": null,
            "_view_module_version": "1.5.0",
            "description_tooltip": null,
            "_model_module": "@jupyter-widgets/controls",
            "layout": "IPY_MODEL_86c1b14b173c42eca67ca62dfa3e9fa5"
          }
        },
        "38315ed5bd6c44b3958265938fa72592": {
          "model_module": "@jupyter-widgets/controls",
          "model_name": "FloatProgressModel",
          "model_module_version": "1.5.0",
          "state": {
            "_view_name": "ProgressView",
            "style": "IPY_MODEL_c8a685c4dbb641f898d395818f99845d",
            "_dom_classes": [],
            "description": "",
            "_model_name": "FloatProgressModel",
            "bar_style": "success",
            "max": 456318,
            "_view_module": "@jupyter-widgets/controls",
            "_model_module_version": "1.5.0",
            "value": 456318,
            "_view_count": null,
            "_view_module_version": "1.5.0",
            "orientation": "horizontal",
            "min": 0,
            "description_tooltip": null,
            "_model_module": "@jupyter-widgets/controls",
            "layout": "IPY_MODEL_f5ed3edc91914964871f2a934c9f17a1"
          }
        },
        "e388491c9add4c54b092ec9f24c12635": {
          "model_module": "@jupyter-widgets/controls",
          "model_name": "HTMLModel",
          "model_module_version": "1.5.0",
          "state": {
            "_view_name": "HTMLView",
            "style": "IPY_MODEL_1dc981d5c1234acf999ecb3d42436466",
            "_dom_classes": [],
            "description": "",
            "_model_name": "HTMLModel",
            "placeholder": "​",
            "_view_module": "@jupyter-widgets/controls",
            "_model_module_version": "1.5.0",
            "value": " 446k/446k [00:00&lt;00:00, 1.64MB/s]",
            "_view_count": null,
            "_view_module_version": "1.5.0",
            "description_tooltip": null,
            "_model_module": "@jupyter-widgets/controls",
            "layout": "IPY_MODEL_0f4b0e28f12b4d9ea2b91400878d3e78"
          }
        },
        "1fd03cf4da8a4aefb51286e1ed2ad306": {
          "model_module": "@jupyter-widgets/controls",
          "model_name": "DescriptionStyleModel",
          "model_module_version": "1.5.0",
          "state": {
            "_view_name": "StyleView",
            "_model_name": "DescriptionStyleModel",
            "description_width": "",
            "_view_module": "@jupyter-widgets/base",
            "_model_module_version": "1.5.0",
            "_view_count": null,
            "_view_module_version": "1.2.0",
            "_model_module": "@jupyter-widgets/controls"
          }
        },
        "86c1b14b173c42eca67ca62dfa3e9fa5": {
          "model_module": "@jupyter-widgets/base",
          "model_name": "LayoutModel",
          "model_module_version": "1.2.0",
          "state": {
            "_view_name": "LayoutView",
            "grid_template_rows": null,
            "right": null,
            "justify_content": null,
            "_view_module": "@jupyter-widgets/base",
            "overflow": null,
            "_model_module_version": "1.2.0",
            "_view_count": null,
            "flex_flow": null,
            "width": null,
            "min_width": null,
            "border": null,
            "align_items": null,
            "bottom": null,
            "_model_module": "@jupyter-widgets/base",
            "top": null,
            "grid_column": null,
            "overflow_y": null,
            "overflow_x": null,
            "grid_auto_flow": null,
            "grid_area": null,
            "grid_template_columns": null,
            "flex": null,
            "_model_name": "LayoutModel",
            "justify_items": null,
            "grid_row": null,
            "max_height": null,
            "align_content": null,
            "visibility": null,
            "align_self": null,
            "height": null,
            "min_height": null,
            "padding": null,
            "grid_auto_rows": null,
            "grid_gap": null,
            "max_width": null,
            "order": null,
            "_view_module_version": "1.2.0",
            "grid_template_areas": null,
            "object_position": null,
            "object_fit": null,
            "grid_auto_columns": null,
            "margin": null,
            "display": null,
            "left": null
          }
        },
        "c8a685c4dbb641f898d395818f99845d": {
          "model_module": "@jupyter-widgets/controls",
          "model_name": "ProgressStyleModel",
          "model_module_version": "1.5.0",
          "state": {
            "_view_name": "StyleView",
            "_model_name": "ProgressStyleModel",
            "description_width": "",
            "_view_module": "@jupyter-widgets/base",
            "_model_module_version": "1.5.0",
            "_view_count": null,
            "_view_module_version": "1.2.0",
            "bar_color": null,
            "_model_module": "@jupyter-widgets/controls"
          }
        },
        "f5ed3edc91914964871f2a934c9f17a1": {
          "model_module": "@jupyter-widgets/base",
          "model_name": "LayoutModel",
          "model_module_version": "1.2.0",
          "state": {
            "_view_name": "LayoutView",
            "grid_template_rows": null,
            "right": null,
            "justify_content": null,
            "_view_module": "@jupyter-widgets/base",
            "overflow": null,
            "_model_module_version": "1.2.0",
            "_view_count": null,
            "flex_flow": null,
            "width": null,
            "min_width": null,
            "border": null,
            "align_items": null,
            "bottom": null,
            "_model_module": "@jupyter-widgets/base",
            "top": null,
            "grid_column": null,
            "overflow_y": null,
            "overflow_x": null,
            "grid_auto_flow": null,
            "grid_area": null,
            "grid_template_columns": null,
            "flex": null,
            "_model_name": "LayoutModel",
            "justify_items": null,
            "grid_row": null,
            "max_height": null,
            "align_content": null,
            "visibility": null,
            "align_self": null,
            "height": null,
            "min_height": null,
            "padding": null,
            "grid_auto_rows": null,
            "grid_gap": null,
            "max_width": null,
            "order": null,
            "_view_module_version": "1.2.0",
            "grid_template_areas": null,
            "object_position": null,
            "object_fit": null,
            "grid_auto_columns": null,
            "margin": null,
            "display": null,
            "left": null
          }
        },
        "1dc981d5c1234acf999ecb3d42436466": {
          "model_module": "@jupyter-widgets/controls",
          "model_name": "DescriptionStyleModel",
          "model_module_version": "1.5.0",
          "state": {
            "_view_name": "StyleView",
            "_model_name": "DescriptionStyleModel",
            "description_width": "",
            "_view_module": "@jupyter-widgets/base",
            "_model_module_version": "1.5.0",
            "_view_count": null,
            "_view_module_version": "1.2.0",
            "_model_module": "@jupyter-widgets/controls"
          }
        },
        "0f4b0e28f12b4d9ea2b91400878d3e78": {
          "model_module": "@jupyter-widgets/base",
          "model_name": "LayoutModel",
          "model_module_version": "1.2.0",
          "state": {
            "_view_name": "LayoutView",
            "grid_template_rows": null,
            "right": null,
            "justify_content": null,
            "_view_module": "@jupyter-widgets/base",
            "overflow": null,
            "_model_module_version": "1.2.0",
            "_view_count": null,
            "flex_flow": null,
            "width": null,
            "min_width": null,
            "border": null,
            "align_items": null,
            "bottom": null,
            "_model_module": "@jupyter-widgets/base",
            "top": null,
            "grid_column": null,
            "overflow_y": null,
            "overflow_x": null,
            "grid_auto_flow": null,
            "grid_area": null,
            "grid_template_columns": null,
            "flex": null,
            "_model_name": "LayoutModel",
            "justify_items": null,
            "grid_row": null,
            "max_height": null,
            "align_content": null,
            "visibility": null,
            "align_self": null,
            "height": null,
            "min_height": null,
            "padding": null,
            "grid_auto_rows": null,
            "grid_gap": null,
            "max_width": null,
            "order": null,
            "_view_module_version": "1.2.0",
            "grid_template_areas": null,
            "object_position": null,
            "object_fit": null,
            "grid_auto_columns": null,
            "margin": null,
            "display": null,
            "left": null
          }
        },
        "f3ce4c329e5d433cbbc09d965df517c6": {
          "model_module": "@jupyter-widgets/controls",
          "model_name": "HBoxModel",
          "model_module_version": "1.5.0",
          "state": {
            "_view_name": "HBoxView",
            "_dom_classes": [],
            "_model_name": "HBoxModel",
            "_view_module": "@jupyter-widgets/controls",
            "_model_module_version": "1.5.0",
            "_view_count": null,
            "_view_module_version": "1.5.0",
            "box_style": "",
            "layout": "IPY_MODEL_4dda85bcd8e5423e979799dea86708db",
            "_model_module": "@jupyter-widgets/controls",
            "children": [
              "IPY_MODEL_178b6cee1f1b41b183eeb7a89833cca1",
              "IPY_MODEL_79b5c30283cd4d318ded085958dc51c1",
              "IPY_MODEL_68716a1ba3c84e7e81ebf0f1c0114ed2"
            ]
          }
        },
        "4dda85bcd8e5423e979799dea86708db": {
          "model_module": "@jupyter-widgets/base",
          "model_name": "LayoutModel",
          "model_module_version": "1.2.0",
          "state": {
            "_view_name": "LayoutView",
            "grid_template_rows": null,
            "right": null,
            "justify_content": null,
            "_view_module": "@jupyter-widgets/base",
            "overflow": null,
            "_model_module_version": "1.2.0",
            "_view_count": null,
            "flex_flow": null,
            "width": null,
            "min_width": null,
            "border": null,
            "align_items": null,
            "bottom": null,
            "_model_module": "@jupyter-widgets/base",
            "top": null,
            "grid_column": null,
            "overflow_y": null,
            "overflow_x": null,
            "grid_auto_flow": null,
            "grid_area": null,
            "grid_template_columns": null,
            "flex": null,
            "_model_name": "LayoutModel",
            "justify_items": null,
            "grid_row": null,
            "max_height": null,
            "align_content": null,
            "visibility": null,
            "align_self": null,
            "height": null,
            "min_height": null,
            "padding": null,
            "grid_auto_rows": null,
            "grid_gap": null,
            "max_width": null,
            "order": null,
            "_view_module_version": "1.2.0",
            "grid_template_areas": null,
            "object_position": null,
            "object_fit": null,
            "grid_auto_columns": null,
            "margin": null,
            "display": null,
            "left": null
          }
        },
        "178b6cee1f1b41b183eeb7a89833cca1": {
          "model_module": "@jupyter-widgets/controls",
          "model_name": "HTMLModel",
          "model_module_version": "1.5.0",
          "state": {
            "_view_name": "HTMLView",
            "style": "IPY_MODEL_10788f373b0a4582ba6c0c150c4caef3",
            "_dom_classes": [],
            "description": "",
            "_model_name": "HTMLModel",
            "placeholder": "​",
            "_view_module": "@jupyter-widgets/controls",
            "_model_module_version": "1.5.0",
            "value": "Downloading: 100%",
            "_view_count": null,
            "_view_module_version": "1.5.0",
            "description_tooltip": null,
            "_model_module": "@jupyter-widgets/controls",
            "layout": "IPY_MODEL_4003107ab2af40fbbb4c3c30ff24051f"
          }
        },
        "79b5c30283cd4d318ded085958dc51c1": {
          "model_module": "@jupyter-widgets/controls",
          "model_name": "FloatProgressModel",
          "model_module_version": "1.5.0",
          "state": {
            "_view_name": "ProgressView",
            "style": "IPY_MODEL_7c942404e1cf4ded84ef51a6f0afdf9f",
            "_dom_classes": [],
            "description": "",
            "_model_name": "FloatProgressModel",
            "bar_style": "success",
            "max": 1355256,
            "_view_module": "@jupyter-widgets/controls",
            "_model_module_version": "1.5.0",
            "value": 1355256,
            "_view_count": null,
            "_view_module_version": "1.5.0",
            "orientation": "horizontal",
            "min": 0,
            "description_tooltip": null,
            "_model_module": "@jupyter-widgets/controls",
            "layout": "IPY_MODEL_b500009cd3a04b1288e1a32f076c5e64"
          }
        },
        "68716a1ba3c84e7e81ebf0f1c0114ed2": {
          "model_module": "@jupyter-widgets/controls",
          "model_name": "HTMLModel",
          "model_module_version": "1.5.0",
          "state": {
            "_view_name": "HTMLView",
            "style": "IPY_MODEL_f0a5b3b4c5be42529f42e285c150fd11",
            "_dom_classes": [],
            "description": "",
            "_model_name": "HTMLModel",
            "placeholder": "​",
            "_view_module": "@jupyter-widgets/controls",
            "_model_module_version": "1.5.0",
            "value": " 1.29M/1.29M [00:00&lt;00:00, 1.00MB/s]",
            "_view_count": null,
            "_view_module_version": "1.5.0",
            "description_tooltip": null,
            "_model_module": "@jupyter-widgets/controls",
            "layout": "IPY_MODEL_4aeb561732364e598ed0ad5f41008df3"
          }
        },
        "10788f373b0a4582ba6c0c150c4caef3": {
          "model_module": "@jupyter-widgets/controls",
          "model_name": "DescriptionStyleModel",
          "model_module_version": "1.5.0",
          "state": {
            "_view_name": "StyleView",
            "_model_name": "DescriptionStyleModel",
            "description_width": "",
            "_view_module": "@jupyter-widgets/base",
            "_model_module_version": "1.5.0",
            "_view_count": null,
            "_view_module_version": "1.2.0",
            "_model_module": "@jupyter-widgets/controls"
          }
        },
        "4003107ab2af40fbbb4c3c30ff24051f": {
          "model_module": "@jupyter-widgets/base",
          "model_name": "LayoutModel",
          "model_module_version": "1.2.0",
          "state": {
            "_view_name": "LayoutView",
            "grid_template_rows": null,
            "right": null,
            "justify_content": null,
            "_view_module": "@jupyter-widgets/base",
            "overflow": null,
            "_model_module_version": "1.2.0",
            "_view_count": null,
            "flex_flow": null,
            "width": null,
            "min_width": null,
            "border": null,
            "align_items": null,
            "bottom": null,
            "_model_module": "@jupyter-widgets/base",
            "top": null,
            "grid_column": null,
            "overflow_y": null,
            "overflow_x": null,
            "grid_auto_flow": null,
            "grid_area": null,
            "grid_template_columns": null,
            "flex": null,
            "_model_name": "LayoutModel",
            "justify_items": null,
            "grid_row": null,
            "max_height": null,
            "align_content": null,
            "visibility": null,
            "align_self": null,
            "height": null,
            "min_height": null,
            "padding": null,
            "grid_auto_rows": null,
            "grid_gap": null,
            "max_width": null,
            "order": null,
            "_view_module_version": "1.2.0",
            "grid_template_areas": null,
            "object_position": null,
            "object_fit": null,
            "grid_auto_columns": null,
            "margin": null,
            "display": null,
            "left": null
          }
        },
        "7c942404e1cf4ded84ef51a6f0afdf9f": {
          "model_module": "@jupyter-widgets/controls",
          "model_name": "ProgressStyleModel",
          "model_module_version": "1.5.0",
          "state": {
            "_view_name": "StyleView",
            "_model_name": "ProgressStyleModel",
            "description_width": "",
            "_view_module": "@jupyter-widgets/base",
            "_model_module_version": "1.5.0",
            "_view_count": null,
            "_view_module_version": "1.2.0",
            "bar_color": null,
            "_model_module": "@jupyter-widgets/controls"
          }
        },
        "b500009cd3a04b1288e1a32f076c5e64": {
          "model_module": "@jupyter-widgets/base",
          "model_name": "LayoutModel",
          "model_module_version": "1.2.0",
          "state": {
            "_view_name": "LayoutView",
            "grid_template_rows": null,
            "right": null,
            "justify_content": null,
            "_view_module": "@jupyter-widgets/base",
            "overflow": null,
            "_model_module_version": "1.2.0",
            "_view_count": null,
            "flex_flow": null,
            "width": null,
            "min_width": null,
            "border": null,
            "align_items": null,
            "bottom": null,
            "_model_module": "@jupyter-widgets/base",
            "top": null,
            "grid_column": null,
            "overflow_y": null,
            "overflow_x": null,
            "grid_auto_flow": null,
            "grid_area": null,
            "grid_template_columns": null,
            "flex": null,
            "_model_name": "LayoutModel",
            "justify_items": null,
            "grid_row": null,
            "max_height": null,
            "align_content": null,
            "visibility": null,
            "align_self": null,
            "height": null,
            "min_height": null,
            "padding": null,
            "grid_auto_rows": null,
            "grid_gap": null,
            "max_width": null,
            "order": null,
            "_view_module_version": "1.2.0",
            "grid_template_areas": null,
            "object_position": null,
            "object_fit": null,
            "grid_auto_columns": null,
            "margin": null,
            "display": null,
            "left": null
          }
        },
        "f0a5b3b4c5be42529f42e285c150fd11": {
          "model_module": "@jupyter-widgets/controls",
          "model_name": "DescriptionStyleModel",
          "model_module_version": "1.5.0",
          "state": {
            "_view_name": "StyleView",
            "_model_name": "DescriptionStyleModel",
            "description_width": "",
            "_view_module": "@jupyter-widgets/base",
            "_model_module_version": "1.5.0",
            "_view_count": null,
            "_view_module_version": "1.2.0",
            "_model_module": "@jupyter-widgets/controls"
          }
        },
        "4aeb561732364e598ed0ad5f41008df3": {
          "model_module": "@jupyter-widgets/base",
          "model_name": "LayoutModel",
          "model_module_version": "1.2.0",
          "state": {
            "_view_name": "LayoutView",
            "grid_template_rows": null,
            "right": null,
            "justify_content": null,
            "_view_module": "@jupyter-widgets/base",
            "overflow": null,
            "_model_module_version": "1.2.0",
            "_view_count": null,
            "flex_flow": null,
            "width": null,
            "min_width": null,
            "border": null,
            "align_items": null,
            "bottom": null,
            "_model_module": "@jupyter-widgets/base",
            "top": null,
            "grid_column": null,
            "overflow_y": null,
            "overflow_x": null,
            "grid_auto_flow": null,
            "grid_area": null,
            "grid_template_columns": null,
            "flex": null,
            "_model_name": "LayoutModel",
            "justify_items": null,
            "grid_row": null,
            "max_height": null,
            "align_content": null,
            "visibility": null,
            "align_self": null,
            "height": null,
            "min_height": null,
            "padding": null,
            "grid_auto_rows": null,
            "grid_gap": null,
            "max_width": null,
            "order": null,
            "_view_module_version": "1.2.0",
            "grid_template_areas": null,
            "object_position": null,
            "object_fit": null,
            "grid_auto_columns": null,
            "margin": null,
            "display": null,
            "left": null
          }
        },
        "881c035297cf4ee082875cdccc051ca9": {
          "model_module": "@jupyter-widgets/controls",
          "model_name": "HBoxModel",
          "model_module_version": "1.5.0",
          "state": {
            "_view_name": "HBoxView",
            "_dom_classes": [],
            "_model_name": "HBoxModel",
            "_view_module": "@jupyter-widgets/controls",
            "_model_module_version": "1.5.0",
            "_view_count": null,
            "_view_module_version": "1.5.0",
            "box_style": "",
            "layout": "IPY_MODEL_01a2f0cb1970434fafebbf171c692db3",
            "_model_module": "@jupyter-widgets/controls",
            "children": [
              "IPY_MODEL_f5581c6ab93540eaa8fa9f8ae9715067",
              "IPY_MODEL_79922a09ffa64ed6996f5c82142b1a18",
              "IPY_MODEL_5fcb71dc38c9437ba8975c2e96f0849a"
            ]
          }
        },
        "01a2f0cb1970434fafebbf171c692db3": {
          "model_module": "@jupyter-widgets/base",
          "model_name": "LayoutModel",
          "model_module_version": "1.2.0",
          "state": {
            "_view_name": "LayoutView",
            "grid_template_rows": null,
            "right": null,
            "justify_content": null,
            "_view_module": "@jupyter-widgets/base",
            "overflow": null,
            "_model_module_version": "1.2.0",
            "_view_count": null,
            "flex_flow": null,
            "width": null,
            "min_width": null,
            "border": null,
            "align_items": null,
            "bottom": null,
            "_model_module": "@jupyter-widgets/base",
            "top": null,
            "grid_column": null,
            "overflow_y": null,
            "overflow_x": null,
            "grid_auto_flow": null,
            "grid_area": null,
            "grid_template_columns": null,
            "flex": null,
            "_model_name": "LayoutModel",
            "justify_items": null,
            "grid_row": null,
            "max_height": null,
            "align_content": null,
            "visibility": null,
            "align_self": null,
            "height": null,
            "min_height": null,
            "padding": null,
            "grid_auto_rows": null,
            "grid_gap": null,
            "max_width": null,
            "order": null,
            "_view_module_version": "1.2.0",
            "grid_template_areas": null,
            "object_position": null,
            "object_fit": null,
            "grid_auto_columns": null,
            "margin": null,
            "display": null,
            "left": null
          }
        },
        "f5581c6ab93540eaa8fa9f8ae9715067": {
          "model_module": "@jupyter-widgets/controls",
          "model_name": "HTMLModel",
          "model_module_version": "1.5.0",
          "state": {
            "_view_name": "HTMLView",
            "style": "IPY_MODEL_b63d6822384f4b9e8b1da061871c3177",
            "_dom_classes": [],
            "description": "",
            "_model_name": "HTMLModel",
            "placeholder": "​",
            "_view_module": "@jupyter-widgets/controls",
            "_model_module_version": "1.5.0",
            "value": "Downloading: 100%",
            "_view_count": null,
            "_view_module_version": "1.5.0",
            "description_tooltip": null,
            "_model_module": "@jupyter-widgets/controls",
            "layout": "IPY_MODEL_fac452c76abe48fab828bb278784df9f"
          }
        },
        "79922a09ffa64ed6996f5c82142b1a18": {
          "model_module": "@jupyter-widgets/controls",
          "model_name": "FloatProgressModel",
          "model_module_version": "1.5.0",
          "state": {
            "_view_name": "ProgressView",
            "style": "IPY_MODEL_bfcf537ca849452d943c0f8762c0edf8",
            "_dom_classes": [],
            "description": "",
            "_model_name": "FloatProgressModel",
            "bar_style": "success",
            "max": 548118077,
            "_view_module": "@jupyter-widgets/controls",
            "_model_module_version": "1.5.0",
            "value": 548118077,
            "_view_count": null,
            "_view_module_version": "1.5.0",
            "orientation": "horizontal",
            "min": 0,
            "description_tooltip": null,
            "_model_module": "@jupyter-widgets/controls",
            "layout": "IPY_MODEL_2995f6f3a1e143b9979544c8b3c75110"
          }
        },
        "5fcb71dc38c9437ba8975c2e96f0849a": {
          "model_module": "@jupyter-widgets/controls",
          "model_name": "HTMLModel",
          "model_module_version": "1.5.0",
          "state": {
            "_view_name": "HTMLView",
            "style": "IPY_MODEL_bd0e9103d34e4fada6f34569b7e8dd78",
            "_dom_classes": [],
            "description": "",
            "_model_name": "HTMLModel",
            "placeholder": "​",
            "_view_module": "@jupyter-widgets/controls",
            "_model_module_version": "1.5.0",
            "value": " 523M/523M [00:17&lt;00:00, 32.7MB/s]",
            "_view_count": null,
            "_view_module_version": "1.5.0",
            "description_tooltip": null,
            "_model_module": "@jupyter-widgets/controls",
            "layout": "IPY_MODEL_c0daeaa50b844afc81145eb676ee288f"
          }
        },
        "b63d6822384f4b9e8b1da061871c3177": {
          "model_module": "@jupyter-widgets/controls",
          "model_name": "DescriptionStyleModel",
          "model_module_version": "1.5.0",
          "state": {
            "_view_name": "StyleView",
            "_model_name": "DescriptionStyleModel",
            "description_width": "",
            "_view_module": "@jupyter-widgets/base",
            "_model_module_version": "1.5.0",
            "_view_count": null,
            "_view_module_version": "1.2.0",
            "_model_module": "@jupyter-widgets/controls"
          }
        },
        "fac452c76abe48fab828bb278784df9f": {
          "model_module": "@jupyter-widgets/base",
          "model_name": "LayoutModel",
          "model_module_version": "1.2.0",
          "state": {
            "_view_name": "LayoutView",
            "grid_template_rows": null,
            "right": null,
            "justify_content": null,
            "_view_module": "@jupyter-widgets/base",
            "overflow": null,
            "_model_module_version": "1.2.0",
            "_view_count": null,
            "flex_flow": null,
            "width": null,
            "min_width": null,
            "border": null,
            "align_items": null,
            "bottom": null,
            "_model_module": "@jupyter-widgets/base",
            "top": null,
            "grid_column": null,
            "overflow_y": null,
            "overflow_x": null,
            "grid_auto_flow": null,
            "grid_area": null,
            "grid_template_columns": null,
            "flex": null,
            "_model_name": "LayoutModel",
            "justify_items": null,
            "grid_row": null,
            "max_height": null,
            "align_content": null,
            "visibility": null,
            "align_self": null,
            "height": null,
            "min_height": null,
            "padding": null,
            "grid_auto_rows": null,
            "grid_gap": null,
            "max_width": null,
            "order": null,
            "_view_module_version": "1.2.0",
            "grid_template_areas": null,
            "object_position": null,
            "object_fit": null,
            "grid_auto_columns": null,
            "margin": null,
            "display": null,
            "left": null
          }
        },
        "bfcf537ca849452d943c0f8762c0edf8": {
          "model_module": "@jupyter-widgets/controls",
          "model_name": "ProgressStyleModel",
          "model_module_version": "1.5.0",
          "state": {
            "_view_name": "StyleView",
            "_model_name": "ProgressStyleModel",
            "description_width": "",
            "_view_module": "@jupyter-widgets/base",
            "_model_module_version": "1.5.0",
            "_view_count": null,
            "_view_module_version": "1.2.0",
            "bar_color": null,
            "_model_module": "@jupyter-widgets/controls"
          }
        },
        "2995f6f3a1e143b9979544c8b3c75110": {
          "model_module": "@jupyter-widgets/base",
          "model_name": "LayoutModel",
          "model_module_version": "1.2.0",
          "state": {
            "_view_name": "LayoutView",
            "grid_template_rows": null,
            "right": null,
            "justify_content": null,
            "_view_module": "@jupyter-widgets/base",
            "overflow": null,
            "_model_module_version": "1.2.0",
            "_view_count": null,
            "flex_flow": null,
            "width": null,
            "min_width": null,
            "border": null,
            "align_items": null,
            "bottom": null,
            "_model_module": "@jupyter-widgets/base",
            "top": null,
            "grid_column": null,
            "overflow_y": null,
            "overflow_x": null,
            "grid_auto_flow": null,
            "grid_area": null,
            "grid_template_columns": null,
            "flex": null,
            "_model_name": "LayoutModel",
            "justify_items": null,
            "grid_row": null,
            "max_height": null,
            "align_content": null,
            "visibility": null,
            "align_self": null,
            "height": null,
            "min_height": null,
            "padding": null,
            "grid_auto_rows": null,
            "grid_gap": null,
            "max_width": null,
            "order": null,
            "_view_module_version": "1.2.0",
            "grid_template_areas": null,
            "object_position": null,
            "object_fit": null,
            "grid_auto_columns": null,
            "margin": null,
            "display": null,
            "left": null
          }
        },
        "bd0e9103d34e4fada6f34569b7e8dd78": {
          "model_module": "@jupyter-widgets/controls",
          "model_name": "DescriptionStyleModel",
          "model_module_version": "1.5.0",
          "state": {
            "_view_name": "StyleView",
            "_model_name": "DescriptionStyleModel",
            "description_width": "",
            "_view_module": "@jupyter-widgets/base",
            "_model_module_version": "1.5.0",
            "_view_count": null,
            "_view_module_version": "1.2.0",
            "_model_module": "@jupyter-widgets/controls"
          }
        },
        "c0daeaa50b844afc81145eb676ee288f": {
          "model_module": "@jupyter-widgets/base",
          "model_name": "LayoutModel",
          "model_module_version": "1.2.0",
          "state": {
            "_view_name": "LayoutView",
            "grid_template_rows": null,
            "right": null,
            "justify_content": null,
            "_view_module": "@jupyter-widgets/base",
            "overflow": null,
            "_model_module_version": "1.2.0",
            "_view_count": null,
            "flex_flow": null,
            "width": null,
            "min_width": null,
            "border": null,
            "align_items": null,
            "bottom": null,
            "_model_module": "@jupyter-widgets/base",
            "top": null,
            "grid_column": null,
            "overflow_y": null,
            "overflow_x": null,
            "grid_auto_flow": null,
            "grid_area": null,
            "grid_template_columns": null,
            "flex": null,
            "_model_name": "LayoutModel",
            "justify_items": null,
            "grid_row": null,
            "max_height": null,
            "align_content": null,
            "visibility": null,
            "align_self": null,
            "height": null,
            "min_height": null,
            "padding": null,
            "grid_auto_rows": null,
            "grid_gap": null,
            "max_width": null,
            "order": null,
            "_view_module_version": "1.2.0",
            "grid_template_areas": null,
            "object_position": null,
            "object_fit": null,
            "grid_auto_columns": null,
            "margin": null,
            "display": null,
            "left": null
          }
        }
      }
    }
  },
  "nbformat": 4,
  "nbformat_minor": 0
}